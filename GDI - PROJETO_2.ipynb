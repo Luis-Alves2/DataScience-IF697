{
  "nbformat": 4,
  "nbformat_minor": 0,
  "metadata": {
    "colab": {
      "provenance": [],
      "collapsed_sections": [
        "fqiBNDF5tY_g",
        "2Vqs_hGwfdf0",
        "9zz8ed6ffpxu",
        "DUu8_87Uf63d",
        "bVBzn2wT_d83",
        "QU3Xa8szA5JA",
        "fHVxl-WKBxz4",
        "ZBgYTPKDCEiX",
        "sxBCpUI0Cb91",
        "vyjQsYMbC7hu",
        "GNzuiywuDYdl",
        "R4Vmqqk0D1eb",
        "erukQV2Du3Oa",
        "8n2U_unzTQFj",
        "Sqxij3u8j6sn",
        "gnUSpRr1CtX5",
        "h2noUwPBVHyp",
        "WXnJnoOEQZvJ",
        "x3yJXv4_WkCT",
        "enSDRdWumlg8"
      ],
      "authorship_tag": "ABX9TyNvm9c8jPafFF2tzb7ps2P2",
      "include_colab_link": true
    },
    "kernelspec": {
      "name": "python3",
      "display_name": "Python 3"
    },
    "language_info": {
      "name": "python"
    }
  },
  "cells": [
    {
      "cell_type": "markdown",
      "metadata": {
        "id": "view-in-github",
        "colab_type": "text"
      },
      "source": [
        "<a href=\"https://colab.research.google.com/github/Luis-Alves2/DataScience-IF697/blob/main/GDI%20-%20PROJETO_2.ipynb\" target=\"_parent\"><img src=\"https://colab.research.google.com/assets/colab-badge.svg\" alt=\"Open In Colab\"/></a>"
      ]
    },
    {
      "cell_type": "markdown",
      "source": [
        "#Imports and csv read"
      ],
      "metadata": {
        "id": "fqiBNDF5tY_g"
      }
    },
    {
      "cell_type": "code",
      "source": [
        "!pip install --quiet mlflow"
      ],
      "metadata": {
        "id": "glkwNtDVVtKr"
      },
      "execution_count": 223,
      "outputs": []
    },
    {
      "cell_type": "code",
      "source": [
        "import pandas as pd"
      ],
      "metadata": {
        "id": "c0Flag7epiDm"
      },
      "execution_count": 224,
      "outputs": []
    },
    {
      "cell_type": "code",
      "execution_count": 225,
      "metadata": {
        "id": "KZrzQSQFpKSA"
      },
      "outputs": [],
      "source": [
        "df = pd.read_csv(\"healthcare-dataset-stroke-data.csv\")"
      ]
    },
    {
      "cell_type": "code",
      "source": [
        "df.head()"
      ],
      "metadata": {
        "colab": {
          "base_uri": "https://localhost:8080/",
          "height": 206
        },
        "id": "YbRR3PQdpwV_",
        "outputId": "b0f97146-a2b0-4bc5-dff4-188c0813b79f"
      },
      "execution_count": 226,
      "outputs": [
        {
          "output_type": "execute_result",
          "data": {
            "text/plain": [
              "      id  gender   age  hypertension  heart_disease ever_married  \\\n",
              "0   9046    Male  67.0             0              1          Yes   \n",
              "1  51676  Female  61.0             0              0          Yes   \n",
              "2  31112    Male  80.0             0              1          Yes   \n",
              "3  60182  Female  49.0             0              0          Yes   \n",
              "4   1665  Female  79.0             1              0          Yes   \n",
              "\n",
              "       work_type Residence_type  avg_glucose_level   bmi   smoking_status  \\\n",
              "0        Private          Urban             228.69  36.6  formerly smoked   \n",
              "1  Self-employed          Rural             202.21   NaN     never smoked   \n",
              "2        Private          Rural             105.92  32.5     never smoked   \n",
              "3        Private          Urban             171.23  34.4           smokes   \n",
              "4  Self-employed          Rural             174.12  24.0     never smoked   \n",
              "\n",
              "   stroke  \n",
              "0       1  \n",
              "1       1  \n",
              "2       1  \n",
              "3       1  \n",
              "4       1  "
            ],
            "text/html": [
              "\n",
              "  <div id=\"df-6b7abc40-deb6-42b9-a187-68ea256c45e1\">\n",
              "    <div class=\"colab-df-container\">\n",
              "      <div>\n",
              "<style scoped>\n",
              "    .dataframe tbody tr th:only-of-type {\n",
              "        vertical-align: middle;\n",
              "    }\n",
              "\n",
              "    .dataframe tbody tr th {\n",
              "        vertical-align: top;\n",
              "    }\n",
              "\n",
              "    .dataframe thead th {\n",
              "        text-align: right;\n",
              "    }\n",
              "</style>\n",
              "<table border=\"1\" class=\"dataframe\">\n",
              "  <thead>\n",
              "    <tr style=\"text-align: right;\">\n",
              "      <th></th>\n",
              "      <th>id</th>\n",
              "      <th>gender</th>\n",
              "      <th>age</th>\n",
              "      <th>hypertension</th>\n",
              "      <th>heart_disease</th>\n",
              "      <th>ever_married</th>\n",
              "      <th>work_type</th>\n",
              "      <th>Residence_type</th>\n",
              "      <th>avg_glucose_level</th>\n",
              "      <th>bmi</th>\n",
              "      <th>smoking_status</th>\n",
              "      <th>stroke</th>\n",
              "    </tr>\n",
              "  </thead>\n",
              "  <tbody>\n",
              "    <tr>\n",
              "      <th>0</th>\n",
              "      <td>9046</td>\n",
              "      <td>Male</td>\n",
              "      <td>67.0</td>\n",
              "      <td>0</td>\n",
              "      <td>1</td>\n",
              "      <td>Yes</td>\n",
              "      <td>Private</td>\n",
              "      <td>Urban</td>\n",
              "      <td>228.69</td>\n",
              "      <td>36.6</td>\n",
              "      <td>formerly smoked</td>\n",
              "      <td>1</td>\n",
              "    </tr>\n",
              "    <tr>\n",
              "      <th>1</th>\n",
              "      <td>51676</td>\n",
              "      <td>Female</td>\n",
              "      <td>61.0</td>\n",
              "      <td>0</td>\n",
              "      <td>0</td>\n",
              "      <td>Yes</td>\n",
              "      <td>Self-employed</td>\n",
              "      <td>Rural</td>\n",
              "      <td>202.21</td>\n",
              "      <td>NaN</td>\n",
              "      <td>never smoked</td>\n",
              "      <td>1</td>\n",
              "    </tr>\n",
              "    <tr>\n",
              "      <th>2</th>\n",
              "      <td>31112</td>\n",
              "      <td>Male</td>\n",
              "      <td>80.0</td>\n",
              "      <td>0</td>\n",
              "      <td>1</td>\n",
              "      <td>Yes</td>\n",
              "      <td>Private</td>\n",
              "      <td>Rural</td>\n",
              "      <td>105.92</td>\n",
              "      <td>32.5</td>\n",
              "      <td>never smoked</td>\n",
              "      <td>1</td>\n",
              "    </tr>\n",
              "    <tr>\n",
              "      <th>3</th>\n",
              "      <td>60182</td>\n",
              "      <td>Female</td>\n",
              "      <td>49.0</td>\n",
              "      <td>0</td>\n",
              "      <td>0</td>\n",
              "      <td>Yes</td>\n",
              "      <td>Private</td>\n",
              "      <td>Urban</td>\n",
              "      <td>171.23</td>\n",
              "      <td>34.4</td>\n",
              "      <td>smokes</td>\n",
              "      <td>1</td>\n",
              "    </tr>\n",
              "    <tr>\n",
              "      <th>4</th>\n",
              "      <td>1665</td>\n",
              "      <td>Female</td>\n",
              "      <td>79.0</td>\n",
              "      <td>1</td>\n",
              "      <td>0</td>\n",
              "      <td>Yes</td>\n",
              "      <td>Self-employed</td>\n",
              "      <td>Rural</td>\n",
              "      <td>174.12</td>\n",
              "      <td>24.0</td>\n",
              "      <td>never smoked</td>\n",
              "      <td>1</td>\n",
              "    </tr>\n",
              "  </tbody>\n",
              "</table>\n",
              "</div>\n",
              "      <button class=\"colab-df-convert\" onclick=\"convertToInteractive('df-6b7abc40-deb6-42b9-a187-68ea256c45e1')\"\n",
              "              title=\"Convert this dataframe to an interactive table.\"\n",
              "              style=\"display:none;\">\n",
              "        \n",
              "  <svg xmlns=\"http://www.w3.org/2000/svg\" height=\"24px\"viewBox=\"0 0 24 24\"\n",
              "       width=\"24px\">\n",
              "    <path d=\"M0 0h24v24H0V0z\" fill=\"none\"/>\n",
              "    <path d=\"M18.56 5.44l.94 2.06.94-2.06 2.06-.94-2.06-.94-.94-2.06-.94 2.06-2.06.94zm-11 1L8.5 8.5l.94-2.06 2.06-.94-2.06-.94L8.5 2.5l-.94 2.06-2.06.94zm10 10l.94 2.06.94-2.06 2.06-.94-2.06-.94-.94-2.06-.94 2.06-2.06.94z\"/><path d=\"M17.41 7.96l-1.37-1.37c-.4-.4-.92-.59-1.43-.59-.52 0-1.04.2-1.43.59L10.3 9.45l-7.72 7.72c-.78.78-.78 2.05 0 2.83L4 21.41c.39.39.9.59 1.41.59.51 0 1.02-.2 1.41-.59l7.78-7.78 2.81-2.81c.8-.78.8-2.07 0-2.86zM5.41 20L4 18.59l7.72-7.72 1.47 1.35L5.41 20z\"/>\n",
              "  </svg>\n",
              "      </button>\n",
              "      \n",
              "  <style>\n",
              "    .colab-df-container {\n",
              "      display:flex;\n",
              "      flex-wrap:wrap;\n",
              "      gap: 12px;\n",
              "    }\n",
              "\n",
              "    .colab-df-convert {\n",
              "      background-color: #E8F0FE;\n",
              "      border: none;\n",
              "      border-radius: 50%;\n",
              "      cursor: pointer;\n",
              "      display: none;\n",
              "      fill: #1967D2;\n",
              "      height: 32px;\n",
              "      padding: 0 0 0 0;\n",
              "      width: 32px;\n",
              "    }\n",
              "\n",
              "    .colab-df-convert:hover {\n",
              "      background-color: #E2EBFA;\n",
              "      box-shadow: 0px 1px 2px rgba(60, 64, 67, 0.3), 0px 1px 3px 1px rgba(60, 64, 67, 0.15);\n",
              "      fill: #174EA6;\n",
              "    }\n",
              "\n",
              "    [theme=dark] .colab-df-convert {\n",
              "      background-color: #3B4455;\n",
              "      fill: #D2E3FC;\n",
              "    }\n",
              "\n",
              "    [theme=dark] .colab-df-convert:hover {\n",
              "      background-color: #434B5C;\n",
              "      box-shadow: 0px 1px 3px 1px rgba(0, 0, 0, 0.15);\n",
              "      filter: drop-shadow(0px 1px 2px rgba(0, 0, 0, 0.3));\n",
              "      fill: #FFFFFF;\n",
              "    }\n",
              "  </style>\n",
              "\n",
              "      <script>\n",
              "        const buttonEl =\n",
              "          document.querySelector('#df-6b7abc40-deb6-42b9-a187-68ea256c45e1 button.colab-df-convert');\n",
              "        buttonEl.style.display =\n",
              "          google.colab.kernel.accessAllowed ? 'block' : 'none';\n",
              "\n",
              "        async function convertToInteractive(key) {\n",
              "          const element = document.querySelector('#df-6b7abc40-deb6-42b9-a187-68ea256c45e1');\n",
              "          const dataTable =\n",
              "            await google.colab.kernel.invokeFunction('convertToInteractive',\n",
              "                                                     [key], {});\n",
              "          if (!dataTable) return;\n",
              "\n",
              "          const docLinkHtml = 'Like what you see? Visit the ' +\n",
              "            '<a target=\"_blank\" href=https://colab.research.google.com/notebooks/data_table.ipynb>data table notebook</a>'\n",
              "            + ' to learn more about interactive tables.';\n",
              "          element.innerHTML = '';\n",
              "          dataTable['output_type'] = 'display_data';\n",
              "          await google.colab.output.renderOutput(dataTable, element);\n",
              "          const docLink = document.createElement('div');\n",
              "          docLink.innerHTML = docLinkHtml;\n",
              "          element.appendChild(docLink);\n",
              "        }\n",
              "      </script>\n",
              "    </div>\n",
              "  </div>\n",
              "  "
            ]
          },
          "metadata": {},
          "execution_count": 226
        }
      ]
    },
    {
      "cell_type": "code",
      "source": [
        "df.sum().isnull()"
      ],
      "metadata": {
        "colab": {
          "base_uri": "https://localhost:8080/"
        },
        "id": "eNza6Jqsp1BC",
        "outputId": "77584c03-4f33-4ff0-88bb-c12347254038"
      },
      "execution_count": 227,
      "outputs": [
        {
          "output_type": "execute_result",
          "data": {
            "text/plain": [
              "id                   False\n",
              "gender               False\n",
              "age                  False\n",
              "hypertension         False\n",
              "heart_disease        False\n",
              "ever_married         False\n",
              "work_type            False\n",
              "Residence_type       False\n",
              "avg_glucose_level    False\n",
              "bmi                  False\n",
              "smoking_status       False\n",
              "stroke               False\n",
              "dtype: bool"
            ]
          },
          "metadata": {},
          "execution_count": 227
        }
      ]
    },
    {
      "cell_type": "code",
      "source": [
        "df.describe()"
      ],
      "metadata": {
        "colab": {
          "base_uri": "https://localhost:8080/",
          "height": 300
        },
        "id": "oesVk4cAqNE9",
        "outputId": "1e7ab4cc-b55b-46ea-82fd-6866303b3e03"
      },
      "execution_count": 228,
      "outputs": [
        {
          "output_type": "execute_result",
          "data": {
            "text/plain": [
              "                 id          age  hypertension  heart_disease  \\\n",
              "count   5110.000000  5110.000000   5110.000000    5110.000000   \n",
              "mean   36517.829354    43.226614      0.097456       0.054012   \n",
              "std    21161.721625    22.612647      0.296607       0.226063   \n",
              "min       67.000000     0.080000      0.000000       0.000000   \n",
              "25%    17741.250000    25.000000      0.000000       0.000000   \n",
              "50%    36932.000000    45.000000      0.000000       0.000000   \n",
              "75%    54682.000000    61.000000      0.000000       0.000000   \n",
              "max    72940.000000    82.000000      1.000000       1.000000   \n",
              "\n",
              "       avg_glucose_level          bmi       stroke  \n",
              "count        5110.000000  4909.000000  5110.000000  \n",
              "mean          106.147677    28.893237     0.048728  \n",
              "std            45.283560     7.854067     0.215320  \n",
              "min            55.120000    10.300000     0.000000  \n",
              "25%            77.245000    23.500000     0.000000  \n",
              "50%            91.885000    28.100000     0.000000  \n",
              "75%           114.090000    33.100000     0.000000  \n",
              "max           271.740000    97.600000     1.000000  "
            ],
            "text/html": [
              "\n",
              "  <div id=\"df-f77d6577-bf99-4791-a5f3-0a69b50d10f7\">\n",
              "    <div class=\"colab-df-container\">\n",
              "      <div>\n",
              "<style scoped>\n",
              "    .dataframe tbody tr th:only-of-type {\n",
              "        vertical-align: middle;\n",
              "    }\n",
              "\n",
              "    .dataframe tbody tr th {\n",
              "        vertical-align: top;\n",
              "    }\n",
              "\n",
              "    .dataframe thead th {\n",
              "        text-align: right;\n",
              "    }\n",
              "</style>\n",
              "<table border=\"1\" class=\"dataframe\">\n",
              "  <thead>\n",
              "    <tr style=\"text-align: right;\">\n",
              "      <th></th>\n",
              "      <th>id</th>\n",
              "      <th>age</th>\n",
              "      <th>hypertension</th>\n",
              "      <th>heart_disease</th>\n",
              "      <th>avg_glucose_level</th>\n",
              "      <th>bmi</th>\n",
              "      <th>stroke</th>\n",
              "    </tr>\n",
              "  </thead>\n",
              "  <tbody>\n",
              "    <tr>\n",
              "      <th>count</th>\n",
              "      <td>5110.000000</td>\n",
              "      <td>5110.000000</td>\n",
              "      <td>5110.000000</td>\n",
              "      <td>5110.000000</td>\n",
              "      <td>5110.000000</td>\n",
              "      <td>4909.000000</td>\n",
              "      <td>5110.000000</td>\n",
              "    </tr>\n",
              "    <tr>\n",
              "      <th>mean</th>\n",
              "      <td>36517.829354</td>\n",
              "      <td>43.226614</td>\n",
              "      <td>0.097456</td>\n",
              "      <td>0.054012</td>\n",
              "      <td>106.147677</td>\n",
              "      <td>28.893237</td>\n",
              "      <td>0.048728</td>\n",
              "    </tr>\n",
              "    <tr>\n",
              "      <th>std</th>\n",
              "      <td>21161.721625</td>\n",
              "      <td>22.612647</td>\n",
              "      <td>0.296607</td>\n",
              "      <td>0.226063</td>\n",
              "      <td>45.283560</td>\n",
              "      <td>7.854067</td>\n",
              "      <td>0.215320</td>\n",
              "    </tr>\n",
              "    <tr>\n",
              "      <th>min</th>\n",
              "      <td>67.000000</td>\n",
              "      <td>0.080000</td>\n",
              "      <td>0.000000</td>\n",
              "      <td>0.000000</td>\n",
              "      <td>55.120000</td>\n",
              "      <td>10.300000</td>\n",
              "      <td>0.000000</td>\n",
              "    </tr>\n",
              "    <tr>\n",
              "      <th>25%</th>\n",
              "      <td>17741.250000</td>\n",
              "      <td>25.000000</td>\n",
              "      <td>0.000000</td>\n",
              "      <td>0.000000</td>\n",
              "      <td>77.245000</td>\n",
              "      <td>23.500000</td>\n",
              "      <td>0.000000</td>\n",
              "    </tr>\n",
              "    <tr>\n",
              "      <th>50%</th>\n",
              "      <td>36932.000000</td>\n",
              "      <td>45.000000</td>\n",
              "      <td>0.000000</td>\n",
              "      <td>0.000000</td>\n",
              "      <td>91.885000</td>\n",
              "      <td>28.100000</td>\n",
              "      <td>0.000000</td>\n",
              "    </tr>\n",
              "    <tr>\n",
              "      <th>75%</th>\n",
              "      <td>54682.000000</td>\n",
              "      <td>61.000000</td>\n",
              "      <td>0.000000</td>\n",
              "      <td>0.000000</td>\n",
              "      <td>114.090000</td>\n",
              "      <td>33.100000</td>\n",
              "      <td>0.000000</td>\n",
              "    </tr>\n",
              "    <tr>\n",
              "      <th>max</th>\n",
              "      <td>72940.000000</td>\n",
              "      <td>82.000000</td>\n",
              "      <td>1.000000</td>\n",
              "      <td>1.000000</td>\n",
              "      <td>271.740000</td>\n",
              "      <td>97.600000</td>\n",
              "      <td>1.000000</td>\n",
              "    </tr>\n",
              "  </tbody>\n",
              "</table>\n",
              "</div>\n",
              "      <button class=\"colab-df-convert\" onclick=\"convertToInteractive('df-f77d6577-bf99-4791-a5f3-0a69b50d10f7')\"\n",
              "              title=\"Convert this dataframe to an interactive table.\"\n",
              "              style=\"display:none;\">\n",
              "        \n",
              "  <svg xmlns=\"http://www.w3.org/2000/svg\" height=\"24px\"viewBox=\"0 0 24 24\"\n",
              "       width=\"24px\">\n",
              "    <path d=\"M0 0h24v24H0V0z\" fill=\"none\"/>\n",
              "    <path d=\"M18.56 5.44l.94 2.06.94-2.06 2.06-.94-2.06-.94-.94-2.06-.94 2.06-2.06.94zm-11 1L8.5 8.5l.94-2.06 2.06-.94-2.06-.94L8.5 2.5l-.94 2.06-2.06.94zm10 10l.94 2.06.94-2.06 2.06-.94-2.06-.94-.94-2.06-.94 2.06-2.06.94z\"/><path d=\"M17.41 7.96l-1.37-1.37c-.4-.4-.92-.59-1.43-.59-.52 0-1.04.2-1.43.59L10.3 9.45l-7.72 7.72c-.78.78-.78 2.05 0 2.83L4 21.41c.39.39.9.59 1.41.59.51 0 1.02-.2 1.41-.59l7.78-7.78 2.81-2.81c.8-.78.8-2.07 0-2.86zM5.41 20L4 18.59l7.72-7.72 1.47 1.35L5.41 20z\"/>\n",
              "  </svg>\n",
              "      </button>\n",
              "      \n",
              "  <style>\n",
              "    .colab-df-container {\n",
              "      display:flex;\n",
              "      flex-wrap:wrap;\n",
              "      gap: 12px;\n",
              "    }\n",
              "\n",
              "    .colab-df-convert {\n",
              "      background-color: #E8F0FE;\n",
              "      border: none;\n",
              "      border-radius: 50%;\n",
              "      cursor: pointer;\n",
              "      display: none;\n",
              "      fill: #1967D2;\n",
              "      height: 32px;\n",
              "      padding: 0 0 0 0;\n",
              "      width: 32px;\n",
              "    }\n",
              "\n",
              "    .colab-df-convert:hover {\n",
              "      background-color: #E2EBFA;\n",
              "      box-shadow: 0px 1px 2px rgba(60, 64, 67, 0.3), 0px 1px 3px 1px rgba(60, 64, 67, 0.15);\n",
              "      fill: #174EA6;\n",
              "    }\n",
              "\n",
              "    [theme=dark] .colab-df-convert {\n",
              "      background-color: #3B4455;\n",
              "      fill: #D2E3FC;\n",
              "    }\n",
              "\n",
              "    [theme=dark] .colab-df-convert:hover {\n",
              "      background-color: #434B5C;\n",
              "      box-shadow: 0px 1px 3px 1px rgba(0, 0, 0, 0.15);\n",
              "      filter: drop-shadow(0px 1px 2px rgba(0, 0, 0, 0.3));\n",
              "      fill: #FFFFFF;\n",
              "    }\n",
              "  </style>\n",
              "\n",
              "      <script>\n",
              "        const buttonEl =\n",
              "          document.querySelector('#df-f77d6577-bf99-4791-a5f3-0a69b50d10f7 button.colab-df-convert');\n",
              "        buttonEl.style.display =\n",
              "          google.colab.kernel.accessAllowed ? 'block' : 'none';\n",
              "\n",
              "        async function convertToInteractive(key) {\n",
              "          const element = document.querySelector('#df-f77d6577-bf99-4791-a5f3-0a69b50d10f7');\n",
              "          const dataTable =\n",
              "            await google.colab.kernel.invokeFunction('convertToInteractive',\n",
              "                                                     [key], {});\n",
              "          if (!dataTable) return;\n",
              "\n",
              "          const docLinkHtml = 'Like what you see? Visit the ' +\n",
              "            '<a target=\"_blank\" href=https://colab.research.google.com/notebooks/data_table.ipynb>data table notebook</a>'\n",
              "            + ' to learn more about interactive tables.';\n",
              "          element.innerHTML = '';\n",
              "          dataTable['output_type'] = 'display_data';\n",
              "          await google.colab.output.renderOutput(dataTable, element);\n",
              "          const docLink = document.createElement('div');\n",
              "          docLink.innerHTML = docLinkHtml;\n",
              "          element.appendChild(docLink);\n",
              "        }\n",
              "      </script>\n",
              "    </div>\n",
              "  </div>\n",
              "  "
            ]
          },
          "metadata": {},
          "execution_count": 228
        }
      ]
    },
    {
      "cell_type": "code",
      "source": [
        "df.stroke.hist()"
      ],
      "metadata": {
        "colab": {
          "base_uri": "https://localhost:8080/",
          "height": 283
        },
        "id": "IYLP6UblqTKX",
        "outputId": "2362c09b-eed4-46bc-b58e-de1da0f3ce69"
      },
      "execution_count": 229,
      "outputs": [
        {
          "output_type": "execute_result",
          "data": {
            "text/plain": [
              "<matplotlib.axes._subplots.AxesSubplot at 0x7fb300c1eb10>"
            ]
          },
          "metadata": {},
          "execution_count": 229
        },
        {
          "output_type": "display_data",
          "data": {
            "text/plain": [
              "<Figure size 432x288 with 1 Axes>"
            ],
            "image/png": "[encoded data removed]"
          },
          "metadata": {
            "needs_background": "light"
          }
        }
      ]
    },
    {
      "cell_type": "code",
      "source": [
        "df.avg_glucose_level.hist()"
      ],
      "metadata": {
        "colab": {
          "base_uri": "https://localhost:8080/",
          "height": 283
        },
        "id": "7N4Xd2HsqWlo",
        "outputId": "73a9e0f1-cc7f-4a2c-e07f-7bdc3ee0261e"
      },
      "execution_count": 230,
      "outputs": [
        {
          "output_type": "execute_result",
          "data": {
            "text/plain": [
              "<matplotlib.axes._subplots.AxesSubplot at 0x7fb300b91050>"
            ]
          },
          "metadata": {},
          "execution_count": 230
        },
        {
          "output_type": "display_data",
          "data": {
            "text/plain": [
              "<Figure size 432x288 with 1 Axes>"
            ],
            "image/png": "[encoded data removed]"
          },
          "metadata": {
            "needs_background": "light"
          }
        }
      ]
    },
    {
      "cell_type": "code",
      "source": [
        "df.gender.hist()"
      ],
      "metadata": {
        "colab": {
          "base_uri": "https://localhost:8080/",
          "height": 283
        },
        "id": "lCb-eW-T0ka9",
        "outputId": "f6f352be-2a2e-4225-c3c2-8a4dc483a087"
      },
      "execution_count": 231,
      "outputs": [
        {
          "output_type": "execute_result",
          "data": {
            "text/plain": [
              "<matplotlib.axes._subplots.AxesSubplot at 0x7fb3098bf590>"
            ]
          },
          "metadata": {},
          "execution_count": 231
        },
        {
          "output_type": "display_data",
          "data": {
            "text/plain": [
              "<Figure size 432x288 with 1 Axes>"
            ],
            "image/png": "[encoded data removed]"
          },
          "metadata": {
            "needs_background": "light"
          }
        }
      ]
    },
    {
      "cell_type": "code",
      "source": [
        "df.gender.value_counts()"
      ],
      "metadata": {
        "colab": {
          "base_uri": "https://localhost:8080/"
        },
        "id": "A5NtDg0v0oCs",
        "outputId": "246b6b37-8e84-41ec-ac84-3ee872f87073"
      },
      "execution_count": 232,
      "outputs": [
        {
          "output_type": "execute_result",
          "data": {
            "text/plain": [
              "Female    2994\n",
              "Male      2115\n",
              "Other        1\n",
              "Name: gender, dtype: int64"
            ]
          },
          "metadata": {},
          "execution_count": 232
        }
      ]
    },
    {
      "cell_type": "code",
      "source": [
        "df = df[df['gender'] != \"Other\"]"
      ],
      "metadata": {
        "id": "VL6iDpCJ02uB"
      },
      "execution_count": 233,
      "outputs": []
    },
    {
      "cell_type": "code",
      "source": [
        "df.gender.hist()"
      ],
      "metadata": {
        "colab": {
          "base_uri": "https://localhost:8080/",
          "height": 283
        },
        "id": "vtNRh2-90-Gl",
        "outputId": "d17fcb94-b483-4bd6-ec7d-0b36f58a0848"
      },
      "execution_count": 234,
      "outputs": [
        {
          "output_type": "execute_result",
          "data": {
            "text/plain": [
              "<matplotlib.axes._subplots.AxesSubplot at 0x7fb300ad4550>"
            ]
          },
          "metadata": {},
          "execution_count": 234
        },
        {
          "output_type": "display_data",
          "data": {
            "text/plain": [
              "<Figure size 432x288 with 1 Axes>"
            ],
            "image/png": "[encoded data removed]"
          },
          "metadata": {
            "needs_background": "light"
          }
        }
      ]
    },
    {
      "cell_type": "code",
      "source": [
        "df.gender.value_counts()"
      ],
      "metadata": {
        "colab": {
          "base_uri": "https://localhost:8080/"
        },
        "id": "m9ocqKal0__d",
        "outputId": "1af4009e-49a2-4266-f4ed-946e17235915"
      },
      "execution_count": 235,
      "outputs": [
        {
          "output_type": "execute_result",
          "data": {
            "text/plain": [
              "Female    2994\n",
              "Male      2115\n",
              "Name: gender, dtype: int64"
            ]
          },
          "metadata": {},
          "execution_count": 235
        }
      ]
    },
    {
      "cell_type": "code",
      "source": [
        "df[df.duplicated()]"
      ],
      "metadata": {
        "colab": {
          "base_uri": "https://localhost:8080/",
          "height": 49
        },
        "id": "BgdyQ3HEqiKT",
        "outputId": "a94586c7-1fb4-471d-9114-a589320c6ca5"
      },
      "execution_count": 236,
      "outputs": [
        {
          "output_type": "execute_result",
          "data": {
            "text/plain": [
              "Empty DataFrame\n",
              "Columns: [id, gender, age, hypertension, heart_disease, ever_married, work_type, Residence_type, avg_glucose_level, bmi, smoking_status, stroke]\n",
              "Index: []"
            ],
            "text/html": [
              "\n",
              "  <div id=\"df-feee1688-e429-4896-a7f9-3329a0fdbfcc\">\n",
              "    <div class=\"colab-df-container\">\n",
              "      <div>\n",
              "<style scoped>\n",
              "    .dataframe tbody tr th:only-of-type {\n",
              "        vertical-align: middle;\n",
              "    }\n",
              "\n",
              "    .dataframe tbody tr th {\n",
              "        vertical-align: top;\n",
              "    }\n",
              "\n",
              "    .dataframe thead th {\n",
              "        text-align: right;\n",
              "    }\n",
              "</style>\n",
              "<table border=\"1\" class=\"dataframe\">\n",
              "  <thead>\n",
              "    <tr style=\"text-align: right;\">\n",
              "      <th></th>\n",
              "      <th>id</th>\n",
              "      <th>gender</th>\n",
              "      <th>age</th>\n",
              "      <th>hypertension</th>\n",
              "      <th>heart_disease</th>\n",
              "      <th>ever_married</th>\n",
              "      <th>work_type</th>\n",
              "      <th>Residence_type</th>\n",
              "      <th>avg_glucose_level</th>\n",
              "      <th>bmi</th>\n",
              "      <th>smoking_status</th>\n",
              "      <th>stroke</th>\n",
              "    </tr>\n",
              "  </thead>\n",
              "  <tbody>\n",
              "  </tbody>\n",
              "</table>\n",
              "</div>\n",
              "      <button class=\"colab-df-convert\" onclick=\"convertToInteractive('df-feee1688-e429-4896-a7f9-3329a0fdbfcc')\"\n",
              "              title=\"Convert this dataframe to an interactive table.\"\n",
              "              style=\"display:none;\">\n",
              "        \n",
              "  <svg xmlns=\"http://www.w3.org/2000/svg\" height=\"24px\"viewBox=\"0 0 24 24\"\n",
              "       width=\"24px\">\n",
              "    <path d=\"M0 0h24v24H0V0z\" fill=\"none\"/>\n",
              "    <path d=\"M18.56 5.44l.94 2.06.94-2.06 2.06-.94-2.06-.94-.94-2.06-.94 2.06-2.06.94zm-11 1L8.5 8.5l.94-2.06 2.06-.94-2.06-.94L8.5 2.5l-.94 2.06-2.06.94zm10 10l.94 2.06.94-2.06 2.06-.94-2.06-.94-.94-2.06-.94 2.06-2.06.94z\"/><path d=\"M17.41 7.96l-1.37-1.37c-.4-.4-.92-.59-1.43-.59-.52 0-1.04.2-1.43.59L10.3 9.45l-7.72 7.72c-.78.78-.78 2.05 0 2.83L4 21.41c.39.39.9.59 1.41.59.51 0 1.02-.2 1.41-.59l7.78-7.78 2.81-2.81c.8-.78.8-2.07 0-2.86zM5.41 20L4 18.59l7.72-7.72 1.47 1.35L5.41 20z\"/>\n",
              "  </svg>\n",
              "      </button>\n",
              "      \n",
              "  <style>\n",
              "    .colab-df-container {\n",
              "      display:flex;\n",
              "      flex-wrap:wrap;\n",
              "      gap: 12px;\n",
              "    }\n",
              "\n",
              "    .colab-df-convert {\n",
              "      background-color: #E8F0FE;\n",
              "      border: none;\n",
              "      border-radius: 50%;\n",
              "      cursor: pointer;\n",
              "      display: none;\n",
              "      fill: #1967D2;\n",
              "      height: 32px;\n",
              "      padding: 0 0 0 0;\n",
              "      width: 32px;\n",
              "    }\n",
              "\n",
              "    .colab-df-convert:hover {\n",
              "      background-color: #E2EBFA;\n",
              "      box-shadow: 0px 1px 2px rgba(60, 64, 67, 0.3), 0px 1px 3px 1px rgba(60, 64, 67, 0.15);\n",
              "      fill: #174EA6;\n",
              "    }\n",
              "\n",
              "    [theme=dark] .colab-df-convert {\n",
              "      background-color: #3B4455;\n",
              "      fill: #D2E3FC;\n",
              "    }\n",
              "\n",
              "    [theme=dark] .colab-df-convert:hover {\n",
              "      background-color: #434B5C;\n",
              "      box-shadow: 0px 1px 3px 1px rgba(0, 0, 0, 0.15);\n",
              "      filter: drop-shadow(0px 1px 2px rgba(0, 0, 0, 0.3));\n",
              "      fill: #FFFFFF;\n",
              "    }\n",
              "  </style>\n",
              "\n",
              "      <script>\n",
              "        const buttonEl =\n",
              "          document.querySelector('#df-feee1688-e429-4896-a7f9-3329a0fdbfcc button.colab-df-convert');\n",
              "        buttonEl.style.display =\n",
              "          google.colab.kernel.accessAllowed ? 'block' : 'none';\n",
              "\n",
              "        async function convertToInteractive(key) {\n",
              "          const element = document.querySelector('#df-feee1688-e429-4896-a7f9-3329a0fdbfcc');\n",
              "          const dataTable =\n",
              "            await google.colab.kernel.invokeFunction('convertToInteractive',\n",
              "                                                     [key], {});\n",
              "          if (!dataTable) return;\n",
              "\n",
              "          const docLinkHtml = 'Like what you see? Visit the ' +\n",
              "            '<a target=\"_blank\" href=https://colab.research.google.com/notebooks/data_table.ipynb>data table notebook</a>'\n",
              "            + ' to learn more about interactive tables.';\n",
              "          element.innerHTML = '';\n",
              "          dataTable['output_type'] = 'display_data';\n",
              "          await google.colab.output.renderOutput(dataTable, element);\n",
              "          const docLink = document.createElement('div');\n",
              "          docLink.innerHTML = docLinkHtml;\n",
              "          element.appendChild(docLink);\n",
              "        }\n",
              "      </script>\n",
              "    </div>\n",
              "  </div>\n",
              "  "
            ]
          },
          "metadata": {},
          "execution_count": 236
        }
      ]
    },
    {
      "cell_type": "code",
      "source": [
        "df = df[~df['bmi'].isna()]\n",
        "\n",
        "df[df['bmi'].isna()]"
      ],
      "metadata": {
        "colab": {
          "base_uri": "https://localhost:8080/",
          "height": 49
        },
        "id": "vR0752Hl6plG",
        "outputId": "301751fe-71f2-4a56-ce7a-1c5056f7f400"
      },
      "execution_count": 237,
      "outputs": [
        {
          "output_type": "execute_result",
          "data": {
            "text/plain": [
              "Empty DataFrame\n",
              "Columns: [id, gender, age, hypertension, heart_disease, ever_married, work_type, Residence_type, avg_glucose_level, bmi, smoking_status, stroke]\n",
              "Index: []"
            ],
            "text/html": [
              "\n",
              "  <div id=\"df-a1c6cce0-4f4f-40b4-8927-be7af6a7cda4\">\n",
              "    <div class=\"colab-df-container\">\n",
              "      <div>\n",
              "<style scoped>\n",
              "    .dataframe tbody tr th:only-of-type {\n",
              "        vertical-align: middle;\n",
              "    }\n",
              "\n",
              "    .dataframe tbody tr th {\n",
              "        vertical-align: top;\n",
              "    }\n",
              "\n",
              "    .dataframe thead th {\n",
              "        text-align: right;\n",
              "    }\n",
              "</style>\n",
              "<table border=\"1\" class=\"dataframe\">\n",
              "  <thead>\n",
              "    <tr style=\"text-align: right;\">\n",
              "      <th></th>\n",
              "      <th>id</th>\n",
              "      <th>gender</th>\n",
              "      <th>age</th>\n",
              "      <th>hypertension</th>\n",
              "      <th>heart_disease</th>\n",
              "      <th>ever_married</th>\n",
              "      <th>work_type</th>\n",
              "      <th>Residence_type</th>\n",
              "      <th>avg_glucose_level</th>\n",
              "      <th>bmi</th>\n",
              "      <th>smoking_status</th>\n",
              "      <th>stroke</th>\n",
              "    </tr>\n",
              "  </thead>\n",
              "  <tbody>\n",
              "  </tbody>\n",
              "</table>\n",
              "</div>\n",
              "      <button class=\"colab-df-convert\" onclick=\"convertToInteractive('df-a1c6cce0-4f4f-40b4-8927-be7af6a7cda4')\"\n",
              "              title=\"Convert this dataframe to an interactive table.\"\n",
              "              style=\"display:none;\">\n",
              "        \n",
              "  <svg xmlns=\"http://www.w3.org/2000/svg\" height=\"24px\"viewBox=\"0 0 24 24\"\n",
              "       width=\"24px\">\n",
              "    <path d=\"M0 0h24v24H0V0z\" fill=\"none\"/>\n",
              "    <path d=\"M18.56 5.44l.94 2.06.94-2.06 2.06-.94-2.06-.94-.94-2.06-.94 2.06-2.06.94zm-11 1L8.5 8.5l.94-2.06 2.06-.94-2.06-.94L8.5 2.5l-.94 2.06-2.06.94zm10 10l.94 2.06.94-2.06 2.06-.94-2.06-.94-.94-2.06-.94 2.06-2.06.94z\"/><path d=\"M17.41 7.96l-1.37-1.37c-.4-.4-.92-.59-1.43-.59-.52 0-1.04.2-1.43.59L10.3 9.45l-7.72 7.72c-.78.78-.78 2.05 0 2.83L4 21.41c.39.39.9.59 1.41.59.51 0 1.02-.2 1.41-.59l7.78-7.78 2.81-2.81c.8-.78.8-2.07 0-2.86zM5.41 20L4 18.59l7.72-7.72 1.47 1.35L5.41 20z\"/>\n",
              "  </svg>\n",
              "      </button>\n",
              "      \n",
              "  <style>\n",
              "    .colab-df-container {\n",
              "      display:flex;\n",
              "      flex-wrap:wrap;\n",
              "      gap: 12px;\n",
              "    }\n",
              "\n",
              "    .colab-df-convert {\n",
              "      background-color: #E8F0FE;\n",
              "      border: none;\n",
              "      border-radius: 50%;\n",
              "      cursor: pointer;\n",
              "      display: none;\n",
              "      fill: #1967D2;\n",
              "      height: 32px;\n",
              "      padding: 0 0 0 0;\n",
              "      width: 32px;\n",
              "    }\n",
              "\n",
              "    .colab-df-convert:hover {\n",
              "      background-color: #E2EBFA;\n",
              "      box-shadow: 0px 1px 2px rgba(60, 64, 67, 0.3), 0px 1px 3px 1px rgba(60, 64, 67, 0.15);\n",
              "      fill: #174EA6;\n",
              "    }\n",
              "\n",
              "    [theme=dark] .colab-df-convert {\n",
              "      background-color: #3B4455;\n",
              "      fill: #D2E3FC;\n",
              "    }\n",
              "\n",
              "    [theme=dark] .colab-df-convert:hover {\n",
              "      background-color: #434B5C;\n",
              "      box-shadow: 0px 1px 3px 1px rgba(0, 0, 0, 0.15);\n",
              "      filter: drop-shadow(0px 1px 2px rgba(0, 0, 0, 0.3));\n",
              "      fill: #FFFFFF;\n",
              "    }\n",
              "  </style>\n",
              "\n",
              "      <script>\n",
              "        const buttonEl =\n",
              "          document.querySelector('#df-a1c6cce0-4f4f-40b4-8927-be7af6a7cda4 button.colab-df-convert');\n",
              "        buttonEl.style.display =\n",
              "          google.colab.kernel.accessAllowed ? 'block' : 'none';\n",
              "\n",
              "        async function convertToInteractive(key) {\n",
              "          const element = document.querySelector('#df-a1c6cce0-4f4f-40b4-8927-be7af6a7cda4');\n",
              "          const dataTable =\n",
              "            await google.colab.kernel.invokeFunction('convertToInteractive',\n",
              "                                                     [key], {});\n",
              "          if (!dataTable) return;\n",
              "\n",
              "          const docLinkHtml = 'Like what you see? Visit the ' +\n",
              "            '<a target=\"_blank\" href=https://colab.research.google.com/notebooks/data_table.ipynb>data table notebook</a>'\n",
              "            + ' to learn more about interactive tables.';\n",
              "          element.innerHTML = '';\n",
              "          dataTable['output_type'] = 'display_data';\n",
              "          await google.colab.output.renderOutput(dataTable, element);\n",
              "          const docLink = document.createElement('div');\n",
              "          docLink.innerHTML = docLinkHtml;\n",
              "          element.appendChild(docLink);\n",
              "        }\n",
              "      </script>\n",
              "    </div>\n",
              "  </div>\n",
              "  "
            ]
          },
          "metadata": {},
          "execution_count": 237
        }
      ]
    },
    {
      "cell_type": "markdown",
      "source": [
        "#Splitting data\n"
      ],
      "metadata": {
        "id": "2Vqs_hGwfdf0"
      }
    },
    {
      "cell_type": "markdown",
      "source": [
        "Balancing unbalanced dataset:"
      ],
      "metadata": {
        "id": "siV83qvtkDRI"
      }
    },
    {
      "cell_type": "code",
      "source": [
        "stroked_df = df[df['stroke'] == 1]"
      ],
      "metadata": {
        "id": "IHIOla4bkFTy"
      },
      "execution_count": 238,
      "outputs": []
    },
    {
      "cell_type": "code",
      "source": [
        "len(stroked_df.index)"
      ],
      "metadata": {
        "colab": {
          "base_uri": "https://localhost:8080/"
        },
        "outputId": "099d61f7-5b57-44e2-dc4f-cba193635bdc",
        "id": "wxKPOUeEkFTy"
      },
      "execution_count": 239,
      "outputs": [
        {
          "output_type": "execute_result",
          "data": {
            "text/plain": [
              "209"
            ]
          },
          "metadata": {},
          "execution_count": 239
        }
      ]
    },
    {
      "cell_type": "code",
      "source": [
        "nonstroked_df = df[df['stroke'] == 0]"
      ],
      "metadata": {
        "id": "gDc-KuCykFTy"
      },
      "execution_count": 240,
      "outputs": []
    },
    {
      "cell_type": "code",
      "source": [
        "samplednstrk_df = nonstroked_df.sample(n = 2 *len(stroked_df.index), random_state = 42)"
      ],
      "metadata": {
        "id": "njtducv9kFTy"
      },
      "execution_count": 241,
      "outputs": []
    },
    {
      "cell_type": "code",
      "source": [
        "newdf = pd.concat([stroked_df,samplednstrk_df])"
      ],
      "metadata": {
        "id": "eCnbr026kFTy"
      },
      "execution_count": 242,
      "outputs": []
    },
    {
      "cell_type": "code",
      "source": [
        "import numpy as np"
      ],
      "metadata": {
        "id": "bzrs6zPFBQ8p"
      },
      "execution_count": 243,
      "outputs": []
    },
    {
      "cell_type": "code",
      "source": [
        "train, validate, test = np.split(newdf.sample(frac=1), [int(.6*len(newdf)), int(.8*len(newdf))])"
      ],
      "metadata": {
        "id": "nFwqaeA-fe72"
      },
      "execution_count": 244,
      "outputs": []
    },
    {
      "cell_type": "markdown",
      "source": [
        "#Creating Encoders"
      ],
      "metadata": {
        "id": "9zz8ed6ffpxu"
      }
    },
    {
      "cell_type": "code",
      "source": [
        "from sklearn import preprocessing\n",
        "gender_encoder = preprocessing.LabelEncoder()\n",
        "\n",
        "married_encoder = preprocessing.LabelEncoder()\n",
        "\n",
        "work_encoder = preprocessing.LabelEncoder()\n",
        "\n",
        "residence_encoder = preprocessing.LabelEncoder()\n",
        "\n",
        "smoker_encoder = preprocessing.LabelEncoder()"
      ],
      "metadata": {
        "id": "Yn3h_DFufsGI"
      },
      "execution_count": 245,
      "outputs": []
    },
    {
      "cell_type": "markdown",
      "source": [
        "#Fitting Transformers"
      ],
      "metadata": {
        "id": "DUu8_87Uf63d"
      }
    },
    {
      "cell_type": "code",
      "source": [
        "train"
      ],
      "metadata": {
        "colab": {
          "base_uri": "https://localhost:8080/",
          "height": 424
        },
        "id": "lzuBytvSaKlC",
        "outputId": "32e24b03-d915-4261-f4cc-73302763ca6a"
      },
      "execution_count": 246,
      "outputs": [
        {
          "output_type": "execute_result",
          "data": {
            "text/plain": [
              "         id  gender   age  hypertension  heart_disease ever_married  \\\n",
              "38    47306    Male  58.0             0              0           No   \n",
              "125   50522  Female  72.0             0              0          Yes   \n",
              "4302  69647    Male  30.0             0              0           No   \n",
              "890   72310    Male  80.0             1              1          Yes   \n",
              "1295  54383    Male  60.0             0              0          Yes   \n",
              "...     ...     ...   ...           ...            ...          ...   \n",
              "224    8899    Male  49.0             0              0           No   \n",
              "3199  27382  Female  50.0             0              0          Yes   \n",
              "5047  25102  Female  51.0             0              0          Yes   \n",
              "4482  40447  Female  59.0             0              0          Yes   \n",
              "65    17013    Male  78.0             1              0           No   \n",
              "\n",
              "          work_type Residence_type  avg_glucose_level   bmi   smoking_status  \\\n",
              "38          Private          Rural              92.62  32.0          Unknown   \n",
              "125        Govt_job          Urban             131.41  28.4     never smoked   \n",
              "4302        Private          Urban              63.42  28.0     never smoked   \n",
              "890   Self-employed          Urban              84.31  30.3           smokes   \n",
              "1295        Private          Rural             101.34  32.8     never smoked   \n",
              "...             ...            ...                ...   ...              ...   \n",
              "224         Private          Rural             104.86  31.9           smokes   \n",
              "3199       Govt_job          Urban              92.15  20.8     never smoked   \n",
              "5047       Govt_job          Urban              95.16  42.7  formerly smoked   \n",
              "4482        Private          Rural              82.42  28.8     never smoked   \n",
              "65          Private          Urban             113.01  24.0     never smoked   \n",
              "\n",
              "      stroke  \n",
              "38         1  \n",
              "125        1  \n",
              "4302       0  \n",
              "890        0  \n",
              "1295       0  \n",
              "...      ...  \n",
              "224        1  \n",
              "3199       0  \n",
              "5047       0  \n",
              "4482       0  \n",
              "65         1  \n",
              "\n",
              "[376 rows x 12 columns]"
            ],
            "text/html": [
              "\n",
              "  <div id=\"df-17884106-7251-47eb-a420-78f34ff98964\">\n",
              "    <div class=\"colab-df-container\">\n",
              "      <div>\n",
              "<style scoped>\n",
              "    .dataframe tbody tr th:only-of-type {\n",
              "        vertical-align: middle;\n",
              "    }\n",
              "\n",
              "    .dataframe tbody tr th {\n",
              "        vertical-align: top;\n",
              "    }\n",
              "\n",
              "    .dataframe thead th {\n",
              "        text-align: right;\n",
              "    }\n",
              "</style>\n",
              "<table border=\"1\" class=\"dataframe\">\n",
              "  <thead>\n",
              "    <tr style=\"text-align: right;\">\n",
              "      <th></th>\n",
              "      <th>id</th>\n",
              "      <th>gender</th>\n",
              "      <th>age</th>\n",
              "      <th>hypertension</th>\n",
              "      <th>heart_disease</th>\n",
              "      <th>ever_married</th>\n",
              "      <th>work_type</th>\n",
              "      <th>Residence_type</th>\n",
              "      <th>avg_glucose_level</th>\n",
              "      <th>bmi</th>\n",
              "      <th>smoking_status</th>\n",
              "      <th>stroke</th>\n",
              "    </tr>\n",
              "  </thead>\n",
              "  <tbody>\n",
              "    <tr>\n",
              "      <th>38</th>\n",
              "      <td>47306</td>\n",
              "      <td>Male</td>\n",
              "      <td>58.0</td>\n",
              "      <td>0</td>\n",
              "      <td>0</td>\n",
              "      <td>No</td>\n",
              "      <td>Private</td>\n",
              "      <td>Rural</td>\n",
              "      <td>92.62</td>\n",
              "      <td>32.0</td>\n",
              "      <td>Unknown</td>\n",
              "      <td>1</td>\n",
              "    </tr>\n",
              "    <tr>\n",
              "      <th>125</th>\n",
              "      <td>50522</td>\n",
              "      <td>Female</td>\n",
              "      <td>72.0</td>\n",
              "      <td>0</td>\n",
              "      <td>0</td>\n",
              "      <td>Yes</td>\n",
              "      <td>Govt_job</td>\n",
              "      <td>Urban</td>\n",
              "      <td>131.41</td>\n",
              "      <td>28.4</td>\n",
              "      <td>never smoked</td>\n",
              "      <td>1</td>\n",
              "    </tr>\n",
              "    <tr>\n",
              "      <th>4302</th>\n",
              "      <td>69647</td>\n",
              "      <td>Male</td>\n",
              "      <td>30.0</td>\n",
              "      <td>0</td>\n",
              "      <td>0</td>\n",
              "      <td>No</td>\n",
              "      <td>Private</td>\n",
              "      <td>Urban</td>\n",
              "      <td>63.42</td>\n",
              "      <td>28.0</td>\n",
              "      <td>never smoked</td>\n",
              "      <td>0</td>\n",
              "    </tr>\n",
              "    <tr>\n",
              "      <th>890</th>\n",
              "      <td>72310</td>\n",
              "      <td>Male</td>\n",
              "      <td>80.0</td>\n",
              "      <td>1</td>\n",
              "      <td>1</td>\n",
              "      <td>Yes</td>\n",
              "      <td>Self-employed</td>\n",
              "      <td>Urban</td>\n",
              "      <td>84.31</td>\n",
              "      <td>30.3</td>\n",
              "      <td>smokes</td>\n",
              "      <td>0</td>\n",
              "    </tr>\n",
              "    <tr>\n",
              "      <th>1295</th>\n",
              "      <td>54383</td>\n",
              "      <td>Male</td>\n",
              "      <td>60.0</td>\n",
              "      <td>0</td>\n",
              "      <td>0</td>\n",
              "      <td>Yes</td>\n",
              "      <td>Private</td>\n",
              "      <td>Rural</td>\n",
              "      <td>101.34</td>\n",
              "      <td>32.8</td>\n",
              "      <td>never smoked</td>\n",
              "      <td>0</td>\n",
              "    </tr>\n",
              "    <tr>\n",
              "      <th>...</th>\n",
              "      <td>...</td>\n",
              "      <td>...</td>\n",
              "      <td>...</td>\n",
              "      <td>...</td>\n",
              "      <td>...</td>\n",
              "      <td>...</td>\n",
              "      <td>...</td>\n",
              "      <td>...</td>\n",
              "      <td>...</td>\n",
              "      <td>...</td>\n",
              "      <td>...</td>\n",
              "      <td>...</td>\n",
              "    </tr>\n",
              "    <tr>\n",
              "      <th>224</th>\n",
              "      <td>8899</td>\n",
              "      <td>Male</td>\n",
              "      <td>49.0</td>\n",
              "      <td>0</td>\n",
              "      <td>0</td>\n",
              "      <td>No</td>\n",
              "      <td>Private</td>\n",
              "      <td>Rural</td>\n",
              "      <td>104.86</td>\n",
              "      <td>31.9</td>\n",
              "      <td>smokes</td>\n",
              "      <td>1</td>\n",
              "    </tr>\n",
              "    <tr>\n",
              "      <th>3199</th>\n",
              "      <td>27382</td>\n",
              "      <td>Female</td>\n",
              "      <td>50.0</td>\n",
              "      <td>0</td>\n",
              "      <td>0</td>\n",
              "      <td>Yes</td>\n",
              "      <td>Govt_job</td>\n",
              "      <td>Urban</td>\n",
              "      <td>92.15</td>\n",
              "      <td>20.8</td>\n",
              "      <td>never smoked</td>\n",
              "      <td>0</td>\n",
              "    </tr>\n",
              "    <tr>\n",
              "      <th>5047</th>\n",
              "      <td>25102</td>\n",
              "      <td>Female</td>\n",
              "      <td>51.0</td>\n",
              "      <td>0</td>\n",
              "      <td>0</td>\n",
              "      <td>Yes</td>\n",
              "      <td>Govt_job</td>\n",
              "      <td>Urban</td>\n",
              "      <td>95.16</td>\n",
              "      <td>42.7</td>\n",
              "      <td>formerly smoked</td>\n",
              "      <td>0</td>\n",
              "    </tr>\n",
              "    <tr>\n",
              "      <th>4482</th>\n",
              "      <td>40447</td>\n",
              "      <td>Female</td>\n",
              "      <td>59.0</td>\n",
              "      <td>0</td>\n",
              "      <td>0</td>\n",
              "      <td>Yes</td>\n",
              "      <td>Private</td>\n",
              "      <td>Rural</td>\n",
              "      <td>82.42</td>\n",
              "      <td>28.8</td>\n",
              "      <td>never smoked</td>\n",
              "      <td>0</td>\n",
              "    </tr>\n",
              "    <tr>\n",
              "      <th>65</th>\n",
              "      <td>17013</td>\n",
              "      <td>Male</td>\n",
              "      <td>78.0</td>\n",
              "      <td>1</td>\n",
              "      <td>0</td>\n",
              "      <td>No</td>\n",
              "      <td>Private</td>\n",
              "      <td>Urban</td>\n",
              "      <td>113.01</td>\n",
              "      <td>24.0</td>\n",
              "      <td>never smoked</td>\n",
              "      <td>1</td>\n",
              "    </tr>\n",
              "  </tbody>\n",
              "</table>\n",
              "<p>376 rows × 12 columns</p>\n",
              "</div>\n",
              "      <button class=\"colab-df-convert\" onclick=\"convertToInteractive('df-17884106-7251-47eb-a420-78f34ff98964')\"\n",
              "              title=\"Convert this dataframe to an interactive table.\"\n",
              "              style=\"display:none;\">\n",
              "        \n",
              "  <svg xmlns=\"http://www.w3.org/2000/svg\" height=\"24px\"viewBox=\"0 0 24 24\"\n",
              "       width=\"24px\">\n",
              "    <path d=\"M0 0h24v24H0V0z\" fill=\"none\"/>\n",
              "    <path d=\"M18.56 5.44l.94 2.06.94-2.06 2.06-.94-2.06-.94-.94-2.06-.94 2.06-2.06.94zm-11 1L8.5 8.5l.94-2.06 2.06-.94-2.06-.94L8.5 2.5l-.94 2.06-2.06.94zm10 10l.94 2.06.94-2.06 2.06-.94-2.06-.94-.94-2.06-.94 2.06-2.06.94z\"/><path d=\"M17.41 7.96l-1.37-1.37c-.4-.4-.92-.59-1.43-.59-.52 0-1.04.2-1.43.59L10.3 9.45l-7.72 7.72c-.78.78-.78 2.05 0 2.83L4 21.41c.39.39.9.59 1.41.59.51 0 1.02-.2 1.41-.59l7.78-7.78 2.81-2.81c.8-.78.8-2.07 0-2.86zM5.41 20L4 18.59l7.72-7.72 1.47 1.35L5.41 20z\"/>\n",
              "  </svg>\n",
              "      </button>\n",
              "      \n",
              "  <style>\n",
              "    .colab-df-container {\n",
              "      display:flex;\n",
              "      flex-wrap:wrap;\n",
              "      gap: 12px;\n",
              "    }\n",
              "\n",
              "    .colab-df-convert {\n",
              "      background-color: #E8F0FE;\n",
              "      border: none;\n",
              "      border-radius: 50%;\n",
              "      cursor: pointer;\n",
              "      display: none;\n",
              "      fill: #1967D2;\n",
              "      height: 32px;\n",
              "      padding: 0 0 0 0;\n",
              "      width: 32px;\n",
              "    }\n",
              "\n",
              "    .colab-df-convert:hover {\n",
              "      background-color: #E2EBFA;\n",
              "      box-shadow: 0px 1px 2px rgba(60, 64, 67, 0.3), 0px 1px 3px 1px rgba(60, 64, 67, 0.15);\n",
              "      fill: #174EA6;\n",
              "    }\n",
              "\n",
              "    [theme=dark] .colab-df-convert {\n",
              "      background-color: #3B4455;\n",
              "      fill: #D2E3FC;\n",
              "    }\n",
              "\n",
              "    [theme=dark] .colab-df-convert:hover {\n",
              "      background-color: #434B5C;\n",
              "      box-shadow: 0px 1px 3px 1px rgba(0, 0, 0, 0.15);\n",
              "      filter: drop-shadow(0px 1px 2px rgba(0, 0, 0, 0.3));\n",
              "      fill: #FFFFFF;\n",
              "    }\n",
              "  </style>\n",
              "\n",
              "      <script>\n",
              "        const buttonEl =\n",
              "          document.querySelector('#df-17884106-7251-47eb-a420-78f34ff98964 button.colab-df-convert');\n",
              "        buttonEl.style.display =\n",
              "          google.colab.kernel.accessAllowed ? 'block' : 'none';\n",
              "\n",
              "        async function convertToInteractive(key) {\n",
              "          const element = document.querySelector('#df-17884106-7251-47eb-a420-78f34ff98964');\n",
              "          const dataTable =\n",
              "            await google.colab.kernel.invokeFunction('convertToInteractive',\n",
              "                                                     [key], {});\n",
              "          if (!dataTable) return;\n",
              "\n",
              "          const docLinkHtml = 'Like what you see? Visit the ' +\n",
              "            '<a target=\"_blank\" href=https://colab.research.google.com/notebooks/data_table.ipynb>data table notebook</a>'\n",
              "            + ' to learn more about interactive tables.';\n",
              "          element.innerHTML = '';\n",
              "          dataTable['output_type'] = 'display_data';\n",
              "          await google.colab.output.renderOutput(dataTable, element);\n",
              "          const docLink = document.createElement('div');\n",
              "          docLink.innerHTML = docLinkHtml;\n",
              "          element.appendChild(docLink);\n",
              "        }\n",
              "      </script>\n",
              "    </div>\n",
              "  </div>\n",
              "  "
            ]
          },
          "metadata": {},
          "execution_count": 246
        }
      ]
    },
    {
      "cell_type": "code",
      "source": [
        "gender_encoder.fit(train['gender'])\n",
        "train['gender'] = gender_encoder.transform(train['gender'])"
      ],
      "metadata": {
        "id": "CzW8hkqpf_gH"
      },
      "execution_count": 247,
      "outputs": []
    },
    {
      "cell_type": "code",
      "source": [
        "gender_encoder.classes_"
      ],
      "metadata": {
        "colab": {
          "base_uri": "https://localhost:8080/"
        },
        "id": "7p5I-d0DZ92L",
        "outputId": "a7b4cecf-9d4c-4c14-df72-a47a45bbb859"
      },
      "execution_count": 248,
      "outputs": [
        {
          "output_type": "execute_result",
          "data": {
            "text/plain": [
              "array(['Female', 'Male'], dtype=object)"
            ]
          },
          "metadata": {},
          "execution_count": 248
        }
      ]
    },
    {
      "cell_type": "code",
      "source": [
        "married_encoder.fit(train['ever_married'])\n",
        "train['ever_married'] = married_encoder.transform(train['ever_married'])"
      ],
      "metadata": {
        "id": "hdMuBSG0f_gI"
      },
      "execution_count": 249,
      "outputs": []
    },
    {
      "cell_type": "code",
      "source": [
        "work_encoder.fit(train['work_type'])\n",
        "train['work_type'] = work_encoder.transform(train['work_type'])"
      ],
      "metadata": {
        "id": "EUTSVga2f_gI"
      },
      "execution_count": 250,
      "outputs": []
    },
    {
      "cell_type": "code",
      "source": [
        "residence_encoder.fit(train['Residence_type'])\n",
        "train['Residence_type'] = residence_encoder.transform(train['Residence_type'])"
      ],
      "metadata": {
        "id": "v7JibMKJf_gI"
      },
      "execution_count": 251,
      "outputs": []
    },
    {
      "cell_type": "code",
      "source": [
        "smoker_encoder.fit(train['smoking_status'])\n",
        "train['smoking_status'] = smoker_encoder.transform(train['smoking_status'])"
      ],
      "metadata": {
        "id": "4SVhGXwBf_gJ"
      },
      "execution_count": 252,
      "outputs": []
    },
    {
      "cell_type": "code",
      "source": [
        "def superEncoder(dataframer):\n",
        "  dataframer['gender'] = gender_encoder.transform(dataframer['gender'])\n",
        "  dataframer['ever_married'] = married_encoder.transform(dataframer['ever_married'])\n",
        "  dataframer['work_type'] = work_encoder.transform(dataframer['work_type'])\n",
        "  dataframer['Residence_type'] = residence_encoder.transform(dataframer['Residence_type'])\n",
        "  dataframer['smoking_status'] = smoker_encoder.transform(dataframer['smoking_status'])\n",
        "  return dataframer"
      ],
      "metadata": {
        "id": "adOd1EnwHBy2"
      },
      "execution_count": 253,
      "outputs": []
    },
    {
      "cell_type": "code",
      "source": [
        "#train = superEncoder(train)"
      ],
      "metadata": {
        "id": "7yBj3CPMXPKr"
      },
      "execution_count": 254,
      "outputs": []
    },
    {
      "cell_type": "code",
      "source": [
        "test"
      ],
      "metadata": {
        "colab": {
          "base_uri": "https://localhost:8080/",
          "height": 424
        },
        "id": "9DxmosgUaeVT",
        "outputId": "e95e989e-d97e-4c5e-91ee-67fc85c36452"
      },
      "execution_count": 255,
      "outputs": [
        {
          "output_type": "execute_result",
          "data": {
            "text/plain": [
              "         id  gender    age  hypertension  heart_disease ever_married  \\\n",
              "3894  69435  Female   0.56             0              0           No   \n",
              "134   20387  Female  68.00             1              0          Yes   \n",
              "4414  13768  Female  38.00             0              0          Yes   \n",
              "3239  53141  Female  25.00             0              0           No   \n",
              "798   46683  Female  25.00             0              0           No   \n",
              "...     ...     ...    ...           ...            ...          ...   \n",
              "319    1686  Female  29.00             0              0           No   \n",
              "3610  57219  Female   1.64             0              0           No   \n",
              "165   42899    Male  78.00             0              0          Yes   \n",
              "793   69427  Female  29.00             0              0           No   \n",
              "136   55824    Male  76.00             0              0          Yes   \n",
              "\n",
              "          work_type Residence_type  avg_glucose_level   bmi   smoking_status  \\\n",
              "3894       children          Urban              80.92  18.3          Unknown   \n",
              "134   Self-employed          Rural             206.09  26.7     never smoked   \n",
              "4414        Private          Urban              77.20  23.4          Unknown   \n",
              "3239        Private          Rural              67.73  22.6     never smoked   \n",
              "798         Private          Urban             122.01  27.0           smokes   \n",
              "...             ...            ...                ...   ...              ...   \n",
              "319         Private          Urban              71.89  27.6     never smoked   \n",
              "3610       children          Rural              82.49  15.1          Unknown   \n",
              "165   Self-employed          Urban             133.19  23.6  formerly smoked   \n",
              "793         Private          Urban             101.28  22.7     never smoked   \n",
              "136         Private          Urban             140.10  29.9  formerly smoked   \n",
              "\n",
              "      stroke  \n",
              "3894       0  \n",
              "134        1  \n",
              "4414       0  \n",
              "3239       0  \n",
              "798        0  \n",
              "...      ...  \n",
              "319        0  \n",
              "3610       0  \n",
              "165        1  \n",
              "793        0  \n",
              "136        1  \n",
              "\n",
              "[126 rows x 12 columns]"
            ],
            "text/html": [
              "\n",
              "  <div id=\"df-f80c8e6f-efc5-4863-b7d2-d43cb7d9b2ca\">\n",
              "    <div class=\"colab-df-container\">\n",
              "      <div>\n",
              "<style scoped>\n",
              "    .dataframe tbody tr th:only-of-type {\n",
              "        vertical-align: middle;\n",
              "    }\n",
              "\n",
              "    .dataframe tbody tr th {\n",
              "        vertical-align: top;\n",
              "    }\n",
              "\n",
              "    .dataframe thead th {\n",
              "        text-align: right;\n",
              "    }\n",
              "</style>\n",
              "<table border=\"1\" class=\"dataframe\">\n",
              "  <thead>\n",
              "    <tr style=\"text-align: right;\">\n",
              "      <th></th>\n",
              "      <th>id</th>\n",
              "      <th>gender</th>\n",
              "      <th>age</th>\n",
              "      <th>hypertension</th>\n",
              "      <th>heart_disease</th>\n",
              "      <th>ever_married</th>\n",
              "      <th>work_type</th>\n",
              "      <th>Residence_type</th>\n",
              "      <th>avg_glucose_level</th>\n",
              "      <th>bmi</th>\n",
              "      <th>smoking_status</th>\n",
              "      <th>stroke</th>\n",
              "    </tr>\n",
              "  </thead>\n",
              "  <tbody>\n",
              "    <tr>\n",
              "      <th>3894</th>\n",
              "      <td>69435</td>\n",
              "      <td>Female</td>\n",
              "      <td>0.56</td>\n",
              "      <td>0</td>\n",
              "      <td>0</td>\n",
              "      <td>No</td>\n",
              "      <td>children</td>\n",
              "      <td>Urban</td>\n",
              "      <td>80.92</td>\n",
              "      <td>18.3</td>\n",
              "      <td>Unknown</td>\n",
              "      <td>0</td>\n",
              "    </tr>\n",
              "    <tr>\n",
              "      <th>134</th>\n",
              "      <td>20387</td>\n",
              "      <td>Female</td>\n",
              "      <td>68.00</td>\n",
              "      <td>1</td>\n",
              "      <td>0</td>\n",
              "      <td>Yes</td>\n",
              "      <td>Self-employed</td>\n",
              "      <td>Rural</td>\n",
              "      <td>206.09</td>\n",
              "      <td>26.7</td>\n",
              "      <td>never smoked</td>\n",
              "      <td>1</td>\n",
              "    </tr>\n",
              "    <tr>\n",
              "      <th>4414</th>\n",
              "      <td>13768</td>\n",
              "      <td>Female</td>\n",
              "      <td>38.00</td>\n",
              "      <td>0</td>\n",
              "      <td>0</td>\n",
              "      <td>Yes</td>\n",
              "      <td>Private</td>\n",
              "      <td>Urban</td>\n",
              "      <td>77.20</td>\n",
              "      <td>23.4</td>\n",
              "      <td>Unknown</td>\n",
              "      <td>0</td>\n",
              "    </tr>\n",
              "    <tr>\n",
              "      <th>3239</th>\n",
              "      <td>53141</td>\n",
              "      <td>Female</td>\n",
              "      <td>25.00</td>\n",
              "      <td>0</td>\n",
              "      <td>0</td>\n",
              "      <td>No</td>\n",
              "      <td>Private</td>\n",
              "      <td>Rural</td>\n",
              "      <td>67.73</td>\n",
              "      <td>22.6</td>\n",
              "      <td>never smoked</td>\n",
              "      <td>0</td>\n",
              "    </tr>\n",
              "    <tr>\n",
              "      <th>798</th>\n",
              "      <td>46683</td>\n",
              "      <td>Female</td>\n",
              "      <td>25.00</td>\n",
              "      <td>0</td>\n",
              "      <td>0</td>\n",
              "      <td>No</td>\n",
              "      <td>Private</td>\n",
              "      <td>Urban</td>\n",
              "      <td>122.01</td>\n",
              "      <td>27.0</td>\n",
              "      <td>smokes</td>\n",
              "      <td>0</td>\n",
              "    </tr>\n",
              "    <tr>\n",
              "      <th>...</th>\n",
              "      <td>...</td>\n",
              "      <td>...</td>\n",
              "      <td>...</td>\n",
              "      <td>...</td>\n",
              "      <td>...</td>\n",
              "      <td>...</td>\n",
              "      <td>...</td>\n",
              "      <td>...</td>\n",
              "      <td>...</td>\n",
              "      <td>...</td>\n",
              "      <td>...</td>\n",
              "      <td>...</td>\n",
              "    </tr>\n",
              "    <tr>\n",
              "      <th>319</th>\n",
              "      <td>1686</td>\n",
              "      <td>Female</td>\n",
              "      <td>29.00</td>\n",
              "      <td>0</td>\n",
              "      <td>0</td>\n",
              "      <td>No</td>\n",
              "      <td>Private</td>\n",
              "      <td>Urban</td>\n",
              "      <td>71.89</td>\n",
              "      <td>27.6</td>\n",
              "      <td>never smoked</td>\n",
              "      <td>0</td>\n",
              "    </tr>\n",
              "    <tr>\n",
              "      <th>3610</th>\n",
              "      <td>57219</td>\n",
              "      <td>Female</td>\n",
              "      <td>1.64</td>\n",
              "      <td>0</td>\n",
              "      <td>0</td>\n",
              "      <td>No</td>\n",
              "      <td>children</td>\n",
              "      <td>Rural</td>\n",
              "      <td>82.49</td>\n",
              "      <td>15.1</td>\n",
              "      <td>Unknown</td>\n",
              "      <td>0</td>\n",
              "    </tr>\n",
              "    <tr>\n",
              "      <th>165</th>\n",
              "      <td>42899</td>\n",
              "      <td>Male</td>\n",
              "      <td>78.00</td>\n",
              "      <td>0</td>\n",
              "      <td>0</td>\n",
              "      <td>Yes</td>\n",
              "      <td>Self-employed</td>\n",
              "      <td>Urban</td>\n",
              "      <td>133.19</td>\n",
              "      <td>23.6</td>\n",
              "      <td>formerly smoked</td>\n",
              "      <td>1</td>\n",
              "    </tr>\n",
              "    <tr>\n",
              "      <th>793</th>\n",
              "      <td>69427</td>\n",
              "      <td>Female</td>\n",
              "      <td>29.00</td>\n",
              "      <td>0</td>\n",
              "      <td>0</td>\n",
              "      <td>No</td>\n",
              "      <td>Private</td>\n",
              "      <td>Urban</td>\n",
              "      <td>101.28</td>\n",
              "      <td>22.7</td>\n",
              "      <td>never smoked</td>\n",
              "      <td>0</td>\n",
              "    </tr>\n",
              "    <tr>\n",
              "      <th>136</th>\n",
              "      <td>55824</td>\n",
              "      <td>Male</td>\n",
              "      <td>76.00</td>\n",
              "      <td>0</td>\n",
              "      <td>0</td>\n",
              "      <td>Yes</td>\n",
              "      <td>Private</td>\n",
              "      <td>Urban</td>\n",
              "      <td>140.10</td>\n",
              "      <td>29.9</td>\n",
              "      <td>formerly smoked</td>\n",
              "      <td>1</td>\n",
              "    </tr>\n",
              "  </tbody>\n",
              "</table>\n",
              "<p>126 rows × 12 columns</p>\n",
              "</div>\n",
              "      <button class=\"colab-df-convert\" onclick=\"convertToInteractive('df-f80c8e6f-efc5-4863-b7d2-d43cb7d9b2ca')\"\n",
              "              title=\"Convert this dataframe to an interactive table.\"\n",
              "              style=\"display:none;\">\n",
              "        \n",
              "  <svg xmlns=\"http://www.w3.org/2000/svg\" height=\"24px\"viewBox=\"0 0 24 24\"\n",
              "       width=\"24px\">\n",
              "    <path d=\"M0 0h24v24H0V0z\" fill=\"none\"/>\n",
              "    <path d=\"M18.56 5.44l.94 2.06.94-2.06 2.06-.94-2.06-.94-.94-2.06-.94 2.06-2.06.94zm-11 1L8.5 8.5l.94-2.06 2.06-.94-2.06-.94L8.5 2.5l-.94 2.06-2.06.94zm10 10l.94 2.06.94-2.06 2.06-.94-2.06-.94-.94-2.06-.94 2.06-2.06.94z\"/><path d=\"M17.41 7.96l-1.37-1.37c-.4-.4-.92-.59-1.43-.59-.52 0-1.04.2-1.43.59L10.3 9.45l-7.72 7.72c-.78.78-.78 2.05 0 2.83L4 21.41c.39.39.9.59 1.41.59.51 0 1.02-.2 1.41-.59l7.78-7.78 2.81-2.81c.8-.78.8-2.07 0-2.86zM5.41 20L4 18.59l7.72-7.72 1.47 1.35L5.41 20z\"/>\n",
              "  </svg>\n",
              "      </button>\n",
              "      \n",
              "  <style>\n",
              "    .colab-df-container {\n",
              "      display:flex;\n",
              "      flex-wrap:wrap;\n",
              "      gap: 12px;\n",
              "    }\n",
              "\n",
              "    .colab-df-convert {\n",
              "      background-color: #E8F0FE;\n",
              "      border: none;\n",
              "      border-radius: 50%;\n",
              "      cursor: pointer;\n",
              "      display: none;\n",
              "      fill: #1967D2;\n",
              "      height: 32px;\n",
              "      padding: 0 0 0 0;\n",
              "      width: 32px;\n",
              "    }\n",
              "\n",
              "    .colab-df-convert:hover {\n",
              "      background-color: #E2EBFA;\n",
              "      box-shadow: 0px 1px 2px rgba(60, 64, 67, 0.3), 0px 1px 3px 1px rgba(60, 64, 67, 0.15);\n",
              "      fill: #174EA6;\n",
              "    }\n",
              "\n",
              "    [theme=dark] .colab-df-convert {\n",
              "      background-color: #3B4455;\n",
              "      fill: #D2E3FC;\n",
              "    }\n",
              "\n",
              "    [theme=dark] .colab-df-convert:hover {\n",
              "      background-color: #434B5C;\n",
              "      box-shadow: 0px 1px 3px 1px rgba(0, 0, 0, 0.15);\n",
              "      filter: drop-shadow(0px 1px 2px rgba(0, 0, 0, 0.3));\n",
              "      fill: #FFFFFF;\n",
              "    }\n",
              "  </style>\n",
              "\n",
              "      <script>\n",
              "        const buttonEl =\n",
              "          document.querySelector('#df-f80c8e6f-efc5-4863-b7d2-d43cb7d9b2ca button.colab-df-convert');\n",
              "        buttonEl.style.display =\n",
              "          google.colab.kernel.accessAllowed ? 'block' : 'none';\n",
              "\n",
              "        async function convertToInteractive(key) {\n",
              "          const element = document.querySelector('#df-f80c8e6f-efc5-4863-b7d2-d43cb7d9b2ca');\n",
              "          const dataTable =\n",
              "            await google.colab.kernel.invokeFunction('convertToInteractive',\n",
              "                                                     [key], {});\n",
              "          if (!dataTable) return;\n",
              "\n",
              "          const docLinkHtml = 'Like what you see? Visit the ' +\n",
              "            '<a target=\"_blank\" href=https://colab.research.google.com/notebooks/data_table.ipynb>data table notebook</a>'\n",
              "            + ' to learn more about interactive tables.';\n",
              "          element.innerHTML = '';\n",
              "          dataTable['output_type'] = 'display_data';\n",
              "          await google.colab.output.renderOutput(dataTable, element);\n",
              "          const docLink = document.createElement('div');\n",
              "          docLink.innerHTML = docLinkHtml;\n",
              "          element.appendChild(docLink);\n",
              "        }\n",
              "      </script>\n",
              "    </div>\n",
              "  </div>\n",
              "  "
            ]
          },
          "metadata": {},
          "execution_count": 255
        }
      ]
    },
    {
      "cell_type": "code",
      "source": [
        "test = superEncoder(test)"
      ],
      "metadata": {
        "id": "2YyIS76nXUab"
      },
      "execution_count": 256,
      "outputs": []
    },
    {
      "cell_type": "code",
      "source": [
        "validate = superEncoder(validate)"
      ],
      "metadata": {
        "id": "XPCHKfwCXWY3"
      },
      "execution_count": 257,
      "outputs": []
    },
    {
      "cell_type": "code",
      "source": [
        "train_x = train.drop(['stroke'],axis = 1)"
      ],
      "metadata": {
        "id": "GqjJdrx1XPOl"
      },
      "execution_count": 258,
      "outputs": []
    },
    {
      "cell_type": "code",
      "source": [
        "# Using .loc[] to select all columns except Duration column\n",
        "train_y = train.loc[:, train.columns == \"stroke\"]"
      ],
      "metadata": {
        "id": "jQyGsPSLXPOm"
      },
      "execution_count": 259,
      "outputs": []
    },
    {
      "cell_type": "code",
      "source": [
        "validate_x = validate.drop(['stroke'],axis = 1)"
      ],
      "metadata": {
        "id": "trhfhOMEXPOn"
      },
      "execution_count": 260,
      "outputs": []
    },
    {
      "cell_type": "code",
      "source": [
        "validate_y = validate.loc[:, validate.columns == \"stroke\"]"
      ],
      "metadata": {
        "id": "yhiw9yhgXPOn"
      },
      "execution_count": 261,
      "outputs": []
    },
    {
      "cell_type": "code",
      "source": [
        "test_x = test.drop(['stroke'],axis = 1)"
      ],
      "metadata": {
        "id": "nzyBr4RrXY2Y"
      },
      "execution_count": 262,
      "outputs": []
    },
    {
      "cell_type": "code",
      "source": [
        "test_y = test.loc[:, test.columns == \"stroke\"]"
      ],
      "metadata": {
        "id": "7kLVel43XZZk"
      },
      "execution_count": 263,
      "outputs": []
    },
    {
      "cell_type": "markdown",
      "source": [
        "#SVC implementation"
      ],
      "metadata": {
        "id": "bVBzn2wT_d83"
      }
    },
    {
      "cell_type": "code",
      "source": [
        "from sklearn import svm"
      ],
      "metadata": {
        "id": "XmVL-X8sAdvp"
      },
      "execution_count": 264,
      "outputs": []
    },
    {
      "cell_type": "code",
      "source": [
        "clf_SVC = svm.SVC()\n",
        "clf_SVC.fit(train_x, train_y)"
      ],
      "metadata": {
        "colab": {
          "base_uri": "https://localhost:8080/"
        },
        "id": "7aoU5FD0Fbql",
        "outputId": "71ce870a-48c2-4f4b-a46f-e83e3cb6fb98"
      },
      "execution_count": 265,
      "outputs": [
        {
          "output_type": "stream",
          "name": "stderr",
          "text": [
            "/usr/local/lib/python3.7/dist-packages/sklearn/utils/validation.py:993: DataConversionWarning:\n",
            "\n",
            "A column-vector y was passed when a 1d array was expected. Please change the shape of y to (n_samples, ), for example using ravel().\n",
            "\n"
          ]
        },
        {
          "output_type": "execute_result",
          "data": {
            "text/plain": [
              "SVC()"
            ]
          },
          "metadata": {},
          "execution_count": 265
        }
      ]
    },
    {
      "cell_type": "code",
      "source": [
        "validater = validate.head(15)"
      ],
      "metadata": {
        "id": "S9lprSO1Goqm"
      },
      "execution_count": 266,
      "outputs": []
    },
    {
      "cell_type": "code",
      "source": [
        "#validater = superEncoder(validater)"
      ],
      "metadata": {
        "id": "fzC0oUsJLqg0"
      },
      "execution_count": 267,
      "outputs": []
    },
    {
      "cell_type": "code",
      "source": [
        "validater"
      ],
      "metadata": {
        "colab": {
          "base_uri": "https://localhost:8080/",
          "height": 520
        },
        "id": "-pq8LNI8LAcJ",
        "outputId": "821cfaaf-3cd6-4174-dde8-f8e0868fe421"
      },
      "execution_count": 268,
      "outputs": [
        {
          "output_type": "execute_result",
          "data": {
            "text/plain": [
              "         id  gender   age  hypertension  heart_disease  ever_married  \\\n",
              "237   36857       1  77.0             0              0             1   \n",
              "2931  51497       1  28.0             0              0             1   \n",
              "1469   8723       0  16.0             0              0             0   \n",
              "4549  14943       0  17.0             0              0             0   \n",
              "687    7745       0  35.0             0              0             1   \n",
              "4214  23449       1  47.0             0              0             1   \n",
              "98     8154       1  57.0             1              0             1   \n",
              "71     2326       0  67.0             1              0             1   \n",
              "176   62466       0  80.0             0              0             1   \n",
              "4050  50072       0  26.0             0              0             0   \n",
              "61    55927       0  80.0             1              0             1   \n",
              "115   53401       1  71.0             1              1             0   \n",
              "4129  11312       0  78.0             0              0             1   \n",
              "4195  10018       1  19.0             0              0             0   \n",
              "1411  29375       1  62.0             0              0             1   \n",
              "\n",
              "      work_type  Residence_type  avg_glucose_level   bmi  smoking_status  \\\n",
              "237           3               0             162.14  32.6               1   \n",
              "2931          3               1             156.45  24.3               2   \n",
              "1469          2               0              70.15  21.5               0   \n",
              "4549          2               0              79.62  21.6               2   \n",
              "687           2               1             109.03  19.5               1   \n",
              "4214          3               0              90.44  28.7               2   \n",
              "98            0               1              78.92  27.7               1   \n",
              "71            2               0             179.12  28.1               1   \n",
              "176           2               1              64.44  45.0               2   \n",
              "4050          2               0              58.55  29.0               2   \n",
              "61            2               0              74.90  22.2               2   \n",
              "115           0               0             216.94  30.9               2   \n",
              "4129          3               0             208.99  31.4               1   \n",
              "4195          2               0              56.33  29.4               0   \n",
              "1411          2               1             206.98  36.8               3   \n",
              "\n",
              "      stroke  \n",
              "237        1  \n",
              "2931       0  \n",
              "1469       0  \n",
              "4549       0  \n",
              "687        0  \n",
              "4214       0  \n",
              "98         1  \n",
              "71         1  \n",
              "176        1  \n",
              "4050       0  \n",
              "61         1  \n",
              "115        1  \n",
              "4129       0  \n",
              "4195       0  \n",
              "1411       0  "
            ],
            "text/html": [
              "\n",
              "  <div id=\"df-908ad3db-ed66-4668-b8f4-b80ecdf64b4a\">\n",
              "    <div class=\"colab-df-container\">\n",
              "      <div>\n",
              "<style scoped>\n",
              "    .dataframe tbody tr th:only-of-type {\n",
              "        vertical-align: middle;\n",
              "    }\n",
              "\n",
              "    .dataframe tbody tr th {\n",
              "        vertical-align: top;\n",
              "    }\n",
              "\n",
              "    .dataframe thead th {\n",
              "        text-align: right;\n",
              "    }\n",
              "</style>\n",
              "<table border=\"1\" class=\"dataframe\">\n",
              "  <thead>\n",
              "    <tr style=\"text-align: right;\">\n",
              "      <th></th>\n",
              "      <th>id</th>\n",
              "      <th>gender</th>\n",
              "      <th>age</th>\n",
              "      <th>hypertension</th>\n",
              "      <th>heart_disease</th>\n",
              "      <th>ever_married</th>\n",
              "      <th>work_type</th>\n",
              "      <th>Residence_type</th>\n",
              "      <th>avg_glucose_level</th>\n",
              "      <th>bmi</th>\n",
              "      <th>smoking_status</th>\n",
              "      <th>stroke</th>\n",
              "    </tr>\n",
              "  </thead>\n",
              "  <tbody>\n",
              "    <tr>\n",
              "      <th>237</th>\n",
              "      <td>36857</td>\n",
              "      <td>1</td>\n",
              "      <td>77.0</td>\n",
              "      <td>0</td>\n",
              "      <td>0</td>\n",
              "      <td>1</td>\n",
              "      <td>3</td>\n",
              "      <td>0</td>\n",
              "      <td>162.14</td>\n",
              "      <td>32.6</td>\n",
              "      <td>1</td>\n",
              "      <td>1</td>\n",
              "    </tr>\n",
              "    <tr>\n",
              "      <th>2931</th>\n",
              "      <td>51497</td>\n",
              "      <td>1</td>\n",
              "      <td>28.0</td>\n",
              "      <td>0</td>\n",
              "      <td>0</td>\n",
              "      <td>1</td>\n",
              "      <td>3</td>\n",
              "      <td>1</td>\n",
              "      <td>156.45</td>\n",
              "      <td>24.3</td>\n",
              "      <td>2</td>\n",
              "      <td>0</td>\n",
              "    </tr>\n",
              "    <tr>\n",
              "      <th>1469</th>\n",
              "      <td>8723</td>\n",
              "      <td>0</td>\n",
              "      <td>16.0</td>\n",
              "      <td>0</td>\n",
              "      <td>0</td>\n",
              "      <td>0</td>\n",
              "      <td>2</td>\n",
              "      <td>0</td>\n",
              "      <td>70.15</td>\n",
              "      <td>21.5</td>\n",
              "      <td>0</td>\n",
              "      <td>0</td>\n",
              "    </tr>\n",
              "    <tr>\n",
              "      <th>4549</th>\n",
              "      <td>14943</td>\n",
              "      <td>0</td>\n",
              "      <td>17.0</td>\n",
              "      <td>0</td>\n",
              "      <td>0</td>\n",
              "      <td>0</td>\n",
              "      <td>2</td>\n",
              "      <td>0</td>\n",
              "      <td>79.62</td>\n",
              "      <td>21.6</td>\n",
              "      <td>2</td>\n",
              "      <td>0</td>\n",
              "    </tr>\n",
              "    <tr>\n",
              "      <th>687</th>\n",
              "      <td>7745</td>\n",
              "      <td>0</td>\n",
              "      <td>35.0</td>\n",
              "      <td>0</td>\n",
              "      <td>0</td>\n",
              "      <td>1</td>\n",
              "      <td>2</td>\n",
              "      <td>1</td>\n",
              "      <td>109.03</td>\n",
              "      <td>19.5</td>\n",
              "      <td>1</td>\n",
              "      <td>0</td>\n",
              "    </tr>\n",
              "    <tr>\n",
              "      <th>4214</th>\n",
              "      <td>23449</td>\n",
              "      <td>1</td>\n",
              "      <td>47.0</td>\n",
              "      <td>0</td>\n",
              "      <td>0</td>\n",
              "      <td>1</td>\n",
              "      <td>3</td>\n",
              "      <td>0</td>\n",
              "      <td>90.44</td>\n",
              "      <td>28.7</td>\n",
              "      <td>2</td>\n",
              "      <td>0</td>\n",
              "    </tr>\n",
              "    <tr>\n",
              "      <th>98</th>\n",
              "      <td>8154</td>\n",
              "      <td>1</td>\n",
              "      <td>57.0</td>\n",
              "      <td>1</td>\n",
              "      <td>0</td>\n",
              "      <td>1</td>\n",
              "      <td>0</td>\n",
              "      <td>1</td>\n",
              "      <td>78.92</td>\n",
              "      <td>27.7</td>\n",
              "      <td>1</td>\n",
              "      <td>1</td>\n",
              "    </tr>\n",
              "    <tr>\n",
              "      <th>71</th>\n",
              "      <td>2326</td>\n",
              "      <td>0</td>\n",
              "      <td>67.0</td>\n",
              "      <td>1</td>\n",
              "      <td>0</td>\n",
              "      <td>1</td>\n",
              "      <td>2</td>\n",
              "      <td>0</td>\n",
              "      <td>179.12</td>\n",
              "      <td>28.1</td>\n",
              "      <td>1</td>\n",
              "      <td>1</td>\n",
              "    </tr>\n",
              "    <tr>\n",
              "      <th>176</th>\n",
              "      <td>62466</td>\n",
              "      <td>0</td>\n",
              "      <td>80.0</td>\n",
              "      <td>0</td>\n",
              "      <td>0</td>\n",
              "      <td>1</td>\n",
              "      <td>2</td>\n",
              "      <td>1</td>\n",
              "      <td>64.44</td>\n",
              "      <td>45.0</td>\n",
              "      <td>2</td>\n",
              "      <td>1</td>\n",
              "    </tr>\n",
              "    <tr>\n",
              "      <th>4050</th>\n",
              "      <td>50072</td>\n",
              "      <td>0</td>\n",
              "      <td>26.0</td>\n",
              "      <td>0</td>\n",
              "      <td>0</td>\n",
              "      <td>0</td>\n",
              "      <td>2</td>\n",
              "      <td>0</td>\n",
              "      <td>58.55</td>\n",
              "      <td>29.0</td>\n",
              "      <td>2</td>\n",
              "      <td>0</td>\n",
              "    </tr>\n",
              "    <tr>\n",
              "      <th>61</th>\n",
              "      <td>55927</td>\n",
              "      <td>0</td>\n",
              "      <td>80.0</td>\n",
              "      <td>1</td>\n",
              "      <td>0</td>\n",
              "      <td>1</td>\n",
              "      <td>2</td>\n",
              "      <td>0</td>\n",
              "      <td>74.90</td>\n",
              "      <td>22.2</td>\n",
              "      <td>2</td>\n",
              "      <td>1</td>\n",
              "    </tr>\n",
              "    <tr>\n",
              "      <th>115</th>\n",
              "      <td>53401</td>\n",
              "      <td>1</td>\n",
              "      <td>71.0</td>\n",
              "      <td>1</td>\n",
              "      <td>1</td>\n",
              "      <td>0</td>\n",
              "      <td>0</td>\n",
              "      <td>0</td>\n",
              "      <td>216.94</td>\n",
              "      <td>30.9</td>\n",
              "      <td>2</td>\n",
              "      <td>1</td>\n",
              "    </tr>\n",
              "    <tr>\n",
              "      <th>4129</th>\n",
              "      <td>11312</td>\n",
              "      <td>0</td>\n",
              "      <td>78.0</td>\n",
              "      <td>0</td>\n",
              "      <td>0</td>\n",
              "      <td>1</td>\n",
              "      <td>3</td>\n",
              "      <td>0</td>\n",
              "      <td>208.99</td>\n",
              "      <td>31.4</td>\n",
              "      <td>1</td>\n",
              "      <td>0</td>\n",
              "    </tr>\n",
              "    <tr>\n",
              "      <th>4195</th>\n",
              "      <td>10018</td>\n",
              "      <td>1</td>\n",
              "      <td>19.0</td>\n",
              "      <td>0</td>\n",
              "      <td>0</td>\n",
              "      <td>0</td>\n",
              "      <td>2</td>\n",
              "      <td>0</td>\n",
              "      <td>56.33</td>\n",
              "      <td>29.4</td>\n",
              "      <td>0</td>\n",
              "      <td>0</td>\n",
              "    </tr>\n",
              "    <tr>\n",
              "      <th>1411</th>\n",
              "      <td>29375</td>\n",
              "      <td>1</td>\n",
              "      <td>62.0</td>\n",
              "      <td>0</td>\n",
              "      <td>0</td>\n",
              "      <td>1</td>\n",
              "      <td>2</td>\n",
              "      <td>1</td>\n",
              "      <td>206.98</td>\n",
              "      <td>36.8</td>\n",
              "      <td>3</td>\n",
              "      <td>0</td>\n",
              "    </tr>\n",
              "  </tbody>\n",
              "</table>\n",
              "</div>\n",
              "      <button class=\"colab-df-convert\" onclick=\"convertToInteractive('df-908ad3db-ed66-4668-b8f4-b80ecdf64b4a')\"\n",
              "              title=\"Convert this dataframe to an interactive table.\"\n",
              "              style=\"display:none;\">\n",
              "        \n",
              "  <svg xmlns=\"http://www.w3.org/2000/svg\" height=\"24px\"viewBox=\"0 0 24 24\"\n",
              "       width=\"24px\">\n",
              "    <path d=\"M0 0h24v24H0V0z\" fill=\"none\"/>\n",
              "    <path d=\"M18.56 5.44l.94 2.06.94-2.06 2.06-.94-2.06-.94-.94-2.06-.94 2.06-2.06.94zm-11 1L8.5 8.5l.94-2.06 2.06-.94-2.06-.94L8.5 2.5l-.94 2.06-2.06.94zm10 10l.94 2.06.94-2.06 2.06-.94-2.06-.94-.94-2.06-.94 2.06-2.06.94z\"/><path d=\"M17.41 7.96l-1.37-1.37c-.4-.4-.92-.59-1.43-.59-.52 0-1.04.2-1.43.59L10.3 9.45l-7.72 7.72c-.78.78-.78 2.05 0 2.83L4 21.41c.39.39.9.59 1.41.59.51 0 1.02-.2 1.41-.59l7.78-7.78 2.81-2.81c.8-.78.8-2.07 0-2.86zM5.41 20L4 18.59l7.72-7.72 1.47 1.35L5.41 20z\"/>\n",
              "  </svg>\n",
              "      </button>\n",
              "      \n",
              "  <style>\n",
              "    .colab-df-container {\n",
              "      display:flex;\n",
              "      flex-wrap:wrap;\n",
              "      gap: 12px;\n",
              "    }\n",
              "\n",
              "    .colab-df-convert {\n",
              "      background-color: #E8F0FE;\n",
              "      border: none;\n",
              "      border-radius: 50%;\n",
              "      cursor: pointer;\n",
              "      display: none;\n",
              "      fill: #1967D2;\n",
              "      height: 32px;\n",
              "      padding: 0 0 0 0;\n",
              "      width: 32px;\n",
              "    }\n",
              "\n",
              "    .colab-df-convert:hover {\n",
              "      background-color: #E2EBFA;\n",
              "      box-shadow: 0px 1px 2px rgba(60, 64, 67, 0.3), 0px 1px 3px 1px rgba(60, 64, 67, 0.15);\n",
              "      fill: #174EA6;\n",
              "    }\n",
              "\n",
              "    [theme=dark] .colab-df-convert {\n",
              "      background-color: #3B4455;\n",
              "      fill: #D2E3FC;\n",
              "    }\n",
              "\n",
              "    [theme=dark] .colab-df-convert:hover {\n",
              "      background-color: #434B5C;\n",
              "      box-shadow: 0px 1px 3px 1px rgba(0, 0, 0, 0.15);\n",
              "      filter: drop-shadow(0px 1px 2px rgba(0, 0, 0, 0.3));\n",
              "      fill: #FFFFFF;\n",
              "    }\n",
              "  </style>\n",
              "\n",
              "      <script>\n",
              "        const buttonEl =\n",
              "          document.querySelector('#df-908ad3db-ed66-4668-b8f4-b80ecdf64b4a button.colab-df-convert');\n",
              "        buttonEl.style.display =\n",
              "          google.colab.kernel.accessAllowed ? 'block' : 'none';\n",
              "\n",
              "        async function convertToInteractive(key) {\n",
              "          const element = document.querySelector('#df-908ad3db-ed66-4668-b8f4-b80ecdf64b4a');\n",
              "          const dataTable =\n",
              "            await google.colab.kernel.invokeFunction('convertToInteractive',\n",
              "                                                     [key], {});\n",
              "          if (!dataTable) return;\n",
              "\n",
              "          const docLinkHtml = 'Like what you see? Visit the ' +\n",
              "            '<a target=\"_blank\" href=https://colab.research.google.com/notebooks/data_table.ipynb>data table notebook</a>'\n",
              "            + ' to learn more about interactive tables.';\n",
              "          element.innerHTML = '';\n",
              "          dataTable['output_type'] = 'display_data';\n",
              "          await google.colab.output.renderOutput(dataTable, element);\n",
              "          const docLink = document.createElement('div');\n",
              "          docLink.innerHTML = docLinkHtml;\n",
              "          element.appendChild(docLink);\n",
              "        }\n",
              "      </script>\n",
              "    </div>\n",
              "  </div>\n",
              "  "
            ]
          },
          "metadata": {},
          "execution_count": 268
        }
      ]
    },
    {
      "cell_type": "code",
      "source": [
        "validater_x = validater.drop('stroke', axis='columns')"
      ],
      "metadata": {
        "id": "9IyNgufnLCv_"
      },
      "execution_count": 269,
      "outputs": []
    },
    {
      "cell_type": "code",
      "source": [
        "print(list(clf_SVC.predict(validater_x)))"
      ],
      "metadata": {
        "colab": {
          "base_uri": "https://localhost:8080/"
        },
        "id": "-XrnaiK3GpAt",
        "outputId": "9d9f2746-6d35-4d3f-eb1a-4352d444327d"
      },
      "execution_count": 270,
      "outputs": [
        {
          "output_type": "stream",
          "name": "stdout",
          "text": [
            "[0, 0, 0, 0, 0, 0, 0, 0, 0, 0, 0, 0, 0, 0, 0]\n"
          ]
        }
      ]
    },
    {
      "cell_type": "code",
      "source": [
        "print(list(validater['stroke']))"
      ],
      "metadata": {
        "colab": {
          "base_uri": "https://localhost:8080/"
        },
        "id": "6ntcE5CSLYgd",
        "outputId": "faa43220-f328-4ead-818e-7120f475d5a1"
      },
      "execution_count": 271,
      "outputs": [
        {
          "output_type": "stream",
          "name": "stdout",
          "text": [
            "[1, 0, 0, 0, 0, 0, 1, 1, 1, 0, 1, 1, 0, 0, 0]\n"
          ]
        }
      ]
    },
    {
      "cell_type": "markdown",
      "source": [
        "#Decision Tree Classifier"
      ],
      "metadata": {
        "id": "QU3Xa8szA5JA"
      }
    },
    {
      "cell_type": "code",
      "source": [
        "from sklearn import tree\n",
        "\n",
        "clf_Decision_Tree = tree.DecisionTreeClassifier()\n",
        "clf_Decision_Tree = clf_Decision_Tree.fit(train_x, train_y)"
      ],
      "metadata": {
        "id": "k0Fc9vvkA7R2"
      },
      "execution_count": 272,
      "outputs": []
    },
    {
      "cell_type": "code",
      "source": [
        "print(list(clf_Decision_Tree.predict(validater_x)))"
      ],
      "metadata": {
        "colab": {
          "base_uri": "https://localhost:8080/"
        },
        "id": "U7NgpmNZBDt8",
        "outputId": "4733d58d-3cd6-48fe-b0df-474cac05f407"
      },
      "execution_count": 273,
      "outputs": [
        {
          "output_type": "stream",
          "name": "stdout",
          "text": [
            "[1, 0, 0, 0, 0, 1, 0, 1, 0, 0, 1, 1, 1, 0, 1]\n"
          ]
        }
      ]
    },
    {
      "cell_type": "code",
      "source": [
        "print(list(validater['stroke']))"
      ],
      "metadata": {
        "colab": {
          "base_uri": "https://localhost:8080/"
        },
        "id": "5tDIYv06BeKt",
        "outputId": "6f8fb06d-e7a8-4e1a-d776-c00b2cb8e831"
      },
      "execution_count": 274,
      "outputs": [
        {
          "output_type": "stream",
          "name": "stdout",
          "text": [
            "[1, 0, 0, 0, 0, 0, 1, 1, 1, 0, 1, 1, 0, 0, 0]\n"
          ]
        }
      ]
    },
    {
      "cell_type": "markdown",
      "source": [
        "#Naive Gaussian"
      ],
      "metadata": {
        "id": "fHVxl-WKBxz4"
      }
    },
    {
      "cell_type": "code",
      "source": [
        "from sklearn.naive_bayes import GaussianNB\n",
        "clf_Gaussian = GaussianNB()\n",
        "clf_Gaussian.fit(train_x, list(train_y['stroke']))"
      ],
      "metadata": {
        "colab": {
          "base_uri": "https://localhost:8080/"
        },
        "id": "M23c8mmEB0-e",
        "outputId": "bd05d1c2-c91c-4771-a3de-922b67383519"
      },
      "execution_count": 275,
      "outputs": [
        {
          "output_type": "execute_result",
          "data": {
            "text/plain": [
              "GaussianNB()"
            ]
          },
          "metadata": {},
          "execution_count": 275
        }
      ]
    },
    {
      "cell_type": "code",
      "source": [
        "print(list(clf_Gaussian.predict(validater_x)))"
      ],
      "metadata": {
        "colab": {
          "base_uri": "https://localhost:8080/"
        },
        "id": "jD2IhRacB9St",
        "outputId": "410b2894-a9fb-43b6-e2bf-fd1c9f786a8e"
      },
      "execution_count": 276,
      "outputs": [
        {
          "output_type": "stream",
          "name": "stdout",
          "text": [
            "[1, 0, 0, 0, 0, 0, 0, 1, 0, 0, 1, 1, 1, 0, 1]\n"
          ]
        }
      ]
    },
    {
      "cell_type": "code",
      "source": [
        "print(list(validater['stroke']))"
      ],
      "metadata": {
        "colab": {
          "base_uri": "https://localhost:8080/"
        },
        "id": "1R9J2fDUB-ym",
        "outputId": "66cd411e-e8f8-4589-a977-0c8f650feb73"
      },
      "execution_count": 277,
      "outputs": [
        {
          "output_type": "stream",
          "name": "stdout",
          "text": [
            "[1, 0, 0, 0, 0, 0, 1, 1, 1, 0, 1, 1, 0, 0, 0]\n"
          ]
        }
      ]
    },
    {
      "cell_type": "markdown",
      "source": [
        "#Naive MultinomialNB"
      ],
      "metadata": {
        "id": "ZBgYTPKDCEiX"
      }
    },
    {
      "cell_type": "code",
      "source": [
        "from sklearn.naive_bayes import MultinomialNB\n",
        "clf_Multinomial = MultinomialNB()\n",
        "clf_Multinomial.fit(train_x, list(train_y['stroke']))"
      ],
      "metadata": {
        "colab": {
          "base_uri": "https://localhost:8080/"
        },
        "id": "gkO8u0Y_CGpu",
        "outputId": "4c7ced87-ad0d-48d1-ea5c-1273d7e0bfc4"
      },
      "execution_count": 278,
      "outputs": [
        {
          "output_type": "execute_result",
          "data": {
            "text/plain": [
              "MultinomialNB()"
            ]
          },
          "metadata": {},
          "execution_count": 278
        }
      ]
    },
    {
      "cell_type": "code",
      "source": [
        "print(list(clf_Multinomial.predict(validater_x)))"
      ],
      "metadata": {
        "colab": {
          "base_uri": "https://localhost:8080/"
        },
        "outputId": "523c5aea-2ab9-4d01-f448-3c4e61fa979e",
        "id": "mDDltcvgCQ50"
      },
      "execution_count": 279,
      "outputs": [
        {
          "output_type": "stream",
          "name": "stdout",
          "text": [
            "[1, 0, 1, 1, 1, 1, 1, 1, 0, 0, 0, 1, 1, 1, 1]\n"
          ]
        }
      ]
    },
    {
      "cell_type": "code",
      "source": [
        "print(list(validater['stroke']))"
      ],
      "metadata": {
        "colab": {
          "base_uri": "https://localhost:8080/"
        },
        "outputId": "e0ac513b-d83b-4fe7-e405-8f8e23c05f0a",
        "id": "6f4EFB4qCQ53"
      },
      "execution_count": 280,
      "outputs": [
        {
          "output_type": "stream",
          "name": "stdout",
          "text": [
            "[1, 0, 0, 0, 0, 0, 1, 1, 1, 0, 1, 1, 0, 0, 0]\n"
          ]
        }
      ]
    },
    {
      "cell_type": "markdown",
      "source": [
        "#Logistic Regression"
      ],
      "metadata": {
        "id": "sxBCpUI0Cb91"
      }
    },
    {
      "cell_type": "code",
      "source": [
        "from sklearn.linear_model import LogisticRegression\n",
        "clf_Logistic = LogisticRegression(max_iter=1000)\n",
        "clf_Logistic.fit(train_x, list(train_y['stroke']))"
      ],
      "metadata": {
        "colab": {
          "base_uri": "https://localhost:8080/"
        },
        "id": "gjFLCrqqCdx4",
        "outputId": "19238e66-1bd3-4e47-eec8-2a8b8e7440fb"
      },
      "execution_count": 281,
      "outputs": [
        {
          "output_type": "execute_result",
          "data": {
            "text/plain": [
              "LogisticRegression(max_iter=1000)"
            ]
          },
          "metadata": {},
          "execution_count": 281
        }
      ]
    },
    {
      "cell_type": "code",
      "source": [
        "print(list(clf_Logistic.predict(validater_x)))"
      ],
      "metadata": {
        "colab": {
          "base_uri": "https://localhost:8080/"
        },
        "outputId": "e5003a2f-fe2f-420e-ca7e-f16c638b0bfd",
        "id": "myflMFebCqk2"
      },
      "execution_count": 282,
      "outputs": [
        {
          "output_type": "stream",
          "name": "stdout",
          "text": [
            "[1, 0, 0, 0, 0, 0, 0, 1, 0, 0, 1, 1, 1, 0, 0]\n"
          ]
        }
      ]
    },
    {
      "cell_type": "code",
      "source": [
        "print(list(validater['stroke']))"
      ],
      "metadata": {
        "colab": {
          "base_uri": "https://localhost:8080/"
        },
        "outputId": "a74549a7-a288-47b0-83ff-2d85908c9906",
        "id": "3EW2EsHyCqk3"
      },
      "execution_count": 283,
      "outputs": [
        {
          "output_type": "stream",
          "name": "stdout",
          "text": [
            "[1, 0, 0, 0, 0, 0, 1, 1, 1, 0, 1, 1, 0, 0, 0]\n"
          ]
        }
      ]
    },
    {
      "cell_type": "markdown",
      "source": [
        "#Random Forest"
      ],
      "metadata": {
        "id": "vyjQsYMbC7hu"
      }
    },
    {
      "cell_type": "code",
      "source": [
        "from sklearn.ensemble import RandomForestClassifier\n",
        "clf_Random = RandomForestClassifier()\n",
        "clf_Random.fit(train_x, list(train_y['stroke']))"
      ],
      "metadata": {
        "colab": {
          "base_uri": "https://localhost:8080/"
        },
        "id": "FyzRLAJHDB8t",
        "outputId": "89e05e47-26e2-437c-948c-e53bfc6d704a"
      },
      "execution_count": 284,
      "outputs": [
        {
          "output_type": "execute_result",
          "data": {
            "text/plain": [
              "RandomForestClassifier()"
            ]
          },
          "metadata": {},
          "execution_count": 284
        }
      ]
    },
    {
      "cell_type": "code",
      "source": [
        "print(list(clf_Random.predict(validater_x)))"
      ],
      "metadata": {
        "colab": {
          "base_uri": "https://localhost:8080/"
        },
        "outputId": "e999c0ed-212b-4139-d084-94fa22758111",
        "id": "Q_qI33fEDRN0"
      },
      "execution_count": 285,
      "outputs": [
        {
          "output_type": "stream",
          "name": "stdout",
          "text": [
            "[1, 0, 0, 0, 0, 0, 0, 1, 0, 0, 1, 1, 1, 0, 1]\n"
          ]
        }
      ]
    },
    {
      "cell_type": "code",
      "source": [
        "print(list(validater['stroke']))"
      ],
      "metadata": {
        "colab": {
          "base_uri": "https://localhost:8080/"
        },
        "outputId": "0310c3be-e236-47f0-c57b-a09f710bcead",
        "id": "EebGCdPWDRN0"
      },
      "execution_count": 286,
      "outputs": [
        {
          "output_type": "stream",
          "name": "stdout",
          "text": [
            "[1, 0, 0, 0, 0, 0, 1, 1, 1, 0, 1, 1, 0, 0, 0]\n"
          ]
        }
      ]
    },
    {
      "cell_type": "markdown",
      "source": [
        "#KNN "
      ],
      "metadata": {
        "id": "GNzuiywuDYdl"
      }
    },
    {
      "cell_type": "code",
      "source": [
        "from sklearn.neighbors import KNeighborsClassifier\n",
        "clf_KNN = KNeighborsClassifier()\n",
        "clf_KNN.fit(train_x, list(train_y['stroke']))"
      ],
      "metadata": {
        "colab": {
          "base_uri": "https://localhost:8080/"
        },
        "id": "R2bUh9AgDZ5U",
        "outputId": "f9cb242e-6915-4903-e0f6-10532bd9a485"
      },
      "execution_count": 287,
      "outputs": [
        {
          "output_type": "execute_result",
          "data": {
            "text/plain": [
              "KNeighborsClassifier()"
            ]
          },
          "metadata": {},
          "execution_count": 287
        }
      ]
    },
    {
      "cell_type": "code",
      "source": [
        "print(list(clf_KNN.predict(validater_x)))"
      ],
      "metadata": {
        "colab": {
          "base_uri": "https://localhost:8080/"
        },
        "outputId": "923883c4-1787-4fa6-c8a5-ace8422e6a73",
        "id": "fmwjtWPKDhfF"
      },
      "execution_count": 288,
      "outputs": [
        {
          "output_type": "stream",
          "name": "stdout",
          "text": [
            "[0, 0, 0, 0, 0, 0, 0, 1, 1, 0, 0, 0, 0, 1, 0]\n"
          ]
        }
      ]
    },
    {
      "cell_type": "code",
      "source": [
        "print(list(validater['stroke']))"
      ],
      "metadata": {
        "colab": {
          "base_uri": "https://localhost:8080/"
        },
        "outputId": "3cc59140-41bd-42c8-f353-1314ea6a1edc",
        "id": "cJFG-M2lDhfH"
      },
      "execution_count": 289,
      "outputs": [
        {
          "output_type": "stream",
          "name": "stdout",
          "text": [
            "[1, 0, 0, 0, 0, 0, 1, 1, 1, 0, 1, 1, 0, 0, 0]\n"
          ]
        }
      ]
    },
    {
      "cell_type": "markdown",
      "source": [
        "#MLP"
      ],
      "metadata": {
        "id": "R4Vmqqk0D1eb"
      }
    },
    {
      "cell_type": "code",
      "source": [
        "test_x = test.drop(['stroke'],axis = 1)"
      ],
      "metadata": {
        "id": "Xgzh5GIcEBdA"
      },
      "execution_count": 290,
      "outputs": []
    },
    {
      "cell_type": "code",
      "source": [
        "test_x['gender'] = test_x['gender'].astype('category')\n",
        "\n",
        "test_x['ever_married'] = test_x['ever_married'].astype('category')\n",
        "\n",
        "test_x['work_type'] = test_x['work_type'].astype('category')\n",
        "\n",
        "test_x['Residence_type'] = test_x['Residence_type'].astype('category')\n",
        "\n",
        "test_x['smoking_status'] = test_x['smoking_status'].astype('category')"
      ],
      "metadata": {
        "id": "OTZBYpsDHQdk"
      },
      "execution_count": 291,
      "outputs": []
    },
    {
      "cell_type": "code",
      "source": [
        "# Using .loc[] to select all columns except Duration column\n",
        "test_y = test.loc[:, test.columns == \"stroke\"]"
      ],
      "metadata": {
        "id": "84_qO2LcEBdB"
      },
      "execution_count": 292,
      "outputs": []
    },
    {
      "cell_type": "code",
      "source": [
        "train_x['gender'] = train_x['gender'].astype('category')\n",
        "\n",
        "train_x['ever_married'] = train_x['ever_married'].astype('category')\n",
        "\n",
        "train_x['work_type'] = train_x['work_type'].astype('category')\n",
        "\n",
        "train_x['Residence_type'] = train_x['Residence_type'].astype('category')\n",
        "\n",
        "train_x['smoking_status'] = train_x['smoking_status'].astype('category')"
      ],
      "metadata": {
        "id": "LXJHAkFHH7d0"
      },
      "execution_count": null,
      "outputs": []
    },
    {
      "cell_type": "code",
      "source": [
        "#train_x"
      ],
      "metadata": {
        "id": "_geVf0dcEX-g"
      },
      "execution_count": 294,
      "outputs": []
    },
    {
      "cell_type": "code",
      "source": [
        "test"
      ],
      "metadata": {
        "colab": {
          "base_uri": "https://localhost:8080/",
          "height": 424
        },
        "id": "n9a4HlD71P-1",
        "outputId": "1666240d-a091-4d07-cbda-5787e6af4325"
      },
      "execution_count": 300,
      "outputs": [
        {
          "output_type": "execute_result",
          "data": {
            "text/plain": [
              "         id  gender    age  hypertension  heart_disease  ever_married  \\\n",
              "3894  69435       0   0.56             0              0             0   \n",
              "134   20387       0  68.00             1              0             1   \n",
              "4414  13768       0  38.00             0              0             1   \n",
              "3239  53141       0  25.00             0              0             0   \n",
              "798   46683       0  25.00             0              0             0   \n",
              "...     ...     ...    ...           ...            ...           ...   \n",
              "319    1686       0  29.00             0              0             0   \n",
              "3610  57219       0   1.64             0              0             0   \n",
              "165   42899       1  78.00             0              0             1   \n",
              "793   69427       0  29.00             0              0             0   \n",
              "136   55824       1  76.00             0              0             1   \n",
              "\n",
              "      work_type  Residence_type  avg_glucose_level   bmi  smoking_status  \\\n",
              "3894          4               1              80.92  18.3               0   \n",
              "134           3               0             206.09  26.7               2   \n",
              "4414          2               1              77.20  23.4               0   \n",
              "3239          2               0              67.73  22.6               2   \n",
              "798           2               1             122.01  27.0               3   \n",
              "...         ...             ...                ...   ...             ...   \n",
              "319           2               1              71.89  27.6               2   \n",
              "3610          4               0              82.49  15.1               0   \n",
              "165           3               1             133.19  23.6               1   \n",
              "793           2               1             101.28  22.7               2   \n",
              "136           2               1             140.10  29.9               1   \n",
              "\n",
              "      stroke  \n",
              "3894       0  \n",
              "134        1  \n",
              "4414       0  \n",
              "3239       0  \n",
              "798        0  \n",
              "...      ...  \n",
              "319        0  \n",
              "3610       0  \n",
              "165        1  \n",
              "793        0  \n",
              "136        1  \n",
              "\n",
              "[126 rows x 12 columns]"
            ],
            "text/html": [
              "\n",
              "  <div id=\"df-a0fe2b41-3502-4862-aa4b-1d8252120cb4\">\n",
              "    <div class=\"colab-df-container\">\n",
              "      <div>\n",
              "<style scoped>\n",
              "    .dataframe tbody tr th:only-of-type {\n",
              "        vertical-align: middle;\n",
              "    }\n",
              "\n",
              "    .dataframe tbody tr th {\n",
              "        vertical-align: top;\n",
              "    }\n",
              "\n",
              "    .dataframe thead th {\n",
              "        text-align: right;\n",
              "    }\n",
              "</style>\n",
              "<table border=\"1\" class=\"dataframe\">\n",
              "  <thead>\n",
              "    <tr style=\"text-align: right;\">\n",
              "      <th></th>\n",
              "      <th>id</th>\n",
              "      <th>gender</th>\n",
              "      <th>age</th>\n",
              "      <th>hypertension</th>\n",
              "      <th>heart_disease</th>\n",
              "      <th>ever_married</th>\n",
              "      <th>work_type</th>\n",
              "      <th>Residence_type</th>\n",
              "      <th>avg_glucose_level</th>\n",
              "      <th>bmi</th>\n",
              "      <th>smoking_status</th>\n",
              "      <th>stroke</th>\n",
              "    </tr>\n",
              "  </thead>\n",
              "  <tbody>\n",
              "    <tr>\n",
              "      <th>3894</th>\n",
              "      <td>69435</td>\n",
              "      <td>0</td>\n",
              "      <td>0.56</td>\n",
              "      <td>0</td>\n",
              "      <td>0</td>\n",
              "      <td>0</td>\n",
              "      <td>4</td>\n",
              "      <td>1</td>\n",
              "      <td>80.92</td>\n",
              "      <td>18.3</td>\n",
              "      <td>0</td>\n",
              "      <td>0</td>\n",
              "    </tr>\n",
              "    <tr>\n",
              "      <th>134</th>\n",
              "      <td>20387</td>\n",
              "      <td>0</td>\n",
              "      <td>68.00</td>\n",
              "      <td>1</td>\n",
              "      <td>0</td>\n",
              "      <td>1</td>\n",
              "      <td>3</td>\n",
              "      <td>0</td>\n",
              "      <td>206.09</td>\n",
              "      <td>26.7</td>\n",
              "      <td>2</td>\n",
              "      <td>1</td>\n",
              "    </tr>\n",
              "    <tr>\n",
              "      <th>4414</th>\n",
              "      <td>13768</td>\n",
              "      <td>0</td>\n",
              "      <td>38.00</td>\n",
              "      <td>0</td>\n",
              "      <td>0</td>\n",
              "      <td>1</td>\n",
              "      <td>2</td>\n",
              "      <td>1</td>\n",
              "      <td>77.20</td>\n",
              "      <td>23.4</td>\n",
              "      <td>0</td>\n",
              "      <td>0</td>\n",
              "    </tr>\n",
              "    <tr>\n",
              "      <th>3239</th>\n",
              "      <td>53141</td>\n",
              "      <td>0</td>\n",
              "      <td>25.00</td>\n",
              "      <td>0</td>\n",
              "      <td>0</td>\n",
              "      <td>0</td>\n",
              "      <td>2</td>\n",
              "      <td>0</td>\n",
              "      <td>67.73</td>\n",
              "      <td>22.6</td>\n",
              "      <td>2</td>\n",
              "      <td>0</td>\n",
              "    </tr>\n",
              "    <tr>\n",
              "      <th>798</th>\n",
              "      <td>46683</td>\n",
              "      <td>0</td>\n",
              "      <td>25.00</td>\n",
              "      <td>0</td>\n",
              "      <td>0</td>\n",
              "      <td>0</td>\n",
              "      <td>2</td>\n",
              "      <td>1</td>\n",
              "      <td>122.01</td>\n",
              "      <td>27.0</td>\n",
              "      <td>3</td>\n",
              "      <td>0</td>\n",
              "    </tr>\n",
              "    <tr>\n",
              "      <th>...</th>\n",
              "      <td>...</td>\n",
              "      <td>...</td>\n",
              "      <td>...</td>\n",
              "      <td>...</td>\n",
              "      <td>...</td>\n",
              "      <td>...</td>\n",
              "      <td>...</td>\n",
              "      <td>...</td>\n",
              "      <td>...</td>\n",
              "      <td>...</td>\n",
              "      <td>...</td>\n",
              "      <td>...</td>\n",
              "    </tr>\n",
              "    <tr>\n",
              "      <th>319</th>\n",
              "      <td>1686</td>\n",
              "      <td>0</td>\n",
              "      <td>29.00</td>\n",
              "      <td>0</td>\n",
              "      <td>0</td>\n",
              "      <td>0</td>\n",
              "      <td>2</td>\n",
              "      <td>1</td>\n",
              "      <td>71.89</td>\n",
              "      <td>27.6</td>\n",
              "      <td>2</td>\n",
              "      <td>0</td>\n",
              "    </tr>\n",
              "    <tr>\n",
              "      <th>3610</th>\n",
              "      <td>57219</td>\n",
              "      <td>0</td>\n",
              "      <td>1.64</td>\n",
              "      <td>0</td>\n",
              "      <td>0</td>\n",
              "      <td>0</td>\n",
              "      <td>4</td>\n",
              "      <td>0</td>\n",
              "      <td>82.49</td>\n",
              "      <td>15.1</td>\n",
              "      <td>0</td>\n",
              "      <td>0</td>\n",
              "    </tr>\n",
              "    <tr>\n",
              "      <th>165</th>\n",
              "      <td>42899</td>\n",
              "      <td>1</td>\n",
              "      <td>78.00</td>\n",
              "      <td>0</td>\n",
              "      <td>0</td>\n",
              "      <td>1</td>\n",
              "      <td>3</td>\n",
              "      <td>1</td>\n",
              "      <td>133.19</td>\n",
              "      <td>23.6</td>\n",
              "      <td>1</td>\n",
              "      <td>1</td>\n",
              "    </tr>\n",
              "    <tr>\n",
              "      <th>793</th>\n",
              "      <td>69427</td>\n",
              "      <td>0</td>\n",
              "      <td>29.00</td>\n",
              "      <td>0</td>\n",
              "      <td>0</td>\n",
              "      <td>0</td>\n",
              "      <td>2</td>\n",
              "      <td>1</td>\n",
              "      <td>101.28</td>\n",
              "      <td>22.7</td>\n",
              "      <td>2</td>\n",
              "      <td>0</td>\n",
              "    </tr>\n",
              "    <tr>\n",
              "      <th>136</th>\n",
              "      <td>55824</td>\n",
              "      <td>1</td>\n",
              "      <td>76.00</td>\n",
              "      <td>0</td>\n",
              "      <td>0</td>\n",
              "      <td>1</td>\n",
              "      <td>2</td>\n",
              "      <td>1</td>\n",
              "      <td>140.10</td>\n",
              "      <td>29.9</td>\n",
              "      <td>1</td>\n",
              "      <td>1</td>\n",
              "    </tr>\n",
              "  </tbody>\n",
              "</table>\n",
              "<p>126 rows × 12 columns</p>\n",
              "</div>\n",
              "      <button class=\"colab-df-convert\" onclick=\"convertToInteractive('df-a0fe2b41-3502-4862-aa4b-1d8252120cb4')\"\n",
              "              title=\"Convert this dataframe to an interactive table.\"\n",
              "              style=\"display:none;\">\n",
              "        \n",
              "  <svg xmlns=\"http://www.w3.org/2000/svg\" height=\"24px\"viewBox=\"0 0 24 24\"\n",
              "       width=\"24px\">\n",
              "    <path d=\"M0 0h24v24H0V0z\" fill=\"none\"/>\n",
              "    <path d=\"M18.56 5.44l.94 2.06.94-2.06 2.06-.94-2.06-.94-.94-2.06-.94 2.06-2.06.94zm-11 1L8.5 8.5l.94-2.06 2.06-.94-2.06-.94L8.5 2.5l-.94 2.06-2.06.94zm10 10l.94 2.06.94-2.06 2.06-.94-2.06-.94-.94-2.06-.94 2.06-2.06.94z\"/><path d=\"M17.41 7.96l-1.37-1.37c-.4-.4-.92-.59-1.43-.59-.52 0-1.04.2-1.43.59L10.3 9.45l-7.72 7.72c-.78.78-.78 2.05 0 2.83L4 21.41c.39.39.9.59 1.41.59.51 0 1.02-.2 1.41-.59l7.78-7.78 2.81-2.81c.8-.78.8-2.07 0-2.86zM5.41 20L4 18.59l7.72-7.72 1.47 1.35L5.41 20z\"/>\n",
              "  </svg>\n",
              "      </button>\n",
              "      \n",
              "  <style>\n",
              "    .colab-df-container {\n",
              "      display:flex;\n",
              "      flex-wrap:wrap;\n",
              "      gap: 12px;\n",
              "    }\n",
              "\n",
              "    .colab-df-convert {\n",
              "      background-color: #E8F0FE;\n",
              "      border: none;\n",
              "      border-radius: 50%;\n",
              "      cursor: pointer;\n",
              "      display: none;\n",
              "      fill: #1967D2;\n",
              "      height: 32px;\n",
              "      padding: 0 0 0 0;\n",
              "      width: 32px;\n",
              "    }\n",
              "\n",
              "    .colab-df-convert:hover {\n",
              "      background-color: #E2EBFA;\n",
              "      box-shadow: 0px 1px 2px rgba(60, 64, 67, 0.3), 0px 1px 3px 1px rgba(60, 64, 67, 0.15);\n",
              "      fill: #174EA6;\n",
              "    }\n",
              "\n",
              "    [theme=dark] .colab-df-convert {\n",
              "      background-color: #3B4455;\n",
              "      fill: #D2E3FC;\n",
              "    }\n",
              "\n",
              "    [theme=dark] .colab-df-convert:hover {\n",
              "      background-color: #434B5C;\n",
              "      box-shadow: 0px 1px 3px 1px rgba(0, 0, 0, 0.15);\n",
              "      filter: drop-shadow(0px 1px 2px rgba(0, 0, 0, 0.3));\n",
              "      fill: #FFFFFF;\n",
              "    }\n",
              "  </style>\n",
              "\n",
              "      <script>\n",
              "        const buttonEl =\n",
              "          document.querySelector('#df-a0fe2b41-3502-4862-aa4b-1d8252120cb4 button.colab-df-convert');\n",
              "        buttonEl.style.display =\n",
              "          google.colab.kernel.accessAllowed ? 'block' : 'none';\n",
              "\n",
              "        async function convertToInteractive(key) {\n",
              "          const element = document.querySelector('#df-a0fe2b41-3502-4862-aa4b-1d8252120cb4');\n",
              "          const dataTable =\n",
              "            await google.colab.kernel.invokeFunction('convertToInteractive',\n",
              "                                                     [key], {});\n",
              "          if (!dataTable) return;\n",
              "\n",
              "          const docLinkHtml = 'Like what you see? Visit the ' +\n",
              "            '<a target=\"_blank\" href=https://colab.research.google.com/notebooks/data_table.ipynb>data table notebook</a>'\n",
              "            + ' to learn more about interactive tables.';\n",
              "          element.innerHTML = '';\n",
              "          dataTable['output_type'] = 'display_data';\n",
              "          await google.colab.output.renderOutput(dataTable, element);\n",
              "          const docLink = document.createElement('div');\n",
              "          docLink.innerHTML = docLinkHtml;\n",
              "          element.appendChild(docLink);\n",
              "        }\n",
              "      </script>\n",
              "    </div>\n",
              "  </div>\n",
              "  "
            ]
          },
          "metadata": {},
          "execution_count": 300
        }
      ]
    },
    {
      "cell_type": "code",
      "source": [
        "test_x = superEncoder(test_x)"
      ],
      "metadata": {
        "id": "7UhcO_bhHqWA"
      },
      "execution_count": null,
      "outputs": []
    },
    {
      "cell_type": "code",
      "source": [
        "test_x"
      ],
      "metadata": {
        "colab": {
          "base_uri": "https://localhost:8080/",
          "height": 424
        },
        "id": "8hXz2v_uawCc",
        "outputId": "d153de98-60a2-4ac0-8ca5-0a4c5e90285f"
      },
      "execution_count": 301,
      "outputs": [
        {
          "output_type": "execute_result",
          "data": {
            "text/plain": [
              "         id gender    age  hypertension  heart_disease ever_married work_type  \\\n",
              "3894  69435      0   0.56             0              0            0         4   \n",
              "134   20387      0  68.00             1              0            1         3   \n",
              "4414  13768      0  38.00             0              0            1         2   \n",
              "3239  53141      0  25.00             0              0            0         2   \n",
              "798   46683      0  25.00             0              0            0         2   \n",
              "...     ...    ...    ...           ...            ...          ...       ...   \n",
              "319    1686      0  29.00             0              0            0         2   \n",
              "3610  57219      0   1.64             0              0            0         4   \n",
              "165   42899      1  78.00             0              0            1         3   \n",
              "793   69427      0  29.00             0              0            0         2   \n",
              "136   55824      1  76.00             0              0            1         2   \n",
              "\n",
              "     Residence_type  avg_glucose_level   bmi smoking_status  \n",
              "3894              1              80.92  18.3              0  \n",
              "134               0             206.09  26.7              2  \n",
              "4414              1              77.20  23.4              0  \n",
              "3239              0              67.73  22.6              2  \n",
              "798               1             122.01  27.0              3  \n",
              "...             ...                ...   ...            ...  \n",
              "319               1              71.89  27.6              2  \n",
              "3610              0              82.49  15.1              0  \n",
              "165               1             133.19  23.6              1  \n",
              "793               1             101.28  22.7              2  \n",
              "136               1             140.10  29.9              1  \n",
              "\n",
              "[126 rows x 11 columns]"
            ],
            "text/html": [
              "\n",
              "  <div id=\"df-b3d69e48-4514-46f5-8b3a-859351879159\">\n",
              "    <div class=\"colab-df-container\">\n",
              "      <div>\n",
              "<style scoped>\n",
              "    .dataframe tbody tr th:only-of-type {\n",
              "        vertical-align: middle;\n",
              "    }\n",
              "\n",
              "    .dataframe tbody tr th {\n",
              "        vertical-align: top;\n",
              "    }\n",
              "\n",
              "    .dataframe thead th {\n",
              "        text-align: right;\n",
              "    }\n",
              "</style>\n",
              "<table border=\"1\" class=\"dataframe\">\n",
              "  <thead>\n",
              "    <tr style=\"text-align: right;\">\n",
              "      <th></th>\n",
              "      <th>id</th>\n",
              "      <th>gender</th>\n",
              "      <th>age</th>\n",
              "      <th>hypertension</th>\n",
              "      <th>heart_disease</th>\n",
              "      <th>ever_married</th>\n",
              "      <th>work_type</th>\n",
              "      <th>Residence_type</th>\n",
              "      <th>avg_glucose_level</th>\n",
              "      <th>bmi</th>\n",
              "      <th>smoking_status</th>\n",
              "    </tr>\n",
              "  </thead>\n",
              "  <tbody>\n",
              "    <tr>\n",
              "      <th>3894</th>\n",
              "      <td>69435</td>\n",
              "      <td>0</td>\n",
              "      <td>0.56</td>\n",
              "      <td>0</td>\n",
              "      <td>0</td>\n",
              "      <td>0</td>\n",
              "      <td>4</td>\n",
              "      <td>1</td>\n",
              "      <td>80.92</td>\n",
              "      <td>18.3</td>\n",
              "      <td>0</td>\n",
              "    </tr>\n",
              "    <tr>\n",
              "      <th>134</th>\n",
              "      <td>20387</td>\n",
              "      <td>0</td>\n",
              "      <td>68.00</td>\n",
              "      <td>1</td>\n",
              "      <td>0</td>\n",
              "      <td>1</td>\n",
              "      <td>3</td>\n",
              "      <td>0</td>\n",
              "      <td>206.09</td>\n",
              "      <td>26.7</td>\n",
              "      <td>2</td>\n",
              "    </tr>\n",
              "    <tr>\n",
              "      <th>4414</th>\n",
              "      <td>13768</td>\n",
              "      <td>0</td>\n",
              "      <td>38.00</td>\n",
              "      <td>0</td>\n",
              "      <td>0</td>\n",
              "      <td>1</td>\n",
              "      <td>2</td>\n",
              "      <td>1</td>\n",
              "      <td>77.20</td>\n",
              "      <td>23.4</td>\n",
              "      <td>0</td>\n",
              "    </tr>\n",
              "    <tr>\n",
              "      <th>3239</th>\n",
              "      <td>53141</td>\n",
              "      <td>0</td>\n",
              "      <td>25.00</td>\n",
              "      <td>0</td>\n",
              "      <td>0</td>\n",
              "      <td>0</td>\n",
              "      <td>2</td>\n",
              "      <td>0</td>\n",
              "      <td>67.73</td>\n",
              "      <td>22.6</td>\n",
              "      <td>2</td>\n",
              "    </tr>\n",
              "    <tr>\n",
              "      <th>798</th>\n",
              "      <td>46683</td>\n",
              "      <td>0</td>\n",
              "      <td>25.00</td>\n",
              "      <td>0</td>\n",
              "      <td>0</td>\n",
              "      <td>0</td>\n",
              "      <td>2</td>\n",
              "      <td>1</td>\n",
              "      <td>122.01</td>\n",
              "      <td>27.0</td>\n",
              "      <td>3</td>\n",
              "    </tr>\n",
              "    <tr>\n",
              "      <th>...</th>\n",
              "      <td>...</td>\n",
              "      <td>...</td>\n",
              "      <td>...</td>\n",
              "      <td>...</td>\n",
              "      <td>...</td>\n",
              "      <td>...</td>\n",
              "      <td>...</td>\n",
              "      <td>...</td>\n",
              "      <td>...</td>\n",
              "      <td>...</td>\n",
              "      <td>...</td>\n",
              "    </tr>\n",
              "    <tr>\n",
              "      <th>319</th>\n",
              "      <td>1686</td>\n",
              "      <td>0</td>\n",
              "      <td>29.00</td>\n",
              "      <td>0</td>\n",
              "      <td>0</td>\n",
              "      <td>0</td>\n",
              "      <td>2</td>\n",
              "      <td>1</td>\n",
              "      <td>71.89</td>\n",
              "      <td>27.6</td>\n",
              "      <td>2</td>\n",
              "    </tr>\n",
              "    <tr>\n",
              "      <th>3610</th>\n",
              "      <td>57219</td>\n",
              "      <td>0</td>\n",
              "      <td>1.64</td>\n",
              "      <td>0</td>\n",
              "      <td>0</td>\n",
              "      <td>0</td>\n",
              "      <td>4</td>\n",
              "      <td>0</td>\n",
              "      <td>82.49</td>\n",
              "      <td>15.1</td>\n",
              "      <td>0</td>\n",
              "    </tr>\n",
              "    <tr>\n",
              "      <th>165</th>\n",
              "      <td>42899</td>\n",
              "      <td>1</td>\n",
              "      <td>78.00</td>\n",
              "      <td>0</td>\n",
              "      <td>0</td>\n",
              "      <td>1</td>\n",
              "      <td>3</td>\n",
              "      <td>1</td>\n",
              "      <td>133.19</td>\n",
              "      <td>23.6</td>\n",
              "      <td>1</td>\n",
              "    </tr>\n",
              "    <tr>\n",
              "      <th>793</th>\n",
              "      <td>69427</td>\n",
              "      <td>0</td>\n",
              "      <td>29.00</td>\n",
              "      <td>0</td>\n",
              "      <td>0</td>\n",
              "      <td>0</td>\n",
              "      <td>2</td>\n",
              "      <td>1</td>\n",
              "      <td>101.28</td>\n",
              "      <td>22.7</td>\n",
              "      <td>2</td>\n",
              "    </tr>\n",
              "    <tr>\n",
              "      <th>136</th>\n",
              "      <td>55824</td>\n",
              "      <td>1</td>\n",
              "      <td>76.00</td>\n",
              "      <td>0</td>\n",
              "      <td>0</td>\n",
              "      <td>1</td>\n",
              "      <td>2</td>\n",
              "      <td>1</td>\n",
              "      <td>140.10</td>\n",
              "      <td>29.9</td>\n",
              "      <td>1</td>\n",
              "    </tr>\n",
              "  </tbody>\n",
              "</table>\n",
              "<p>126 rows × 11 columns</p>\n",
              "</div>\n",
              "      <button class=\"colab-df-convert\" onclick=\"convertToInteractive('df-b3d69e48-4514-46f5-8b3a-859351879159')\"\n",
              "              title=\"Convert this dataframe to an interactive table.\"\n",
              "              style=\"display:none;\">\n",
              "        \n",
              "  <svg xmlns=\"http://www.w3.org/2000/svg\" height=\"24px\"viewBox=\"0 0 24 24\"\n",
              "       width=\"24px\">\n",
              "    <path d=\"M0 0h24v24H0V0z\" fill=\"none\"/>\n",
              "    <path d=\"M18.56 5.44l.94 2.06.94-2.06 2.06-.94-2.06-.94-.94-2.06-.94 2.06-2.06.94zm-11 1L8.5 8.5l.94-2.06 2.06-.94-2.06-.94L8.5 2.5l-.94 2.06-2.06.94zm10 10l.94 2.06.94-2.06 2.06-.94-2.06-.94-.94-2.06-.94 2.06-2.06.94z\"/><path d=\"M17.41 7.96l-1.37-1.37c-.4-.4-.92-.59-1.43-.59-.52 0-1.04.2-1.43.59L10.3 9.45l-7.72 7.72c-.78.78-.78 2.05 0 2.83L4 21.41c.39.39.9.59 1.41.59.51 0 1.02-.2 1.41-.59l7.78-7.78 2.81-2.81c.8-.78.8-2.07 0-2.86zM5.41 20L4 18.59l7.72-7.72 1.47 1.35L5.41 20z\"/>\n",
              "  </svg>\n",
              "      </button>\n",
              "      \n",
              "  <style>\n",
              "    .colab-df-container {\n",
              "      display:flex;\n",
              "      flex-wrap:wrap;\n",
              "      gap: 12px;\n",
              "    }\n",
              "\n",
              "    .colab-df-convert {\n",
              "      background-color: #E8F0FE;\n",
              "      border: none;\n",
              "      border-radius: 50%;\n",
              "      cursor: pointer;\n",
              "      display: none;\n",
              "      fill: #1967D2;\n",
              "      height: 32px;\n",
              "      padding: 0 0 0 0;\n",
              "      width: 32px;\n",
              "    }\n",
              "\n",
              "    .colab-df-convert:hover {\n",
              "      background-color: #E2EBFA;\n",
              "      box-shadow: 0px 1px 2px rgba(60, 64, 67, 0.3), 0px 1px 3px 1px rgba(60, 64, 67, 0.15);\n",
              "      fill: #174EA6;\n",
              "    }\n",
              "\n",
              "    [theme=dark] .colab-df-convert {\n",
              "      background-color: #3B4455;\n",
              "      fill: #D2E3FC;\n",
              "    }\n",
              "\n",
              "    [theme=dark] .colab-df-convert:hover {\n",
              "      background-color: #434B5C;\n",
              "      box-shadow: 0px 1px 3px 1px rgba(0, 0, 0, 0.15);\n",
              "      filter: drop-shadow(0px 1px 2px rgba(0, 0, 0, 0.3));\n",
              "      fill: #FFFFFF;\n",
              "    }\n",
              "  </style>\n",
              "\n",
              "      <script>\n",
              "        const buttonEl =\n",
              "          document.querySelector('#df-b3d69e48-4514-46f5-8b3a-859351879159 button.colab-df-convert');\n",
              "        buttonEl.style.display =\n",
              "          google.colab.kernel.accessAllowed ? 'block' : 'none';\n",
              "\n",
              "        async function convertToInteractive(key) {\n",
              "          const element = document.querySelector('#df-b3d69e48-4514-46f5-8b3a-859351879159');\n",
              "          const dataTable =\n",
              "            await google.colab.kernel.invokeFunction('convertToInteractive',\n",
              "                                                     [key], {});\n",
              "          if (!dataTable) return;\n",
              "\n",
              "          const docLinkHtml = 'Like what you see? Visit the ' +\n",
              "            '<a target=\"_blank\" href=https://colab.research.google.com/notebooks/data_table.ipynb>data table notebook</a>'\n",
              "            + ' to learn more about interactive tables.';\n",
              "          element.innerHTML = '';\n",
              "          dataTable['output_type'] = 'display_data';\n",
              "          await google.colab.output.renderOutput(dataTable, element);\n",
              "          const docLink = document.createElement('div');\n",
              "          docLink.innerHTML = docLinkHtml;\n",
              "          element.appendChild(docLink);\n",
              "        }\n",
              "      </script>\n",
              "    </div>\n",
              "  </div>\n",
              "  "
            ]
          },
          "metadata": {},
          "execution_count": 301
        }
      ]
    },
    {
      "cell_type": "code",
      "source": [
        "validate_x"
      ],
      "metadata": {
        "colab": {
          "base_uri": "https://localhost:8080/",
          "height": 424
        },
        "id": "qxZHrlFja84D",
        "outputId": "885c7464-1a2a-4b7a-a696-7d23b1fc3153"
      },
      "execution_count": 302,
      "outputs": [
        {
          "output_type": "execute_result",
          "data": {
            "text/plain": [
              "         id  gender    age  hypertension  heart_disease  ever_married  \\\n",
              "237   36857       1  77.00             0              0             1   \n",
              "2931  51497       1  28.00             0              0             1   \n",
              "1469   8723       0  16.00             0              0             0   \n",
              "4549  14943       0  17.00             0              0             0   \n",
              "687    7745       0  35.00             0              0             1   \n",
              "...     ...     ...    ...           ...            ...           ...   \n",
              "9     60491       0  78.00             0              0             1   \n",
              "3440  18837       1   0.56             0              0             0   \n",
              "221   68023       1  79.00             0              0             1   \n",
              "3132  71192       1  11.00             0              0             0   \n",
              "1918  33144       0  68.00             0              0             0   \n",
              "\n",
              "      work_type  Residence_type  avg_glucose_level   bmi  smoking_status  \n",
              "237           3               0             162.14  32.6               1  \n",
              "2931          3               1             156.45  24.3               2  \n",
              "1469          2               0              70.15  21.5               0  \n",
              "4549          2               0              79.62  21.6               2  \n",
              "687           2               1             109.03  19.5               1  \n",
              "...         ...             ...                ...   ...             ...  \n",
              "9             2               1              58.57  24.2               0  \n",
              "3440          4               1              98.23  14.1               0  \n",
              "221           2               0              72.73  28.4               2  \n",
              "3132          4               0              56.33  18.1               0  \n",
              "1918          0               1             121.66  29.1               3  \n",
              "\n",
              "[125 rows x 11 columns]"
            ],
            "text/html": [
              "\n",
              "  <div id=\"df-fea24470-c826-4bbd-9af6-dda2e58cc392\">\n",
              "    <div class=\"colab-df-container\">\n",
              "      <div>\n",
              "<style scoped>\n",
              "    .dataframe tbody tr th:only-of-type {\n",
              "        vertical-align: middle;\n",
              "    }\n",
              "\n",
              "    .dataframe tbody tr th {\n",
              "        vertical-align: top;\n",
              "    }\n",
              "\n",
              "    .dataframe thead th {\n",
              "        text-align: right;\n",
              "    }\n",
              "</style>\n",
              "<table border=\"1\" class=\"dataframe\">\n",
              "  <thead>\n",
              "    <tr style=\"text-align: right;\">\n",
              "      <th></th>\n",
              "      <th>id</th>\n",
              "      <th>gender</th>\n",
              "      <th>age</th>\n",
              "      <th>hypertension</th>\n",
              "      <th>heart_disease</th>\n",
              "      <th>ever_married</th>\n",
              "      <th>work_type</th>\n",
              "      <th>Residence_type</th>\n",
              "      <th>avg_glucose_level</th>\n",
              "      <th>bmi</th>\n",
              "      <th>smoking_status</th>\n",
              "    </tr>\n",
              "  </thead>\n",
              "  <tbody>\n",
              "    <tr>\n",
              "      <th>237</th>\n",
              "      <td>36857</td>\n",
              "      <td>1</td>\n",
              "      <td>77.00</td>\n",
              "      <td>0</td>\n",
              "      <td>0</td>\n",
              "      <td>1</td>\n",
              "      <td>3</td>\n",
              "      <td>0</td>\n",
              "      <td>162.14</td>\n",
              "      <td>32.6</td>\n",
              "      <td>1</td>\n",
              "    </tr>\n",
              "    <tr>\n",
              "      <th>2931</th>\n",
              "      <td>51497</td>\n",
              "      <td>1</td>\n",
              "      <td>28.00</td>\n",
              "      <td>0</td>\n",
              "      <td>0</td>\n",
              "      <td>1</td>\n",
              "      <td>3</td>\n",
              "      <td>1</td>\n",
              "      <td>156.45</td>\n",
              "      <td>24.3</td>\n",
              "      <td>2</td>\n",
              "    </tr>\n",
              "    <tr>\n",
              "      <th>1469</th>\n",
              "      <td>8723</td>\n",
              "      <td>0</td>\n",
              "      <td>16.00</td>\n",
              "      <td>0</td>\n",
              "      <td>0</td>\n",
              "      <td>0</td>\n",
              "      <td>2</td>\n",
              "      <td>0</td>\n",
              "      <td>70.15</td>\n",
              "      <td>21.5</td>\n",
              "      <td>0</td>\n",
              "    </tr>\n",
              "    <tr>\n",
              "      <th>4549</th>\n",
              "      <td>14943</td>\n",
              "      <td>0</td>\n",
              "      <td>17.00</td>\n",
              "      <td>0</td>\n",
              "      <td>0</td>\n",
              "      <td>0</td>\n",
              "      <td>2</td>\n",
              "      <td>0</td>\n",
              "      <td>79.62</td>\n",
              "      <td>21.6</td>\n",
              "      <td>2</td>\n",
              "    </tr>\n",
              "    <tr>\n",
              "      <th>687</th>\n",
              "      <td>7745</td>\n",
              "      <td>0</td>\n",
              "      <td>35.00</td>\n",
              "      <td>0</td>\n",
              "      <td>0</td>\n",
              "      <td>1</td>\n",
              "      <td>2</td>\n",
              "      <td>1</td>\n",
              "      <td>109.03</td>\n",
              "      <td>19.5</td>\n",
              "      <td>1</td>\n",
              "    </tr>\n",
              "    <tr>\n",
              "      <th>...</th>\n",
              "      <td>...</td>\n",
              "      <td>...</td>\n",
              "      <td>...</td>\n",
              "      <td>...</td>\n",
              "      <td>...</td>\n",
              "      <td>...</td>\n",
              "      <td>...</td>\n",
              "      <td>...</td>\n",
              "      <td>...</td>\n",
              "      <td>...</td>\n",
              "      <td>...</td>\n",
              "    </tr>\n",
              "    <tr>\n",
              "      <th>9</th>\n",
              "      <td>60491</td>\n",
              "      <td>0</td>\n",
              "      <td>78.00</td>\n",
              "      <td>0</td>\n",
              "      <td>0</td>\n",
              "      <td>1</td>\n",
              "      <td>2</td>\n",
              "      <td>1</td>\n",
              "      <td>58.57</td>\n",
              "      <td>24.2</td>\n",
              "      <td>0</td>\n",
              "    </tr>\n",
              "    <tr>\n",
              "      <th>3440</th>\n",
              "      <td>18837</td>\n",
              "      <td>1</td>\n",
              "      <td>0.56</td>\n",
              "      <td>0</td>\n",
              "      <td>0</td>\n",
              "      <td>0</td>\n",
              "      <td>4</td>\n",
              "      <td>1</td>\n",
              "      <td>98.23</td>\n",
              "      <td>14.1</td>\n",
              "      <td>0</td>\n",
              "    </tr>\n",
              "    <tr>\n",
              "      <th>221</th>\n",
              "      <td>68023</td>\n",
              "      <td>1</td>\n",
              "      <td>79.00</td>\n",
              "      <td>0</td>\n",
              "      <td>0</td>\n",
              "      <td>1</td>\n",
              "      <td>2</td>\n",
              "      <td>0</td>\n",
              "      <td>72.73</td>\n",
              "      <td>28.4</td>\n",
              "      <td>2</td>\n",
              "    </tr>\n",
              "    <tr>\n",
              "      <th>3132</th>\n",
              "      <td>71192</td>\n",
              "      <td>1</td>\n",
              "      <td>11.00</td>\n",
              "      <td>0</td>\n",
              "      <td>0</td>\n",
              "      <td>0</td>\n",
              "      <td>4</td>\n",
              "      <td>0</td>\n",
              "      <td>56.33</td>\n",
              "      <td>18.1</td>\n",
              "      <td>0</td>\n",
              "    </tr>\n",
              "    <tr>\n",
              "      <th>1918</th>\n",
              "      <td>33144</td>\n",
              "      <td>0</td>\n",
              "      <td>68.00</td>\n",
              "      <td>0</td>\n",
              "      <td>0</td>\n",
              "      <td>0</td>\n",
              "      <td>0</td>\n",
              "      <td>1</td>\n",
              "      <td>121.66</td>\n",
              "      <td>29.1</td>\n",
              "      <td>3</td>\n",
              "    </tr>\n",
              "  </tbody>\n",
              "</table>\n",
              "<p>125 rows × 11 columns</p>\n",
              "</div>\n",
              "      <button class=\"colab-df-convert\" onclick=\"convertToInteractive('df-fea24470-c826-4bbd-9af6-dda2e58cc392')\"\n",
              "              title=\"Convert this dataframe to an interactive table.\"\n",
              "              style=\"display:none;\">\n",
              "        \n",
              "  <svg xmlns=\"http://www.w3.org/2000/svg\" height=\"24px\"viewBox=\"0 0 24 24\"\n",
              "       width=\"24px\">\n",
              "    <path d=\"M0 0h24v24H0V0z\" fill=\"none\"/>\n",
              "    <path d=\"M18.56 5.44l.94 2.06.94-2.06 2.06-.94-2.06-.94-.94-2.06-.94 2.06-2.06.94zm-11 1L8.5 8.5l.94-2.06 2.06-.94-2.06-.94L8.5 2.5l-.94 2.06-2.06.94zm10 10l.94 2.06.94-2.06 2.06-.94-2.06-.94-.94-2.06-.94 2.06-2.06.94z\"/><path d=\"M17.41 7.96l-1.37-1.37c-.4-.4-.92-.59-1.43-.59-.52 0-1.04.2-1.43.59L10.3 9.45l-7.72 7.72c-.78.78-.78 2.05 0 2.83L4 21.41c.39.39.9.59 1.41.59.51 0 1.02-.2 1.41-.59l7.78-7.78 2.81-2.81c.8-.78.8-2.07 0-2.86zM5.41 20L4 18.59l7.72-7.72 1.47 1.35L5.41 20z\"/>\n",
              "  </svg>\n",
              "      </button>\n",
              "      \n",
              "  <style>\n",
              "    .colab-df-container {\n",
              "      display:flex;\n",
              "      flex-wrap:wrap;\n",
              "      gap: 12px;\n",
              "    }\n",
              "\n",
              "    .colab-df-convert {\n",
              "      background-color: #E8F0FE;\n",
              "      border: none;\n",
              "      border-radius: 50%;\n",
              "      cursor: pointer;\n",
              "      display: none;\n",
              "      fill: #1967D2;\n",
              "      height: 32px;\n",
              "      padding: 0 0 0 0;\n",
              "      width: 32px;\n",
              "    }\n",
              "\n",
              "    .colab-df-convert:hover {\n",
              "      background-color: #E2EBFA;\n",
              "      box-shadow: 0px 1px 2px rgba(60, 64, 67, 0.3), 0px 1px 3px 1px rgba(60, 64, 67, 0.15);\n",
              "      fill: #174EA6;\n",
              "    }\n",
              "\n",
              "    [theme=dark] .colab-df-convert {\n",
              "      background-color: #3B4455;\n",
              "      fill: #D2E3FC;\n",
              "    }\n",
              "\n",
              "    [theme=dark] .colab-df-convert:hover {\n",
              "      background-color: #434B5C;\n",
              "      box-shadow: 0px 1px 3px 1px rgba(0, 0, 0, 0.15);\n",
              "      filter: drop-shadow(0px 1px 2px rgba(0, 0, 0, 0.3));\n",
              "      fill: #FFFFFF;\n",
              "    }\n",
              "  </style>\n",
              "\n",
              "      <script>\n",
              "        const buttonEl =\n",
              "          document.querySelector('#df-fea24470-c826-4bbd-9af6-dda2e58cc392 button.colab-df-convert');\n",
              "        buttonEl.style.display =\n",
              "          google.colab.kernel.accessAllowed ? 'block' : 'none';\n",
              "\n",
              "        async function convertToInteractive(key) {\n",
              "          const element = document.querySelector('#df-fea24470-c826-4bbd-9af6-dda2e58cc392');\n",
              "          const dataTable =\n",
              "            await google.colab.kernel.invokeFunction('convertToInteractive',\n",
              "                                                     [key], {});\n",
              "          if (!dataTable) return;\n",
              "\n",
              "          const docLinkHtml = 'Like what you see? Visit the ' +\n",
              "            '<a target=\"_blank\" href=https://colab.research.google.com/notebooks/data_table.ipynb>data table notebook</a>'\n",
              "            + ' to learn more about interactive tables.';\n",
              "          element.innerHTML = '';\n",
              "          dataTable['output_type'] = 'display_data';\n",
              "          await google.colab.output.renderOutput(dataTable, element);\n",
              "          const docLink = document.createElement('div');\n",
              "          docLink.innerHTML = docLinkHtml;\n",
              "          element.appendChild(docLink);\n",
              "        }\n",
              "      </script>\n",
              "    </div>\n",
              "  </div>\n",
              "  "
            ]
          },
          "metadata": {},
          "execution_count": 302
        }
      ]
    },
    {
      "cell_type": "code",
      "source": [
        "from sklearn.neural_network import MLPClassifier\n",
        "clf_MLP = MLPClassifier(random_state=1, max_iter=300).fit(train_x, train_y)\n",
        "print(clf_MLP.predict_proba(validate_x[:1]))\n",
        "\n",
        "#clf_MLP.predict(test_x[:5, :])\n",
        "\n",
        "clf_MLP.score(validate_x, validate_y)"
      ],
      "metadata": {
        "colab": {
          "base_uri": "https://localhost:8080/"
        },
        "id": "c8kvUMdbD2q2",
        "outputId": "5cd1b061-4387-45bc-d091-a2215802ff4d"
      },
      "execution_count": 303,
      "outputs": [
        {
          "output_type": "stream",
          "name": "stdout",
          "text": [
            "[[1.00000000e+00 6.58885791e-38]]\n"
          ]
        },
        {
          "output_type": "stream",
          "name": "stderr",
          "text": [
            "/usr/local/lib/python3.7/dist-packages/sklearn/neural_network/_multilayer_perceptron.py:1109: DataConversionWarning:\n",
            "\n",
            "A column-vector y was passed when a 1d array was expected. Please change the shape of y to (n_samples, ), for example using ravel().\n",
            "\n"
          ]
        },
        {
          "output_type": "execute_result",
          "data": {
            "text/plain": [
              "0.648"
            ]
          },
          "metadata": {},
          "execution_count": 303
        }
      ]
    },
    {
      "cell_type": "code",
      "source": [
        "print(list(clf_MLP.predict(validater_x)))"
      ],
      "metadata": {
        "colab": {
          "base_uri": "https://localhost:8080/"
        },
        "id": "x9d6ltqSEJvv",
        "outputId": "4cb23616-9c48-4f65-cb9c-fa889ecda186"
      },
      "execution_count": 304,
      "outputs": [
        {
          "output_type": "stream",
          "name": "stdout",
          "text": [
            "[0, 0, 0, 0, 0, 0, 0, 1, 0, 0, 0, 0, 0, 0, 0]\n"
          ]
        }
      ]
    },
    {
      "cell_type": "code",
      "source": [
        "print(list(validater['stroke']))"
      ],
      "metadata": {
        "colab": {
          "base_uri": "https://localhost:8080/"
        },
        "id": "pFG0BjNnt4qp",
        "outputId": "015ae87d-9944-472e-dcb0-cb1da224d9ca"
      },
      "execution_count": 305,
      "outputs": [
        {
          "output_type": "stream",
          "name": "stdout",
          "text": [
            "[1, 0, 0, 0, 0, 0, 1, 1, 1, 0, 1, 1, 0, 0, 0]\n"
          ]
        }
      ]
    },
    {
      "cell_type": "markdown",
      "source": [
        "#All Results"
      ],
      "metadata": {
        "id": "erukQV2Du3Oa"
      }
    },
    {
      "cell_type": "code",
      "source": [
        "from sklearn.metrics import accuracy_score\n",
        "from sklearn.metrics import f1_score\n",
        "from sklearn.metrics import recall_score"
      ],
      "metadata": {
        "id": "DJpeyNKorfAm"
      },
      "execution_count": 306,
      "outputs": []
    },
    {
      "cell_type": "code",
      "source": [
        "pred = clf_KNN.predict(validate_x)\n",
        "acc = accuracy_score(validate_y, pred)\n",
        "f1 = f1_score(validate_y, pred, average='weighted')\n",
        "rec = recall_score(validate_y, pred, average='weighted')\n",
        "\n",
        "print(\"  acc: %s\" % acc)\n",
        "print(\"  f1: %s\" % f1)\n",
        "print(\"  recal: %s\" % rec)\n"
      ],
      "metadata": {
        "colab": {
          "base_uri": "https://localhost:8080/"
        },
        "id": "nbD93rAku4eU",
        "outputId": "61ac21c5-dab1-425f-afd2-9aa3567cc98c"
      },
      "execution_count": 307,
      "outputs": [
        {
          "output_type": "stream",
          "name": "stdout",
          "text": [
            "  acc: 0.568\n",
            "  f1: 0.5375503685503685\n",
            "  recal: 0.568\n"
          ]
        }
      ]
    },
    {
      "cell_type": "code",
      "source": [
        "#print(list(clf_MLP.predict(validater_x)))\n",
        "\n",
        "pred = clf_MLP.predict(validate_x)\n",
        "acc = accuracy_score(validate_y, pred)\n",
        "f1 = f1_score(validate_y, pred, average='weighted')\n",
        "rec = recall_score(validate_y, pred, average='weighted')\n",
        "\n",
        "print(\"  acc: %s\" % acc)\n",
        "print(\"  f1: %s\" % f1)\n",
        "print(\"  recal: %s\" % rec)\n"
      ],
      "metadata": {
        "colab": {
          "base_uri": "https://localhost:8080/"
        },
        "id": "qthctkVpu5WI",
        "outputId": "7e111205-b686-47d9-f2ac-61a3bb802e22"
      },
      "execution_count": 308,
      "outputs": [
        {
          "output_type": "stream",
          "name": "stdout",
          "text": [
            "  acc: 0.648\n",
            "  f1: 0.5675169366715758\n",
            "  recal: 0.648\n"
          ]
        }
      ]
    },
    {
      "cell_type": "code",
      "source": [
        "print(list(clf_Random.predict(validater_x)))\n",
        "\n",
        "pred = clf_Random.predict(validate_x)\n",
        "acc = accuracy_score(validate_y, pred)\n",
        "f1 = f1_score(validate_y, pred, average='weighted')\n",
        "rec = recall_score(validate_y, pred, average='weighted')\n",
        "\n",
        "print(\"  acc: %s\" % acc)\n",
        "print(\"  f1: %s\" % f1)\n",
        "print(\"  recal: %s\" % rec)"
      ],
      "metadata": {
        "colab": {
          "base_uri": "https://localhost:8080/"
        },
        "id": "S315Qx5Qu7gY",
        "outputId": "75b4ba38-0780-4359-861f-fe681e39dece"
      },
      "execution_count": 309,
      "outputs": [
        {
          "output_type": "stream",
          "name": "stdout",
          "text": [
            "[1, 0, 0, 0, 0, 0, 0, 1, 0, 0, 1, 1, 1, 0, 1]\n",
            "  acc: 0.72\n",
            "  f1: 0.7144099821746881\n",
            "  recal: 0.72\n"
          ]
        }
      ]
    },
    {
      "cell_type": "code",
      "source": [
        "print(list(clf_Logistic.predict(validater_x)))\n",
        "\n",
        "pred = clf_Logistic.predict(validate_x)\n",
        "acc = accuracy_score(validate_y, pred)\n",
        "f1 = f1_score(validate_y, pred, average='weighted')\n",
        "rec = recall_score(validate_y, pred, average='weighted')\n",
        "\n",
        "print(\"  acc: %s\" % acc)\n",
        "print(\"  f1: %s\" % f1)\n",
        "print(\"  recal: %s\" % rec)"
      ],
      "metadata": {
        "colab": {
          "base_uri": "https://localhost:8080/"
        },
        "id": "9GlOx3X_u8za",
        "outputId": "8a175571-2ee4-487f-f4b6-e31187c43672"
      },
      "execution_count": 310,
      "outputs": [
        {
          "output_type": "stream",
          "name": "stdout",
          "text": [
            "[1, 0, 0, 0, 0, 0, 0, 1, 0, 0, 1, 1, 1, 0, 0]\n",
            "  acc: 0.72\n",
            "  f1: 0.722641331446668\n",
            "  recal: 0.72\n"
          ]
        }
      ]
    },
    {
      "cell_type": "code",
      "source": [
        "print(list(clf_Multinomial.predict(validater_x)))\n",
        "\n",
        "pred = clf_Multinomial.predict(validate_x)\n",
        "acc = accuracy_score(validate_y, pred)\n",
        "f1 = f1_score(validate_y, pred, average='weighted')\n",
        "rec = recall_score(validate_y, pred, average='weighted')\n",
        "\n",
        "print(\"  acc: %s\" % acc)\n",
        "print(\"  f1: %s\" % f1)\n",
        "print(\"  recal: %s\" % rec)"
      ],
      "metadata": {
        "colab": {
          "base_uri": "https://localhost:8080/"
        },
        "id": "ftzVfNiru-YS",
        "outputId": "b80b2f18-2e4d-406e-8bab-e0d044e6fca6"
      },
      "execution_count": 311,
      "outputs": [
        {
          "output_type": "stream",
          "name": "stdout",
          "text": [
            "[1, 0, 1, 1, 1, 1, 1, 1, 0, 0, 0, 1, 1, 1, 1]\n",
            "  acc: 0.48\n",
            "  f1: 0.4877037037037037\n",
            "  recal: 0.48\n"
          ]
        }
      ]
    },
    {
      "cell_type": "code",
      "source": [
        "print(list(clf_Gaussian.predict(validater_x)))\n",
        "\n",
        "\n",
        "pred = clf_Gaussian.predict(validate_x)\n",
        "acc = accuracy_score(validate_y, pred)\n",
        "f1 = f1_score(validate_y, pred, average='weighted')\n",
        "rec = recall_score(validate_y, pred, average='weighted')\n",
        "\n",
        "print(\"  acc: %s\" % acc)\n",
        "print(\"  f1: %s\" % f1)\n",
        "print(\"  recal: %s\" % rec)"
      ],
      "metadata": {
        "colab": {
          "base_uri": "https://localhost:8080/"
        },
        "id": "kp_PZyJbu_rS",
        "outputId": "3f47f65c-a29f-42e9-c67d-69eb828a480f"
      },
      "execution_count": 312,
      "outputs": [
        {
          "output_type": "stream",
          "name": "stdout",
          "text": [
            "[1, 0, 0, 0, 0, 0, 0, 1, 0, 0, 1, 1, 1, 0, 1]\n",
            "  acc: 0.712\n",
            "  f1: 0.7151321160042965\n",
            "  recal: 0.712\n"
          ]
        }
      ]
    },
    {
      "cell_type": "code",
      "source": [
        "print(list(clf_Decision_Tree.predict(validater_x)))\n",
        "\n",
        "pred = clf_Decision_Tree.predict(validate_x)\n",
        "acc = accuracy_score(validate_y, pred)\n",
        "f1 = f1_score(validate_y, pred, average='weighted')\n",
        "rec = recall_score(validate_y, pred, average='weighted')\n",
        "\n",
        "print(\"  acc: %s\" % acc)\n",
        "print(\"  f1: %s\" % f1)\n",
        "print(\"  recal: %s\" % rec)"
      ],
      "metadata": {
        "colab": {
          "base_uri": "https://localhost:8080/"
        },
        "id": "0-zbeGbFvCPC",
        "outputId": "5f8233d5-cf17-4439-8913-0272593b427f"
      },
      "execution_count": 313,
      "outputs": [
        {
          "output_type": "stream",
          "name": "stdout",
          "text": [
            "[1, 0, 0, 0, 0, 0, 1, 1, 0, 0, 1, 1, 1, 0, 0]\n",
            "  acc: 0.776\n",
            "  f1: 0.7777575757575758\n",
            "  recal: 0.776\n"
          ]
        }
      ]
    },
    {
      "cell_type": "code",
      "source": [
        "print(list(clf_SVC.predict(validater_x)))\n",
        "\n",
        "pred = clf_SVC.predict(validate_x)\n",
        "acc = accuracy_score(validate_y, pred)\n",
        "f1 = f1_score(validate_y, pred, average='weighted')\n",
        "rec = recall_score(validate_y, pred, average='weighted')\n",
        "\n",
        "print(\"  acc: %s\" % acc)\n",
        "print(\"  f1: %s\" % f1)\n",
        "print(\"  recal: %s\" % rec)"
      ],
      "metadata": {
        "colab": {
          "base_uri": "https://localhost:8080/"
        },
        "id": "uktyTNubvEn6",
        "outputId": "ee8642cb-9f86-4b12-e849-1c802c2a341c"
      },
      "execution_count": 314,
      "outputs": [
        {
          "output_type": "stream",
          "name": "stdout",
          "text": [
            "[0, 0, 0, 0, 0, 0, 0, 0, 0, 0, 0, 0, 0, 0, 0]\n",
            "  acc: 0.632\n",
            "  f1: 0.4894901960784313\n",
            "  recal: 0.632\n"
          ]
        }
      ]
    },
    {
      "cell_type": "code",
      "source": [
        "print(list(validater['stroke']))"
      ],
      "metadata": {
        "colab": {
          "base_uri": "https://localhost:8080/"
        },
        "id": "TqeC5pP8vGwA",
        "outputId": "eacea4ed-c0aa-4f11-a6cb-2c387f7399b5"
      },
      "execution_count": 315,
      "outputs": [
        {
          "output_type": "stream",
          "name": "stdout",
          "text": [
            "[1, 0, 0, 0, 0, 0, 1, 1, 1, 0, 1, 1, 0, 0, 0]\n"
          ]
        }
      ]
    },
    {
      "cell_type": "markdown",
      "source": [
        "Modelos definidos como melhores para otimizar:\n",
        "\n",
        "Random Forest\n",
        "\n",
        "Decision Tree\n",
        "\n",
        "Gaussian naive bayes\n",
        "\n",
        "Logistic Regression\n"
      ],
      "metadata": {
        "id": "bPwx8-9Gjr8O"
      }
    },
    {
      "cell_type": "markdown",
      "source": [
        "#MLFLOW"
      ],
      "metadata": {
        "id": "8n2U_unzTQFj"
      }
    },
    {
      "cell_type": "code",
      "source": [
        "import mlflow\n",
        "import mlflow.sklearn\n",
        "\n",
        "import os\n",
        "import warnings\n",
        "import sys\n",
        "\n",
        "from sklearn import metrics\n",
        "from urllib.parse import urlparse\n",
        "\n",
        "from datetime import datetime\n"
      ],
      "metadata": {
        "id": "ZD3gCv4gV3wl"
      },
      "execution_count": 316,
      "outputs": []
    },
    {
      "cell_type": "code",
      "source": [
        "with mlflow.start_run():\n",
        "\n",
        "  clf_SVC = svm.SVC()\n",
        "  clf_SVC.fit(train_x, train_y)\n",
        "\n",
        "  pred = clf_SVC.predict(validate_x)\n",
        "\n",
        "  acc = accuracy_score(validate_y, pred)\n",
        "  f1 = f1_score(validate_y, pred, average='weighted')\n",
        "  rec = recall_score(validate_y, pred, average='weighted')\n",
        "\n",
        "  print(\"  acc: %s\" % acc)\n",
        "  print(\"  f1: %s\" % f1)\n",
        "  print(\"  recal: %s\" % rec)\n",
        "\n",
        "  mlflow.log_metric(\"acc\", acc)\n",
        "  mlflow.log_metric(\"f1\", f1)\n",
        "  mlflow.log_metric(\"recal\", rec)\n",
        "\n",
        "  mlflow.sklearn.log_model(clf_SVC, 'modelo')\n",
        "  caminho_modelo = 'modelo'\n",
        "  mlflow.sklearn.save_model(clf_SVC, path='./modelo/mlflow/model-SVC-%i'%(int(datetime.now().timestamp())))\n",
        "\n",
        "  tracking_url_type_store = urlparse(mlflow.get_tracking_uri()).scheme\n",
        "\n",
        "  # Model registry does not work with file store\n",
        "  if tracking_url_type_store != \"file\":\n",
        "\n",
        "      # Register the model\n",
        "      # There are other ways to use the Model Registry, which depends on the use case,\n",
        "      # please refer to the doc for more information:\n",
        "      # https://mlflow.org/docs/latest/model-registry.html#api-workflow\n",
        "      mlflow.sklearn.log_model(clf_SVC, \"model\", registered_model_name=\"SVC\" + (int(datetime.now().timestamp())))\n",
        "  else:\n",
        "      mlflow.sklearn.log_model(clf_SVC, \"model\")"
      ],
      "metadata": {
        "colab": {
          "base_uri": "https://localhost:8080/"
        },
        "id": "zKqf5pdRTRaA",
        "outputId": "2b3a32fd-974a-408a-f8d4-3d6e248b7307"
      },
      "execution_count": 317,
      "outputs": [
        {
          "output_type": "stream",
          "name": "stderr",
          "text": [
            "/usr/local/lib/python3.7/dist-packages/sklearn/utils/validation.py:993: DataConversionWarning:\n",
            "\n",
            "A column-vector y was passed when a 1d array was expected. Please change the shape of y to (n_samples, ), for example using ravel().\n",
            "\n"
          ]
        },
        {
          "output_type": "stream",
          "name": "stdout",
          "text": [
            "  acc: 0.632\n",
            "  f1: 0.4894901960784313\n",
            "  recal: 0.632\n"
          ]
        }
      ]
    },
    {
      "cell_type": "code",
      "source": [
        "with mlflow.start_run():\n",
        "\n",
        "  clf_Decision_Tree = tree.DecisionTreeClassifier()\n",
        "  clf_Decision_Tree = clf_Decision_Tree.fit(train_x, train_y)\n",
        "\n",
        "  pred = clf_Decision_Tree.predict(validate_x)\n",
        "\n",
        "  acc = accuracy_score(validate_y, pred)\n",
        "  f1 = f1_score(validate_y, pred, average='weighted')\n",
        "  rec = recall_score(validate_y, pred, average='weighted')\n",
        "\n",
        "  print(\"  acc: %s\" % acc)\n",
        "  print(\"  f1: %s\" % f1)\n",
        "  print(\"  recal: %s\" % rec)\n",
        "\n",
        "  mlflow.log_metric(\"acc\", acc)\n",
        "  mlflow.log_metric(\"f1\", f1)\n",
        "  mlflow.log_metric(\"recal\", rec)\n",
        "\n",
        "  mlflow.sklearn.log_model(clf_Decision_Tree, 'modelo')\n",
        "  caminho_modelo = 'modelo'\n",
        "  mlflow.sklearn.save_model(clf_Decision_Tree, path='./modelo/mlflow/model-DECISION-%i'%(int(datetime.now().timestamp())))\n",
        "\n",
        "  tracking_url_type_store = urlparse(mlflow.get_tracking_uri()).scheme\n",
        "\n",
        "  # Model registry does not work with file store\n",
        "  if tracking_url_type_store != \"file\":\n",
        "\n",
        "      # Register the model\n",
        "      # There are other ways to use the Model Registry, which depends on the use case,\n",
        "      # please refer to the doc for more information:\n",
        "      # https://mlflow.org/docs/latest/model-registry.html#api-workflow\n",
        "      mlflow.sklearn.log_model(clf_Decision_Tree, \"model\", registered_model_name=\"DecisionTree\" + (int(datetime.now().timestamp())))\n",
        "  else:\n",
        "      mlflow.sklearn.log_model(clf_Decision_Tree, \"model\")"
      ],
      "metadata": {
        "colab": {
          "base_uri": "https://localhost:8080/"
        },
        "id": "1628CJgzbdIC",
        "outputId": "1d0ca9f1-13f6-4ae3-f7a2-37ff1a6064e7"
      },
      "execution_count": 318,
      "outputs": [
        {
          "output_type": "stream",
          "name": "stdout",
          "text": [
            "  acc: 0.752\n",
            "  f1: 0.755559572064589\n",
            "  recal: 0.752\n"
          ]
        }
      ]
    },
    {
      "cell_type": "code",
      "source": [
        "with mlflow.start_run():\n",
        "\n",
        "\n",
        "  clf_Gaussian = GaussianNB()\n",
        "  clf_Gaussian = clf_Gaussian.fit(train_x, train_y)\n",
        "  \n",
        "  pred = clf_Gaussian.predict(validate_x)\n",
        "\n",
        "  acc = accuracy_score(validate_y, pred)\n",
        "  f1 = f1_score(validate_y, pred, average='weighted')\n",
        "  rec = recall_score(validate_y, pred, average='weighted')\n",
        "\n",
        "  print(\"  acc: %s\" % acc)\n",
        "  print(\"  f1: %s\" % f1)\n",
        "  print(\"  recal: %s\" % rec)\n",
        "\n",
        "  mlflow.log_metric(\"acc\", acc)\n",
        "  mlflow.log_metric(\"f1\", f1)\n",
        "  mlflow.log_metric(\"recal\", rec)\n",
        "\n",
        "  mlflow.sklearn.log_model(clf_Gaussian, 'modelo')\n",
        "  caminho_modelo = 'modelo'\n",
        "  mlflow.sklearn.save_model(clf_Gaussian, path='./modelo/mlflow/model-GAUSSIAN-%i'%(int(datetime.now().timestamp())))\n",
        "\n",
        "  tracking_url_type_store = urlparse(mlflow.get_tracking_uri()).scheme\n",
        "\n",
        "  # Model registry does not work with file store\n",
        "  if tracking_url_type_store != \"file\":\n",
        "\n",
        "      # Register the model\n",
        "      # There are other ways to use the Model Registry, which depends on the use case,\n",
        "      # please refer to the doc for more information:\n",
        "      # https://mlflow.org/docs/latest/model-registry.html#api-workflow\n",
        "      mlflow.sklearn.log_model(clf_Gaussian, \"model\", registered_model_name=\"Gaussian\" + (int(datetime.now().timestamp())))\n",
        "  else:\n",
        "      mlflow.sklearn.log_model(clf_Gaussian, \"model\")"
      ],
      "metadata": {
        "colab": {
          "base_uri": "https://localhost:8080/"
        },
        "id": "uUXrzIqtb9_v",
        "outputId": "229c24f9-f20e-4f1a-edb5-3bc655f2cef2"
      },
      "execution_count": 319,
      "outputs": [
        {
          "output_type": "stream",
          "name": "stderr",
          "text": [
            "/usr/local/lib/python3.7/dist-packages/sklearn/utils/validation.py:993: DataConversionWarning:\n",
            "\n",
            "A column-vector y was passed when a 1d array was expected. Please change the shape of y to (n_samples, ), for example using ravel().\n",
            "\n"
          ]
        },
        {
          "output_type": "stream",
          "name": "stdout",
          "text": [
            "  acc: 0.712\n",
            "  f1: 0.7151321160042965\n",
            "  recal: 0.712\n"
          ]
        }
      ]
    },
    {
      "cell_type": "code",
      "source": [
        "with mlflow.start_run():\n",
        "\n",
        "  clf_Random = RandomForestClassifier()\n",
        "  clf_Random.fit(train_x, list(train_y['stroke']))\n",
        "\n",
        "  pred = clf_Random.predict(validate_x)\n",
        "\n",
        "  acc = accuracy_score(validate_y, pred)\n",
        "  f1 = f1_score(validate_y, pred, average='weighted')\n",
        "  rec = recall_score(validate_y, pred, average='weighted')\n",
        "\n",
        "  print(\"  acc: %s\" % acc)\n",
        "  print(\"  f1: %s\" % f1)\n",
        "  print(\"  recal: %s\" % rec)\n",
        "\n",
        "  mlflow.log_metric(\"acc\", acc)\n",
        "  mlflow.log_metric(\"f1\", f1)\n",
        "  mlflow.log_metric(\"recal\", rec)\n",
        "\n",
        "  mlflow.sklearn.log_model(clf_Random, 'modelo')\n",
        "  caminho_modelo = 'modelo'\n",
        "  mlflow.sklearn.save_model(clf_Random, path='./modelo/mlflow/model-RANDOM-%i'%(int(datetime.now().timestamp())))\n",
        "\n",
        "  tracking_url_type_store = urlparse(mlflow.get_tracking_uri()).scheme\n",
        "\n",
        "  # Model registry does not work with file store\n",
        "  if tracking_url_type_store != \"file\":\n",
        "\n",
        "      # Register the model\n",
        "      # There are other ways to use the Model Registry, which depends on the use case,\n",
        "      # please refer to the doc for more information:\n",
        "      # https://mlflow.org/docs/latest/model-registry.html#api-workflow\n",
        "      mlflow.sklearn.log_model(clf_Random, \"model\", registered_model_name=\"RandomForest\" + (int(datetime.now().timestamp())))\n",
        "  else:\n",
        "      mlflow.sklearn.log_model(clf_Random, \"model\")"
      ],
      "metadata": {
        "colab": {
          "base_uri": "https://localhost:8080/"
        },
        "id": "mqD5TvyxcDp5",
        "outputId": "8cbf5042-784e-4068-fce0-a6dd5caeaaf9"
      },
      "execution_count": 320,
      "outputs": [
        {
          "output_type": "stream",
          "name": "stdout",
          "text": [
            "  acc: 0.776\n",
            "  f1: 0.7749111111111111\n",
            "  recal: 0.776\n"
          ]
        }
      ]
    },
    {
      "cell_type": "code",
      "source": [
        "with mlflow.start_run():\n",
        "\n",
        "  clf_MLP = MLPClassifier(random_state=1, max_iter=300).fit(train_x, train_y)\n",
        "\n",
        "  pred = clf_MLP.predict(validate_x)\n",
        "\n",
        "  acc = accuracy_score(validate_y, pred)\n",
        "  f1 = f1_score(validate_y, pred, average='weighted')\n",
        "  rec = recall_score(validate_y, pred, average='weighted')\n",
        "\n",
        "  print(\"  acc: %s\" % acc)\n",
        "  print(\"  f1: %s\" % f1)\n",
        "  print(\"  recal: %s\" % rec)\n",
        "\n",
        "  mlflow.log_metric(\"acc\", acc)\n",
        "  mlflow.log_metric(\"f1\", f1)\n",
        "  mlflow.log_metric(\"recal\", rec)\n",
        "\n",
        "  mlflow.sklearn.log_model(clf_MLP, 'modelo')\n",
        "  caminho_modelo = 'modelo'\n",
        "  mlflow.sklearn.save_model(clf_MLP, path='./modelo/mlflow/model-MLP-%i'%(int(datetime.now().timestamp())))\n",
        "\n",
        "  tracking_url_type_store = urlparse(mlflow.get_tracking_uri()).scheme\n",
        "\n",
        "  # Model registry does not work with file store\n",
        "  if tracking_url_type_store != \"file\":\n",
        "\n",
        "      # Register the model\n",
        "      # There are other ways to use the Model Registry, which depends on the use case,\n",
        "      # please refer to the doc for more information:\n",
        "      # https://mlflow.org/docs/latest/model-registry.html#api-workflow\n",
        "      mlflow.sklearn.log_model(clf_MLP, \"model\", registered_model_name=\"MLP\" + (int(datetime.now().timestamp())))\n",
        "  else:\n",
        "      mlflow.sklearn.log_model(clf_MLP, \"model\")"
      ],
      "metadata": {
        "colab": {
          "base_uri": "https://localhost:8080/"
        },
        "id": "qY9xb2kZk_nN",
        "outputId": "1f9700c3-516f-4983-d5f4-2e5f102ad47c"
      },
      "execution_count": 321,
      "outputs": [
        {
          "output_type": "stream",
          "name": "stderr",
          "text": [
            "/usr/local/lib/python3.7/dist-packages/sklearn/neural_network/_multilayer_perceptron.py:1109: DataConversionWarning:\n",
            "\n",
            "A column-vector y was passed when a 1d array was expected. Please change the shape of y to (n_samples, ), for example using ravel().\n",
            "\n"
          ]
        },
        {
          "output_type": "stream",
          "name": "stdout",
          "text": [
            "  acc: 0.648\n",
            "  f1: 0.5675169366715758\n",
            "  recal: 0.648\n"
          ]
        }
      ]
    },
    {
      "cell_type": "code",
      "source": [
        "print(list(test_y['stroke']))"
      ],
      "metadata": {
        "colab": {
          "base_uri": "https://localhost:8080/"
        },
        "id": "F7MW8Xa9VNCD",
        "outputId": "4a7e34f3-043c-4e5a-9d22-03f403a7b43d"
      },
      "execution_count": 322,
      "outputs": [
        {
          "output_type": "stream",
          "name": "stdout",
          "text": [
            "[0, 1, 0, 0, 0, 0, 1, 0, 0, 0, 1, 0, 0, 1, 0, 0, 1, 0, 1, 0, 0, 0, 0, 0, 1, 0, 1, 0, 0, 0, 1, 0, 1, 1, 0, 1, 1, 0, 1, 0, 0, 0, 1, 0, 1, 1, 0, 0, 0, 0, 1, 0, 0, 0, 0, 0, 0, 0, 1, 1, 1, 1, 0, 0, 0, 0, 0, 0, 0, 0, 0, 0, 0, 0, 1, 0, 1, 1, 1, 0, 0, 0, 0, 1, 0, 0, 0, 0, 0, 0, 1, 0, 1, 0, 0, 0, 0, 0, 0, 0, 0, 0, 0, 1, 1, 0, 1, 1, 1, 1, 0, 0, 0, 0, 0, 0, 1, 1, 1, 0, 0, 0, 0, 1, 0, 1]\n"
          ]
        }
      ]
    },
    {
      "cell_type": "code",
      "source": [
        "print(list(pred))"
      ],
      "metadata": {
        "colab": {
          "base_uri": "https://localhost:8080/"
        },
        "id": "TIc2rC6DVObO",
        "outputId": "0181bdc1-ea63-4793-e6f2-3112531fd1a1"
      },
      "execution_count": 323,
      "outputs": [
        {
          "output_type": "stream",
          "name": "stdout",
          "text": [
            "[0, 0, 0, 0, 0, 0, 0, 1, 0, 0, 0, 0, 0, 0, 0, 0, 0, 0, 0, 1, 0, 0, 0, 0, 0, 0, 0, 0, 0, 1, 0, 0, 0, 1, 0, 0, 0, 0, 0, 0, 0, 1, 0, 0, 1, 0, 0, 0, 0, 0, 0, 0, 0, 0, 0, 0, 0, 0, 0, 0, 0, 0, 0, 1, 0, 0, 0, 0, 0, 0, 0, 0, 1, 0, 0, 1, 0, 0, 1, 0, 0, 0, 0, 0, 0, 0, 0, 0, 0, 0, 0, 0, 0, 0, 0, 0, 0, 0, 0, 0, 0, 0, 0, 0, 0, 0, 0, 0, 0, 0, 0, 0, 0, 0, 0, 0, 0, 0, 0, 0, 0, 0, 0, 0, 0]\n"
          ]
        }
      ]
    },
    {
      "cell_type": "markdown",
      "source": [
        "#Optmization with Optuna"
      ],
      "metadata": {
        "id": "Sqxij3u8j6sn"
      }
    },
    {
      "cell_type": "markdown",
      "source": [
        "Random Forest Idea"
      ],
      "metadata": {
        "id": "a9EkvNFhmDb1"
      }
    },
    {
      "cell_type": "code",
      "source": [
        "!pip install --quiet optuna"
      ],
      "metadata": {
        "id": "0g8nXnwzoAMM"
      },
      "execution_count": 328,
      "outputs": []
    },
    {
      "cell_type": "code",
      "source": [
        "import optuna\n",
        "\n",
        "from sklearn.model_selection import cross_val_score\n",
        "\n",
        "optuna.__version__"
      ],
      "metadata": {
        "colab": {
          "base_uri": "https://localhost:8080/",
          "height": 36
        },
        "id": "mEe2B4pqoBZE",
        "outputId": "1e7b3e0a-7b04-4867-98e7-92fe09e3de45"
      },
      "execution_count": 329,
      "outputs": [
        {
          "output_type": "execute_result",
          "data": {
            "text/plain": [
              "'3.0.2'"
            ],
            "application/vnd.google.colaboratory.intrinsic+json": {
              "type": "string"
            }
          },
          "metadata": {},
          "execution_count": 329
        }
      ]
    },
    {
      "cell_type": "code",
      "source": [
        "import optuna\n",
        "import sklearn\n",
        "\n",
        "def objective_Random(trial):\n",
        "      #iris = sklearn.datasets.load_iris()\n",
        "      n_estimators = trial.suggest_int('n_estimators', 2, 20)\n",
        "      max_depth = int(trial.suggest_loguniform('max_depth', 1, 32))\n",
        "      clf = sklearn.ensemble.RandomForestClassifier(n_estimators=n_estimators, max_depth=max_depth)\n",
        "\n",
        "      score = cross_val_score(clf, train_x, train_y, n_jobs=-1, cv=5)\n",
        "      return sklearn.model_selection.cross_val_score(clf, train_x, train_y, \n",
        "           n_jobs=-1).mean()"
      ],
      "metadata": {
        "id": "4H6_2fG0mFj0"
      },
      "execution_count": 330,
      "outputs": []
    },
    {
      "cell_type": "code",
      "source": [
        "study = optuna.create_study(direction='maximize')\n",
        "study.optimize(objective_Random, n_trials=100)"
      ],
      "metadata": {
        "colab": {
          "base_uri": "https://localhost:8080/"
        },
        "id": "el7-wT5Zqq1N",
        "outputId": "6659d7fa-87ef-4d94-ad94-681073599fe1"
      },
      "execution_count": 331,
      "outputs": [
        {
          "output_type": "stream",
          "name": "stderr",
          "text": [
            "\u001b[32m[I 2022-10-03 21:53:57,367]\u001b[0m A new study created in memory with name: no-name-a790d25a-a1b9-48a4-8f66-d376e5d1dbba\u001b[0m\n",
            "/usr/local/lib/python3.7/dist-packages/ipykernel_launcher.py:7: FutureWarning:\n",
            "\n",
            "suggest_loguniform has been deprecated in v3.0.0. This feature will be removed in v6.0.0. See https://github.com/optuna/optuna/releases/tag/v3.0.0. Use :func:`~optuna.trial.Trial.suggest_float` instead.\n",
            "\n",
            "\u001b[32m[I 2022-10-03 21:53:59,611]\u001b[0m Trial 0 finished with value: 0.7607017543859648 and parameters: {'n_estimators': 15, 'max_depth': 4.811431351520997}. Best is trial 0 with value: 0.7607017543859648.\u001b[0m\n",
            "/usr/local/lib/python3.7/dist-packages/ipykernel_launcher.py:7: FutureWarning:\n",
            "\n",
            "suggest_loguniform has been deprecated in v3.0.0. This feature will be removed in v6.0.0. See https://github.com/optuna/optuna/releases/tag/v3.0.0. Use :func:`~optuna.trial.Trial.suggest_float` instead.\n",
            "\n",
            "\u001b[32m[I 2022-10-03 21:53:59,951]\u001b[0m Trial 1 finished with value: 0.7234385964912281 and parameters: {'n_estimators': 15, 'max_depth': 9.073032437197622}. Best is trial 0 with value: 0.7607017543859648.\u001b[0m\n",
            "/usr/local/lib/python3.7/dist-packages/ipykernel_launcher.py:7: FutureWarning:\n",
            "\n",
            "suggest_loguniform has been deprecated in v3.0.0. This feature will be removed in v6.0.0. See https://github.com/optuna/optuna/releases/tag/v3.0.0. Use :func:`~optuna.trial.Trial.suggest_float` instead.\n",
            "\n",
            "\u001b[32m[I 2022-10-03 21:54:00,330]\u001b[0m Trial 2 finished with value: 0.7528421052631579 and parameters: {'n_estimators': 17, 'max_depth': 3.148558184017655}. Best is trial 0 with value: 0.7607017543859648.\u001b[0m\n",
            "/usr/local/lib/python3.7/dist-packages/ipykernel_launcher.py:7: FutureWarning:\n",
            "\n",
            "suggest_loguniform has been deprecated in v3.0.0. This feature will be removed in v6.0.0. See https://github.com/optuna/optuna/releases/tag/v3.0.0. Use :func:`~optuna.trial.Trial.suggest_float` instead.\n",
            "\n",
            "\u001b[32m[I 2022-10-03 21:54:00,642]\u001b[0m Trial 3 finished with value: 0.7153333333333334 and parameters: {'n_estimators': 12, 'max_depth': 1.9970981901233256}. Best is trial 0 with value: 0.7607017543859648.\u001b[0m\n",
            "/usr/local/lib/python3.7/dist-packages/ipykernel_launcher.py:7: FutureWarning:\n",
            "\n",
            "suggest_loguniform has been deprecated in v3.0.0. This feature will be removed in v6.0.0. See https://github.com/optuna/optuna/releases/tag/v3.0.0. Use :func:`~optuna.trial.Trial.suggest_float` instead.\n",
            "\n",
            "\u001b[32m[I 2022-10-03 21:54:00,828]\u001b[0m Trial 4 finished with value: 0.7021754385964912 and parameters: {'n_estimators': 3, 'max_depth': 15.574926837713406}. Best is trial 0 with value: 0.7607017543859648.\u001b[0m\n",
            "/usr/local/lib/python3.7/dist-packages/ipykernel_launcher.py:7: FutureWarning:\n",
            "\n",
            "suggest_loguniform has been deprecated in v3.0.0. This feature will be removed in v6.0.0. See https://github.com/optuna/optuna/releases/tag/v3.0.0. Use :func:`~optuna.trial.Trial.suggest_float` instead.\n",
            "\n",
            "\u001b[32m[I 2022-10-03 21:54:01,240]\u001b[0m Trial 5 finished with value: 0.7341403508771929 and parameters: {'n_estimators': 19, 'max_depth': 2.6018918684804713}. Best is trial 0 with value: 0.7607017543859648.\u001b[0m\n",
            "/usr/local/lib/python3.7/dist-packages/ipykernel_launcher.py:7: FutureWarning:\n",
            "\n",
            "suggest_loguniform has been deprecated in v3.0.0. This feature will be removed in v6.0.0. See https://github.com/optuna/optuna/releases/tag/v3.0.0. Use :func:`~optuna.trial.Trial.suggest_float` instead.\n",
            "\n",
            "\u001b[32m[I 2022-10-03 21:54:01,756]\u001b[0m Trial 6 finished with value: 0.73940350877193 and parameters: {'n_estimators': 18, 'max_depth': 27.575420255188018}. Best is trial 0 with value: 0.7607017543859648.\u001b[0m\n",
            "/usr/local/lib/python3.7/dist-packages/ipykernel_launcher.py:7: FutureWarning:\n",
            "\n",
            "suggest_loguniform has been deprecated in v3.0.0. This feature will be removed in v6.0.0. See https://github.com/optuna/optuna/releases/tag/v3.0.0. Use :func:`~optuna.trial.Trial.suggest_float` instead.\n",
            "\n",
            "\u001b[32m[I 2022-10-03 21:54:02,107]\u001b[0m Trial 7 finished with value: 0.710280701754386 and parameters: {'n_estimators': 10, 'max_depth': 23.849798850005197}. Best is trial 0 with value: 0.7607017543859648.\u001b[0m\n",
            "/usr/local/lib/python3.7/dist-packages/ipykernel_launcher.py:7: FutureWarning:\n",
            "\n",
            "suggest_loguniform has been deprecated in v3.0.0. This feature will be removed in v6.0.0. See https://github.com/optuna/optuna/releases/tag/v3.0.0. Use :func:`~optuna.trial.Trial.suggest_float` instead.\n",
            "\n",
            "\u001b[32m[I 2022-10-03 21:54:02,416]\u001b[0m Trial 8 finished with value: 0.7154736842105263 and parameters: {'n_estimators': 14, 'max_depth': 1.1674789191932526}. Best is trial 0 with value: 0.7607017543859648.\u001b[0m\n",
            "/usr/local/lib/python3.7/dist-packages/ipykernel_launcher.py:7: FutureWarning:\n",
            "\n",
            "suggest_loguniform has been deprecated in v3.0.0. This feature will be removed in v6.0.0. See https://github.com/optuna/optuna/releases/tag/v3.0.0. Use :func:`~optuna.trial.Trial.suggest_float` instead.\n",
            "\n",
            "\u001b[32m[I 2022-10-03 21:54:02,799]\u001b[0m Trial 9 finished with value: 0.7261754385964913 and parameters: {'n_estimators': 17, 'max_depth': 11.87176492116861}. Best is trial 0 with value: 0.7607017543859648.\u001b[0m\n",
            "/usr/local/lib/python3.7/dist-packages/ipykernel_launcher.py:7: FutureWarning:\n",
            "\n",
            "suggest_loguniform has been deprecated in v3.0.0. This feature will be removed in v6.0.0. See https://github.com/optuna/optuna/releases/tag/v3.0.0. Use :func:`~optuna.trial.Trial.suggest_float` instead.\n",
            "\n",
            "\u001b[32m[I 2022-10-03 21:54:03,052]\u001b[0m Trial 10 finished with value: 0.755438596491228 and parameters: {'n_estimators': 8, 'max_depth': 5.329467822190123}. Best is trial 0 with value: 0.7607017543859648.\u001b[0m\n",
            "/usr/local/lib/python3.7/dist-packages/ipykernel_launcher.py:7: FutureWarning:\n",
            "\n",
            "suggest_loguniform has been deprecated in v3.0.0. This feature will be removed in v6.0.0. See https://github.com/optuna/optuna/releases/tag/v3.0.0. Use :func:`~optuna.trial.Trial.suggest_float` instead.\n",
            "\n",
            "\u001b[32m[I 2022-10-03 21:54:03,310]\u001b[0m Trial 11 finished with value: 0.7340701754385964 and parameters: {'n_estimators': 7, 'max_depth': 5.356821203435259}. Best is trial 0 with value: 0.7607017543859648.\u001b[0m\n",
            "/usr/local/lib/python3.7/dist-packages/ipykernel_launcher.py:7: FutureWarning:\n",
            "\n",
            "suggest_loguniform has been deprecated in v3.0.0. This feature will be removed in v6.0.0. See https://github.com/optuna/optuna/releases/tag/v3.0.0. Use :func:`~optuna.trial.Trial.suggest_float` instead.\n",
            "\n",
            "\u001b[32m[I 2022-10-03 21:54:03,569]\u001b[0m Trial 12 finished with value: 0.7342456140350877 and parameters: {'n_estimators': 8, 'max_depth': 6.0389616526019}. Best is trial 0 with value: 0.7607017543859648.\u001b[0m\n",
            "/usr/local/lib/python3.7/dist-packages/ipykernel_launcher.py:7: FutureWarning:\n",
            "\n",
            "suggest_loguniform has been deprecated in v3.0.0. This feature will be removed in v6.0.0. See https://github.com/optuna/optuna/releases/tag/v3.0.0. Use :func:`~optuna.trial.Trial.suggest_float` instead.\n",
            "\n",
            "\u001b[32m[I 2022-10-03 21:54:03,796]\u001b[0m Trial 13 finished with value: 0.7156491228070175 and parameters: {'n_estimators': 4, 'max_depth': 4.698434456120234}. Best is trial 0 with value: 0.7607017543859648.\u001b[0m\n",
            "/usr/local/lib/python3.7/dist-packages/ipykernel_launcher.py:7: FutureWarning:\n",
            "\n",
            "suggest_loguniform has been deprecated in v3.0.0. This feature will be removed in v6.0.0. See https://github.com/optuna/optuna/releases/tag/v3.0.0. Use :func:`~optuna.trial.Trial.suggest_float` instead.\n",
            "\n",
            "\u001b[32m[I 2022-10-03 21:54:04,106]\u001b[0m Trial 14 finished with value: 0.7607719298245614 and parameters: {'n_estimators': 11, 'max_depth': 7.999459892597744}. Best is trial 14 with value: 0.7607719298245614.\u001b[0m\n",
            "/usr/local/lib/python3.7/dist-packages/ipykernel_launcher.py:7: FutureWarning:\n",
            "\n",
            "suggest_loguniform has been deprecated in v3.0.0. This feature will be removed in v6.0.0. See https://github.com/optuna/optuna/releases/tag/v3.0.0. Use :func:`~optuna.trial.Trial.suggest_float` instead.\n",
            "\n",
            "\u001b[32m[I 2022-10-03 21:54:04,411]\u001b[0m Trial 15 finished with value: 0.7314736842105263 and parameters: {'n_estimators': 12, 'max_depth': 8.722739830282435}. Best is trial 14 with value: 0.7607719298245614.\u001b[0m\n",
            "/usr/local/lib/python3.7/dist-packages/ipykernel_launcher.py:7: FutureWarning:\n",
            "\n",
            "suggest_loguniform has been deprecated in v3.0.0. This feature will be removed in v6.0.0. See https://github.com/optuna/optuna/releases/tag/v3.0.0. Use :func:`~optuna.trial.Trial.suggest_float` instead.\n",
            "\n",
            "\u001b[32m[I 2022-10-03 21:54:04,997]\u001b[0m Trial 16 finished with value: 0.7208771929824562 and parameters: {'n_estimators': 14, 'max_depth': 3.2692729339023865}. Best is trial 14 with value: 0.7607719298245614.\u001b[0m\n",
            "/usr/local/lib/python3.7/dist-packages/ipykernel_launcher.py:7: FutureWarning:\n",
            "\n",
            "suggest_loguniform has been deprecated in v3.0.0. This feature will be removed in v6.0.0. See https://github.com/optuna/optuna/releases/tag/v3.0.0. Use :func:`~optuna.trial.Trial.suggest_float` instead.\n",
            "\n",
            "\u001b[32m[I 2022-10-03 21:54:05,696]\u001b[0m Trial 17 finished with value: 0.7661052631578948 and parameters: {'n_estimators': 20, 'max_depth': 17.15970773309533}. Best is trial 17 with value: 0.7661052631578948.\u001b[0m\n",
            "/usr/local/lib/python3.7/dist-packages/ipykernel_launcher.py:7: FutureWarning:\n",
            "\n",
            "suggest_loguniform has been deprecated in v3.0.0. This feature will be removed in v6.0.0. See https://github.com/optuna/optuna/releases/tag/v3.0.0. Use :func:`~optuna.trial.Trial.suggest_float` instead.\n",
            "\n",
            "\u001b[32m[I 2022-10-03 21:54:06,505]\u001b[0m Trial 18 finished with value: 0.7526666666666666 and parameters: {'n_estimators': 20, 'max_depth': 19.457938865154098}. Best is trial 17 with value: 0.7661052631578948.\u001b[0m\n",
            "/usr/local/lib/python3.7/dist-packages/ipykernel_launcher.py:7: FutureWarning:\n",
            "\n",
            "suggest_loguniform has been deprecated in v3.0.0. This feature will be removed in v6.0.0. See https://github.com/optuna/optuna/releases/tag/v3.0.0. Use :func:`~optuna.trial.Trial.suggest_float` instead.\n",
            "\n",
            "\u001b[32m[I 2022-10-03 21:54:07,135]\u001b[0m Trial 19 finished with value: 0.7316491228070175 and parameters: {'n_estimators': 10, 'max_depth': 13.495288733478544}. Best is trial 17 with value: 0.7661052631578948.\u001b[0m\n",
            "/usr/local/lib/python3.7/dist-packages/ipykernel_launcher.py:7: FutureWarning:\n",
            "\n",
            "suggest_loguniform has been deprecated in v3.0.0. This feature will be removed in v6.0.0. See https://github.com/optuna/optuna/releases/tag/v3.0.0. Use :func:`~optuna.trial.Trial.suggest_float` instead.\n",
            "\n",
            "\u001b[32m[I 2022-10-03 21:54:07,475]\u001b[0m Trial 20 finished with value: 0.7419649122807017 and parameters: {'n_estimators': 5, 'max_depth': 9.215518536224769}. Best is trial 17 with value: 0.7661052631578948.\u001b[0m\n",
            "/usr/local/lib/python3.7/dist-packages/ipykernel_launcher.py:7: FutureWarning:\n",
            "\n",
            "suggest_loguniform has been deprecated in v3.0.0. This feature will be removed in v6.0.0. See https://github.com/optuna/optuna/releases/tag/v3.0.0. Use :func:`~optuna.trial.Trial.suggest_float` instead.\n",
            "\n",
            "\u001b[32m[I 2022-10-03 21:54:08,192]\u001b[0m Trial 21 finished with value: 0.7474736842105263 and parameters: {'n_estimators': 16, 'max_depth': 7.27414603477724}. Best is trial 17 with value: 0.7661052631578948.\u001b[0m\n",
            "/usr/local/lib/python3.7/dist-packages/ipykernel_launcher.py:7: FutureWarning:\n",
            "\n",
            "suggest_loguniform has been deprecated in v3.0.0. This feature will be removed in v6.0.0. See https://github.com/optuna/optuna/releases/tag/v3.0.0. Use :func:`~optuna.trial.Trial.suggest_float` instead.\n",
            "\n",
            "\u001b[32m[I 2022-10-03 21:54:08,694]\u001b[0m Trial 22 finished with value: 0.7500701754385966 and parameters: {'n_estimators': 13, 'max_depth': 4.02797649107203}. Best is trial 17 with value: 0.7661052631578948.\u001b[0m\n",
            "/usr/local/lib/python3.7/dist-packages/ipykernel_launcher.py:7: FutureWarning:\n",
            "\n",
            "suggest_loguniform has been deprecated in v3.0.0. This feature will be removed in v6.0.0. See https://github.com/optuna/optuna/releases/tag/v3.0.0. Use :func:`~optuna.trial.Trial.suggest_float` instead.\n",
            "\n",
            "\u001b[32m[I 2022-10-03 21:54:09,481]\u001b[0m Trial 23 finished with value: 0.7527719298245613 and parameters: {'n_estimators': 20, 'max_depth': 17.526895087239698}. Best is trial 17 with value: 0.7661052631578948.\u001b[0m\n",
            "/usr/local/lib/python3.7/dist-packages/ipykernel_launcher.py:7: FutureWarning:\n",
            "\n",
            "suggest_loguniform has been deprecated in v3.0.0. This feature will be removed in v6.0.0. See https://github.com/optuna/optuna/releases/tag/v3.0.0. Use :func:`~optuna.trial.Trial.suggest_float` instead.\n",
            "\n",
            "\u001b[32m[I 2022-10-03 21:54:10,045]\u001b[0m Trial 24 finished with value: 0.7315789473684211 and parameters: {'n_estimators': 10, 'max_depth': 11.28138692959916}. Best is trial 17 with value: 0.7661052631578948.\u001b[0m\n",
            "/usr/local/lib/python3.7/dist-packages/ipykernel_launcher.py:7: FutureWarning:\n",
            "\n",
            "suggest_loguniform has been deprecated in v3.0.0. This feature will be removed in v6.0.0. See https://github.com/optuna/optuna/releases/tag/v3.0.0. Use :func:`~optuna.trial.Trial.suggest_float` instead.\n",
            "\n",
            "\u001b[32m[I 2022-10-03 21:54:10,569]\u001b[0m Trial 25 finished with value: 0.7101052631578947 and parameters: {'n_estimators': 16, 'max_depth': 1.6223215558434285}. Best is trial 17 with value: 0.7661052631578948.\u001b[0m\n",
            "/usr/local/lib/python3.7/dist-packages/ipykernel_launcher.py:7: FutureWarning:\n",
            "\n",
            "suggest_loguniform has been deprecated in v3.0.0. This feature will be removed in v6.0.0. See https://github.com/optuna/optuna/releases/tag/v3.0.0. Use :func:`~optuna.trial.Trial.suggest_float` instead.\n",
            "\n",
            "\u001b[32m[I 2022-10-03 21:54:11,323]\u001b[0m Trial 26 finished with value: 0.7367719298245614 and parameters: {'n_estimators': 18, 'max_depth': 30.715826195123782}. Best is trial 17 with value: 0.7661052631578948.\u001b[0m\n",
            "/usr/local/lib/python3.7/dist-packages/ipykernel_launcher.py:7: FutureWarning:\n",
            "\n",
            "suggest_loguniform has been deprecated in v3.0.0. This feature will be removed in v6.0.0. See https://github.com/optuna/optuna/releases/tag/v3.0.0. Use :func:`~optuna.trial.Trial.suggest_float` instead.\n",
            "\n",
            "\u001b[32m[I 2022-10-03 21:54:11,840]\u001b[0m Trial 27 finished with value: 0.7527368421052631 and parameters: {'n_estimators': 12, 'max_depth': 6.448673953875416}. Best is trial 17 with value: 0.7661052631578948.\u001b[0m\n",
            "/usr/local/lib/python3.7/dist-packages/ipykernel_launcher.py:7: FutureWarning:\n",
            "\n",
            "suggest_loguniform has been deprecated in v3.0.0. This feature will be removed in v6.0.0. See https://github.com/optuna/optuna/releases/tag/v3.0.0. Use :func:`~optuna.trial.Trial.suggest_float` instead.\n",
            "\n",
            "\u001b[32m[I 2022-10-03 21:54:12,496]\u001b[0m Trial 28 finished with value: 0.7182456140350877 and parameters: {'n_estimators': 14, 'max_depth': 20.264406566518517}. Best is trial 17 with value: 0.7661052631578948.\u001b[0m\n",
            "/usr/local/lib/python3.7/dist-packages/ipykernel_launcher.py:7: FutureWarning:\n",
            "\n",
            "suggest_loguniform has been deprecated in v3.0.0. This feature will be removed in v6.0.0. See https://github.com/optuna/optuna/releases/tag/v3.0.0. Use :func:`~optuna.trial.Trial.suggest_float` instead.\n",
            "\n",
            "\u001b[32m[I 2022-10-03 21:54:13,178]\u001b[0m Trial 29 finished with value: 0.7288771929824561 and parameters: {'n_estimators': 15, 'max_depth': 8.89681698838897}. Best is trial 17 with value: 0.7661052631578948.\u001b[0m\n",
            "/usr/local/lib/python3.7/dist-packages/ipykernel_launcher.py:7: FutureWarning:\n",
            "\n",
            "suggest_loguniform has been deprecated in v3.0.0. This feature will be removed in v6.0.0. See https://github.com/optuna/optuna/releases/tag/v3.0.0. Use :func:`~optuna.trial.Trial.suggest_float` instead.\n",
            "\n",
            "\u001b[32m[I 2022-10-03 21:54:13,634]\u001b[0m Trial 30 finished with value: 0.7448771929824561 and parameters: {'n_estimators': 7, 'max_depth': 3.970492106681202}. Best is trial 17 with value: 0.7661052631578948.\u001b[0m\n",
            "/usr/local/lib/python3.7/dist-packages/ipykernel_launcher.py:7: FutureWarning:\n",
            "\n",
            "suggest_loguniform has been deprecated in v3.0.0. This feature will be removed in v6.0.0. See https://github.com/optuna/optuna/releases/tag/v3.0.0. Use :func:`~optuna.trial.Trial.suggest_float` instead.\n",
            "\n",
            "\u001b[32m[I 2022-10-03 21:54:14,233]\u001b[0m Trial 31 finished with value: 0.7315789473684211 and parameters: {'n_estimators': 8, 'max_depth': 4.791612008016417}. Best is trial 17 with value: 0.7661052631578948.\u001b[0m\n",
            "/usr/local/lib/python3.7/dist-packages/ipykernel_launcher.py:7: FutureWarning:\n",
            "\n",
            "suggest_loguniform has been deprecated in v3.0.0. This feature will be removed in v6.0.0. See https://github.com/optuna/optuna/releases/tag/v3.0.0. Use :func:`~optuna.trial.Trial.suggest_float` instead.\n",
            "\n",
            "\u001b[32m[I 2022-10-03 21:54:14,690]\u001b[0m Trial 32 finished with value: 0.7262105263157895 and parameters: {'n_estimators': 9, 'max_depth': 7.081602240670722}. Best is trial 17 with value: 0.7661052631578948.\u001b[0m\n",
            "/usr/local/lib/python3.7/dist-packages/ipykernel_launcher.py:7: FutureWarning:\n",
            "\n",
            "suggest_loguniform has been deprecated in v3.0.0. This feature will be removed in v6.0.0. See https://github.com/optuna/optuna/releases/tag/v3.0.0. Use :func:`~optuna.trial.Trial.suggest_float` instead.\n",
            "\n",
            "\u001b[32m[I 2022-10-03 21:54:15,170]\u001b[0m Trial 33 finished with value: 0.7394035087719297 and parameters: {'n_estimators': 11, 'max_depth': 3.591389919155974}. Best is trial 17 with value: 0.7661052631578948.\u001b[0m\n",
            "/usr/local/lib/python3.7/dist-packages/ipykernel_launcher.py:7: FutureWarning:\n",
            "\n",
            "suggest_loguniform has been deprecated in v3.0.0. This feature will be removed in v6.0.0. See https://github.com/optuna/optuna/releases/tag/v3.0.0. Use :func:`~optuna.trial.Trial.suggest_float` instead.\n",
            "\n",
            "\u001b[32m[I 2022-10-03 21:54:15,536]\u001b[0m Trial 34 finished with value: 0.6969824561403508 and parameters: {'n_estimators': 5, 'max_depth': 2.497785666427017}. Best is trial 17 with value: 0.7661052631578948.\u001b[0m\n",
            "/usr/local/lib/python3.7/dist-packages/ipykernel_launcher.py:7: FutureWarning:\n",
            "\n",
            "suggest_loguniform has been deprecated in v3.0.0. This feature will be removed in v6.0.0. See https://github.com/optuna/optuna/releases/tag/v3.0.0. Use :func:`~optuna.trial.Trial.suggest_float` instead.\n",
            "\n",
            "\u001b[32m[I 2022-10-03 21:54:15,851]\u001b[0m Trial 35 finished with value: 0.7127368421052631 and parameters: {'n_estimators': 2, 'max_depth': 14.321011024691062}. Best is trial 17 with value: 0.7661052631578948.\u001b[0m\n",
            "/usr/local/lib/python3.7/dist-packages/ipykernel_launcher.py:7: FutureWarning:\n",
            "\n",
            "suggest_loguniform has been deprecated in v3.0.0. This feature will be removed in v6.0.0. See https://github.com/optuna/optuna/releases/tag/v3.0.0. Use :func:`~optuna.trial.Trial.suggest_float` instead.\n",
            "\n",
            "\u001b[32m[I 2022-10-03 21:54:16,393]\u001b[0m Trial 36 finished with value: 0.7289122807017543 and parameters: {'n_estimators': 11, 'max_depth': 2.530803992796825}. Best is trial 17 with value: 0.7661052631578948.\u001b[0m\n",
            "/usr/local/lib/python3.7/dist-packages/ipykernel_launcher.py:7: FutureWarning:\n",
            "\n",
            "suggest_loguniform has been deprecated in v3.0.0. This feature will be removed in v6.0.0. See https://github.com/optuna/optuna/releases/tag/v3.0.0. Use :func:`~optuna.trial.Trial.suggest_float` instead.\n",
            "\n",
            "\u001b[32m[I 2022-10-03 21:54:17,471]\u001b[0m Trial 37 finished with value: 0.755438596491228 and parameters: {'n_estimators': 19, 'max_depth': 9.95809650070799}. Best is trial 17 with value: 0.7661052631578948.\u001b[0m\n",
            "/usr/local/lib/python3.7/dist-packages/ipykernel_launcher.py:7: FutureWarning:\n",
            "\n",
            "suggest_loguniform has been deprecated in v3.0.0. This feature will be removed in v6.0.0. See https://github.com/optuna/optuna/releases/tag/v3.0.0. Use :func:`~optuna.trial.Trial.suggest_float` instead.\n",
            "\n",
            "\u001b[32m[I 2022-10-03 21:54:18,323]\u001b[0m Trial 38 finished with value: 0.7288421052631578 and parameters: {'n_estimators': 6, 'max_depth': 5.117723745226765}. Best is trial 17 with value: 0.7661052631578948.\u001b[0m\n",
            "/usr/local/lib/python3.7/dist-packages/ipykernel_launcher.py:7: FutureWarning:\n",
            "\n",
            "suggest_loguniform has been deprecated in v3.0.0. This feature will be removed in v6.0.0. See https://github.com/optuna/optuna/releases/tag/v3.0.0. Use :func:`~optuna.trial.Trial.suggest_float` instead.\n",
            "\n",
            "\u001b[32m[I 2022-10-03 21:54:19,782]\u001b[0m Trial 39 finished with value: 0.7315438596491228 and parameters: {'n_estimators': 19, 'max_depth': 10.708918248918376}. Best is trial 17 with value: 0.7661052631578948.\u001b[0m\n",
            "/usr/local/lib/python3.7/dist-packages/ipykernel_launcher.py:7: FutureWarning:\n",
            "\n",
            "suggest_loguniform has been deprecated in v3.0.0. This feature will be removed in v6.0.0. See https://github.com/optuna/optuna/releases/tag/v3.0.0. Use :func:`~optuna.trial.Trial.suggest_float` instead.\n",
            "\n",
            "\u001b[32m[I 2022-10-03 21:54:20,761]\u001b[0m Trial 40 finished with value: 0.7260350877192983 and parameters: {'n_estimators': 18, 'max_depth': 23.676196400762034}. Best is trial 17 with value: 0.7661052631578948.\u001b[0m\n",
            "/usr/local/lib/python3.7/dist-packages/ipykernel_launcher.py:7: FutureWarning:\n",
            "\n",
            "suggest_loguniform has been deprecated in v3.0.0. This feature will be removed in v6.0.0. See https://github.com/optuna/optuna/releases/tag/v3.0.0. Use :func:`~optuna.trial.Trial.suggest_float` instead.\n",
            "\n",
            "\u001b[32m[I 2022-10-03 21:54:21,838]\u001b[0m Trial 41 finished with value: 0.7341052631578948 and parameters: {'n_estimators': 19, 'max_depth': 8.296510600545046}. Best is trial 17 with value: 0.7661052631578948.\u001b[0m\n",
            "/usr/local/lib/python3.7/dist-packages/ipykernel_launcher.py:7: FutureWarning:\n",
            "\n",
            "suggest_loguniform has been deprecated in v3.0.0. This feature will be removed in v6.0.0. See https://github.com/optuna/optuna/releases/tag/v3.0.0. Use :func:`~optuna.trial.Trial.suggest_float` instead.\n",
            "\n",
            "\u001b[32m[I 2022-10-03 21:54:22,523]\u001b[0m Trial 42 finished with value: 0.7182105263157894 and parameters: {'n_estimators': 17, 'max_depth': 6.959072236567994}. Best is trial 17 with value: 0.7661052631578948.\u001b[0m\n",
            "/usr/local/lib/python3.7/dist-packages/ipykernel_launcher.py:7: FutureWarning:\n",
            "\n",
            "suggest_loguniform has been deprecated in v3.0.0. This feature will be removed in v6.0.0. See https://github.com/optuna/optuna/releases/tag/v3.0.0. Use :func:`~optuna.trial.Trial.suggest_float` instead.\n",
            "\n",
            "\u001b[32m[I 2022-10-03 21:54:23,271]\u001b[0m Trial 43 finished with value: 0.7368771929824561 and parameters: {'n_estimators': 16, 'max_depth': 10.743181556448588}. Best is trial 17 with value: 0.7661052631578948.\u001b[0m\n",
            "/usr/local/lib/python3.7/dist-packages/ipykernel_launcher.py:7: FutureWarning:\n",
            "\n",
            "suggest_loguniform has been deprecated in v3.0.0. This feature will be removed in v6.0.0. See https://github.com/optuna/optuna/releases/tag/v3.0.0. Use :func:`~optuna.trial.Trial.suggest_float` instead.\n",
            "\n",
            "\u001b[32m[I 2022-10-03 21:54:24,037]\u001b[0m Trial 44 finished with value: 0.7553333333333334 and parameters: {'n_estimators': 20, 'max_depth': 6.025362288020235}. Best is trial 17 with value: 0.7661052631578948.\u001b[0m\n",
            "/usr/local/lib/python3.7/dist-packages/ipykernel_launcher.py:7: FutureWarning:\n",
            "\n",
            "suggest_loguniform has been deprecated in v3.0.0. This feature will be removed in v6.0.0. See https://github.com/optuna/optuna/releases/tag/v3.0.0. Use :func:`~optuna.trial.Trial.suggest_float` instead.\n",
            "\n",
            "\u001b[32m[I 2022-10-03 21:54:24,609]\u001b[0m Trial 45 finished with value: 0.7394035087719298 and parameters: {'n_estimators': 13, 'max_depth': 12.956458430324483}. Best is trial 17 with value: 0.7661052631578948.\u001b[0m\n",
            "/usr/local/lib/python3.7/dist-packages/ipykernel_launcher.py:7: FutureWarning:\n",
            "\n",
            "suggest_loguniform has been deprecated in v3.0.0. This feature will be removed in v6.0.0. See https://github.com/optuna/optuna/releases/tag/v3.0.0. Use :func:`~optuna.trial.Trial.suggest_float` instead.\n",
            "\n",
            "\u001b[32m[I 2022-10-03 21:54:25,581]\u001b[0m Trial 46 finished with value: 0.7395087719298246 and parameters: {'n_estimators': 18, 'max_depth': 17.01339503349855}. Best is trial 17 with value: 0.7661052631578948.\u001b[0m\n",
            "/usr/local/lib/python3.7/dist-packages/ipykernel_launcher.py:7: FutureWarning:\n",
            "\n",
            "suggest_loguniform has been deprecated in v3.0.0. This feature will be removed in v6.0.0. See https://github.com/optuna/optuna/releases/tag/v3.0.0. Use :func:`~optuna.trial.Trial.suggest_float` instead.\n",
            "\n",
            "\u001b[32m[I 2022-10-03 21:54:26,283]\u001b[0m Trial 47 finished with value: 0.7394736842105262 and parameters: {'n_estimators': 15, 'max_depth': 4.482176867029111}. Best is trial 17 with value: 0.7661052631578948.\u001b[0m\n",
            "/usr/local/lib/python3.7/dist-packages/ipykernel_launcher.py:7: FutureWarning:\n",
            "\n",
            "suggest_loguniform has been deprecated in v3.0.0. This feature will be removed in v6.0.0. See https://github.com/optuna/optuna/releases/tag/v3.0.0. Use :func:`~optuna.trial.Trial.suggest_float` instead.\n",
            "\n",
            "\u001b[32m[I 2022-10-03 21:54:26,795]\u001b[0m Trial 48 finished with value: 0.7181754385964912 and parameters: {'n_estimators': 9, 'max_depth': 5.623852048915511}. Best is trial 17 with value: 0.7661052631578948.\u001b[0m\n",
            "/usr/local/lib/python3.7/dist-packages/ipykernel_launcher.py:7: FutureWarning:\n",
            "\n",
            "suggest_loguniform has been deprecated in v3.0.0. This feature will be removed in v6.0.0. See https://github.com/optuna/optuna/releases/tag/v3.0.0. Use :func:`~optuna.trial.Trial.suggest_float` instead.\n",
            "\n",
            "\u001b[32m[I 2022-10-03 21:54:27,634]\u001b[0m Trial 49 finished with value: 0.7288421052631578 and parameters: {'n_estimators': 19, 'max_depth': 7.62487043332935}. Best is trial 17 with value: 0.7661052631578948.\u001b[0m\n",
            "/usr/local/lib/python3.7/dist-packages/ipykernel_launcher.py:7: FutureWarning:\n",
            "\n",
            "suggest_loguniform has been deprecated in v3.0.0. This feature will be removed in v6.0.0. See https://github.com/optuna/optuna/releases/tag/v3.0.0. Use :func:`~optuna.trial.Trial.suggest_float` instead.\n",
            "\n",
            "\u001b[32m[I 2022-10-03 21:54:28,297]\u001b[0m Trial 50 finished with value: 0.7501754385964912 and parameters: {'n_estimators': 17, 'max_depth': 24.658254249741482}. Best is trial 17 with value: 0.7661052631578948.\u001b[0m\n",
            "/usr/local/lib/python3.7/dist-packages/ipykernel_launcher.py:7: FutureWarning:\n",
            "\n",
            "suggest_loguniform has been deprecated in v3.0.0. This feature will be removed in v6.0.0. See https://github.com/optuna/optuna/releases/tag/v3.0.0. Use :func:`~optuna.trial.Trial.suggest_float` instead.\n",
            "\n",
            "\u001b[32m[I 2022-10-03 21:54:29,010]\u001b[0m Trial 51 finished with value: 0.7633684210526316 and parameters: {'n_estimators': 20, 'max_depth': 5.589947838136243}. Best is trial 17 with value: 0.7661052631578948.\u001b[0m\n",
            "/usr/local/lib/python3.7/dist-packages/ipykernel_launcher.py:7: FutureWarning:\n",
            "\n",
            "suggest_loguniform has been deprecated in v3.0.0. This feature will be removed in v6.0.0. See https://github.com/optuna/optuna/releases/tag/v3.0.0. Use :func:`~optuna.trial.Trial.suggest_float` instead.\n",
            "\n",
            "\u001b[32m[I 2022-10-03 21:54:29,750]\u001b[0m Trial 52 finished with value: 0.7554736842105264 and parameters: {'n_estimators': 20, 'max_depth': 9.910612494098418}. Best is trial 17 with value: 0.7661052631578948.\u001b[0m\n",
            "/usr/local/lib/python3.7/dist-packages/ipykernel_launcher.py:7: FutureWarning:\n",
            "\n",
            "suggest_loguniform has been deprecated in v3.0.0. This feature will be removed in v6.0.0. See https://github.com/optuna/optuna/releases/tag/v3.0.0. Use :func:`~optuna.trial.Trial.suggest_float` instead.\n",
            "\n",
            "\u001b[32m[I 2022-10-03 21:54:30,572]\u001b[0m Trial 53 finished with value: 0.747438596491228 and parameters: {'n_estimators': 20, 'max_depth': 10.085473015274033}. Best is trial 17 with value: 0.7661052631578948.\u001b[0m\n",
            "/usr/local/lib/python3.7/dist-packages/ipykernel_launcher.py:7: FutureWarning:\n",
            "\n",
            "suggest_loguniform has been deprecated in v3.0.0. This feature will be removed in v6.0.0. See https://github.com/optuna/optuna/releases/tag/v3.0.0. Use :func:`~optuna.trial.Trial.suggest_float` instead.\n",
            "\n",
            "\u001b[32m[I 2022-10-03 21:54:31,304]\u001b[0m Trial 54 finished with value: 0.7315087719298246 and parameters: {'n_estimators': 19, 'max_depth': 12.15668507943896}. Best is trial 17 with value: 0.7661052631578948.\u001b[0m\n",
            "/usr/local/lib/python3.7/dist-packages/ipykernel_launcher.py:7: FutureWarning:\n",
            "\n",
            "suggest_loguniform has been deprecated in v3.0.0. This feature will be removed in v6.0.0. See https://github.com/optuna/optuna/releases/tag/v3.0.0. Use :func:`~optuna.trial.Trial.suggest_float` instead.\n",
            "\n",
            "\u001b[32m[I 2022-10-03 21:54:32,064]\u001b[0m Trial 55 finished with value: 0.734140350877193 and parameters: {'n_estimators': 20, 'max_depth': 7.98596535277736}. Best is trial 17 with value: 0.7661052631578948.\u001b[0m\n",
            "/usr/local/lib/python3.7/dist-packages/ipykernel_launcher.py:7: FutureWarning:\n",
            "\n",
            "suggest_loguniform has been deprecated in v3.0.0. This feature will be removed in v6.0.0. See https://github.com/optuna/optuna/releases/tag/v3.0.0. Use :func:`~optuna.trial.Trial.suggest_float` instead.\n",
            "\n",
            "\u001b[32m[I 2022-10-03 21:54:32,749]\u001b[0m Trial 56 finished with value: 0.7554736842105262 and parameters: {'n_estimators': 18, 'max_depth': 9.481511978550909}. Best is trial 17 with value: 0.7661052631578948.\u001b[0m\n",
            "/usr/local/lib/python3.7/dist-packages/ipykernel_launcher.py:7: FutureWarning:\n",
            "\n",
            "suggest_loguniform has been deprecated in v3.0.0. This feature will be removed in v6.0.0. See https://github.com/optuna/optuna/releases/tag/v3.0.0. Use :func:`~optuna.trial.Trial.suggest_float` instead.\n",
            "\n",
            "\u001b[32m[I 2022-10-03 21:54:33,394]\u001b[0m Trial 57 finished with value: 0.726140350877193 and parameters: {'n_estimators': 17, 'max_depth': 16.11719922535781}. Best is trial 17 with value: 0.7661052631578948.\u001b[0m\n",
            "/usr/local/lib/python3.7/dist-packages/ipykernel_launcher.py:7: FutureWarning:\n",
            "\n",
            "suggest_loguniform has been deprecated in v3.0.0. This feature will be removed in v6.0.0. See https://github.com/optuna/optuna/releases/tag/v3.0.0. Use :func:`~optuna.trial.Trial.suggest_float` instead.\n",
            "\n",
            "\u001b[32m[I 2022-10-03 21:54:34,120]\u001b[0m Trial 58 finished with value: 0.7394736842105264 and parameters: {'n_estimators': 18, 'max_depth': 6.524283102246166}. Best is trial 17 with value: 0.7661052631578948.\u001b[0m\n",
            "/usr/local/lib/python3.7/dist-packages/ipykernel_launcher.py:7: FutureWarning:\n",
            "\n",
            "suggest_loguniform has been deprecated in v3.0.0. This feature will be removed in v6.0.0. See https://github.com/optuna/optuna/releases/tag/v3.0.0. Use :func:`~optuna.trial.Trial.suggest_float` instead.\n",
            "\n",
            "\u001b[32m[I 2022-10-03 21:54:34,815]\u001b[0m Trial 59 finished with value: 0.7579298245614035 and parameters: {'n_estimators': 20, 'max_depth': 2.907835918323328}. Best is trial 17 with value: 0.7661052631578948.\u001b[0m\n",
            "/usr/local/lib/python3.7/dist-packages/ipykernel_launcher.py:7: FutureWarning:\n",
            "\n",
            "suggest_loguniform has been deprecated in v3.0.0. This feature will be removed in v6.0.0. See https://github.com/optuna/optuna/releases/tag/v3.0.0. Use :func:`~optuna.trial.Trial.suggest_float` instead.\n",
            "\n",
            "\u001b[32m[I 2022-10-03 21:54:35,543]\u001b[0m Trial 60 finished with value: 0.7075438596491228 and parameters: {'n_estimators': 20, 'max_depth': 1.4890966940717034}. Best is trial 17 with value: 0.7661052631578948.\u001b[0m\n",
            "/usr/local/lib/python3.7/dist-packages/ipykernel_launcher.py:7: FutureWarning:\n",
            "\n",
            "suggest_loguniform has been deprecated in v3.0.0. This feature will be removed in v6.0.0. See https://github.com/optuna/optuna/releases/tag/v3.0.0. Use :func:`~optuna.trial.Trial.suggest_float` instead.\n",
            "\n",
            "\u001b[32m[I 2022-10-03 21:54:35,940]\u001b[0m Trial 61 finished with value: 0.7021052631578947 and parameters: {'n_estimators': 18, 'max_depth': 1.0294259926619582}. Best is trial 17 with value: 0.7661052631578948.\u001b[0m\n",
            "/usr/local/lib/python3.7/dist-packages/ipykernel_launcher.py:7: FutureWarning:\n",
            "\n",
            "suggest_loguniform has been deprecated in v3.0.0. This feature will be removed in v6.0.0. See https://github.com/optuna/optuna/releases/tag/v3.0.0. Use :func:`~optuna.trial.Trial.suggest_float` instead.\n",
            "\n",
            "\u001b[32m[I 2022-10-03 21:54:36,332]\u001b[0m Trial 62 finished with value: 0.7420350877192983 and parameters: {'n_estimators': 19, 'max_depth': 3.4567236180651024}. Best is trial 17 with value: 0.7661052631578948.\u001b[0m\n",
            "/usr/local/lib/python3.7/dist-packages/ipykernel_launcher.py:7: FutureWarning:\n",
            "\n",
            "suggest_loguniform has been deprecated in v3.0.0. This feature will be removed in v6.0.0. See https://github.com/optuna/optuna/releases/tag/v3.0.0. Use :func:`~optuna.trial.Trial.suggest_float` instead.\n",
            "\n",
            "\u001b[32m[I 2022-10-03 21:54:36,751]\u001b[0m Trial 63 finished with value: 0.728842105263158 and parameters: {'n_estimators': 20, 'max_depth': 9.268651851738536}. Best is trial 17 with value: 0.7661052631578948.\u001b[0m\n",
            "/usr/local/lib/python3.7/dist-packages/ipykernel_launcher.py:7: FutureWarning:\n",
            "\n",
            "suggest_loguniform has been deprecated in v3.0.0. This feature will be removed in v6.0.0. See https://github.com/optuna/optuna/releases/tag/v3.0.0. Use :func:`~optuna.trial.Trial.suggest_float` instead.\n",
            "\n",
            "\u001b[32m[I 2022-10-03 21:54:37,097]\u001b[0m Trial 64 finished with value: 0.7287368421052631 and parameters: {'n_estimators': 13, 'max_depth': 2.8143546267064554}. Best is trial 17 with value: 0.7661052631578948.\u001b[0m\n",
            "/usr/local/lib/python3.7/dist-packages/ipykernel_launcher.py:7: FutureWarning:\n",
            "\n",
            "suggest_loguniform has been deprecated in v3.0.0. This feature will be removed in v6.0.0. See https://github.com/optuna/optuna/releases/tag/v3.0.0. Use :func:`~optuna.trial.Trial.suggest_float` instead.\n",
            "\n",
            "\u001b[32m[I 2022-10-03 21:54:37,456]\u001b[0m Trial 65 finished with value: 0.750140350877193 and parameters: {'n_estimators': 15, 'max_depth': 2.0038545998971427}. Best is trial 17 with value: 0.7661052631578948.\u001b[0m\n",
            "/usr/local/lib/python3.7/dist-packages/ipykernel_launcher.py:7: FutureWarning:\n",
            "\n",
            "suggest_loguniform has been deprecated in v3.0.0. This feature will be removed in v6.0.0. See https://github.com/optuna/optuna/releases/tag/v3.0.0. Use :func:`~optuna.trial.Trial.suggest_float` instead.\n",
            "\n",
            "\u001b[32m[I 2022-10-03 21:54:37,862]\u001b[0m Trial 66 finished with value: 0.7499298245614036 and parameters: {'n_estimators': 19, 'max_depth': 4.248464263104773}. Best is trial 17 with value: 0.7661052631578948.\u001b[0m\n",
            "/usr/local/lib/python3.7/dist-packages/ipykernel_launcher.py:7: FutureWarning:\n",
            "\n",
            "suggest_loguniform has been deprecated in v3.0.0. This feature will be removed in v6.0.0. See https://github.com/optuna/optuna/releases/tag/v3.0.0. Use :func:`~optuna.trial.Trial.suggest_float` instead.\n",
            "\n",
            "\u001b[32m[I 2022-10-03 21:54:38,318]\u001b[0m Trial 67 finished with value: 0.7183157894736842 and parameters: {'n_estimators': 20, 'max_depth': 14.55418225627299}. Best is trial 17 with value: 0.7661052631578948.\u001b[0m\n",
            "/usr/local/lib/python3.7/dist-packages/ipykernel_launcher.py:7: FutureWarning:\n",
            "\n",
            "suggest_loguniform has been deprecated in v3.0.0. This feature will be removed in v6.0.0. See https://github.com/optuna/optuna/releases/tag/v3.0.0. Use :func:`~optuna.trial.Trial.suggest_float` instead.\n",
            "\n",
            "\u001b[32m[I 2022-10-03 21:54:38,644]\u001b[0m Trial 68 finished with value: 0.7314035087719299 and parameters: {'n_estimators': 12, 'max_depth': 5.001690411713108}. Best is trial 17 with value: 0.7661052631578948.\u001b[0m\n",
            "/usr/local/lib/python3.7/dist-packages/ipykernel_launcher.py:7: FutureWarning:\n",
            "\n",
            "suggest_loguniform has been deprecated in v3.0.0. This feature will be removed in v6.0.0. See https://github.com/optuna/optuna/releases/tag/v3.0.0. Use :func:`~optuna.trial.Trial.suggest_float` instead.\n",
            "\n",
            "\u001b[32m[I 2022-10-03 21:54:39,026]\u001b[0m Trial 69 finished with value: 0.7447719298245614 and parameters: {'n_estimators': 16, 'max_depth': 5.81535550578429}. Best is trial 17 with value: 0.7661052631578948.\u001b[0m\n",
            "/usr/local/lib/python3.7/dist-packages/ipykernel_launcher.py:7: FutureWarning:\n",
            "\n",
            "suggest_loguniform has been deprecated in v3.0.0. This feature will be removed in v6.0.0. See https://github.com/optuna/optuna/releases/tag/v3.0.0. Use :func:`~optuna.trial.Trial.suggest_float` instead.\n",
            "\n",
            "\u001b[32m[I 2022-10-03 21:54:39,416]\u001b[0m Trial 70 finished with value: 0.7314035087719298 and parameters: {'n_estimators': 18, 'max_depth': 2.909390718957473}. Best is trial 17 with value: 0.7661052631578948.\u001b[0m\n",
            "/usr/local/lib/python3.7/dist-packages/ipykernel_launcher.py:7: FutureWarning:\n",
            "\n",
            "suggest_loguniform has been deprecated in v3.0.0. This feature will be removed in v6.0.0. See https://github.com/optuna/optuna/releases/tag/v3.0.0. Use :func:`~optuna.trial.Trial.suggest_float` instead.\n",
            "\n",
            "\u001b[32m[I 2022-10-03 21:54:39,697]\u001b[0m Trial 71 finished with value: 0.7473684210526316 and parameters: {'n_estimators': 10, 'max_depth': 6.642078689680563}. Best is trial 17 with value: 0.7661052631578948.\u001b[0m\n",
            "/usr/local/lib/python3.7/dist-packages/ipykernel_launcher.py:7: FutureWarning:\n",
            "\n",
            "suggest_loguniform has been deprecated in v3.0.0. This feature will be removed in v6.0.0. See https://github.com/optuna/optuna/releases/tag/v3.0.0. Use :func:`~optuna.trial.Trial.suggest_float` instead.\n",
            "\n",
            "\u001b[32m[I 2022-10-03 21:54:39,942]\u001b[0m Trial 72 finished with value: 0.768701754385965 and parameters: {'n_estimators': 8, 'max_depth': 3.700126918343364}. Best is trial 72 with value: 0.768701754385965.\u001b[0m\n",
            "/usr/local/lib/python3.7/dist-packages/ipykernel_launcher.py:7: FutureWarning:\n",
            "\n",
            "suggest_loguniform has been deprecated in v3.0.0. This feature will be removed in v6.0.0. See https://github.com/optuna/optuna/releases/tag/v3.0.0. Use :func:`~optuna.trial.Trial.suggest_float` instead.\n",
            "\n",
            "\u001b[32m[I 2022-10-03 21:54:40,226]\u001b[0m Trial 73 finished with value: 0.7447017543859649 and parameters: {'n_estimators': 9, 'max_depth': 3.882295358498054}. Best is trial 72 with value: 0.768701754385965.\u001b[0m\n",
            "/usr/local/lib/python3.7/dist-packages/ipykernel_launcher.py:7: FutureWarning:\n",
            "\n",
            "suggest_loguniform has been deprecated in v3.0.0. This feature will be removed in v6.0.0. See https://github.com/optuna/optuna/releases/tag/v3.0.0. Use :func:`~optuna.trial.Trial.suggest_float` instead.\n",
            "\n",
            "\u001b[32m[I 2022-10-03 21:54:40,627]\u001b[0m Trial 74 finished with value: 0.7367017543859649 and parameters: {'n_estimators': 20, 'max_depth': 2.2159145724458296}. Best is trial 72 with value: 0.768701754385965.\u001b[0m\n",
            "/usr/local/lib/python3.7/dist-packages/ipykernel_launcher.py:7: FutureWarning:\n",
            "\n",
            "suggest_loguniform has been deprecated in v3.0.0. This feature will be removed in v6.0.0. See https://github.com/optuna/optuna/releases/tag/v3.0.0. Use :func:`~optuna.trial.Trial.suggest_float` instead.\n",
            "\n",
            "\u001b[32m[I 2022-10-03 21:54:40,872]\u001b[0m Trial 75 finished with value: 0.7314736842105263 and parameters: {'n_estimators': 7, 'max_depth': 3.567333005915716}. Best is trial 72 with value: 0.768701754385965.\u001b[0m\n",
            "/usr/local/lib/python3.7/dist-packages/ipykernel_launcher.py:7: FutureWarning:\n",
            "\n",
            "suggest_loguniform has been deprecated in v3.0.0. This feature will be removed in v6.0.0. See https://github.com/optuna/optuna/releases/tag/v3.0.0. Use :func:`~optuna.trial.Trial.suggest_float` instead.\n",
            "\n",
            "\u001b[32m[I 2022-10-03 21:54:41,167]\u001b[0m Trial 76 finished with value: 0.7446666666666667 and parameters: {'n_estimators': 11, 'max_depth': 3.162392788652106}. Best is trial 72 with value: 0.768701754385965.\u001b[0m\n",
            "/usr/local/lib/python3.7/dist-packages/ipykernel_launcher.py:7: FutureWarning:\n",
            "\n",
            "suggest_loguniform has been deprecated in v3.0.0. This feature will be removed in v6.0.0. See https://github.com/optuna/optuna/releases/tag/v3.0.0. Use :func:`~optuna.trial.Trial.suggest_float` instead.\n",
            "\n",
            "\u001b[32m[I 2022-10-03 21:54:41,564]\u001b[0m Trial 77 finished with value: 0.7340701754385964 and parameters: {'n_estimators': 19, 'max_depth': 4.529788239706554}. Best is trial 72 with value: 0.768701754385965.\u001b[0m\n",
            "/usr/local/lib/python3.7/dist-packages/ipykernel_launcher.py:7: FutureWarning:\n",
            "\n",
            "suggest_loguniform has been deprecated in v3.0.0. This feature will be removed in v6.0.0. See https://github.com/optuna/optuna/releases/tag/v3.0.0. Use :func:`~optuna.trial.Trial.suggest_float` instead.\n",
            "\n",
            "\u001b[32m[I 2022-10-03 21:54:41,936]\u001b[0m Trial 78 finished with value: 0.7527719298245614 and parameters: {'n_estimators': 17, 'max_depth': 5.498481132637007}. Best is trial 72 with value: 0.768701754385965.\u001b[0m\n",
            "/usr/local/lib/python3.7/dist-packages/ipykernel_launcher.py:7: FutureWarning:\n",
            "\n",
            "suggest_loguniform has been deprecated in v3.0.0. This feature will be removed in v6.0.0. See https://github.com/optuna/optuna/releases/tag/v3.0.0. Use :func:`~optuna.trial.Trial.suggest_float` instead.\n",
            "\n",
            "\u001b[32m[I 2022-10-03 21:54:42,358]\u001b[0m Trial 79 finished with value: 0.750140350877193 and parameters: {'n_estimators': 19, 'max_depth': 8.421380813763125}. Best is trial 72 with value: 0.768701754385965.\u001b[0m\n",
            "/usr/local/lib/python3.7/dist-packages/ipykernel_launcher.py:7: FutureWarning:\n",
            "\n",
            "suggest_loguniform has been deprecated in v3.0.0. This feature will be removed in v6.0.0. See https://github.com/optuna/optuna/releases/tag/v3.0.0. Use :func:`~optuna.trial.Trial.suggest_float` instead.\n",
            "\n",
            "\u001b[32m[I 2022-10-03 21:54:42,634]\u001b[0m Trial 80 finished with value: 0.7288421052631578 and parameters: {'n_estimators': 8, 'max_depth': 19.134773315512653}. Best is trial 72 with value: 0.768701754385965.\u001b[0m\n",
            "/usr/local/lib/python3.7/dist-packages/ipykernel_launcher.py:7: FutureWarning:\n",
            "\n",
            "suggest_loguniform has been deprecated in v3.0.0. This feature will be removed in v6.0.0. See https://github.com/optuna/optuna/releases/tag/v3.0.0. Use :func:`~optuna.trial.Trial.suggest_float` instead.\n",
            "\n",
            "\u001b[32m[I 2022-10-03 21:54:43,045]\u001b[0m Trial 81 finished with value: 0.7261403508771931 and parameters: {'n_estimators': 18, 'max_depth': 9.201247545071071}. Best is trial 72 with value: 0.768701754385965.\u001b[0m\n",
            "/usr/local/lib/python3.7/dist-packages/ipykernel_launcher.py:7: FutureWarning:\n",
            "\n",
            "suggest_loguniform has been deprecated in v3.0.0. This feature will be removed in v6.0.0. See https://github.com/optuna/optuna/releases/tag/v3.0.0. Use :func:`~optuna.trial.Trial.suggest_float` instead.\n",
            "\n",
            "\u001b[32m[I 2022-10-03 21:54:43,504]\u001b[0m Trial 82 finished with value: 0.7420701754385964 and parameters: {'n_estimators': 20, 'max_depth': 10.164805010966528}. Best is trial 72 with value: 0.768701754385965.\u001b[0m\n",
            "/usr/local/lib/python3.7/dist-packages/ipykernel_launcher.py:7: FutureWarning:\n",
            "\n",
            "suggest_loguniform has been deprecated in v3.0.0. This feature will be removed in v6.0.0. See https://github.com/optuna/optuna/releases/tag/v3.0.0. Use :func:`~optuna.trial.Trial.suggest_float` instead.\n",
            "\n",
            "\u001b[32m[I 2022-10-03 21:54:43,909]\u001b[0m Trial 83 finished with value: 0.7473684210526315 and parameters: {'n_estimators': 19, 'max_depth': 12.731005928298577}. Best is trial 72 with value: 0.768701754385965.\u001b[0m\n",
            "/usr/local/lib/python3.7/dist-packages/ipykernel_launcher.py:7: FutureWarning:\n",
            "\n",
            "suggest_loguniform has been deprecated in v3.0.0. This feature will be removed in v6.0.0. See https://github.com/optuna/optuna/releases/tag/v3.0.0. Use :func:`~optuna.trial.Trial.suggest_float` instead.\n",
            "\n",
            "\u001b[32m[I 2022-10-03 21:54:44,266]\u001b[0m Trial 84 finished with value: 0.7287719298245614 and parameters: {'n_estimators': 14, 'max_depth': 7.654897094815929}. Best is trial 72 with value: 0.768701754385965.\u001b[0m\n",
            "/usr/local/lib/python3.7/dist-packages/ipykernel_launcher.py:7: FutureWarning:\n",
            "\n",
            "suggest_loguniform has been deprecated in v3.0.0. This feature will be removed in v6.0.0. See https://github.com/optuna/optuna/releases/tag/v3.0.0. Use :func:`~optuna.trial.Trial.suggest_float` instead.\n",
            "\n",
            "\u001b[32m[I 2022-10-03 21:54:44,690]\u001b[0m Trial 85 finished with value: 0.7340350877192983 and parameters: {'n_estimators': 20, 'max_depth': 2.9190552299986776}. Best is trial 72 with value: 0.768701754385965.\u001b[0m\n",
            "/usr/local/lib/python3.7/dist-packages/ipykernel_launcher.py:7: FutureWarning:\n",
            "\n",
            "suggest_loguniform has been deprecated in v3.0.0. This feature will be removed in v6.0.0. See https://github.com/optuna/optuna/releases/tag/v3.0.0. Use :func:`~optuna.trial.Trial.suggest_float` instead.\n",
            "\n",
            "\u001b[32m[I 2022-10-03 21:54:45,097]\u001b[0m Trial 86 finished with value: 0.7420701754385964 and parameters: {'n_estimators': 19, 'max_depth': 6.187617239785745}. Best is trial 72 with value: 0.768701754385965.\u001b[0m\n",
            "/usr/local/lib/python3.7/dist-packages/ipykernel_launcher.py:7: FutureWarning:\n",
            "\n",
            "suggest_loguniform has been deprecated in v3.0.0. This feature will be removed in v6.0.0. See https://github.com/optuna/optuna/releases/tag/v3.0.0. Use :func:`~optuna.trial.Trial.suggest_float` instead.\n",
            "\n",
            "\u001b[32m[I 2022-10-03 21:54:45,352]\u001b[0m Trial 87 finished with value: 0.7367368421052631 and parameters: {'n_estimators': 6, 'max_depth': 5.309845559997423}. Best is trial 72 with value: 0.768701754385965.\u001b[0m\n",
            "/usr/local/lib/python3.7/dist-packages/ipykernel_launcher.py:7: FutureWarning:\n",
            "\n",
            "suggest_loguniform has been deprecated in v3.0.0. This feature will be removed in v6.0.0. See https://github.com/optuna/optuna/releases/tag/v3.0.0. Use :func:`~optuna.trial.Trial.suggest_float` instead.\n",
            "\n",
            "\u001b[32m[I 2022-10-03 21:54:45,751]\u001b[0m Trial 88 finished with value: 0.7395438596491228 and parameters: {'n_estimators': 18, 'max_depth': 9.836014658580858}. Best is trial 72 with value: 0.768701754385965.\u001b[0m\n",
            "/usr/local/lib/python3.7/dist-packages/ipykernel_launcher.py:7: FutureWarning:\n",
            "\n",
            "suggest_loguniform has been deprecated in v3.0.0. This feature will be removed in v6.0.0. See https://github.com/optuna/optuna/releases/tag/v3.0.0. Use :func:`~optuna.trial.Trial.suggest_float` instead.\n",
            "\n",
            "\u001b[32m[I 2022-10-03 21:54:46,138]\u001b[0m Trial 89 finished with value: 0.7316140350877192 and parameters: {'n_estimators': 17, 'max_depth': 11.66678649318242}. Best is trial 72 with value: 0.768701754385965.\u001b[0m\n",
            "/usr/local/lib/python3.7/dist-packages/ipykernel_launcher.py:7: FutureWarning:\n",
            "\n",
            "suggest_loguniform has been deprecated in v3.0.0. This feature will be removed in v6.0.0. See https://github.com/optuna/optuna/releases/tag/v3.0.0. Use :func:`~optuna.trial.Trial.suggest_float` instead.\n",
            "\n",
            "\u001b[32m[I 2022-10-03 21:54:46,340]\u001b[0m Trial 90 finished with value: 0.7262456140350877 and parameters: {'n_estimators': 3, 'max_depth': 13.983596600842041}. Best is trial 72 with value: 0.768701754385965.\u001b[0m\n",
            "/usr/local/lib/python3.7/dist-packages/ipykernel_launcher.py:7: FutureWarning:\n",
            "\n",
            "suggest_loguniform has been deprecated in v3.0.0. This feature will be removed in v6.0.0. See https://github.com/optuna/optuna/releases/tag/v3.0.0. Use :func:`~optuna.trial.Trial.suggest_float` instead.\n",
            "\n",
            "\u001b[32m[I 2022-10-03 21:54:46,603]\u001b[0m Trial 91 finished with value: 0.7473684210526315 and parameters: {'n_estimators': 9, 'max_depth': 3.900783520227367}. Best is trial 72 with value: 0.768701754385965.\u001b[0m\n",
            "/usr/local/lib/python3.7/dist-packages/ipykernel_launcher.py:7: FutureWarning:\n",
            "\n",
            "suggest_loguniform has been deprecated in v3.0.0. This feature will be removed in v6.0.0. See https://github.com/optuna/optuna/releases/tag/v3.0.0. Use :func:`~optuna.trial.Trial.suggest_float` instead.\n",
            "\n",
            "\u001b[32m[I 2022-10-03 21:54:46,867]\u001b[0m Trial 92 finished with value: 0.7446666666666666 and parameters: {'n_estimators': 8, 'max_depth': 4.714604014004228}. Best is trial 72 with value: 0.768701754385965.\u001b[0m\n",
            "/usr/local/lib/python3.7/dist-packages/ipykernel_launcher.py:7: FutureWarning:\n",
            "\n",
            "suggest_loguniform has been deprecated in v3.0.0. This feature will be removed in v6.0.0. See https://github.com/optuna/optuna/releases/tag/v3.0.0. Use :func:`~optuna.trial.Trial.suggest_float` instead.\n",
            "\n",
            "\u001b[32m[I 2022-10-03 21:54:47,093]\u001b[0m Trial 93 finished with value: 0.7182456140350878 and parameters: {'n_estimators': 6, 'max_depth': 7.094120137393257}. Best is trial 72 with value: 0.768701754385965.\u001b[0m\n",
            "/usr/local/lib/python3.7/dist-packages/ipykernel_launcher.py:7: FutureWarning:\n",
            "\n",
            "suggest_loguniform has been deprecated in v3.0.0. This feature will be removed in v6.0.0. See https://github.com/optuna/optuna/releases/tag/v3.0.0. Use :func:`~optuna.trial.Trial.suggest_float` instead.\n",
            "\n",
            "\u001b[32m[I 2022-10-03 21:54:47,386]\u001b[0m Trial 94 finished with value: 0.7499298245614033 and parameters: {'n_estimators': 10, 'max_depth': 4.205839695663145}. Best is trial 72 with value: 0.768701754385965.\u001b[0m\n",
            "/usr/local/lib/python3.7/dist-packages/ipykernel_launcher.py:7: FutureWarning:\n",
            "\n",
            "suggest_loguniform has been deprecated in v3.0.0. This feature will be removed in v6.0.0. See https://github.com/optuna/optuna/releases/tag/v3.0.0. Use :func:`~optuna.trial.Trial.suggest_float` instead.\n",
            "\n",
            "\u001b[32m[I 2022-10-03 21:54:47,784]\u001b[0m Trial 95 finished with value: 0.7474736842105264 and parameters: {'n_estimators': 19, 'max_depth': 5.124861983779483}. Best is trial 72 with value: 0.768701754385965.\u001b[0m\n",
            "/usr/local/lib/python3.7/dist-packages/ipykernel_launcher.py:7: FutureWarning:\n",
            "\n",
            "suggest_loguniform has been deprecated in v3.0.0. This feature will be removed in v6.0.0. See https://github.com/optuna/optuna/releases/tag/v3.0.0. Use :func:`~optuna.trial.Trial.suggest_float` instead.\n",
            "\n",
            "\u001b[32m[I 2022-10-03 21:54:48,105]\u001b[0m Trial 96 finished with value: 0.7263157894736841 and parameters: {'n_estimators': 12, 'max_depth': 7.951619101140702}. Best is trial 72 with value: 0.768701754385965.\u001b[0m\n",
            "/usr/local/lib/python3.7/dist-packages/ipykernel_launcher.py:7: FutureWarning:\n",
            "\n",
            "suggest_loguniform has been deprecated in v3.0.0. This feature will be removed in v6.0.0. See https://github.com/optuna/optuna/releases/tag/v3.0.0. Use :func:`~optuna.trial.Trial.suggest_float` instead.\n",
            "\n",
            "\u001b[32m[I 2022-10-03 21:54:48,384]\u001b[0m Trial 97 finished with value: 0.7234736842105264 and parameters: {'n_estimators': 7, 'max_depth': 5.99401733183369}. Best is trial 72 with value: 0.768701754385965.\u001b[0m\n",
            "/usr/local/lib/python3.7/dist-packages/ipykernel_launcher.py:7: FutureWarning:\n",
            "\n",
            "suggest_loguniform has been deprecated in v3.0.0. This feature will be removed in v6.0.0. See https://github.com/optuna/optuna/releases/tag/v3.0.0. Use :func:`~optuna.trial.Trial.suggest_float` instead.\n",
            "\n",
            "\u001b[32m[I 2022-10-03 21:54:48,821]\u001b[0m Trial 98 finished with value: 0.7341052631578948 and parameters: {'n_estimators': 20, 'max_depth': 8.869305982980823}. Best is trial 72 with value: 0.768701754385965.\u001b[0m\n",
            "/usr/local/lib/python3.7/dist-packages/ipykernel_launcher.py:7: FutureWarning:\n",
            "\n",
            "suggest_loguniform has been deprecated in v3.0.0. This feature will be removed in v6.0.0. See https://github.com/optuna/optuna/releases/tag/v3.0.0. Use :func:`~optuna.trial.Trial.suggest_float` instead.\n",
            "\n",
            "\u001b[32m[I 2022-10-03 21:54:49,068]\u001b[0m Trial 99 finished with value: 0.7314385964912281 and parameters: {'n_estimators': 8, 'max_depth': 3.4146910005735527}. Best is trial 72 with value: 0.768701754385965.\u001b[0m\n"
          ]
        }
      ]
    },
    {
      "cell_type": "code",
      "source": [
        "trial = study.best_trial\n",
        "print('Accuracy: {}'.format(trial.value))"
      ],
      "metadata": {
        "colab": {
          "base_uri": "https://localhost:8080/"
        },
        "id": "EuukgQPxq0H3",
        "outputId": "87e41ff5-a2b0-486d-c419-244943b2fedd"
      },
      "execution_count": 332,
      "outputs": [
        {
          "output_type": "stream",
          "name": "stdout",
          "text": [
            "Accuracy: 0.768701754385965\n"
          ]
        }
      ]
    },
    {
      "cell_type": "code",
      "source": [
        "print(\"Best hyperparameters: {}\".format(trial.params))"
      ],
      "metadata": {
        "colab": {
          "base_uri": "https://localhost:8080/"
        },
        "id": "zUdu-M2Jq2Zd",
        "outputId": "40bb7cd5-6ca8-46a5-ff54-3cb8c2138218"
      },
      "execution_count": 333,
      "outputs": [
        {
          "output_type": "stream",
          "name": "stdout",
          "text": [
            "Best hyperparameters: {'n_estimators': 8, 'max_depth': 3.700126918343364}\n"
          ]
        }
      ]
    },
    {
      "cell_type": "code",
      "source": [
        "optuna.visualization.plot_optimization_history(study)"
      ],
      "metadata": {
        "colab": {
          "base_uri": "https://localhost:8080/",
          "height": 542
        },
        "id": "tCnssoQ4q4K0",
        "outputId": "bbcc1392-03f4-41d6-b547-fedef7fb2110"
      },
      "execution_count": 334,
      "outputs": [
        {
          "output_type": "display_data",
          "data": {
            "text/html": [
              "<html>\n",
              "<head><meta charset=\"utf-8\" /></head>\n",
              "<body>\n",
              "    <div>            <script src=\"https://cdnjs.cloudflare.com/ajax/libs/mathjax/2.7.5/MathJax.js?config=TeX-AMS-MML_SVG\"></script><script type=\"text/javascript\">if (window.MathJax) {MathJax.Hub.Config({SVG: {font: \"STIX-Web\"}});}</script>                <script type=\"text/javascript\">window.PlotlyConfig = {MathJaxConfig: 'local'};</script>\n",
              "        <script src=\"https://cdn.plot.ly/plotly-2.8.3.min.js\"></script>                <div id=\"b3d10f88-904f-4f94-a455-c66aa352ba5c\" class=\"plotly-graph-div\" style=\"height:525px; width:100%;\"></div>            <script type=\"text/javascript\">                                    window.PLOTLYENV=window.PLOTLYENV || {};                                    if (document.getElementById(\"b3d10f88-904f-4f94-a455-c66aa352ba5c\")) {                    Plotly.newPlot(                        \"b3d10f88-904f-4f94-a455-c66aa352ba5c\",                        [{\"mode\":\"markers\",\"name\":\"Objective Value\",\"x\":[0,1,2,3,4,5,6,7,8,9,10,11,12,13,14,15,16,17,18,19,20,21,22,23,24,25,26,27,28,29,30,31,32,33,34,35,36,37,38,39,40,41,42,43,44,45,46,47,48,49,50,51,52,53,54,55,56,57,58,59,60,61,62,63,64,65,66,67,68,69,70,71,72,73,74,75,76,77,78,79,80,81,82,83,84,85,86,87,88,89,90,91,92,93,94,95,96,97,98,99],\"y\":[0.7607017543859648,0.7234385964912281,0.7528421052631579,0.7153333333333334,0.7021754385964912,0.7341403508771929,0.73940350877193,0.710280701754386,0.7154736842105263,0.7261754385964913,0.755438596491228,0.7340701754385964,0.7342456140350877,0.7156491228070175,0.7607719298245614,0.7314736842105263,0.7208771929824562,0.7661052631578948,0.7526666666666666,0.7316491228070175,0.7419649122807017,0.7474736842105263,0.7500701754385966,0.7527719298245613,0.7315789473684211,0.7101052631578947,0.7367719298245614,0.7527368421052631,0.7182456140350877,0.7288771929824561,0.7448771929824561,0.7315789473684211,0.7262105263157895,0.7394035087719297,0.6969824561403508,0.7127368421052631,0.7289122807017543,0.755438596491228,0.7288421052631578,0.7315438596491228,0.7260350877192983,0.7341052631578948,0.7182105263157894,0.7368771929824561,0.7553333333333334,0.7394035087719298,0.7395087719298246,0.7394736842105262,0.7181754385964912,0.7288421052631578,0.7501754385964912,0.7633684210526316,0.7554736842105264,0.747438596491228,0.7315087719298246,0.734140350877193,0.7554736842105262,0.726140350877193,0.7394736842105264,0.7579298245614035,0.7075438596491228,0.7021052631578947,0.7420350877192983,0.728842105263158,0.7287368421052631,0.750140350877193,0.7499298245614036,0.7183157894736842,0.7314035087719299,0.7447719298245614,0.7314035087719298,0.7473684210526316,0.768701754385965,0.7447017543859649,0.7367017543859649,0.7314736842105263,0.7446666666666667,0.7340701754385964,0.7527719298245614,0.750140350877193,0.7288421052631578,0.7261403508771931,0.7420701754385964,0.7473684210526315,0.7287719298245614,0.7340350877192983,0.7420701754385964,0.7367368421052631,0.7395438596491228,0.7316140350877192,0.7262456140350877,0.7473684210526315,0.7446666666666666,0.7182456140350878,0.7499298245614033,0.7474736842105264,0.7263157894736841,0.7234736842105264,0.7341052631578948,0.7314385964912281],\"type\":\"scatter\"},{\"name\":\"Best Value\",\"x\":[0,1,2,3,4,5,6,7,8,9,10,11,12,13,14,15,16,17,18,19,20,21,22,23,24,25,26,27,28,29,30,31,32,33,34,35,36,37,38,39,40,41,42,43,44,45,46,47,48,49,50,51,52,53,54,55,56,57,58,59,60,61,62,63,64,65,66,67,68,69,70,71,72,73,74,75,76,77,78,79,80,81,82,83,84,85,86,87,88,89,90,91,92,93,94,95,96,97,98,99],\"y\":[0.7607017543859648,0.7607017543859648,0.7607017543859648,0.7607017543859648,0.7607017543859648,0.7607017543859648,0.7607017543859648,0.7607017543859648,0.7607017543859648,0.7607017543859648,0.7607017543859648,0.7607017543859648,0.7607017543859648,0.7607017543859648,0.7607719298245614,0.7607719298245614,0.7607719298245614,0.7661052631578948,0.7661052631578948,0.7661052631578948,0.7661052631578948,0.7661052631578948,0.7661052631578948,0.7661052631578948,0.7661052631578948,0.7661052631578948,0.7661052631578948,0.7661052631578948,0.7661052631578948,0.7661052631578948,0.7661052631578948,0.7661052631578948,0.7661052631578948,0.7661052631578948,0.7661052631578948,0.7661052631578948,0.7661052631578948,0.7661052631578948,0.7661052631578948,0.7661052631578948,0.7661052631578948,0.7661052631578948,0.7661052631578948,0.7661052631578948,0.7661052631578948,0.7661052631578948,0.7661052631578948,0.7661052631578948,0.7661052631578948,0.7661052631578948,0.7661052631578948,0.7661052631578948,0.7661052631578948,0.7661052631578948,0.7661052631578948,0.7661052631578948,0.7661052631578948,0.7661052631578948,0.7661052631578948,0.7661052631578948,0.7661052631578948,0.7661052631578948,0.7661052631578948,0.7661052631578948,0.7661052631578948,0.7661052631578948,0.7661052631578948,0.7661052631578948,0.7661052631578948,0.7661052631578948,0.7661052631578948,0.7661052631578948,0.768701754385965,0.768701754385965,0.768701754385965,0.768701754385965,0.768701754385965,0.768701754385965,0.768701754385965,0.768701754385965,0.768701754385965,0.768701754385965,0.768701754385965,0.768701754385965,0.768701754385965,0.768701754385965,0.768701754385965,0.768701754385965,0.768701754385965,0.768701754385965,0.768701754385965,0.768701754385965,0.768701754385965,0.768701754385965,0.768701754385965,0.768701754385965,0.768701754385965,0.768701754385965,0.768701754385965,0.768701754385965],\"type\":\"scatter\"}],                        {\"title\":{\"text\":\"Optimization History Plot\"},\"xaxis\":{\"title\":{\"text\":\"Trial\"}},\"yaxis\":{\"title\":{\"text\":\"Objective Value\"}},\"template\":{\"data\":{\"bar\":[{\"error_x\":{\"color\":\"#2a3f5f\"},\"error_y\":{\"color\":\"#2a3f5f\"},\"marker\":{\"line\":{\"color\":\"#E5ECF6\",\"width\":0.5},\"pattern\":{\"fillmode\":\"overlay\",\"size\":10,\"solidity\":0.2}},\"type\":\"bar\"}],\"barpolar\":[{\"marker\":{\"line\":{\"color\":\"#E5ECF6\",\"width\":0.5},\"pattern\":{\"fillmode\":\"overlay\",\"size\":10,\"solidity\":0.2}},\"type\":\"barpolar\"}],\"carpet\":[{\"aaxis\":{\"endlinecolor\":\"#2a3f5f\",\"gridcolor\":\"white\",\"linecolor\":\"white\",\"minorgridcolor\":\"white\",\"startlinecolor\":\"#2a3f5f\"},\"baxis\":{\"endlinecolor\":\"#2a3f5f\",\"gridcolor\":\"white\",\"linecolor\":\"white\",\"minorgridcolor\":\"white\",\"startlinecolor\":\"#2a3f5f\"},\"type\":\"carpet\"}],\"choropleth\":[{\"colorbar\":{\"outlinewidth\":0,\"ticks\":\"\"},\"type\":\"choropleth\"}],\"contour\":[{\"colorbar\":{\"outlinewidth\":0,\"ticks\":\"\"},\"colorscale\":[[0.0,\"#0d0887\"],[0.1111111111111111,\"#46039f\"],[0.2222222222222222,\"#7201a8\"],[0.3333333333333333,\"#9c179e\"],[0.4444444444444444,\"#bd3786\"],[0.5555555555555556,\"#d8576b\"],[0.6666666666666666,\"#ed7953\"],[0.7777777777777778,\"#fb9f3a\"],[0.8888888888888888,\"#fdca26\"],[1.0,\"#f0f921\"]],\"type\":\"contour\"}],\"contourcarpet\":[{\"colorbar\":{\"outlinewidth\":0,\"ticks\":\"\"},\"type\":\"contourcarpet\"}],\"heatmap\":[{\"colorbar\":{\"outlinewidth\":0,\"ticks\":\"\"},\"colorscale\":[[0.0,\"#0d0887\"],[0.1111111111111111,\"#46039f\"],[0.2222222222222222,\"#7201a8\"],[0.3333333333333333,\"#9c179e\"],[0.4444444444444444,\"#bd3786\"],[0.5555555555555556,\"#d8576b\"],[0.6666666666666666,\"#ed7953\"],[0.7777777777777778,\"#fb9f3a\"],[0.8888888888888888,\"#fdca26\"],[1.0,\"#f0f921\"]],\"type\":\"heatmap\"}],\"heatmapgl\":[{\"colorbar\":{\"outlinewidth\":0,\"ticks\":\"\"},\"colorscale\":[[0.0,\"#0d0887\"],[0.1111111111111111,\"#46039f\"],[0.2222222222222222,\"#7201a8\"],[0.3333333333333333,\"#9c179e\"],[0.4444444444444444,\"#bd3786\"],[0.5555555555555556,\"#d8576b\"],[0.6666666666666666,\"#ed7953\"],[0.7777777777777778,\"#fb9f3a\"],[0.8888888888888888,\"#fdca26\"],[1.0,\"#f0f921\"]],\"type\":\"heatmapgl\"}],\"histogram\":[{\"marker\":{\"pattern\":{\"fillmode\":\"overlay\",\"size\":10,\"solidity\":0.2}},\"type\":\"histogram\"}],\"histogram2d\":[{\"colorbar\":{\"outlinewidth\":0,\"ticks\":\"\"},\"colorscale\":[[0.0,\"#0d0887\"],[0.1111111111111111,\"#46039f\"],[0.2222222222222222,\"#7201a8\"],[0.3333333333333333,\"#9c179e\"],[0.4444444444444444,\"#bd3786\"],[0.5555555555555556,\"#d8576b\"],[0.6666666666666666,\"#ed7953\"],[0.7777777777777778,\"#fb9f3a\"],[0.8888888888888888,\"#fdca26\"],[1.0,\"#f0f921\"]],\"type\":\"histogram2d\"}],\"histogram2dcontour\":[{\"colorbar\":{\"outlinewidth\":0,\"ticks\":\"\"},\"colorscale\":[[0.0,\"#0d0887\"],[0.1111111111111111,\"#46039f\"],[0.2222222222222222,\"#7201a8\"],[0.3333333333333333,\"#9c179e\"],[0.4444444444444444,\"#bd3786\"],[0.5555555555555556,\"#d8576b\"],[0.6666666666666666,\"#ed7953\"],[0.7777777777777778,\"#fb9f3a\"],[0.8888888888888888,\"#fdca26\"],[1.0,\"#f0f921\"]],\"type\":\"histogram2dcontour\"}],\"mesh3d\":[{\"colorbar\":{\"outlinewidth\":0,\"ticks\":\"\"},\"type\":\"mesh3d\"}],\"parcoords\":[{\"line\":{\"colorbar\":{\"outlinewidth\":0,\"ticks\":\"\"}},\"type\":\"parcoords\"}],\"pie\":[{\"automargin\":true,\"type\":\"pie\"}],\"scatter\":[{\"marker\":{\"colorbar\":{\"outlinewidth\":0,\"ticks\":\"\"}},\"type\":\"scatter\"}],\"scatter3d\":[{\"line\":{\"colorbar\":{\"outlinewidth\":0,\"ticks\":\"\"}},\"marker\":{\"colorbar\":{\"outlinewidth\":0,\"ticks\":\"\"}},\"type\":\"scatter3d\"}],\"scattercarpet\":[{\"marker\":{\"colorbar\":{\"outlinewidth\":0,\"ticks\":\"\"}},\"type\":\"scattercarpet\"}],\"scattergeo\":[{\"marker\":{\"colorbar\":{\"outlinewidth\":0,\"ticks\":\"\"}},\"type\":\"scattergeo\"}],\"scattergl\":[{\"marker\":{\"colorbar\":{\"outlinewidth\":0,\"ticks\":\"\"}},\"type\":\"scattergl\"}],\"scattermapbox\":[{\"marker\":{\"colorbar\":{\"outlinewidth\":0,\"ticks\":\"\"}},\"type\":\"scattermapbox\"}],\"scatterpolar\":[{\"marker\":{\"colorbar\":{\"outlinewidth\":0,\"ticks\":\"\"}},\"type\":\"scatterpolar\"}],\"scatterpolargl\":[{\"marker\":{\"colorbar\":{\"outlinewidth\":0,\"ticks\":\"\"}},\"type\":\"scatterpolargl\"}],\"scatterternary\":[{\"marker\":{\"colorbar\":{\"outlinewidth\":0,\"ticks\":\"\"}},\"type\":\"scatterternary\"}],\"surface\":[{\"colorbar\":{\"outlinewidth\":0,\"ticks\":\"\"},\"colorscale\":[[0.0,\"#0d0887\"],[0.1111111111111111,\"#46039f\"],[0.2222222222222222,\"#7201a8\"],[0.3333333333333333,\"#9c179e\"],[0.4444444444444444,\"#bd3786\"],[0.5555555555555556,\"#d8576b\"],[0.6666666666666666,\"#ed7953\"],[0.7777777777777778,\"#fb9f3a\"],[0.8888888888888888,\"#fdca26\"],[1.0,\"#f0f921\"]],\"type\":\"surface\"}],\"table\":[{\"cells\":{\"fill\":{\"color\":\"#EBF0F8\"},\"line\":{\"color\":\"white\"}},\"header\":{\"fill\":{\"color\":\"#C8D4E3\"},\"line\":{\"color\":\"white\"}},\"type\":\"table\"}]},\"layout\":{\"annotationdefaults\":{\"arrowcolor\":\"#2a3f5f\",\"arrowhead\":0,\"arrowwidth\":1},\"autotypenumbers\":\"strict\",\"coloraxis\":{\"colorbar\":{\"outlinewidth\":0,\"ticks\":\"\"}},\"colorscale\":{\"diverging\":[[0,\"#8e0152\"],[0.1,\"#c51b7d\"],[0.2,\"#de77ae\"],[0.3,\"#f1b6da\"],[0.4,\"#fde0ef\"],[0.5,\"#f7f7f7\"],[0.6,\"#e6f5d0\"],[0.7,\"#b8e186\"],[0.8,\"#7fbc41\"],[0.9,\"#4d9221\"],[1,\"#276419\"]],\"sequential\":[[0.0,\"#0d0887\"],[0.1111111111111111,\"#46039f\"],[0.2222222222222222,\"#7201a8\"],[0.3333333333333333,\"#9c179e\"],[0.4444444444444444,\"#bd3786\"],[0.5555555555555556,\"#d8576b\"],[0.6666666666666666,\"#ed7953\"],[0.7777777777777778,\"#fb9f3a\"],[0.8888888888888888,\"#fdca26\"],[1.0,\"#f0f921\"]],\"sequentialminus\":[[0.0,\"#0d0887\"],[0.1111111111111111,\"#46039f\"],[0.2222222222222222,\"#7201a8\"],[0.3333333333333333,\"#9c179e\"],[0.4444444444444444,\"#bd3786\"],[0.5555555555555556,\"#d8576b\"],[0.6666666666666666,\"#ed7953\"],[0.7777777777777778,\"#fb9f3a\"],[0.8888888888888888,\"#fdca26\"],[1.0,\"#f0f921\"]]},\"colorway\":[\"#636efa\",\"#EF553B\",\"#00cc96\",\"#ab63fa\",\"#FFA15A\",\"#19d3f3\",\"#FF6692\",\"#B6E880\",\"#FF97FF\",\"#FECB52\"],\"font\":{\"color\":\"#2a3f5f\"},\"geo\":{\"bgcolor\":\"white\",\"lakecolor\":\"white\",\"landcolor\":\"#E5ECF6\",\"showlakes\":true,\"showland\":true,\"subunitcolor\":\"white\"},\"hoverlabel\":{\"align\":\"left\"},\"hovermode\":\"closest\",\"mapbox\":{\"style\":\"light\"},\"paper_bgcolor\":\"white\",\"plot_bgcolor\":\"#E5ECF6\",\"polar\":{\"angularaxis\":{\"gridcolor\":\"white\",\"linecolor\":\"white\",\"ticks\":\"\"},\"bgcolor\":\"#E5ECF6\",\"radialaxis\":{\"gridcolor\":\"white\",\"linecolor\":\"white\",\"ticks\":\"\"}},\"scene\":{\"xaxis\":{\"backgroundcolor\":\"#E5ECF6\",\"gridcolor\":\"white\",\"gridwidth\":2,\"linecolor\":\"white\",\"showbackground\":true,\"ticks\":\"\",\"zerolinecolor\":\"white\"},\"yaxis\":{\"backgroundcolor\":\"#E5ECF6\",\"gridcolor\":\"white\",\"gridwidth\":2,\"linecolor\":\"white\",\"showbackground\":true,\"ticks\":\"\",\"zerolinecolor\":\"white\"},\"zaxis\":{\"backgroundcolor\":\"#E5ECF6\",\"gridcolor\":\"white\",\"gridwidth\":2,\"linecolor\":\"white\",\"showbackground\":true,\"ticks\":\"\",\"zerolinecolor\":\"white\"}},\"shapedefaults\":{\"line\":{\"color\":\"#2a3f5f\"}},\"ternary\":{\"aaxis\":{\"gridcolor\":\"white\",\"linecolor\":\"white\",\"ticks\":\"\"},\"baxis\":{\"gridcolor\":\"white\",\"linecolor\":\"white\",\"ticks\":\"\"},\"bgcolor\":\"#E5ECF6\",\"caxis\":{\"gridcolor\":\"white\",\"linecolor\":\"white\",\"ticks\":\"\"}},\"title\":{\"x\":0.05},\"xaxis\":{\"automargin\":true,\"gridcolor\":\"white\",\"linecolor\":\"white\",\"ticks\":\"\",\"title\":{\"standoff\":15},\"zerolinecolor\":\"white\",\"zerolinewidth\":2},\"yaxis\":{\"automargin\":true,\"gridcolor\":\"white\",\"linecolor\":\"white\",\"ticks\":\"\",\"title\":{\"standoff\":15},\"zerolinecolor\":\"white\",\"zerolinewidth\":2}}}},                        {\"responsive\": true}                    ).then(function(){\n",
              "                            \n",
              "var gd = document.getElementById('b3d10f88-904f-4f94-a455-c66aa352ba5c');\n",
              "var x = new MutationObserver(function (mutations, observer) {{\n",
              "        var display = window.getComputedStyle(gd).display;\n",
              "        if (!display || display === 'none') {{\n",
              "            console.log([gd, 'removed!']);\n",
              "            Plotly.purge(gd);\n",
              "            observer.disconnect();\n",
              "        }}\n",
              "}});\n",
              "\n",
              "// Listen for the removal of the full notebook cells\n",
              "var notebookContainer = gd.closest('#notebook-container');\n",
              "if (notebookContainer) {{\n",
              "    x.observe(notebookContainer, {childList: true});\n",
              "}}\n",
              "\n",
              "// Listen for the clearing of the current output cell\n",
              "var outputEl = gd.closest('.output');\n",
              "if (outputEl) {{\n",
              "    x.observe(outputEl, {childList: true});\n",
              "}}\n",
              "\n",
              "                        })                };                            </script>        </div>\n",
              "</body>\n",
              "</html>"
            ]
          },
          "metadata": {}
        }
      ]
    },
    {
      "cell_type": "code",
      "source": [
        "optunaRandomForest = trial"
      ],
      "metadata": {
        "id": "FAKoFJzZCUvK"
      },
      "execution_count": 335,
      "outputs": []
    },
    {
      "cell_type": "code",
      "source": [
        "import optuna\n",
        "import sklearn\n",
        "\n",
        "def objective_Decision(trial):\n",
        "      #criterion = trial.suggest_categorical(\"criterion\", [\"gini\", \"entropy\", \"log_loss\"])\n",
        "      max_depth = int(trial.suggest_loguniform('max_depth', 1, 32))\n",
        "      clf = tree.DecisionTreeClassifier(max_depth=max_depth)\n",
        "\n",
        "      score = cross_val_score(clf, train_x, train_y, n_jobs=-1, cv=5)\n",
        "      return sklearn.model_selection.cross_val_score(clf, train_x, train_y, \n",
        "           n_jobs=-1).mean()"
      ],
      "metadata": {
        "id": "mQRMHlqRz6lI"
      },
      "execution_count": 336,
      "outputs": []
    },
    {
      "cell_type": "code",
      "source": [
        "study = optuna.create_study(direction='maximize')\n",
        "study.optimize(objective_Decision, n_trials=100)"
      ],
      "metadata": {
        "colab": {
          "base_uri": "https://localhost:8080/"
        },
        "outputId": "eda9725c-7291-4a45-cb9e-5a070635c24b",
        "id": "0dDsEf3_5v2P"
      },
      "execution_count": 337,
      "outputs": [
        {
          "output_type": "stream",
          "name": "stderr",
          "text": [
            "\u001b[32m[I 2022-10-03 21:54:49,192]\u001b[0m A new study created in memory with name: no-name-f31720d6-184d-4e26-a465-07f17b7a6ea9\u001b[0m\n",
            "/usr/local/lib/python3.7/dist-packages/ipykernel_launcher.py:6: FutureWarning:\n",
            "\n",
            "suggest_loguniform has been deprecated in v3.0.0. This feature will be removed in v6.0.0. See https://github.com/optuna/optuna/releases/tag/v3.0.0. Use :func:`~optuna.trial.Trial.suggest_float` instead.\n",
            "\n",
            "\u001b[32m[I 2022-10-03 21:54:49,344]\u001b[0m Trial 0 finished with value: 0.7128421052631578 and parameters: {'max_depth': 26.046076531462226}. Best is trial 0 with value: 0.7128421052631578.\u001b[0m\n",
            "/usr/local/lib/python3.7/dist-packages/ipykernel_launcher.py:6: FutureWarning:\n",
            "\n",
            "suggest_loguniform has been deprecated in v3.0.0. This feature will be removed in v6.0.0. See https://github.com/optuna/optuna/releases/tag/v3.0.0. Use :func:`~optuna.trial.Trial.suggest_float` instead.\n",
            "\n",
            "\u001b[32m[I 2022-10-03 21:54:49,479]\u001b[0m Trial 1 finished with value: 0.6943157894736842 and parameters: {'max_depth': 10.712354613222317}. Best is trial 0 with value: 0.7128421052631578.\u001b[0m\n",
            "/usr/local/lib/python3.7/dist-packages/ipykernel_launcher.py:6: FutureWarning:\n",
            "\n",
            "suggest_loguniform has been deprecated in v3.0.0. This feature will be removed in v6.0.0. See https://github.com/optuna/optuna/releases/tag/v3.0.0. Use :func:`~optuna.trial.Trial.suggest_float` instead.\n",
            "\n",
            "\u001b[32m[I 2022-10-03 21:54:49,609]\u001b[0m Trial 2 finished with value: 0.7234736842105263 and parameters: {'max_depth': 2.175727340749944}. Best is trial 2 with value: 0.7234736842105263.\u001b[0m\n",
            "/usr/local/lib/python3.7/dist-packages/ipykernel_launcher.py:6: FutureWarning:\n",
            "\n",
            "suggest_loguniform has been deprecated in v3.0.0. This feature will be removed in v6.0.0. See https://github.com/optuna/optuna/releases/tag/v3.0.0. Use :func:`~optuna.trial.Trial.suggest_float` instead.\n",
            "\n",
            "\u001b[32m[I 2022-10-03 21:54:49,740]\u001b[0m Trial 3 finished with value: 0.694140350877193 and parameters: {'max_depth': 1.2508801933853495}. Best is trial 2 with value: 0.7234736842105263.\u001b[0m\n",
            "/usr/local/lib/python3.7/dist-packages/ipykernel_launcher.py:6: FutureWarning:\n",
            "\n",
            "suggest_loguniform has been deprecated in v3.0.0. This feature will be removed in v6.0.0. See https://github.com/optuna/optuna/releases/tag/v3.0.0. Use :func:`~optuna.trial.Trial.suggest_float` instead.\n",
            "\n",
            "\u001b[32m[I 2022-10-03 21:54:49,894]\u001b[0m Trial 4 finished with value: 0.723438596491228 and parameters: {'max_depth': 3.634184268362797}. Best is trial 2 with value: 0.7234736842105263.\u001b[0m\n",
            "/usr/local/lib/python3.7/dist-packages/ipykernel_launcher.py:6: FutureWarning:\n",
            "\n",
            "suggest_loguniform has been deprecated in v3.0.0. This feature will be removed in v6.0.0. See https://github.com/optuna/optuna/releases/tag/v3.0.0. Use :func:`~optuna.trial.Trial.suggest_float` instead.\n",
            "\n",
            "\u001b[32m[I 2022-10-03 21:54:50,132]\u001b[0m Trial 5 finished with value: 0.7181754385964912 and parameters: {'max_depth': 16.440074722272815}. Best is trial 2 with value: 0.7234736842105263.\u001b[0m\n",
            "/usr/local/lib/python3.7/dist-packages/ipykernel_launcher.py:6: FutureWarning:\n",
            "\n",
            "suggest_loguniform has been deprecated in v3.0.0. This feature will be removed in v6.0.0. See https://github.com/optuna/optuna/releases/tag/v3.0.0. Use :func:`~optuna.trial.Trial.suggest_float` instead.\n",
            "\n",
            "\u001b[32m[I 2022-10-03 21:54:50,456]\u001b[0m Trial 6 finished with value: 0.7076491228070175 and parameters: {'max_depth': 24.885206171010843}. Best is trial 2 with value: 0.7234736842105263.\u001b[0m\n",
            "/usr/local/lib/python3.7/dist-packages/ipykernel_launcher.py:6: FutureWarning:\n",
            "\n",
            "suggest_loguniform has been deprecated in v3.0.0. This feature will be removed in v6.0.0. See https://github.com/optuna/optuna/releases/tag/v3.0.0. Use :func:`~optuna.trial.Trial.suggest_float` instead.\n",
            "\n",
            "\u001b[32m[I 2022-10-03 21:54:50,675]\u001b[0m Trial 7 finished with value: 0.694140350877193 and parameters: {'max_depth': 1.9537120441293565}. Best is trial 2 with value: 0.7234736842105263.\u001b[0m\n",
            "/usr/local/lib/python3.7/dist-packages/ipykernel_launcher.py:6: FutureWarning:\n",
            "\n",
            "suggest_loguniform has been deprecated in v3.0.0. This feature will be removed in v6.0.0. See https://github.com/optuna/optuna/releases/tag/v3.0.0. Use :func:`~optuna.trial.Trial.suggest_float` instead.\n",
            "\n",
            "\u001b[32m[I 2022-10-03 21:54:50,928]\u001b[0m Trial 8 finished with value: 0.7207719298245614 and parameters: {'max_depth': 4.312417182662467}. Best is trial 2 with value: 0.7234736842105263.\u001b[0m\n",
            "/usr/local/lib/python3.7/dist-packages/ipykernel_launcher.py:6: FutureWarning:\n",
            "\n",
            "suggest_loguniform has been deprecated in v3.0.0. This feature will be removed in v6.0.0. See https://github.com/optuna/optuna/releases/tag/v3.0.0. Use :func:`~optuna.trial.Trial.suggest_float` instead.\n",
            "\n",
            "\u001b[32m[I 2022-10-03 21:54:51,113]\u001b[0m Trial 9 finished with value: 0.694140350877193 and parameters: {'max_depth': 1.0290597625883664}. Best is trial 2 with value: 0.7234736842105263.\u001b[0m\n",
            "/usr/local/lib/python3.7/dist-packages/ipykernel_launcher.py:6: FutureWarning:\n",
            "\n",
            "suggest_loguniform has been deprecated in v3.0.0. This feature will be removed in v6.0.0. See https://github.com/optuna/optuna/releases/tag/v3.0.0. Use :func:`~optuna.trial.Trial.suggest_float` instead.\n",
            "\n",
            "\u001b[32m[I 2022-10-03 21:54:51,260]\u001b[0m Trial 10 finished with value: 0.7234736842105263 and parameters: {'max_depth': 2.1695536767087087}. Best is trial 2 with value: 0.7234736842105263.\u001b[0m\n",
            "/usr/local/lib/python3.7/dist-packages/ipykernel_launcher.py:6: FutureWarning:\n",
            "\n",
            "suggest_loguniform has been deprecated in v3.0.0. This feature will be removed in v6.0.0. See https://github.com/optuna/optuna/releases/tag/v3.0.0. Use :func:`~optuna.trial.Trial.suggest_float` instead.\n",
            "\n",
            "\u001b[32m[I 2022-10-03 21:54:51,410]\u001b[0m Trial 11 finished with value: 0.7234736842105263 and parameters: {'max_depth': 2.6623253249925716}. Best is trial 2 with value: 0.7234736842105263.\u001b[0m\n",
            "/usr/local/lib/python3.7/dist-packages/ipykernel_launcher.py:6: FutureWarning:\n",
            "\n",
            "suggest_loguniform has been deprecated in v3.0.0. This feature will be removed in v6.0.0. See https://github.com/optuna/optuna/releases/tag/v3.0.0. Use :func:`~optuna.trial.Trial.suggest_float` instead.\n",
            "\n",
            "\u001b[32m[I 2022-10-03 21:54:51,563]\u001b[0m Trial 12 finished with value: 0.7128771929824561 and parameters: {'max_depth': 7.194623558540948}. Best is trial 2 with value: 0.7234736842105263.\u001b[0m\n",
            "/usr/local/lib/python3.7/dist-packages/ipykernel_launcher.py:6: FutureWarning:\n",
            "\n",
            "suggest_loguniform has been deprecated in v3.0.0. This feature will be removed in v6.0.0. See https://github.com/optuna/optuna/releases/tag/v3.0.0. Use :func:`~optuna.trial.Trial.suggest_float` instead.\n",
            "\n",
            "\u001b[32m[I 2022-10-03 21:54:51,708]\u001b[0m Trial 13 finished with value: 0.694140350877193 and parameters: {'max_depth': 1.7833352436114298}. Best is trial 2 with value: 0.7234736842105263.\u001b[0m\n",
            "/usr/local/lib/python3.7/dist-packages/ipykernel_launcher.py:6: FutureWarning:\n",
            "\n",
            "suggest_loguniform has been deprecated in v3.0.0. This feature will be removed in v6.0.0. See https://github.com/optuna/optuna/releases/tag/v3.0.0. Use :func:`~optuna.trial.Trial.suggest_float` instead.\n",
            "\n",
            "\u001b[32m[I 2022-10-03 21:54:51,844]\u001b[0m Trial 14 finished with value: 0.7155438596491227 and parameters: {'max_depth': 6.2250154221053595}. Best is trial 2 with value: 0.7234736842105263.\u001b[0m\n",
            "/usr/local/lib/python3.7/dist-packages/ipykernel_launcher.py:6: FutureWarning:\n",
            "\n",
            "suggest_loguniform has been deprecated in v3.0.0. This feature will be removed in v6.0.0. See https://github.com/optuna/optuna/releases/tag/v3.0.0. Use :func:`~optuna.trial.Trial.suggest_float` instead.\n",
            "\n",
            "\u001b[32m[I 2022-10-03 21:54:51,990]\u001b[0m Trial 15 finished with value: 0.7234736842105263 and parameters: {'max_depth': 2.4748506377589723}. Best is trial 2 with value: 0.7234736842105263.\u001b[0m\n",
            "/usr/local/lib/python3.7/dist-packages/ipykernel_launcher.py:6: FutureWarning:\n",
            "\n",
            "suggest_loguniform has been deprecated in v3.0.0. This feature will be removed in v6.0.0. See https://github.com/optuna/optuna/releases/tag/v3.0.0. Use :func:`~optuna.trial.Trial.suggest_float` instead.\n",
            "\n",
            "\u001b[32m[I 2022-10-03 21:54:52,127]\u001b[0m Trial 16 finished with value: 0.694140350877193 and parameters: {'max_depth': 1.5133320936174406}. Best is trial 2 with value: 0.7234736842105263.\u001b[0m\n",
            "/usr/local/lib/python3.7/dist-packages/ipykernel_launcher.py:6: FutureWarning:\n",
            "\n",
            "suggest_loguniform has been deprecated in v3.0.0. This feature will be removed in v6.0.0. See https://github.com/optuna/optuna/releases/tag/v3.0.0. Use :func:`~optuna.trial.Trial.suggest_float` instead.\n",
            "\n",
            "\u001b[32m[I 2022-10-03 21:54:52,260]\u001b[0m Trial 17 finished with value: 0.723438596491228 and parameters: {'max_depth': 3.3016869343451853}. Best is trial 2 with value: 0.7234736842105263.\u001b[0m\n",
            "/usr/local/lib/python3.7/dist-packages/ipykernel_launcher.py:6: FutureWarning:\n",
            "\n",
            "suggest_loguniform has been deprecated in v3.0.0. This feature will be removed in v6.0.0. See https://github.com/optuna/optuna/releases/tag/v3.0.0. Use :func:`~optuna.trial.Trial.suggest_float` instead.\n",
            "\n",
            "\u001b[32m[I 2022-10-03 21:54:52,408]\u001b[0m Trial 18 finished with value: 0.715438596491228 and parameters: {'max_depth': 4.654659387721287}. Best is trial 2 with value: 0.7234736842105263.\u001b[0m\n",
            "/usr/local/lib/python3.7/dist-packages/ipykernel_launcher.py:6: FutureWarning:\n",
            "\n",
            "suggest_loguniform has been deprecated in v3.0.0. This feature will be removed in v6.0.0. See https://github.com/optuna/optuna/releases/tag/v3.0.0. Use :func:`~optuna.trial.Trial.suggest_float` instead.\n",
            "\n",
            "\u001b[32m[I 2022-10-03 21:54:52,550]\u001b[0m Trial 19 finished with value: 0.7234736842105263 and parameters: {'max_depth': 2.7094004739565527}. Best is trial 2 with value: 0.7234736842105263.\u001b[0m\n",
            "/usr/local/lib/python3.7/dist-packages/ipykernel_launcher.py:6: FutureWarning:\n",
            "\n",
            "suggest_loguniform has been deprecated in v3.0.0. This feature will be removed in v6.0.0. See https://github.com/optuna/optuna/releases/tag/v3.0.0. Use :func:`~optuna.trial.Trial.suggest_float` instead.\n",
            "\n",
            "\u001b[32m[I 2022-10-03 21:54:52,704]\u001b[0m Trial 20 finished with value: 0.7129122807017544 and parameters: {'max_depth': 9.171492733297478}. Best is trial 2 with value: 0.7234736842105263.\u001b[0m\n",
            "/usr/local/lib/python3.7/dist-packages/ipykernel_launcher.py:6: FutureWarning:\n",
            "\n",
            "suggest_loguniform has been deprecated in v3.0.0. This feature will be removed in v6.0.0. See https://github.com/optuna/optuna/releases/tag/v3.0.0. Use :func:`~optuna.trial.Trial.suggest_float` instead.\n",
            "\n",
            "\u001b[32m[I 2022-10-03 21:54:52,835]\u001b[0m Trial 21 finished with value: 0.7234736842105263 and parameters: {'max_depth': 2.2366026278722715}. Best is trial 2 with value: 0.7234736842105263.\u001b[0m\n",
            "/usr/local/lib/python3.7/dist-packages/ipykernel_launcher.py:6: FutureWarning:\n",
            "\n",
            "suggest_loguniform has been deprecated in v3.0.0. This feature will be removed in v6.0.0. See https://github.com/optuna/optuna/releases/tag/v3.0.0. Use :func:`~optuna.trial.Trial.suggest_float` instead.\n",
            "\n",
            "\u001b[32m[I 2022-10-03 21:54:52,967]\u001b[0m Trial 22 finished with value: 0.7234736842105263 and parameters: {'max_depth': 2.8568535352250928}. Best is trial 2 with value: 0.7234736842105263.\u001b[0m\n",
            "/usr/local/lib/python3.7/dist-packages/ipykernel_launcher.py:6: FutureWarning:\n",
            "\n",
            "suggest_loguniform has been deprecated in v3.0.0. This feature will be removed in v6.0.0. See https://github.com/optuna/optuna/releases/tag/v3.0.0. Use :func:`~optuna.trial.Trial.suggest_float` instead.\n",
            "\n",
            "\u001b[32m[I 2022-10-03 21:54:53,100]\u001b[0m Trial 23 finished with value: 0.7234736842105263 and parameters: {'max_depth': 2.62894405865345}. Best is trial 2 with value: 0.7234736842105263.\u001b[0m\n",
            "/usr/local/lib/python3.7/dist-packages/ipykernel_launcher.py:6: FutureWarning:\n",
            "\n",
            "suggest_loguniform has been deprecated in v3.0.0. This feature will be removed in v6.0.0. See https://github.com/optuna/optuna/releases/tag/v3.0.0. Use :func:`~optuna.trial.Trial.suggest_float` instead.\n",
            "\n",
            "\u001b[32m[I 2022-10-03 21:54:53,282]\u001b[0m Trial 24 finished with value: 0.694140350877193 and parameters: {'max_depth': 1.504327432647928}. Best is trial 2 with value: 0.7234736842105263.\u001b[0m\n",
            "/usr/local/lib/python3.7/dist-packages/ipykernel_launcher.py:6: FutureWarning:\n",
            "\n",
            "suggest_loguniform has been deprecated in v3.0.0. This feature will be removed in v6.0.0. See https://github.com/optuna/optuna/releases/tag/v3.0.0. Use :func:`~optuna.trial.Trial.suggest_float` instead.\n",
            "\n",
            "\u001b[32m[I 2022-10-03 21:54:53,505]\u001b[0m Trial 25 finished with value: 0.723438596491228 and parameters: {'max_depth': 3.4741934969094244}. Best is trial 2 with value: 0.7234736842105263.\u001b[0m\n",
            "/usr/local/lib/python3.7/dist-packages/ipykernel_launcher.py:6: FutureWarning:\n",
            "\n",
            "suggest_loguniform has been deprecated in v3.0.0. This feature will be removed in v6.0.0. See https://github.com/optuna/optuna/releases/tag/v3.0.0. Use :func:`~optuna.trial.Trial.suggest_float` instead.\n",
            "\n",
            "\u001b[32m[I 2022-10-03 21:54:53,677]\u001b[0m Trial 26 finished with value: 0.7023508771929825 and parameters: {'max_depth': 5.345765920396832}. Best is trial 2 with value: 0.7234736842105263.\u001b[0m\n",
            "/usr/local/lib/python3.7/dist-packages/ipykernel_launcher.py:6: FutureWarning:\n",
            "\n",
            "suggest_loguniform has been deprecated in v3.0.0. This feature will be removed in v6.0.0. See https://github.com/optuna/optuna/releases/tag/v3.0.0. Use :func:`~optuna.trial.Trial.suggest_float` instead.\n",
            "\n",
            "\u001b[32m[I 2022-10-03 21:54:53,814]\u001b[0m Trial 27 finished with value: 0.723438596491228 and parameters: {'max_depth': 3.0388131724024987}. Best is trial 2 with value: 0.7234736842105263.\u001b[0m\n",
            "/usr/local/lib/python3.7/dist-packages/ipykernel_launcher.py:6: FutureWarning:\n",
            "\n",
            "suggest_loguniform has been deprecated in v3.0.0. This feature will be removed in v6.0.0. See https://github.com/optuna/optuna/releases/tag/v3.0.0. Use :func:`~optuna.trial.Trial.suggest_float` instead.\n",
            "\n",
            "\u001b[32m[I 2022-10-03 21:54:53,951]\u001b[0m Trial 28 finished with value: 0.694140350877193 and parameters: {'max_depth': 1.0815764586261793}. Best is trial 2 with value: 0.7234736842105263.\u001b[0m\n",
            "/usr/local/lib/python3.7/dist-packages/ipykernel_launcher.py:6: FutureWarning:\n",
            "\n",
            "suggest_loguniform has been deprecated in v3.0.0. This feature will be removed in v6.0.0. See https://github.com/optuna/optuna/releases/tag/v3.0.0. Use :func:`~optuna.trial.Trial.suggest_float` instead.\n",
            "\n",
            "\u001b[32m[I 2022-10-03 21:54:54,094]\u001b[0m Trial 29 finished with value: 0.7207719298245614 and parameters: {'max_depth': 4.1044409300450235}. Best is trial 2 with value: 0.7234736842105263.\u001b[0m\n",
            "/usr/local/lib/python3.7/dist-packages/ipykernel_launcher.py:6: FutureWarning:\n",
            "\n",
            "suggest_loguniform has been deprecated in v3.0.0. This feature will be removed in v6.0.0. See https://github.com/optuna/optuna/releases/tag/v3.0.0. Use :func:`~optuna.trial.Trial.suggest_float` instead.\n",
            "\n",
            "\u001b[32m[I 2022-10-03 21:54:54,243]\u001b[0m Trial 30 finished with value: 0.694140350877193 and parameters: {'max_depth': 1.6434178905226497}. Best is trial 2 with value: 0.7234736842105263.\u001b[0m\n",
            "/usr/local/lib/python3.7/dist-packages/ipykernel_launcher.py:6: FutureWarning:\n",
            "\n",
            "suggest_loguniform has been deprecated in v3.0.0. This feature will be removed in v6.0.0. See https://github.com/optuna/optuna/releases/tag/v3.0.0. Use :func:`~optuna.trial.Trial.suggest_float` instead.\n",
            "\n",
            "\u001b[32m[I 2022-10-03 21:54:54,375]\u001b[0m Trial 31 finished with value: 0.7234736842105263 and parameters: {'max_depth': 2.5841531131850144}. Best is trial 2 with value: 0.7234736842105263.\u001b[0m\n",
            "/usr/local/lib/python3.7/dist-packages/ipykernel_launcher.py:6: FutureWarning:\n",
            "\n",
            "suggest_loguniform has been deprecated in v3.0.0. This feature will be removed in v6.0.0. See https://github.com/optuna/optuna/releases/tag/v3.0.0. Use :func:`~optuna.trial.Trial.suggest_float` instead.\n",
            "\n",
            "\u001b[32m[I 2022-10-03 21:54:54,519]\u001b[0m Trial 32 finished with value: 0.7234736842105263 and parameters: {'max_depth': 2.2709658733386515}. Best is trial 2 with value: 0.7234736842105263.\u001b[0m\n",
            "/usr/local/lib/python3.7/dist-packages/ipykernel_launcher.py:6: FutureWarning:\n",
            "\n",
            "suggest_loguniform has been deprecated in v3.0.0. This feature will be removed in v6.0.0. See https://github.com/optuna/optuna/releases/tag/v3.0.0. Use :func:`~optuna.trial.Trial.suggest_float` instead.\n",
            "\n",
            "\u001b[32m[I 2022-10-03 21:54:54,653]\u001b[0m Trial 33 finished with value: 0.7234736842105263 and parameters: {'max_depth': 2.1314906950966988}. Best is trial 2 with value: 0.7234736842105263.\u001b[0m\n",
            "/usr/local/lib/python3.7/dist-packages/ipykernel_launcher.py:6: FutureWarning:\n",
            "\n",
            "suggest_loguniform has been deprecated in v3.0.0. This feature will be removed in v6.0.0. See https://github.com/optuna/optuna/releases/tag/v3.0.0. Use :func:`~optuna.trial.Trial.suggest_float` instead.\n",
            "\n",
            "\u001b[32m[I 2022-10-03 21:54:54,795]\u001b[0m Trial 34 finished with value: 0.694140350877193 and parameters: {'max_depth': 1.2912825700358155}. Best is trial 2 with value: 0.7234736842105263.\u001b[0m\n",
            "/usr/local/lib/python3.7/dist-packages/ipykernel_launcher.py:6: FutureWarning:\n",
            "\n",
            "suggest_loguniform has been deprecated in v3.0.0. This feature will be removed in v6.0.0. See https://github.com/optuna/optuna/releases/tag/v3.0.0. Use :func:`~optuna.trial.Trial.suggest_float` instead.\n",
            "\n",
            "\u001b[32m[I 2022-10-03 21:54:54,928]\u001b[0m Trial 35 finished with value: 0.694140350877193 and parameters: {'max_depth': 1.82779901726145}. Best is trial 2 with value: 0.7234736842105263.\u001b[0m\n",
            "/usr/local/lib/python3.7/dist-packages/ipykernel_launcher.py:6: FutureWarning:\n",
            "\n",
            "suggest_loguniform has been deprecated in v3.0.0. This feature will be removed in v6.0.0. See https://github.com/optuna/optuna/releases/tag/v3.0.0. Use :func:`~optuna.trial.Trial.suggest_float` instead.\n",
            "\n",
            "\u001b[32m[I 2022-10-03 21:54:55,066]\u001b[0m Trial 36 finished with value: 0.723438596491228 and parameters: {'max_depth': 3.202429601586169}. Best is trial 2 with value: 0.7234736842105263.\u001b[0m\n",
            "/usr/local/lib/python3.7/dist-packages/ipykernel_launcher.py:6: FutureWarning:\n",
            "\n",
            "suggest_loguniform has been deprecated in v3.0.0. This feature will be removed in v6.0.0. See https://github.com/optuna/optuna/releases/tag/v3.0.0. Use :func:`~optuna.trial.Trial.suggest_float` instead.\n",
            "\n",
            "\u001b[32m[I 2022-10-03 21:54:55,203]\u001b[0m Trial 37 finished with value: 0.694140350877193 and parameters: {'max_depth': 1.3184115496171371}. Best is trial 2 with value: 0.7234736842105263.\u001b[0m\n",
            "/usr/local/lib/python3.7/dist-packages/ipykernel_launcher.py:6: FutureWarning:\n",
            "\n",
            "suggest_loguniform has been deprecated in v3.0.0. This feature will be removed in v6.0.0. See https://github.com/optuna/optuna/releases/tag/v3.0.0. Use :func:`~optuna.trial.Trial.suggest_float` instead.\n",
            "\n",
            "\u001b[32m[I 2022-10-03 21:54:55,341]\u001b[0m Trial 38 finished with value: 0.7234736842105263 and parameters: {'max_depth': 2.660341371160387}. Best is trial 2 with value: 0.7234736842105263.\u001b[0m\n",
            "/usr/local/lib/python3.7/dist-packages/ipykernel_launcher.py:6: FutureWarning:\n",
            "\n",
            "suggest_loguniform has been deprecated in v3.0.0. This feature will be removed in v6.0.0. See https://github.com/optuna/optuna/releases/tag/v3.0.0. Use :func:`~optuna.trial.Trial.suggest_float` instead.\n",
            "\n",
            "\u001b[32m[I 2022-10-03 21:54:55,509]\u001b[0m Trial 39 finished with value: 0.6995789473684211 and parameters: {'max_depth': 30.66771654591763}. Best is trial 2 with value: 0.7234736842105263.\u001b[0m\n",
            "/usr/local/lib/python3.7/dist-packages/ipykernel_launcher.py:6: FutureWarning:\n",
            "\n",
            "suggest_loguniform has been deprecated in v3.0.0. This feature will be removed in v6.0.0. See https://github.com/optuna/optuna/releases/tag/v3.0.0. Use :func:`~optuna.trial.Trial.suggest_float` instead.\n",
            "\n",
            "\u001b[32m[I 2022-10-03 21:54:55,647]\u001b[0m Trial 40 finished with value: 0.723438596491228 and parameters: {'max_depth': 3.7549719865129467}. Best is trial 2 with value: 0.7234736842105263.\u001b[0m\n",
            "/usr/local/lib/python3.7/dist-packages/ipykernel_launcher.py:6: FutureWarning:\n",
            "\n",
            "suggest_loguniform has been deprecated in v3.0.0. This feature will be removed in v6.0.0. See https://github.com/optuna/optuna/releases/tag/v3.0.0. Use :func:`~optuna.trial.Trial.suggest_float` instead.\n",
            "\n",
            "\u001b[32m[I 2022-10-03 21:54:55,784]\u001b[0m Trial 41 finished with value: 0.7234736842105263 and parameters: {'max_depth': 2.5988499794815496}. Best is trial 2 with value: 0.7234736842105263.\u001b[0m\n",
            "/usr/local/lib/python3.7/dist-packages/ipykernel_launcher.py:6: FutureWarning:\n",
            "\n",
            "suggest_loguniform has been deprecated in v3.0.0. This feature will be removed in v6.0.0. See https://github.com/optuna/optuna/releases/tag/v3.0.0. Use :func:`~optuna.trial.Trial.suggest_float` instead.\n",
            "\n",
            "\u001b[32m[I 2022-10-03 21:54:55,927]\u001b[0m Trial 42 finished with value: 0.7049473684210527 and parameters: {'max_depth': 5.249738487474611}. Best is trial 2 with value: 0.7234736842105263.\u001b[0m\n",
            "/usr/local/lib/python3.7/dist-packages/ipykernel_launcher.py:6: FutureWarning:\n",
            "\n",
            "suggest_loguniform has been deprecated in v3.0.0. This feature will be removed in v6.0.0. See https://github.com/optuna/optuna/releases/tag/v3.0.0. Use :func:`~optuna.trial.Trial.suggest_float` instead.\n",
            "\n",
            "\u001b[32m[I 2022-10-03 21:54:56,068]\u001b[0m Trial 43 finished with value: 0.7234736842105263 and parameters: {'max_depth': 2.0041385721394134}. Best is trial 2 with value: 0.7234736842105263.\u001b[0m\n",
            "/usr/local/lib/python3.7/dist-packages/ipykernel_launcher.py:6: FutureWarning:\n",
            "\n",
            "suggest_loguniform has been deprecated in v3.0.0. This feature will be removed in v6.0.0. See https://github.com/optuna/optuna/releases/tag/v3.0.0. Use :func:`~optuna.trial.Trial.suggest_float` instead.\n",
            "\n",
            "\u001b[32m[I 2022-10-03 21:54:56,209]\u001b[0m Trial 44 finished with value: 0.7234736842105263 and parameters: {'max_depth': 2.219273968007979}. Best is trial 2 with value: 0.7234736842105263.\u001b[0m\n",
            "/usr/local/lib/python3.7/dist-packages/ipykernel_launcher.py:6: FutureWarning:\n",
            "\n",
            "suggest_loguniform has been deprecated in v3.0.0. This feature will be removed in v6.0.0. See https://github.com/optuna/optuna/releases/tag/v3.0.0. Use :func:`~optuna.trial.Trial.suggest_float` instead.\n",
            "\n",
            "\u001b[32m[I 2022-10-03 21:54:56,358]\u001b[0m Trial 45 finished with value: 0.7048421052631578 and parameters: {'max_depth': 16.39211437255986}. Best is trial 2 with value: 0.7234736842105263.\u001b[0m\n",
            "/usr/local/lib/python3.7/dist-packages/ipykernel_launcher.py:6: FutureWarning:\n",
            "\n",
            "suggest_loguniform has been deprecated in v3.0.0. This feature will be removed in v6.0.0. See https://github.com/optuna/optuna/releases/tag/v3.0.0. Use :func:`~optuna.trial.Trial.suggest_float` instead.\n",
            "\n",
            "\u001b[32m[I 2022-10-03 21:54:56,507]\u001b[0m Trial 46 finished with value: 0.723438596491228 and parameters: {'max_depth': 3.034129010530119}. Best is trial 2 with value: 0.7234736842105263.\u001b[0m\n",
            "/usr/local/lib/python3.7/dist-packages/ipykernel_launcher.py:6: FutureWarning:\n",
            "\n",
            "suggest_loguniform has been deprecated in v3.0.0. This feature will be removed in v6.0.0. See https://github.com/optuna/optuna/releases/tag/v3.0.0. Use :func:`~optuna.trial.Trial.suggest_float` instead.\n",
            "\n",
            "\u001b[32m[I 2022-10-03 21:54:56,651]\u001b[0m Trial 47 finished with value: 0.7234736842105263 and parameters: {'max_depth': 2.5999908785713526}. Best is trial 2 with value: 0.7234736842105263.\u001b[0m\n",
            "/usr/local/lib/python3.7/dist-packages/ipykernel_launcher.py:6: FutureWarning:\n",
            "\n",
            "suggest_loguniform has been deprecated in v3.0.0. This feature will be removed in v6.0.0. See https://github.com/optuna/optuna/releases/tag/v3.0.0. Use :func:`~optuna.trial.Trial.suggest_float` instead.\n",
            "\n",
            "\u001b[32m[I 2022-10-03 21:54:56,832]\u001b[0m Trial 48 finished with value: 0.694140350877193 and parameters: {'max_depth': 1.9720415868525019}. Best is trial 2 with value: 0.7234736842105263.\u001b[0m\n",
            "/usr/local/lib/python3.7/dist-packages/ipykernel_launcher.py:6: FutureWarning:\n",
            "\n",
            "suggest_loguniform has been deprecated in v3.0.0. This feature will be removed in v6.0.0. See https://github.com/optuna/optuna/releases/tag/v3.0.0. Use :func:`~optuna.trial.Trial.suggest_float` instead.\n",
            "\n",
            "\u001b[32m[I 2022-10-03 21:54:57,091]\u001b[0m Trial 49 finished with value: 0.7207719298245614 and parameters: {'max_depth': 4.708256328377831}. Best is trial 2 with value: 0.7234736842105263.\u001b[0m\n",
            "/usr/local/lib/python3.7/dist-packages/ipykernel_launcher.py:6: FutureWarning:\n",
            "\n",
            "suggest_loguniform has been deprecated in v3.0.0. This feature will be removed in v6.0.0. See https://github.com/optuna/optuna/releases/tag/v3.0.0. Use :func:`~optuna.trial.Trial.suggest_float` instead.\n",
            "\n",
            "\u001b[32m[I 2022-10-03 21:54:57,364]\u001b[0m Trial 50 finished with value: 0.6970526315789474 and parameters: {'max_depth': 7.259579491972795}. Best is trial 2 with value: 0.7234736842105263.\u001b[0m\n",
            "/usr/local/lib/python3.7/dist-packages/ipykernel_launcher.py:6: FutureWarning:\n",
            "\n",
            "suggest_loguniform has been deprecated in v3.0.0. This feature will be removed in v6.0.0. See https://github.com/optuna/optuna/releases/tag/v3.0.0. Use :func:`~optuna.trial.Trial.suggest_float` instead.\n",
            "\n",
            "\u001b[32m[I 2022-10-03 21:54:57,601]\u001b[0m Trial 51 finished with value: 0.7234736842105263 and parameters: {'max_depth': 2.2543003664258463}. Best is trial 2 with value: 0.7234736842105263.\u001b[0m\n",
            "/usr/local/lib/python3.7/dist-packages/ipykernel_launcher.py:6: FutureWarning:\n",
            "\n",
            "suggest_loguniform has been deprecated in v3.0.0. This feature will be removed in v6.0.0. See https://github.com/optuna/optuna/releases/tag/v3.0.0. Use :func:`~optuna.trial.Trial.suggest_float` instead.\n",
            "\n",
            "\u001b[32m[I 2022-10-03 21:54:57,859]\u001b[0m Trial 52 finished with value: 0.7234736842105263 and parameters: {'max_depth': 2.3750088675970917}. Best is trial 2 with value: 0.7234736842105263.\u001b[0m\n",
            "/usr/local/lib/python3.7/dist-packages/ipykernel_launcher.py:6: FutureWarning:\n",
            "\n",
            "suggest_loguniform has been deprecated in v3.0.0. This feature will be removed in v6.0.0. See https://github.com/optuna/optuna/releases/tag/v3.0.0. Use :func:`~optuna.trial.Trial.suggest_float` instead.\n",
            "\n",
            "\u001b[32m[I 2022-10-03 21:54:58,125]\u001b[0m Trial 53 finished with value: 0.694140350877193 and parameters: {'max_depth': 1.6496434208620254}. Best is trial 2 with value: 0.7234736842105263.\u001b[0m\n",
            "/usr/local/lib/python3.7/dist-packages/ipykernel_launcher.py:6: FutureWarning:\n",
            "\n",
            "suggest_loguniform has been deprecated in v3.0.0. This feature will be removed in v6.0.0. See https://github.com/optuna/optuna/releases/tag/v3.0.0. Use :func:`~optuna.trial.Trial.suggest_float` instead.\n",
            "\n",
            "\u001b[32m[I 2022-10-03 21:54:58,421]\u001b[0m Trial 54 finished with value: 0.723438596491228 and parameters: {'max_depth': 3.9236003867740057}. Best is trial 2 with value: 0.7234736842105263.\u001b[0m\n",
            "/usr/local/lib/python3.7/dist-packages/ipykernel_launcher.py:6: FutureWarning:\n",
            "\n",
            "suggest_loguniform has been deprecated in v3.0.0. This feature will be removed in v6.0.0. See https://github.com/optuna/optuna/releases/tag/v3.0.0. Use :func:`~optuna.trial.Trial.suggest_float` instead.\n",
            "\n",
            "\u001b[32m[I 2022-10-03 21:54:58,717]\u001b[0m Trial 55 finished with value: 0.7234736842105263 and parameters: {'max_depth': 2.5047670410804788}. Best is trial 2 with value: 0.7234736842105263.\u001b[0m\n",
            "/usr/local/lib/python3.7/dist-packages/ipykernel_launcher.py:6: FutureWarning:\n",
            "\n",
            "suggest_loguniform has been deprecated in v3.0.0. This feature will be removed in v6.0.0. See https://github.com/optuna/optuna/releases/tag/v3.0.0. Use :func:`~optuna.trial.Trial.suggest_float` instead.\n",
            "\n",
            "\u001b[32m[I 2022-10-03 21:54:58,964]\u001b[0m Trial 56 finished with value: 0.694140350877193 and parameters: {'max_depth': 1.4544760016141545}. Best is trial 2 with value: 0.7234736842105263.\u001b[0m\n",
            "/usr/local/lib/python3.7/dist-packages/ipykernel_launcher.py:6: FutureWarning:\n",
            "\n",
            "suggest_loguniform has been deprecated in v3.0.0. This feature will be removed in v6.0.0. See https://github.com/optuna/optuna/releases/tag/v3.0.0. Use :func:`~optuna.trial.Trial.suggest_float` instead.\n",
            "\n",
            "\u001b[32m[I 2022-10-03 21:54:59,235]\u001b[0m Trial 57 finished with value: 0.7234736842105263 and parameters: {'max_depth': 2.7741269317403647}. Best is trial 2 with value: 0.7234736842105263.\u001b[0m\n",
            "/usr/local/lib/python3.7/dist-packages/ipykernel_launcher.py:6: FutureWarning:\n",
            "\n",
            "suggest_loguniform has been deprecated in v3.0.0. This feature will be removed in v6.0.0. See https://github.com/optuna/optuna/releases/tag/v3.0.0. Use :func:`~optuna.trial.Trial.suggest_float` instead.\n",
            "\n",
            "\u001b[32m[I 2022-10-03 21:54:59,497]\u001b[0m Trial 58 finished with value: 0.723438596491228 and parameters: {'max_depth': 3.541805929327625}. Best is trial 2 with value: 0.7234736842105263.\u001b[0m\n",
            "/usr/local/lib/python3.7/dist-packages/ipykernel_launcher.py:6: FutureWarning:\n",
            "\n",
            "suggest_loguniform has been deprecated in v3.0.0. This feature will be removed in v6.0.0. See https://github.com/optuna/optuna/releases/tag/v3.0.0. Use :func:`~optuna.trial.Trial.suggest_float` instead.\n",
            "\n",
            "\u001b[32m[I 2022-10-03 21:54:59,795]\u001b[0m Trial 59 finished with value: 0.7234736842105263 and parameters: {'max_depth': 2.000834295223517}. Best is trial 2 with value: 0.7234736842105263.\u001b[0m\n",
            "/usr/local/lib/python3.7/dist-packages/ipykernel_launcher.py:6: FutureWarning:\n",
            "\n",
            "suggest_loguniform has been deprecated in v3.0.0. This feature will be removed in v6.0.0. See https://github.com/optuna/optuna/releases/tag/v3.0.0. Use :func:`~optuna.trial.Trial.suggest_float` instead.\n",
            "\n",
            "\u001b[32m[I 2022-10-03 21:55:00,060]\u001b[0m Trial 60 finished with value: 0.7234736842105263 and parameters: {'max_depth': 2.045578139279008}. Best is trial 2 with value: 0.7234736842105263.\u001b[0m\n",
            "/usr/local/lib/python3.7/dist-packages/ipykernel_launcher.py:6: FutureWarning:\n",
            "\n",
            "suggest_loguniform has been deprecated in v3.0.0. This feature will be removed in v6.0.0. See https://github.com/optuna/optuna/releases/tag/v3.0.0. Use :func:`~optuna.trial.Trial.suggest_float` instead.\n",
            "\n",
            "\u001b[32m[I 2022-10-03 21:55:00,275]\u001b[0m Trial 61 finished with value: 0.694140350877193 and parameters: {'max_depth': 1.9313459228273777}. Best is trial 2 with value: 0.7234736842105263.\u001b[0m\n",
            "/usr/local/lib/python3.7/dist-packages/ipykernel_launcher.py:6: FutureWarning:\n",
            "\n",
            "suggest_loguniform has been deprecated in v3.0.0. This feature will be removed in v6.0.0. See https://github.com/optuna/optuna/releases/tag/v3.0.0. Use :func:`~optuna.trial.Trial.suggest_float` instead.\n",
            "\n",
            "\u001b[32m[I 2022-10-03 21:55:00,518]\u001b[0m Trial 62 finished with value: 0.7234736842105263 and parameters: {'max_depth': 2.9361374285635047}. Best is trial 2 with value: 0.7234736842105263.\u001b[0m\n",
            "/usr/local/lib/python3.7/dist-packages/ipykernel_launcher.py:6: FutureWarning:\n",
            "\n",
            "suggest_loguniform has been deprecated in v3.0.0. This feature will be removed in v6.0.0. See https://github.com/optuna/optuna/releases/tag/v3.0.0. Use :func:`~optuna.trial.Trial.suggest_float` instead.\n",
            "\n",
            "\u001b[32m[I 2022-10-03 21:55:00,746]\u001b[0m Trial 63 finished with value: 0.7234736842105263 and parameters: {'max_depth': 2.7265513896580726}. Best is trial 2 with value: 0.7234736842105263.\u001b[0m\n",
            "/usr/local/lib/python3.7/dist-packages/ipykernel_launcher.py:6: FutureWarning:\n",
            "\n",
            "suggest_loguniform has been deprecated in v3.0.0. This feature will be removed in v6.0.0. See https://github.com/optuna/optuna/releases/tag/v3.0.0. Use :func:`~optuna.trial.Trial.suggest_float` instead.\n",
            "\n",
            "\u001b[32m[I 2022-10-03 21:55:01,064]\u001b[0m Trial 64 finished with value: 0.7234736842105263 and parameters: {'max_depth': 2.9749459372506726}. Best is trial 2 with value: 0.7234736842105263.\u001b[0m\n",
            "/usr/local/lib/python3.7/dist-packages/ipykernel_launcher.py:6: FutureWarning:\n",
            "\n",
            "suggest_loguniform has been deprecated in v3.0.0. This feature will be removed in v6.0.0. See https://github.com/optuna/optuna/releases/tag/v3.0.0. Use :func:`~optuna.trial.Trial.suggest_float` instead.\n",
            "\n",
            "\u001b[32m[I 2022-10-03 21:55:01,284]\u001b[0m Trial 65 finished with value: 0.7234736842105263 and parameters: {'max_depth': 2.4423936717425665}. Best is trial 2 with value: 0.7234736842105263.\u001b[0m\n",
            "/usr/local/lib/python3.7/dist-packages/ipykernel_launcher.py:6: FutureWarning:\n",
            "\n",
            "suggest_loguniform has been deprecated in v3.0.0. This feature will be removed in v6.0.0. See https://github.com/optuna/optuna/releases/tag/v3.0.0. Use :func:`~optuna.trial.Trial.suggest_float` instead.\n",
            "\n",
            "\u001b[32m[I 2022-10-03 21:55:01,524]\u001b[0m Trial 66 finished with value: 0.694140350877193 and parameters: {'max_depth': 1.7156277636316482}. Best is trial 2 with value: 0.7234736842105263.\u001b[0m\n",
            "/usr/local/lib/python3.7/dist-packages/ipykernel_launcher.py:6: FutureWarning:\n",
            "\n",
            "suggest_loguniform has been deprecated in v3.0.0. This feature will be removed in v6.0.0. See https://github.com/optuna/optuna/releases/tag/v3.0.0. Use :func:`~optuna.trial.Trial.suggest_float` instead.\n",
            "\n",
            "\u001b[32m[I 2022-10-03 21:55:01,927]\u001b[0m Trial 67 finished with value: 0.7234736842105263 and parameters: {'max_depth': 2.275530206579653}. Best is trial 2 with value: 0.7234736842105263.\u001b[0m\n",
            "/usr/local/lib/python3.7/dist-packages/ipykernel_launcher.py:6: FutureWarning:\n",
            "\n",
            "suggest_loguniform has been deprecated in v3.0.0. This feature will be removed in v6.0.0. See https://github.com/optuna/optuna/releases/tag/v3.0.0. Use :func:`~optuna.trial.Trial.suggest_float` instead.\n",
            "\n",
            "\u001b[32m[I 2022-10-03 21:55:02,213]\u001b[0m Trial 68 finished with value: 0.694140350877193 and parameters: {'max_depth': 1.4659073947833774}. Best is trial 2 with value: 0.7234736842105263.\u001b[0m\n",
            "/usr/local/lib/python3.7/dist-packages/ipykernel_launcher.py:6: FutureWarning:\n",
            "\n",
            "suggest_loguniform has been deprecated in v3.0.0. This feature will be removed in v6.0.0. See https://github.com/optuna/optuna/releases/tag/v3.0.0. Use :func:`~optuna.trial.Trial.suggest_float` instead.\n",
            "\n",
            "\u001b[32m[I 2022-10-03 21:55:02,492]\u001b[0m Trial 69 finished with value: 0.694140350877193 and parameters: {'max_depth': 1.0777728456651312}. Best is trial 2 with value: 0.7234736842105263.\u001b[0m\n",
            "/usr/local/lib/python3.7/dist-packages/ipykernel_launcher.py:6: FutureWarning:\n",
            "\n",
            "suggest_loguniform has been deprecated in v3.0.0. This feature will be removed in v6.0.0. See https://github.com/optuna/optuna/releases/tag/v3.0.0. Use :func:`~optuna.trial.Trial.suggest_float` instead.\n",
            "\n",
            "\u001b[32m[I 2022-10-03 21:55:02,760]\u001b[0m Trial 70 finished with value: 0.723438596491228 and parameters: {'max_depth': 3.3975037919036737}. Best is trial 2 with value: 0.7234736842105263.\u001b[0m\n",
            "/usr/local/lib/python3.7/dist-packages/ipykernel_launcher.py:6: FutureWarning:\n",
            "\n",
            "suggest_loguniform has been deprecated in v3.0.0. This feature will be removed in v6.0.0. See https://github.com/optuna/optuna/releases/tag/v3.0.0. Use :func:`~optuna.trial.Trial.suggest_float` instead.\n",
            "\n",
            "\u001b[32m[I 2022-10-03 21:55:02,993]\u001b[0m Trial 71 finished with value: 0.7234736842105263 and parameters: {'max_depth': 2.3257231588912965}. Best is trial 2 with value: 0.7234736842105263.\u001b[0m\n",
            "/usr/local/lib/python3.7/dist-packages/ipykernel_launcher.py:6: FutureWarning:\n",
            "\n",
            "suggest_loguniform has been deprecated in v3.0.0. This feature will be removed in v6.0.0. See https://github.com/optuna/optuna/releases/tag/v3.0.0. Use :func:`~optuna.trial.Trial.suggest_float` instead.\n",
            "\n",
            "\u001b[32m[I 2022-10-03 21:55:03,219]\u001b[0m Trial 72 finished with value: 0.694140350877193 and parameters: {'max_depth': 1.7718107138267172}. Best is trial 2 with value: 0.7234736842105263.\u001b[0m\n",
            "/usr/local/lib/python3.7/dist-packages/ipykernel_launcher.py:6: FutureWarning:\n",
            "\n",
            "suggest_loguniform has been deprecated in v3.0.0. This feature will be removed in v6.0.0. See https://github.com/optuna/optuna/releases/tag/v3.0.0. Use :func:`~optuna.trial.Trial.suggest_float` instead.\n",
            "\n",
            "\u001b[32m[I 2022-10-03 21:55:03,492]\u001b[0m Trial 73 finished with value: 0.7234736842105263 and parameters: {'max_depth': 2.060819426202085}. Best is trial 2 with value: 0.7234736842105263.\u001b[0m\n",
            "/usr/local/lib/python3.7/dist-packages/ipykernel_launcher.py:6: FutureWarning:\n",
            "\n",
            "suggest_loguniform has been deprecated in v3.0.0. This feature will be removed in v6.0.0. See https://github.com/optuna/optuna/releases/tag/v3.0.0. Use :func:`~optuna.trial.Trial.suggest_float` instead.\n",
            "\n",
            "\u001b[32m[I 2022-10-03 21:55:03,740]\u001b[0m Trial 74 finished with value: 0.7234736842105263 and parameters: {'max_depth': 2.593463570956118}. Best is trial 2 with value: 0.7234736842105263.\u001b[0m\n",
            "/usr/local/lib/python3.7/dist-packages/ipykernel_launcher.py:6: FutureWarning:\n",
            "\n",
            "suggest_loguniform has been deprecated in v3.0.0. This feature will be removed in v6.0.0. See https://github.com/optuna/optuna/releases/tag/v3.0.0. Use :func:`~optuna.trial.Trial.suggest_float` instead.\n",
            "\n",
            "\u001b[32m[I 2022-10-03 21:55:03,938]\u001b[0m Trial 75 finished with value: 0.7207719298245614 and parameters: {'max_depth': 4.346092533184018}. Best is trial 2 with value: 0.7234736842105263.\u001b[0m\n",
            "/usr/local/lib/python3.7/dist-packages/ipykernel_launcher.py:6: FutureWarning:\n",
            "\n",
            "suggest_loguniform has been deprecated in v3.0.0. This feature will be removed in v6.0.0. See https://github.com/optuna/optuna/releases/tag/v3.0.0. Use :func:`~optuna.trial.Trial.suggest_float` instead.\n",
            "\n",
            "\u001b[32m[I 2022-10-03 21:55:04,279]\u001b[0m Trial 76 finished with value: 0.7234736842105263 and parameters: {'max_depth': 2.972779900646403}. Best is trial 2 with value: 0.7234736842105263.\u001b[0m\n",
            "/usr/local/lib/python3.7/dist-packages/ipykernel_launcher.py:6: FutureWarning:\n",
            "\n",
            "suggest_loguniform has been deprecated in v3.0.0. This feature will be removed in v6.0.0. See https://github.com/optuna/optuna/releases/tag/v3.0.0. Use :func:`~optuna.trial.Trial.suggest_float` instead.\n",
            "\n",
            "\u001b[32m[I 2022-10-03 21:55:04,525]\u001b[0m Trial 77 finished with value: 0.7234736842105263 and parameters: {'max_depth': 2.204164977795084}. Best is trial 2 with value: 0.7234736842105263.\u001b[0m\n",
            "/usr/local/lib/python3.7/dist-packages/ipykernel_launcher.py:6: FutureWarning:\n",
            "\n",
            "suggest_loguniform has been deprecated in v3.0.0. This feature will be removed in v6.0.0. See https://github.com/optuna/optuna/releases/tag/v3.0.0. Use :func:`~optuna.trial.Trial.suggest_float` instead.\n",
            "\n",
            "\u001b[32m[I 2022-10-03 21:55:04,770]\u001b[0m Trial 78 finished with value: 0.694140350877193 and parameters: {'max_depth': 1.5911826821093844}. Best is trial 2 with value: 0.7234736842105263.\u001b[0m\n",
            "/usr/local/lib/python3.7/dist-packages/ipykernel_launcher.py:6: FutureWarning:\n",
            "\n",
            "suggest_loguniform has been deprecated in v3.0.0. This feature will be removed in v6.0.0. See https://github.com/optuna/optuna/releases/tag/v3.0.0. Use :func:`~optuna.trial.Trial.suggest_float` instead.\n",
            "\n",
            "\u001b[32m[I 2022-10-03 21:55:05,011]\u001b[0m Trial 79 finished with value: 0.723438596491228 and parameters: {'max_depth': 3.1584714314512046}. Best is trial 2 with value: 0.7234736842105263.\u001b[0m\n",
            "/usr/local/lib/python3.7/dist-packages/ipykernel_launcher.py:6: FutureWarning:\n",
            "\n",
            "suggest_loguniform has been deprecated in v3.0.0. This feature will be removed in v6.0.0. See https://github.com/optuna/optuna/releases/tag/v3.0.0. Use :func:`~optuna.trial.Trial.suggest_float` instead.\n",
            "\n",
            "\u001b[32m[I 2022-10-03 21:55:05,233]\u001b[0m Trial 80 finished with value: 0.694140350877193 and parameters: {'max_depth': 1.1845489080372722}. Best is trial 2 with value: 0.7234736842105263.\u001b[0m\n",
            "/usr/local/lib/python3.7/dist-packages/ipykernel_launcher.py:6: FutureWarning:\n",
            "\n",
            "suggest_loguniform has been deprecated in v3.0.0. This feature will be removed in v6.0.0. See https://github.com/optuna/optuna/releases/tag/v3.0.0. Use :func:`~optuna.trial.Trial.suggest_float` instead.\n",
            "\n",
            "\u001b[32m[I 2022-10-03 21:55:05,500]\u001b[0m Trial 81 finished with value: 0.694140350877193 and parameters: {'max_depth': 1.8703326980930628}. Best is trial 2 with value: 0.7234736842105263.\u001b[0m\n",
            "/usr/local/lib/python3.7/dist-packages/ipykernel_launcher.py:6: FutureWarning:\n",
            "\n",
            "suggest_loguniform has been deprecated in v3.0.0. This feature will be removed in v6.0.0. See https://github.com/optuna/optuna/releases/tag/v3.0.0. Use :func:`~optuna.trial.Trial.suggest_float` instead.\n",
            "\n",
            "\u001b[32m[I 2022-10-03 21:55:05,797]\u001b[0m Trial 82 finished with value: 0.7234736842105263 and parameters: {'max_depth': 2.2996136181879825}. Best is trial 2 with value: 0.7234736842105263.\u001b[0m\n",
            "/usr/local/lib/python3.7/dist-packages/ipykernel_launcher.py:6: FutureWarning:\n",
            "\n",
            "suggest_loguniform has been deprecated in v3.0.0. This feature will be removed in v6.0.0. See https://github.com/optuna/optuna/releases/tag/v3.0.0. Use :func:`~optuna.trial.Trial.suggest_float` instead.\n",
            "\n",
            "\u001b[32m[I 2022-10-03 21:55:06,034]\u001b[0m Trial 83 finished with value: 0.7234736842105263 and parameters: {'max_depth': 2.4462968595254924}. Best is trial 2 with value: 0.7234736842105263.\u001b[0m\n",
            "/usr/local/lib/python3.7/dist-packages/ipykernel_launcher.py:6: FutureWarning:\n",
            "\n",
            "suggest_loguniform has been deprecated in v3.0.0. This feature will be removed in v6.0.0. See https://github.com/optuna/optuna/releases/tag/v3.0.0. Use :func:`~optuna.trial.Trial.suggest_float` instead.\n",
            "\n",
            "\u001b[32m[I 2022-10-03 21:55:06,273]\u001b[0m Trial 84 finished with value: 0.7234736842105263 and parameters: {'max_depth': 2.183496743477112}. Best is trial 2 with value: 0.7234736842105263.\u001b[0m\n",
            "/usr/local/lib/python3.7/dist-packages/ipykernel_launcher.py:6: FutureWarning:\n",
            "\n",
            "suggest_loguniform has been deprecated in v3.0.0. This feature will be removed in v6.0.0. See https://github.com/optuna/optuna/releases/tag/v3.0.0. Use :func:`~optuna.trial.Trial.suggest_float` instead.\n",
            "\n",
            "\u001b[32m[I 2022-10-03 21:55:06,544]\u001b[0m Trial 85 finished with value: 0.7234736842105263 and parameters: {'max_depth': 2.544637666084083}. Best is trial 2 with value: 0.7234736842105263.\u001b[0m\n",
            "/usr/local/lib/python3.7/dist-packages/ipykernel_launcher.py:6: FutureWarning:\n",
            "\n",
            "suggest_loguniform has been deprecated in v3.0.0. This feature will be removed in v6.0.0. See https://github.com/optuna/optuna/releases/tag/v3.0.0. Use :func:`~optuna.trial.Trial.suggest_float` instead.\n",
            "\n",
            "\u001b[32m[I 2022-10-03 21:55:06,804]\u001b[0m Trial 86 finished with value: 0.723438596491228 and parameters: {'max_depth': 3.27024830088473}. Best is trial 2 with value: 0.7234736842105263.\u001b[0m\n",
            "/usr/local/lib/python3.7/dist-packages/ipykernel_launcher.py:6: FutureWarning:\n",
            "\n",
            "suggest_loguniform has been deprecated in v3.0.0. This feature will be removed in v6.0.0. See https://github.com/optuna/optuna/releases/tag/v3.0.0. Use :func:`~optuna.trial.Trial.suggest_float` instead.\n",
            "\n",
            "\u001b[32m[I 2022-10-03 21:55:07,021]\u001b[0m Trial 87 finished with value: 0.694140350877193 and parameters: {'max_depth': 1.9882533634358979}. Best is trial 2 with value: 0.7234736842105263.\u001b[0m\n",
            "/usr/local/lib/python3.7/dist-packages/ipykernel_launcher.py:6: FutureWarning:\n",
            "\n",
            "suggest_loguniform has been deprecated in v3.0.0. This feature will be removed in v6.0.0. See https://github.com/optuna/optuna/releases/tag/v3.0.0. Use :func:`~optuna.trial.Trial.suggest_float` instead.\n",
            "\n",
            "\u001b[32m[I 2022-10-03 21:55:07,340]\u001b[0m Trial 88 finished with value: 0.7234736842105263 and parameters: {'max_depth': 2.50801049188744}. Best is trial 2 with value: 0.7234736842105263.\u001b[0m\n",
            "/usr/local/lib/python3.7/dist-packages/ipykernel_launcher.py:6: FutureWarning:\n",
            "\n",
            "suggest_loguniform has been deprecated in v3.0.0. This feature will be removed in v6.0.0. See https://github.com/optuna/optuna/releases/tag/v3.0.0. Use :func:`~optuna.trial.Trial.suggest_float` instead.\n",
            "\n",
            "\u001b[32m[I 2022-10-03 21:55:07,603]\u001b[0m Trial 89 finished with value: 0.694140350877193 and parameters: {'max_depth': 1.3695285342437091}. Best is trial 2 with value: 0.7234736842105263.\u001b[0m\n",
            "/usr/local/lib/python3.7/dist-packages/ipykernel_launcher.py:6: FutureWarning:\n",
            "\n",
            "suggest_loguniform has been deprecated in v3.0.0. This feature will be removed in v6.0.0. See https://github.com/optuna/optuna/releases/tag/v3.0.0. Use :func:`~optuna.trial.Trial.suggest_float` instead.\n",
            "\n",
            "\u001b[32m[I 2022-10-03 21:55:07,884]\u001b[0m Trial 90 finished with value: 0.7234736842105263 and parameters: {'max_depth': 2.148046231537121}. Best is trial 2 with value: 0.7234736842105263.\u001b[0m\n",
            "/usr/local/lib/python3.7/dist-packages/ipykernel_launcher.py:6: FutureWarning:\n",
            "\n",
            "suggest_loguniform has been deprecated in v3.0.0. This feature will be removed in v6.0.0. See https://github.com/optuna/optuna/releases/tag/v3.0.0. Use :func:`~optuna.trial.Trial.suggest_float` instead.\n",
            "\n",
            "\u001b[32m[I 2022-10-03 21:55:08,196]\u001b[0m Trial 91 finished with value: 0.7234736842105263 and parameters: {'max_depth': 2.881465538296168}. Best is trial 2 with value: 0.7234736842105263.\u001b[0m\n",
            "/usr/local/lib/python3.7/dist-packages/ipykernel_launcher.py:6: FutureWarning:\n",
            "\n",
            "suggest_loguniform has been deprecated in v3.0.0. This feature will be removed in v6.0.0. See https://github.com/optuna/optuna/releases/tag/v3.0.0. Use :func:`~optuna.trial.Trial.suggest_float` instead.\n",
            "\n",
            "\u001b[32m[I 2022-10-03 21:55:08,511]\u001b[0m Trial 92 finished with value: 0.694140350877193 and parameters: {'max_depth': 1.7732301795890673}. Best is trial 2 with value: 0.7234736842105263.\u001b[0m\n",
            "/usr/local/lib/python3.7/dist-packages/ipykernel_launcher.py:6: FutureWarning:\n",
            "\n",
            "suggest_loguniform has been deprecated in v3.0.0. This feature will be removed in v6.0.0. See https://github.com/optuna/optuna/releases/tag/v3.0.0. Use :func:`~optuna.trial.Trial.suggest_float` instead.\n",
            "\n",
            "\u001b[32m[I 2022-10-03 21:55:08,782]\u001b[0m Trial 93 finished with value: 0.7234736842105263 and parameters: {'max_depth': 2.8140591928669956}. Best is trial 2 with value: 0.7234736842105263.\u001b[0m\n",
            "/usr/local/lib/python3.7/dist-packages/ipykernel_launcher.py:6: FutureWarning:\n",
            "\n",
            "suggest_loguniform has been deprecated in v3.0.0. This feature will be removed in v6.0.0. See https://github.com/optuna/optuna/releases/tag/v3.0.0. Use :func:`~optuna.trial.Trial.suggest_float` instead.\n",
            "\n",
            "\u001b[32m[I 2022-10-03 21:55:09,044]\u001b[0m Trial 94 finished with value: 0.7234736842105263 and parameters: {'max_depth': 2.978078713905973}. Best is trial 2 with value: 0.7234736842105263.\u001b[0m\n",
            "/usr/local/lib/python3.7/dist-packages/ipykernel_launcher.py:6: FutureWarning:\n",
            "\n",
            "suggest_loguniform has been deprecated in v3.0.0. This feature will be removed in v6.0.0. See https://github.com/optuna/optuna/releases/tag/v3.0.0. Use :func:`~optuna.trial.Trial.suggest_float` instead.\n",
            "\n",
            "\u001b[32m[I 2022-10-03 21:55:09,267]\u001b[0m Trial 95 finished with value: 0.723438596491228 and parameters: {'max_depth': 3.8419843321725686}. Best is trial 2 with value: 0.7234736842105263.\u001b[0m\n",
            "/usr/local/lib/python3.7/dist-packages/ipykernel_launcher.py:6: FutureWarning:\n",
            "\n",
            "suggest_loguniform has been deprecated in v3.0.0. This feature will be removed in v6.0.0. See https://github.com/optuna/optuna/releases/tag/v3.0.0. Use :func:`~optuna.trial.Trial.suggest_float` instead.\n",
            "\n",
            "\u001b[32m[I 2022-10-03 21:55:09,468]\u001b[0m Trial 96 finished with value: 0.7234736842105263 and parameters: {'max_depth': 2.713995261142018}. Best is trial 2 with value: 0.7234736842105263.\u001b[0m\n",
            "/usr/local/lib/python3.7/dist-packages/ipykernel_launcher.py:6: FutureWarning:\n",
            "\n",
            "suggest_loguniform has been deprecated in v3.0.0. This feature will be removed in v6.0.0. See https://github.com/optuna/optuna/releases/tag/v3.0.0. Use :func:`~optuna.trial.Trial.suggest_float` instead.\n",
            "\n",
            "\u001b[32m[I 2022-10-03 21:55:09,725]\u001b[0m Trial 97 finished with value: 0.723438596491228 and parameters: {'max_depth': 3.523242609974212}. Best is trial 2 with value: 0.7234736842105263.\u001b[0m\n",
            "/usr/local/lib/python3.7/dist-packages/ipykernel_launcher.py:6: FutureWarning:\n",
            "\n",
            "suggest_loguniform has been deprecated in v3.0.0. This feature will be removed in v6.0.0. See https://github.com/optuna/optuna/releases/tag/v3.0.0. Use :func:`~optuna.trial.Trial.suggest_float` instead.\n",
            "\n",
            "\u001b[32m[I 2022-10-03 21:55:09,988]\u001b[0m Trial 98 finished with value: 0.7234736842105263 and parameters: {'max_depth': 2.6512830601883732}. Best is trial 2 with value: 0.7234736842105263.\u001b[0m\n",
            "/usr/local/lib/python3.7/dist-packages/ipykernel_launcher.py:6: FutureWarning:\n",
            "\n",
            "suggest_loguniform has been deprecated in v3.0.0. This feature will be removed in v6.0.0. See https://github.com/optuna/optuna/releases/tag/v3.0.0. Use :func:`~optuna.trial.Trial.suggest_float` instead.\n",
            "\n",
            "\u001b[32m[I 2022-10-03 21:55:10,224]\u001b[0m Trial 99 finished with value: 0.7234736842105263 and parameters: {'max_depth': 2.359464386345397}. Best is trial 2 with value: 0.7234736842105263.\u001b[0m\n"
          ]
        }
      ]
    },
    {
      "cell_type": "code",
      "source": [
        "trial = study.best_trial\n",
        "print('Accuracy: {}'.format(trial.value))"
      ],
      "metadata": {
        "colab": {
          "base_uri": "https://localhost:8080/"
        },
        "outputId": "a2813945-4d57-4d99-c97c-a431a8c40cb2",
        "id": "ulccjUVa5v2P"
      },
      "execution_count": 338,
      "outputs": [
        {
          "output_type": "stream",
          "name": "stdout",
          "text": [
            "Accuracy: 0.7234736842105263\n"
          ]
        }
      ]
    },
    {
      "cell_type": "code",
      "source": [
        "print(\"Best hyperparameters: {}\".format(trial.params))"
      ],
      "metadata": {
        "colab": {
          "base_uri": "https://localhost:8080/"
        },
        "outputId": "c273b829-04f5-4e81-fb4b-e36eb9f122e5",
        "id": "cA22_uc65v2P"
      },
      "execution_count": 339,
      "outputs": [
        {
          "output_type": "stream",
          "name": "stdout",
          "text": [
            "Best hyperparameters: {'max_depth': 2.175727340749944}\n"
          ]
        }
      ]
    },
    {
      "cell_type": "code",
      "source": [
        "optuna.visualization.plot_optimization_history(study)"
      ],
      "metadata": {
        "colab": {
          "base_uri": "https://localhost:8080/",
          "height": 542
        },
        "outputId": "3a373737-ae57-4940-e5bc-620dbe077709",
        "id": "HoeOzskQ5v2Q"
      },
      "execution_count": 340,
      "outputs": [
        {
          "output_type": "display_data",
          "data": {
            "text/html": [
              "<html>\n",
              "<head><meta charset=\"utf-8\" /></head>\n",
              "<body>\n",
              "    <div>            <script src=\"https://cdnjs.cloudflare.com/ajax/libs/mathjax/2.7.5/MathJax.js?config=TeX-AMS-MML_SVG\"></script><script type=\"text/javascript\">if (window.MathJax) {MathJax.Hub.Config({SVG: {font: \"STIX-Web\"}});}</script>                <script type=\"text/javascript\">window.PlotlyConfig = {MathJaxConfig: 'local'};</script>\n",
              "        <script src=\"https://cdn.plot.ly/plotly-2.8.3.min.js\"></script>                <div id=\"7cc5925f-5730-4590-97de-335ae3c8e60c\" class=\"plotly-graph-div\" style=\"height:525px; width:100%;\"></div>            <script type=\"text/javascript\">                                    window.PLOTLYENV=window.PLOTLYENV || {};                                    if (document.getElementById(\"7cc5925f-5730-4590-97de-335ae3c8e60c\")) {                    Plotly.newPlot(                        \"7cc5925f-5730-4590-97de-335ae3c8e60c\",                        [{\"mode\":\"markers\",\"name\":\"Objective Value\",\"x\":[0,1,2,3,4,5,6,7,8,9,10,11,12,13,14,15,16,17,18,19,20,21,22,23,24,25,26,27,28,29,30,31,32,33,34,35,36,37,38,39,40,41,42,43,44,45,46,47,48,49,50,51,52,53,54,55,56,57,58,59,60,61,62,63,64,65,66,67,68,69,70,71,72,73,74,75,76,77,78,79,80,81,82,83,84,85,86,87,88,89,90,91,92,93,94,95,96,97,98,99],\"y\":[0.7128421052631578,0.6943157894736842,0.7234736842105263,0.694140350877193,0.723438596491228,0.7181754385964912,0.7076491228070175,0.694140350877193,0.7207719298245614,0.694140350877193,0.7234736842105263,0.7234736842105263,0.7128771929824561,0.694140350877193,0.7155438596491227,0.7234736842105263,0.694140350877193,0.723438596491228,0.715438596491228,0.7234736842105263,0.7129122807017544,0.7234736842105263,0.7234736842105263,0.7234736842105263,0.694140350877193,0.723438596491228,0.7023508771929825,0.723438596491228,0.694140350877193,0.7207719298245614,0.694140350877193,0.7234736842105263,0.7234736842105263,0.7234736842105263,0.694140350877193,0.694140350877193,0.723438596491228,0.694140350877193,0.7234736842105263,0.6995789473684211,0.723438596491228,0.7234736842105263,0.7049473684210527,0.7234736842105263,0.7234736842105263,0.7048421052631578,0.723438596491228,0.7234736842105263,0.694140350877193,0.7207719298245614,0.6970526315789474,0.7234736842105263,0.7234736842105263,0.694140350877193,0.723438596491228,0.7234736842105263,0.694140350877193,0.7234736842105263,0.723438596491228,0.7234736842105263,0.7234736842105263,0.694140350877193,0.7234736842105263,0.7234736842105263,0.7234736842105263,0.7234736842105263,0.694140350877193,0.7234736842105263,0.694140350877193,0.694140350877193,0.723438596491228,0.7234736842105263,0.694140350877193,0.7234736842105263,0.7234736842105263,0.7207719298245614,0.7234736842105263,0.7234736842105263,0.694140350877193,0.723438596491228,0.694140350877193,0.694140350877193,0.7234736842105263,0.7234736842105263,0.7234736842105263,0.7234736842105263,0.723438596491228,0.694140350877193,0.7234736842105263,0.694140350877193,0.7234736842105263,0.7234736842105263,0.694140350877193,0.7234736842105263,0.7234736842105263,0.723438596491228,0.7234736842105263,0.723438596491228,0.7234736842105263,0.7234736842105263],\"type\":\"scatter\"},{\"name\":\"Best Value\",\"x\":[0,1,2,3,4,5,6,7,8,9,10,11,12,13,14,15,16,17,18,19,20,21,22,23,24,25,26,27,28,29,30,31,32,33,34,35,36,37,38,39,40,41,42,43,44,45,46,47,48,49,50,51,52,53,54,55,56,57,58,59,60,61,62,63,64,65,66,67,68,69,70,71,72,73,74,75,76,77,78,79,80,81,82,83,84,85,86,87,88,89,90,91,92,93,94,95,96,97,98,99],\"y\":[0.7128421052631578,0.7128421052631578,0.7234736842105263,0.7234736842105263,0.7234736842105263,0.7234736842105263,0.7234736842105263,0.7234736842105263,0.7234736842105263,0.7234736842105263,0.7234736842105263,0.7234736842105263,0.7234736842105263,0.7234736842105263,0.7234736842105263,0.7234736842105263,0.7234736842105263,0.7234736842105263,0.7234736842105263,0.7234736842105263,0.7234736842105263,0.7234736842105263,0.7234736842105263,0.7234736842105263,0.7234736842105263,0.7234736842105263,0.7234736842105263,0.7234736842105263,0.7234736842105263,0.7234736842105263,0.7234736842105263,0.7234736842105263,0.7234736842105263,0.7234736842105263,0.7234736842105263,0.7234736842105263,0.7234736842105263,0.7234736842105263,0.7234736842105263,0.7234736842105263,0.7234736842105263,0.7234736842105263,0.7234736842105263,0.7234736842105263,0.7234736842105263,0.7234736842105263,0.7234736842105263,0.7234736842105263,0.7234736842105263,0.7234736842105263,0.7234736842105263,0.7234736842105263,0.7234736842105263,0.7234736842105263,0.7234736842105263,0.7234736842105263,0.7234736842105263,0.7234736842105263,0.7234736842105263,0.7234736842105263,0.7234736842105263,0.7234736842105263,0.7234736842105263,0.7234736842105263,0.7234736842105263,0.7234736842105263,0.7234736842105263,0.7234736842105263,0.7234736842105263,0.7234736842105263,0.7234736842105263,0.7234736842105263,0.7234736842105263,0.7234736842105263,0.7234736842105263,0.7234736842105263,0.7234736842105263,0.7234736842105263,0.7234736842105263,0.7234736842105263,0.7234736842105263,0.7234736842105263,0.7234736842105263,0.7234736842105263,0.7234736842105263,0.7234736842105263,0.7234736842105263,0.7234736842105263,0.7234736842105263,0.7234736842105263,0.7234736842105263,0.7234736842105263,0.7234736842105263,0.7234736842105263,0.7234736842105263,0.7234736842105263,0.7234736842105263,0.7234736842105263,0.7234736842105263,0.7234736842105263],\"type\":\"scatter\"}],                        {\"title\":{\"text\":\"Optimization History Plot\"},\"xaxis\":{\"title\":{\"text\":\"Trial\"}},\"yaxis\":{\"title\":{\"text\":\"Objective Value\"}},\"template\":{\"data\":{\"bar\":[{\"error_x\":{\"color\":\"#2a3f5f\"},\"error_y\":{\"color\":\"#2a3f5f\"},\"marker\":{\"line\":{\"color\":\"#E5ECF6\",\"width\":0.5},\"pattern\":{\"fillmode\":\"overlay\",\"size\":10,\"solidity\":0.2}},\"type\":\"bar\"}],\"barpolar\":[{\"marker\":{\"line\":{\"color\":\"#E5ECF6\",\"width\":0.5},\"pattern\":{\"fillmode\":\"overlay\",\"size\":10,\"solidity\":0.2}},\"type\":\"barpolar\"}],\"carpet\":[{\"aaxis\":{\"endlinecolor\":\"#2a3f5f\",\"gridcolor\":\"white\",\"linecolor\":\"white\",\"minorgridcolor\":\"white\",\"startlinecolor\":\"#2a3f5f\"},\"baxis\":{\"endlinecolor\":\"#2a3f5f\",\"gridcolor\":\"white\",\"linecolor\":\"white\",\"minorgridcolor\":\"white\",\"startlinecolor\":\"#2a3f5f\"},\"type\":\"carpet\"}],\"choropleth\":[{\"colorbar\":{\"outlinewidth\":0,\"ticks\":\"\"},\"type\":\"choropleth\"}],\"contour\":[{\"colorbar\":{\"outlinewidth\":0,\"ticks\":\"\"},\"colorscale\":[[0.0,\"#0d0887\"],[0.1111111111111111,\"#46039f\"],[0.2222222222222222,\"#7201a8\"],[0.3333333333333333,\"#9c179e\"],[0.4444444444444444,\"#bd3786\"],[0.5555555555555556,\"#d8576b\"],[0.6666666666666666,\"#ed7953\"],[0.7777777777777778,\"#fb9f3a\"],[0.8888888888888888,\"#fdca26\"],[1.0,\"#f0f921\"]],\"type\":\"contour\"}],\"contourcarpet\":[{\"colorbar\":{\"outlinewidth\":0,\"ticks\":\"\"},\"type\":\"contourcarpet\"}],\"heatmap\":[{\"colorbar\":{\"outlinewidth\":0,\"ticks\":\"\"},\"colorscale\":[[0.0,\"#0d0887\"],[0.1111111111111111,\"#46039f\"],[0.2222222222222222,\"#7201a8\"],[0.3333333333333333,\"#9c179e\"],[0.4444444444444444,\"#bd3786\"],[0.5555555555555556,\"#d8576b\"],[0.6666666666666666,\"#ed7953\"],[0.7777777777777778,\"#fb9f3a\"],[0.8888888888888888,\"#fdca26\"],[1.0,\"#f0f921\"]],\"type\":\"heatmap\"}],\"heatmapgl\":[{\"colorbar\":{\"outlinewidth\":0,\"ticks\":\"\"},\"colorscale\":[[0.0,\"#0d0887\"],[0.1111111111111111,\"#46039f\"],[0.2222222222222222,\"#7201a8\"],[0.3333333333333333,\"#9c179e\"],[0.4444444444444444,\"#bd3786\"],[0.5555555555555556,\"#d8576b\"],[0.6666666666666666,\"#ed7953\"],[0.7777777777777778,\"#fb9f3a\"],[0.8888888888888888,\"#fdca26\"],[1.0,\"#f0f921\"]],\"type\":\"heatmapgl\"}],\"histogram\":[{\"marker\":{\"pattern\":{\"fillmode\":\"overlay\",\"size\":10,\"solidity\":0.2}},\"type\":\"histogram\"}],\"histogram2d\":[{\"colorbar\":{\"outlinewidth\":0,\"ticks\":\"\"},\"colorscale\":[[0.0,\"#0d0887\"],[0.1111111111111111,\"#46039f\"],[0.2222222222222222,\"#7201a8\"],[0.3333333333333333,\"#9c179e\"],[0.4444444444444444,\"#bd3786\"],[0.5555555555555556,\"#d8576b\"],[0.6666666666666666,\"#ed7953\"],[0.7777777777777778,\"#fb9f3a\"],[0.8888888888888888,\"#fdca26\"],[1.0,\"#f0f921\"]],\"type\":\"histogram2d\"}],\"histogram2dcontour\":[{\"colorbar\":{\"outlinewidth\":0,\"ticks\":\"\"},\"colorscale\":[[0.0,\"#0d0887\"],[0.1111111111111111,\"#46039f\"],[0.2222222222222222,\"#7201a8\"],[0.3333333333333333,\"#9c179e\"],[0.4444444444444444,\"#bd3786\"],[0.5555555555555556,\"#d8576b\"],[0.6666666666666666,\"#ed7953\"],[0.7777777777777778,\"#fb9f3a\"],[0.8888888888888888,\"#fdca26\"],[1.0,\"#f0f921\"]],\"type\":\"histogram2dcontour\"}],\"mesh3d\":[{\"colorbar\":{\"outlinewidth\":0,\"ticks\":\"\"},\"type\":\"mesh3d\"}],\"parcoords\":[{\"line\":{\"colorbar\":{\"outlinewidth\":0,\"ticks\":\"\"}},\"type\":\"parcoords\"}],\"pie\":[{\"automargin\":true,\"type\":\"pie\"}],\"scatter\":[{\"marker\":{\"colorbar\":{\"outlinewidth\":0,\"ticks\":\"\"}},\"type\":\"scatter\"}],\"scatter3d\":[{\"line\":{\"colorbar\":{\"outlinewidth\":0,\"ticks\":\"\"}},\"marker\":{\"colorbar\":{\"outlinewidth\":0,\"ticks\":\"\"}},\"type\":\"scatter3d\"}],\"scattercarpet\":[{\"marker\":{\"colorbar\":{\"outlinewidth\":0,\"ticks\":\"\"}},\"type\":\"scattercarpet\"}],\"scattergeo\":[{\"marker\":{\"colorbar\":{\"outlinewidth\":0,\"ticks\":\"\"}},\"type\":\"scattergeo\"}],\"scattergl\":[{\"marker\":{\"colorbar\":{\"outlinewidth\":0,\"ticks\":\"\"}},\"type\":\"scattergl\"}],\"scattermapbox\":[{\"marker\":{\"colorbar\":{\"outlinewidth\":0,\"ticks\":\"\"}},\"type\":\"scattermapbox\"}],\"scatterpolar\":[{\"marker\":{\"colorbar\":{\"outlinewidth\":0,\"ticks\":\"\"}},\"type\":\"scatterpolar\"}],\"scatterpolargl\":[{\"marker\":{\"colorbar\":{\"outlinewidth\":0,\"ticks\":\"\"}},\"type\":\"scatterpolargl\"}],\"scatterternary\":[{\"marker\":{\"colorbar\":{\"outlinewidth\":0,\"ticks\":\"\"}},\"type\":\"scatterternary\"}],\"surface\":[{\"colorbar\":{\"outlinewidth\":0,\"ticks\":\"\"},\"colorscale\":[[0.0,\"#0d0887\"],[0.1111111111111111,\"#46039f\"],[0.2222222222222222,\"#7201a8\"],[0.3333333333333333,\"#9c179e\"],[0.4444444444444444,\"#bd3786\"],[0.5555555555555556,\"#d8576b\"],[0.6666666666666666,\"#ed7953\"],[0.7777777777777778,\"#fb9f3a\"],[0.8888888888888888,\"#fdca26\"],[1.0,\"#f0f921\"]],\"type\":\"surface\"}],\"table\":[{\"cells\":{\"fill\":{\"color\":\"#EBF0F8\"},\"line\":{\"color\":\"white\"}},\"header\":{\"fill\":{\"color\":\"#C8D4E3\"},\"line\":{\"color\":\"white\"}},\"type\":\"table\"}]},\"layout\":{\"annotationdefaults\":{\"arrowcolor\":\"#2a3f5f\",\"arrowhead\":0,\"arrowwidth\":1},\"autotypenumbers\":\"strict\",\"coloraxis\":{\"colorbar\":{\"outlinewidth\":0,\"ticks\":\"\"}},\"colorscale\":{\"diverging\":[[0,\"#8e0152\"],[0.1,\"#c51b7d\"],[0.2,\"#de77ae\"],[0.3,\"#f1b6da\"],[0.4,\"#fde0ef\"],[0.5,\"#f7f7f7\"],[0.6,\"#e6f5d0\"],[0.7,\"#b8e186\"],[0.8,\"#7fbc41\"],[0.9,\"#4d9221\"],[1,\"#276419\"]],\"sequential\":[[0.0,\"#0d0887\"],[0.1111111111111111,\"#46039f\"],[0.2222222222222222,\"#7201a8\"],[0.3333333333333333,\"#9c179e\"],[0.4444444444444444,\"#bd3786\"],[0.5555555555555556,\"#d8576b\"],[0.6666666666666666,\"#ed7953\"],[0.7777777777777778,\"#fb9f3a\"],[0.8888888888888888,\"#fdca26\"],[1.0,\"#f0f921\"]],\"sequentialminus\":[[0.0,\"#0d0887\"],[0.1111111111111111,\"#46039f\"],[0.2222222222222222,\"#7201a8\"],[0.3333333333333333,\"#9c179e\"],[0.4444444444444444,\"#bd3786\"],[0.5555555555555556,\"#d8576b\"],[0.6666666666666666,\"#ed7953\"],[0.7777777777777778,\"#fb9f3a\"],[0.8888888888888888,\"#fdca26\"],[1.0,\"#f0f921\"]]},\"colorway\":[\"#636efa\",\"#EF553B\",\"#00cc96\",\"#ab63fa\",\"#FFA15A\",\"#19d3f3\",\"#FF6692\",\"#B6E880\",\"#FF97FF\",\"#FECB52\"],\"font\":{\"color\":\"#2a3f5f\"},\"geo\":{\"bgcolor\":\"white\",\"lakecolor\":\"white\",\"landcolor\":\"#E5ECF6\",\"showlakes\":true,\"showland\":true,\"subunitcolor\":\"white\"},\"hoverlabel\":{\"align\":\"left\"},\"hovermode\":\"closest\",\"mapbox\":{\"style\":\"light\"},\"paper_bgcolor\":\"white\",\"plot_bgcolor\":\"#E5ECF6\",\"polar\":{\"angularaxis\":{\"gridcolor\":\"white\",\"linecolor\":\"white\",\"ticks\":\"\"},\"bgcolor\":\"#E5ECF6\",\"radialaxis\":{\"gridcolor\":\"white\",\"linecolor\":\"white\",\"ticks\":\"\"}},\"scene\":{\"xaxis\":{\"backgroundcolor\":\"#E5ECF6\",\"gridcolor\":\"white\",\"gridwidth\":2,\"linecolor\":\"white\",\"showbackground\":true,\"ticks\":\"\",\"zerolinecolor\":\"white\"},\"yaxis\":{\"backgroundcolor\":\"#E5ECF6\",\"gridcolor\":\"white\",\"gridwidth\":2,\"linecolor\":\"white\",\"showbackground\":true,\"ticks\":\"\",\"zerolinecolor\":\"white\"},\"zaxis\":{\"backgroundcolor\":\"#E5ECF6\",\"gridcolor\":\"white\",\"gridwidth\":2,\"linecolor\":\"white\",\"showbackground\":true,\"ticks\":\"\",\"zerolinecolor\":\"white\"}},\"shapedefaults\":{\"line\":{\"color\":\"#2a3f5f\"}},\"ternary\":{\"aaxis\":{\"gridcolor\":\"white\",\"linecolor\":\"white\",\"ticks\":\"\"},\"baxis\":{\"gridcolor\":\"white\",\"linecolor\":\"white\",\"ticks\":\"\"},\"bgcolor\":\"#E5ECF6\",\"caxis\":{\"gridcolor\":\"white\",\"linecolor\":\"white\",\"ticks\":\"\"}},\"title\":{\"x\":0.05},\"xaxis\":{\"automargin\":true,\"gridcolor\":\"white\",\"linecolor\":\"white\",\"ticks\":\"\",\"title\":{\"standoff\":15},\"zerolinecolor\":\"white\",\"zerolinewidth\":2},\"yaxis\":{\"automargin\":true,\"gridcolor\":\"white\",\"linecolor\":\"white\",\"ticks\":\"\",\"title\":{\"standoff\":15},\"zerolinecolor\":\"white\",\"zerolinewidth\":2}}}},                        {\"responsive\": true}                    ).then(function(){\n",
              "                            \n",
              "var gd = document.getElementById('7cc5925f-5730-4590-97de-335ae3c8e60c');\n",
              "var x = new MutationObserver(function (mutations, observer) {{\n",
              "        var display = window.getComputedStyle(gd).display;\n",
              "        if (!display || display === 'none') {{\n",
              "            console.log([gd, 'removed!']);\n",
              "            Plotly.purge(gd);\n",
              "            observer.disconnect();\n",
              "        }}\n",
              "}});\n",
              "\n",
              "// Listen for the removal of the full notebook cells\n",
              "var notebookContainer = gd.closest('#notebook-container');\n",
              "if (notebookContainer) {{\n",
              "    x.observe(notebookContainer, {childList: true});\n",
              "}}\n",
              "\n",
              "// Listen for the clearing of the current output cell\n",
              "var outputEl = gd.closest('.output');\n",
              "if (outputEl) {{\n",
              "    x.observe(outputEl, {childList: true});\n",
              "}}\n",
              "\n",
              "                        })                };                            </script>        </div>\n",
              "</body>\n",
              "</html>"
            ]
          },
          "metadata": {}
        }
      ]
    },
    {
      "cell_type": "code",
      "source": [
        "optunaDecisionTree = trial"
      ],
      "metadata": {
        "id": "30wgoDdmCbjZ"
      },
      "execution_count": 341,
      "outputs": []
    },
    {
      "cell_type": "code",
      "source": [
        "def objective_Gaussian(trial):\n",
        "      #criterion = trial.suggest_categorical(\"criterion\", [\"gini\", \"entropy\", \"log_loss\"])\n",
        "      var_smoothing = trial.suggest_float('var_smoothing', 1e-9, 1e-7)\n",
        "      clf = GaussianNB(var_smoothing=var_smoothing)\n",
        "\n",
        "      score = cross_val_score(clf, train_x, train_y, n_jobs=-1, cv=5)\n",
        "      return sklearn.model_selection.cross_val_score(clf, train_x, train_y, \n",
        "           n_jobs=-1).mean()"
      ],
      "metadata": {
        "id": "-YB_rode8-hX"
      },
      "execution_count": 342,
      "outputs": []
    },
    {
      "cell_type": "code",
      "source": [
        "study = optuna.create_study(direction='maximize')\n",
        "study.optimize(objective_Gaussian, n_trials=100)"
      ],
      "metadata": {
        "colab": {
          "base_uri": "https://localhost:8080/"
        },
        "outputId": "8de800be-50bc-4cfa-e4c6-e32a5042d029",
        "id": "rak1FHOz9qx1"
      },
      "execution_count": 343,
      "outputs": [
        {
          "output_type": "stream",
          "name": "stderr",
          "text": [
            "\u001b[32m[I 2022-10-03 21:55:10,425]\u001b[0m A new study created in memory with name: no-name-450be61b-d55a-4ca9-ba13-a84d4219098a\u001b[0m\n",
            "\u001b[32m[I 2022-10-03 21:55:10,760]\u001b[0m Trial 0 finished with value: 0.7474035087719298 and parameters: {'var_smoothing': 5.9504453355218106e-08}. Best is trial 0 with value: 0.7474035087719298.\u001b[0m\n",
            "\u001b[32m[I 2022-10-03 21:55:11,067]\u001b[0m Trial 1 finished with value: 0.7607368421052632 and parameters: {'var_smoothing': 2.8277266966353242e-08}. Best is trial 1 with value: 0.7607368421052632.\u001b[0m\n",
            "\u001b[32m[I 2022-10-03 21:55:11,415]\u001b[0m Trial 2 finished with value: 0.7607368421052632 and parameters: {'var_smoothing': 2.51208476664596e-08}. Best is trial 1 with value: 0.7607368421052632.\u001b[0m\n",
            "\u001b[32m[I 2022-10-03 21:55:11,627]\u001b[0m Trial 3 finished with value: 0.7607368421052632 and parameters: {'var_smoothing': 2.608671584684478e-08}. Best is trial 1 with value: 0.7607368421052632.\u001b[0m\n",
            "\u001b[32m[I 2022-10-03 21:55:11,923]\u001b[0m Trial 4 finished with value: 0.7607368421052632 and parameters: {'var_smoothing': 2.504390356086817e-08}. Best is trial 1 with value: 0.7607368421052632.\u001b[0m\n",
            "\u001b[32m[I 2022-10-03 21:55:12,156]\u001b[0m Trial 5 finished with value: 0.7527719298245614 and parameters: {'var_smoothing': 8.76697184634145e-08}. Best is trial 1 with value: 0.7607368421052632.\u001b[0m\n",
            "\u001b[32m[I 2022-10-03 21:55:12,428]\u001b[0m Trial 6 finished with value: 0.7527719298245614 and parameters: {'var_smoothing': 1.2890726136662842e-08}. Best is trial 1 with value: 0.7607368421052632.\u001b[0m\n",
            "\u001b[32m[I 2022-10-03 21:55:12,650]\u001b[0m Trial 7 finished with value: 0.7554035087719297 and parameters: {'var_smoothing': 3.558654380589033e-08}. Best is trial 1 with value: 0.7607368421052632.\u001b[0m\n",
            "\u001b[32m[I 2022-10-03 21:55:12,883]\u001b[0m Trial 8 finished with value: 0.7527719298245614 and parameters: {'var_smoothing': 9.517765674409272e-08}. Best is trial 1 with value: 0.7607368421052632.\u001b[0m\n",
            "\u001b[32m[I 2022-10-03 21:55:13,106]\u001b[0m Trial 9 finished with value: 0.747438596491228 and parameters: {'var_smoothing': 8.024357073888745e-08}. Best is trial 1 with value: 0.7607368421052632.\u001b[0m\n",
            "\u001b[32m[I 2022-10-03 21:55:13,349]\u001b[0m Trial 10 finished with value: 0.7474035087719298 and parameters: {'var_smoothing': 5.7897057934365995e-08}. Best is trial 1 with value: 0.7607368421052632.\u001b[0m\n",
            "\u001b[32m[I 2022-10-03 21:55:13,645]\u001b[0m Trial 11 finished with value: 0.7607368421052632 and parameters: {'var_smoothing': 1.265393533990671e-09}. Best is trial 1 with value: 0.7607368421052632.\u001b[0m\n",
            "\u001b[32m[I 2022-10-03 21:55:13,856]\u001b[0m Trial 12 finished with value: 0.7527368421052631 and parameters: {'var_smoothing': 4.3493698008821036e-08}. Best is trial 1 with value: 0.7607368421052632.\u001b[0m\n",
            "\u001b[32m[I 2022-10-03 21:55:14,094]\u001b[0m Trial 13 finished with value: 0.7660350877192983 and parameters: {'var_smoothing': 1.9752073778715224e-08}. Best is trial 13 with value: 0.7660350877192983.\u001b[0m\n",
            "\u001b[32m[I 2022-10-03 21:55:14,359]\u001b[0m Trial 14 finished with value: 0.7474385964912281 and parameters: {'var_smoothing': 8.161229323914881e-09}. Best is trial 13 with value: 0.7660350877192983.\u001b[0m\n",
            "\u001b[32m[I 2022-10-03 21:55:14,611]\u001b[0m Trial 15 finished with value: 0.7527368421052631 and parameters: {'var_smoothing': 4.269256876891561e-08}. Best is trial 13 with value: 0.7660350877192983.\u001b[0m\n",
            "\u001b[32m[I 2022-10-03 21:55:14,839]\u001b[0m Trial 16 finished with value: 0.7660350877192983 and parameters: {'var_smoothing': 2.013611965376001e-08}. Best is trial 13 with value: 0.7660350877192983.\u001b[0m\n",
            "\u001b[32m[I 2022-10-03 21:55:15,182]\u001b[0m Trial 17 finished with value: 0.7527719298245614 and parameters: {'var_smoothing': 1.2794068537975677e-08}. Best is trial 13 with value: 0.7660350877192983.\u001b[0m\n",
            "\u001b[32m[I 2022-10-03 21:55:15,418]\u001b[0m Trial 18 finished with value: 0.7474035087719298 and parameters: {'var_smoothing': 6.315151553749762e-08}. Best is trial 13 with value: 0.7660350877192983.\u001b[0m\n",
            "\u001b[32m[I 2022-10-03 21:55:15,615]\u001b[0m Trial 19 finished with value: 0.7527719298245614 and parameters: {'var_smoothing': 1.4702386252633419e-08}. Best is trial 13 with value: 0.7660350877192983.\u001b[0m\n",
            "\u001b[32m[I 2022-10-03 21:55:15,865]\u001b[0m Trial 20 finished with value: 0.7474035087719298 and parameters: {'var_smoothing': 6.918825905256502e-08}. Best is trial 13 with value: 0.7660350877192983.\u001b[0m\n",
            "\u001b[32m[I 2022-10-03 21:55:16,119]\u001b[0m Trial 21 finished with value: 0.7554035087719297 and parameters: {'var_smoothing': 3.427114434142868e-08}. Best is trial 13 with value: 0.7660350877192983.\u001b[0m\n",
            "\u001b[32m[I 2022-10-03 21:55:16,389]\u001b[0m Trial 22 finished with value: 0.7660350877192983 and parameters: {'var_smoothing': 2.0496102249681305e-08}. Best is trial 13 with value: 0.7660350877192983.\u001b[0m\n",
            "\u001b[32m[I 2022-10-03 21:55:16,637]\u001b[0m Trial 23 finished with value: 0.7660350877192983 and parameters: {'var_smoothing': 1.1259331258326816e-09}. Best is trial 13 with value: 0.7660350877192983.\u001b[0m\n",
            "\u001b[32m[I 2022-10-03 21:55:16,840]\u001b[0m Trial 24 finished with value: 0.7634035087719299 and parameters: {'var_smoothing': 1.4147359334813845e-09}. Best is trial 13 with value: 0.7660350877192983.\u001b[0m\n",
            "\u001b[32m[I 2022-10-03 21:55:17,024]\u001b[0m Trial 25 finished with value: 0.7581052631578947 and parameters: {'var_smoothing': 5.267519672088809e-09}. Best is trial 13 with value: 0.7660350877192983.\u001b[0m\n",
            "\u001b[32m[I 2022-10-03 21:55:17,247]\u001b[0m Trial 26 finished with value: 0.7660350877192983 and parameters: {'var_smoothing': 1.9708192037002464e-08}. Best is trial 13 with value: 0.7660350877192983.\u001b[0m\n",
            "\u001b[32m[I 2022-10-03 21:55:17,491]\u001b[0m Trial 27 finished with value: 0.7500701754385966 and parameters: {'var_smoothing': 4.899147420227832e-08}. Best is trial 13 with value: 0.7660350877192983.\u001b[0m\n",
            "\u001b[32m[I 2022-10-03 21:55:17,714]\u001b[0m Trial 28 finished with value: 0.7554035087719297 and parameters: {'var_smoothing': 3.454318223127767e-08}. Best is trial 13 with value: 0.7660350877192983.\u001b[0m\n",
            "\u001b[32m[I 2022-10-03 21:55:17,949]\u001b[0m Trial 29 finished with value: 0.7501052631578948 and parameters: {'var_smoothing': 1.0166855512921654e-08}. Best is trial 13 with value: 0.7660350877192983.\u001b[0m\n",
            "\u001b[32m[I 2022-10-03 21:55:18,161]\u001b[0m Trial 30 finished with value: 0.7660350877192983 and parameters: {'var_smoothing': 1.9144275674316395e-08}. Best is trial 13 with value: 0.7660350877192983.\u001b[0m\n",
            "\u001b[32m[I 2022-10-03 21:55:18,480]\u001b[0m Trial 31 finished with value: 0.7607368421052632 and parameters: {'var_smoothing': 1.8569463296608225e-08}. Best is trial 13 with value: 0.7660350877192983.\u001b[0m\n",
            "\u001b[32m[I 2022-10-03 21:55:18,665]\u001b[0m Trial 32 finished with value: 0.7554035087719297 and parameters: {'var_smoothing': 3.186850269730237e-08}. Best is trial 13 with value: 0.7660350877192983.\u001b[0m\n",
            "\u001b[32m[I 2022-10-03 21:55:18,972]\u001b[0m Trial 33 finished with value: 0.7660350877192983 and parameters: {'var_smoothing': 2.0391687567797575e-08}. Best is trial 13 with value: 0.7660350877192983.\u001b[0m\n",
            "\u001b[32m[I 2022-10-03 21:55:19,159]\u001b[0m Trial 34 finished with value: 0.7607368421052632 and parameters: {'var_smoothing': 2.7796737636151866e-08}. Best is trial 13 with value: 0.7660350877192983.\u001b[0m\n",
            "\u001b[32m[I 2022-10-03 21:55:19,411]\u001b[0m Trial 35 finished with value: 0.7527368421052631 and parameters: {'var_smoothing': 4.0256190926650644e-08}. Best is trial 13 with value: 0.7660350877192983.\u001b[0m\n",
            "\u001b[32m[I 2022-10-03 21:55:19,638]\u001b[0m Trial 36 finished with value: 0.7633684210526315 and parameters: {'var_smoothing': 2.331942314949497e-08}. Best is trial 13 with value: 0.7660350877192983.\u001b[0m\n",
            "\u001b[32m[I 2022-10-03 21:55:19,857]\u001b[0m Trial 37 finished with value: 0.7474385964912281 and parameters: {'var_smoothing': 7.278808828606867e-09}. Best is trial 13 with value: 0.7660350877192983.\u001b[0m\n",
            "\u001b[32m[I 2022-10-03 21:55:20,133]\u001b[0m Trial 38 finished with value: 0.7581052631578948 and parameters: {'var_smoothing': 1.5861547567486245e-08}. Best is trial 13 with value: 0.7660350877192983.\u001b[0m\n",
            "\u001b[32m[I 2022-10-03 21:55:20,343]\u001b[0m Trial 39 finished with value: 0.7580701754385964 and parameters: {'var_smoothing': 2.891103191245504e-08}. Best is trial 13 with value: 0.7660350877192983.\u001b[0m\n",
            "\u001b[32m[I 2022-10-03 21:55:20,545]\u001b[0m Trial 40 finished with value: 0.7500701754385966 and parameters: {'var_smoothing': 4.946732369357459e-08}. Best is trial 13 with value: 0.7660350877192983.\u001b[0m\n",
            "\u001b[32m[I 2022-10-03 21:55:20,777]\u001b[0m Trial 41 finished with value: 0.7607368421052632 and parameters: {'var_smoothing': 2.3513902551518842e-08}. Best is trial 13 with value: 0.7660350877192983.\u001b[0m\n",
            "\u001b[32m[I 2022-10-03 21:55:21,056]\u001b[0m Trial 42 finished with value: 0.7581052631578948 and parameters: {'var_smoothing': 1.757502760049944e-08}. Best is trial 13 with value: 0.7660350877192983.\u001b[0m\n",
            "\u001b[32m[I 2022-10-03 21:55:21,285]\u001b[0m Trial 43 finished with value: 0.7527719298245614 and parameters: {'var_smoothing': 6.014975781113026e-09}. Best is trial 13 with value: 0.7660350877192983.\u001b[0m\n",
            "\u001b[32m[I 2022-10-03 21:55:21,543]\u001b[0m Trial 44 finished with value: 0.7660350877192983 and parameters: {'var_smoothing': 2.1355682646736364e-08}. Best is trial 13 with value: 0.7660350877192983.\u001b[0m\n",
            "\u001b[32m[I 2022-10-03 21:55:21,771]\u001b[0m Trial 45 finished with value: 0.7527719298245614 and parameters: {'var_smoothing': 1.1254349341965126e-08}. Best is trial 13 with value: 0.7660350877192983.\u001b[0m\n",
            "\u001b[32m[I 2022-10-03 21:55:22,001]\u001b[0m Trial 46 finished with value: 0.7527368421052631 and parameters: {'var_smoothing': 3.828793388175679e-08}. Best is trial 13 with value: 0.7660350877192983.\u001b[0m\n",
            "\u001b[32m[I 2022-10-03 21:55:22,185]\u001b[0m Trial 47 finished with value: 0.7554035087719297 and parameters: {'var_smoothing': 3.0451493372726076e-08}. Best is trial 13 with value: 0.7660350877192983.\u001b[0m\n",
            "\u001b[32m[I 2022-10-03 21:55:22,428]\u001b[0m Trial 48 finished with value: 0.7634035087719299 and parameters: {'var_smoothing': 1.6268608868614083e-09}. Best is trial 13 with value: 0.7660350877192983.\u001b[0m\n",
            "\u001b[32m[I 2022-10-03 21:55:22,672]\u001b[0m Trial 49 finished with value: 0.7474035087719298 and parameters: {'var_smoothing': 5.4896178874442895e-08}. Best is trial 13 with value: 0.7660350877192983.\u001b[0m\n",
            "\u001b[32m[I 2022-10-03 21:55:22,925]\u001b[0m Trial 50 finished with value: 0.7607368421052632 and parameters: {'var_smoothing': 2.58589049157111e-08}. Best is trial 13 with value: 0.7660350877192983.\u001b[0m\n",
            "\u001b[32m[I 2022-10-03 21:55:23,125]\u001b[0m Trial 51 finished with value: 0.7660350877192983 and parameters: {'var_smoothing': 1.9537278139350026e-08}. Best is trial 13 with value: 0.7660350877192983.\u001b[0m\n",
            "\u001b[32m[I 2022-10-03 21:55:23,329]\u001b[0m Trial 52 finished with value: 0.7581052631578948 and parameters: {'var_smoothing': 1.6182214068853443e-08}. Best is trial 13 with value: 0.7660350877192983.\u001b[0m\n",
            "\u001b[32m[I 2022-10-03 21:55:23,561]\u001b[0m Trial 53 finished with value: 0.7660350877192983 and parameters: {'var_smoothing': 2.06736458834671e-08}. Best is trial 13 with value: 0.7660350877192983.\u001b[0m\n",
            "\u001b[32m[I 2022-10-03 21:55:23,777]\u001b[0m Trial 54 finished with value: 0.7527719298245614 and parameters: {'var_smoothing': 1.214139523647042e-08}. Best is trial 13 with value: 0.7660350877192983.\u001b[0m\n",
            "\u001b[32m[I 2022-10-03 21:55:23,995]\u001b[0m Trial 55 finished with value: 0.7607368421052632 and parameters: {'var_smoothing': 2.5667297772041824e-08}. Best is trial 13 with value: 0.7660350877192983.\u001b[0m\n",
            "\u001b[32m[I 2022-10-03 21:55:24,329]\u001b[0m Trial 56 finished with value: 0.7527719298245614 and parameters: {'var_smoothing': 9.823283185950072e-08}. Best is trial 13 with value: 0.7660350877192983.\u001b[0m\n",
            "\u001b[32m[I 2022-10-03 21:55:24,686]\u001b[0m Trial 57 finished with value: 0.7421052631578947 and parameters: {'var_smoothing': 7.181696179944315e-08}. Best is trial 13 with value: 0.7660350877192983.\u001b[0m\n",
            "\u001b[32m[I 2022-10-03 21:55:25,007]\u001b[0m Trial 58 finished with value: 0.7500701754385966 and parameters: {'var_smoothing': 4.517038784427992e-08}. Best is trial 13 with value: 0.7660350877192983.\u001b[0m\n",
            "\u001b[32m[I 2022-10-03 21:55:25,191]\u001b[0m Trial 59 finished with value: 0.7607719298245613 and parameters: {'var_smoothing': 4.2977653697825905e-09}. Best is trial 13 with value: 0.7660350877192983.\u001b[0m\n",
            "\u001b[32m[I 2022-10-03 21:55:25,311]\u001b[0m Trial 60 finished with value: 0.7474385964912281 and parameters: {'var_smoothing': 9.447187708353019e-09}. Best is trial 13 with value: 0.7660350877192983.\u001b[0m\n",
            "\u001b[32m[I 2022-10-03 21:55:25,461]\u001b[0m Trial 61 finished with value: 0.7660350877192983 and parameters: {'var_smoothing': 2.137784299923716e-08}. Best is trial 13 with value: 0.7660350877192983.\u001b[0m\n",
            "\u001b[32m[I 2022-10-03 21:55:25,605]\u001b[0m Trial 62 finished with value: 0.7527719298245614 and parameters: {'var_smoothing': 1.4476523420062002e-08}. Best is trial 13 with value: 0.7660350877192983.\u001b[0m\n",
            "\u001b[32m[I 2022-10-03 21:55:25,722]\u001b[0m Trial 63 finished with value: 0.7527368421052631 and parameters: {'var_smoothing': 3.705389670983411e-08}. Best is trial 13 with value: 0.7660350877192983.\u001b[0m\n",
            "\u001b[32m[I 2022-10-03 21:55:25,857]\u001b[0m Trial 64 finished with value: 0.7633684210526315 and parameters: {'var_smoothing': 2.320715025844088e-08}. Best is trial 13 with value: 0.7660350877192983.\u001b[0m\n",
            "\u001b[32m[I 2022-10-03 21:55:25,976]\u001b[0m Trial 65 finished with value: 0.7554035087719297 and parameters: {'var_smoothing': 3.2790860973303226e-08}. Best is trial 13 with value: 0.7660350877192983.\u001b[0m\n",
            "\u001b[32m[I 2022-10-03 21:55:26,103]\u001b[0m Trial 66 finished with value: 0.7580701754385964 and parameters: {'var_smoothing': 2.8968983043648548e-08}. Best is trial 13 with value: 0.7660350877192983.\u001b[0m\n",
            "\u001b[32m[I 2022-10-03 21:55:26,226]\u001b[0m Trial 67 finished with value: 0.7527719298245614 and parameters: {'var_smoothing': 1.2469613699605815e-08}. Best is trial 13 with value: 0.7660350877192983.\u001b[0m\n",
            "\u001b[32m[I 2022-10-03 21:55:26,360]\u001b[0m Trial 68 finished with value: 0.7581052631578948 and parameters: {'var_smoothing': 1.711711448853081e-08}. Best is trial 13 with value: 0.7660350877192983.\u001b[0m\n",
            "\u001b[32m[I 2022-10-03 21:55:26,499]\u001b[0m Trial 69 finished with value: 0.7660350877192983 and parameters: {'var_smoothing': 2.1402460065678445e-08}. Best is trial 13 with value: 0.7660350877192983.\u001b[0m\n",
            "\u001b[32m[I 2022-10-03 21:55:26,624]\u001b[0m Trial 70 finished with value: 0.7474385964912281 and parameters: {'var_smoothing': 9.025001848720837e-09}. Best is trial 13 with value: 0.7660350877192983.\u001b[0m\n",
            "\u001b[32m[I 2022-10-03 21:55:26,759]\u001b[0m Trial 71 finished with value: 0.7660350877192983 and parameters: {'var_smoothing': 2.117316119969594e-08}. Best is trial 13 with value: 0.7660350877192983.\u001b[0m\n",
            "\u001b[32m[I 2022-10-03 21:55:26,880]\u001b[0m Trial 72 finished with value: 0.7660350877192983 and parameters: {'var_smoothing': 2.1342476886613572e-08}. Best is trial 13 with value: 0.7660350877192983.\u001b[0m\n",
            "\u001b[32m[I 2022-10-03 21:55:27,004]\u001b[0m Trial 73 finished with value: 0.7607368421052632 and parameters: {'var_smoothing': 2.64578280222048e-08}. Best is trial 13 with value: 0.7660350877192983.\u001b[0m\n",
            "\u001b[32m[I 2022-10-03 21:55:27,132]\u001b[0m Trial 74 finished with value: 0.7633684210526316 and parameters: {'var_smoothing': 1.893693444675248e-08}. Best is trial 13 with value: 0.7660350877192983.\u001b[0m\n",
            "\u001b[32m[I 2022-10-03 21:55:27,263]\u001b[0m Trial 75 finished with value: 0.7527719298245614 and parameters: {'var_smoothing': 8.88206910825255e-08}. Best is trial 13 with value: 0.7660350877192983.\u001b[0m\n",
            "\u001b[32m[I 2022-10-03 21:55:27,390]\u001b[0m Trial 76 finished with value: 0.7527719298245614 and parameters: {'var_smoothing': 1.3798047429369689e-08}. Best is trial 13 with value: 0.7660350877192983.\u001b[0m\n",
            "\u001b[32m[I 2022-10-03 21:55:27,526]\u001b[0m Trial 77 finished with value: 0.7607719298245613 and parameters: {'var_smoothing': 4.332192837448045e-09}. Best is trial 13 with value: 0.7660350877192983.\u001b[0m\n",
            "\u001b[32m[I 2022-10-03 21:55:27,653]\u001b[0m Trial 78 finished with value: 0.7633684210526315 and parameters: {'var_smoothing': 2.2958567861872414e-08}. Best is trial 13 with value: 0.7660350877192983.\u001b[0m\n",
            "\u001b[32m[I 2022-10-03 21:55:27,774]\u001b[0m Trial 79 finished with value: 0.7554035087719297 and parameters: {'var_smoothing': 3.1621618065619974e-08}. Best is trial 13 with value: 0.7660350877192983.\u001b[0m\n",
            "\u001b[32m[I 2022-10-03 21:55:27,897]\u001b[0m Trial 80 finished with value: 0.7633684210526316 and parameters: {'var_smoothing': 1.894571701156226e-08}. Best is trial 13 with value: 0.7660350877192983.\u001b[0m\n",
            "\u001b[32m[I 2022-10-03 21:55:28,016]\u001b[0m Trial 81 finished with value: 0.7607368421052632 and parameters: {'var_smoothing': 2.760092302124738e-08}. Best is trial 13 with value: 0.7660350877192983.\u001b[0m\n",
            "\u001b[32m[I 2022-10-03 21:55:28,147]\u001b[0m Trial 82 finished with value: 0.7581052631578948 and parameters: {'var_smoothing': 1.5939551770301167e-08}. Best is trial 13 with value: 0.7660350877192983.\u001b[0m\n",
            "\u001b[32m[I 2022-10-03 21:55:28,271]\u001b[0m Trial 83 finished with value: 0.7633684210526315 and parameters: {'var_smoothing': 2.235971340952838e-08}. Best is trial 13 with value: 0.7660350877192983.\u001b[0m\n",
            "\u001b[32m[I 2022-10-03 21:55:28,386]\u001b[0m Trial 84 finished with value: 0.7660350877192983 and parameters: {'var_smoothing': 1.9494792536819952e-08}. Best is trial 13 with value: 0.7660350877192983.\u001b[0m\n",
            "\u001b[32m[I 2022-10-03 21:55:28,512]\u001b[0m Trial 85 finished with value: 0.7607368421052632 and parameters: {'var_smoothing': 2.394789307656024e-08}. Best is trial 13 with value: 0.7660350877192983.\u001b[0m\n",
            "\u001b[32m[I 2022-10-03 21:55:28,635]\u001b[0m Trial 86 finished with value: 0.7554035087719297 and parameters: {'var_smoothing': 2.9790769093389334e-08}. Best is trial 13 with value: 0.7660350877192983.\u001b[0m\n",
            "\u001b[32m[I 2022-10-03 21:55:28,764]\u001b[0m Trial 87 finished with value: 0.7527719298245614 and parameters: {'var_smoothing': 1.0551107814775257e-08}. Best is trial 13 with value: 0.7660350877192983.\u001b[0m\n",
            "\u001b[32m[I 2022-10-03 21:55:28,892]\u001b[0m Trial 88 finished with value: 0.7607368421052632 and parameters: {'var_smoothing': 2.5396005331223614e-08}. Best is trial 13 with value: 0.7660350877192983.\u001b[0m\n",
            "\u001b[32m[I 2022-10-03 21:55:29,013]\u001b[0m Trial 89 finished with value: 0.7474385964912281 and parameters: {'var_smoothing': 7.725593837240289e-09}. Best is trial 13 with value: 0.7660350877192983.\u001b[0m\n",
            "\u001b[32m[I 2022-10-03 21:55:29,137]\u001b[0m Trial 90 finished with value: 0.7633684210526316 and parameters: {'var_smoothing': 1.8733133657416935e-08}. Best is trial 13 with value: 0.7660350877192983.\u001b[0m\n",
            "\u001b[32m[I 2022-10-03 21:55:29,254]\u001b[0m Trial 91 finished with value: 0.7660350877192983 and parameters: {'var_smoothing': 2.041815500795617e-08}. Best is trial 13 with value: 0.7660350877192983.\u001b[0m\n",
            "\u001b[32m[I 2022-10-03 21:55:29,381]\u001b[0m Trial 92 finished with value: 0.7660350877192983 and parameters: {'var_smoothing': 2.1208937565788238e-08}. Best is trial 13 with value: 0.7660350877192983.\u001b[0m\n",
            "\u001b[32m[I 2022-10-03 21:55:29,522]\u001b[0m Trial 93 finished with value: 0.7633684210526315 and parameters: {'var_smoothing': 2.2382924482484255e-08}. Best is trial 13 with value: 0.7660350877192983.\u001b[0m\n",
            "\u001b[32m[I 2022-10-03 21:55:29,650]\u001b[0m Trial 94 finished with value: 0.7527719298245614 and parameters: {'var_smoothing': 1.4597263085517564e-08}. Best is trial 13 with value: 0.7660350877192983.\u001b[0m\n",
            "\u001b[32m[I 2022-10-03 21:55:29,767]\u001b[0m Trial 95 finished with value: 0.7554035087719297 and parameters: {'var_smoothing': 3.434372738864449e-08}. Best is trial 13 with value: 0.7660350877192983.\u001b[0m\n",
            "\u001b[32m[I 2022-10-03 21:55:29,888]\u001b[0m Trial 96 finished with value: 0.7527719298245614 and parameters: {'var_smoothing': 1.5024887569424888e-08}. Best is trial 13 with value: 0.7660350877192983.\u001b[0m\n",
            "\u001b[32m[I 2022-10-03 21:55:30,010]\u001b[0m Trial 97 finished with value: 0.7581052631578948 and parameters: {'var_smoothing': 1.7472385405168092e-08}. Best is trial 13 with value: 0.7660350877192983.\u001b[0m\n",
            "\u001b[32m[I 2022-10-03 21:55:30,125]\u001b[0m Trial 98 finished with value: 0.7607368421052632 and parameters: {'var_smoothing': 2.480768299096336e-08}. Best is trial 13 with value: 0.7660350877192983.\u001b[0m\n",
            "\u001b[32m[I 2022-10-03 21:55:30,242]\u001b[0m Trial 99 finished with value: 0.7527368421052631 and parameters: {'var_smoothing': 4.0124887247835015e-08}. Best is trial 13 with value: 0.7660350877192983.\u001b[0m\n"
          ]
        }
      ]
    },
    {
      "cell_type": "code",
      "source": [
        "trial = study.best_trial\n",
        "print('Accuracy: {}'.format(trial.value))"
      ],
      "metadata": {
        "colab": {
          "base_uri": "https://localhost:8080/"
        },
        "outputId": "a1f11ba0-7ccd-4f74-b69a-ac7329d7e7df",
        "id": "NMmY9I229qx1"
      },
      "execution_count": 344,
      "outputs": [
        {
          "output_type": "stream",
          "name": "stdout",
          "text": [
            "Accuracy: 0.7660350877192983\n"
          ]
        }
      ]
    },
    {
      "cell_type": "code",
      "source": [
        "print(\"Best hyperparameters: {}\".format(trial.params))"
      ],
      "metadata": {
        "colab": {
          "base_uri": "https://localhost:8080/"
        },
        "outputId": "9aabec78-61c7-4dc9-cab7-4aa68da55e1d",
        "id": "0a6NBMWI9qx2"
      },
      "execution_count": 345,
      "outputs": [
        {
          "output_type": "stream",
          "name": "stdout",
          "text": [
            "Best hyperparameters: {'var_smoothing': 1.9752073778715224e-08}\n"
          ]
        }
      ]
    },
    {
      "cell_type": "code",
      "source": [
        "optuna.visualization.plot_optimization_history(study)"
      ],
      "metadata": {
        "colab": {
          "base_uri": "https://localhost:8080/",
          "height": 542
        },
        "outputId": "60353969-1c2d-4364-ea48-f4b7bc1149cb",
        "id": "M3F0HaeE9qx2"
      },
      "execution_count": 346,
      "outputs": [
        {
          "output_type": "display_data",
          "data": {
            "text/html": [
              "<html>\n",
              "<head><meta charset=\"utf-8\" /></head>\n",
              "<body>\n",
              "    <div>            <script src=\"https://cdnjs.cloudflare.com/ajax/libs/mathjax/2.7.5/MathJax.js?config=TeX-AMS-MML_SVG\"></script><script type=\"text/javascript\">if (window.MathJax) {MathJax.Hub.Config({SVG: {font: \"STIX-Web\"}});}</script>                <script type=\"text/javascript\">window.PlotlyConfig = {MathJaxConfig: 'local'};</script>\n",
              "        <script src=\"https://cdn.plot.ly/plotly-2.8.3.min.js\"></script>                <div id=\"cba6695e-b999-4889-bae7-7deb11d98782\" class=\"plotly-graph-div\" style=\"height:525px; width:100%;\"></div>            <script type=\"text/javascript\">                                    window.PLOTLYENV=window.PLOTLYENV || {};                                    if (document.getElementById(\"cba6695e-b999-4889-bae7-7deb11d98782\")) {                    Plotly.newPlot(                        \"cba6695e-b999-4889-bae7-7deb11d98782\",                        [{\"mode\":\"markers\",\"name\":\"Objective Value\",\"x\":[0,1,2,3,4,5,6,7,8,9,10,11,12,13,14,15,16,17,18,19,20,21,22,23,24,25,26,27,28,29,30,31,32,33,34,35,36,37,38,39,40,41,42,43,44,45,46,47,48,49,50,51,52,53,54,55,56,57,58,59,60,61,62,63,64,65,66,67,68,69,70,71,72,73,74,75,76,77,78,79,80,81,82,83,84,85,86,87,88,89,90,91,92,93,94,95,96,97,98,99],\"y\":[0.7474035087719298,0.7607368421052632,0.7607368421052632,0.7607368421052632,0.7607368421052632,0.7527719298245614,0.7527719298245614,0.7554035087719297,0.7527719298245614,0.747438596491228,0.7474035087719298,0.7607368421052632,0.7527368421052631,0.7660350877192983,0.7474385964912281,0.7527368421052631,0.7660350877192983,0.7527719298245614,0.7474035087719298,0.7527719298245614,0.7474035087719298,0.7554035087719297,0.7660350877192983,0.7660350877192983,0.7634035087719299,0.7581052631578947,0.7660350877192983,0.7500701754385966,0.7554035087719297,0.7501052631578948,0.7660350877192983,0.7607368421052632,0.7554035087719297,0.7660350877192983,0.7607368421052632,0.7527368421052631,0.7633684210526315,0.7474385964912281,0.7581052631578948,0.7580701754385964,0.7500701754385966,0.7607368421052632,0.7581052631578948,0.7527719298245614,0.7660350877192983,0.7527719298245614,0.7527368421052631,0.7554035087719297,0.7634035087719299,0.7474035087719298,0.7607368421052632,0.7660350877192983,0.7581052631578948,0.7660350877192983,0.7527719298245614,0.7607368421052632,0.7527719298245614,0.7421052631578947,0.7500701754385966,0.7607719298245613,0.7474385964912281,0.7660350877192983,0.7527719298245614,0.7527368421052631,0.7633684210526315,0.7554035087719297,0.7580701754385964,0.7527719298245614,0.7581052631578948,0.7660350877192983,0.7474385964912281,0.7660350877192983,0.7660350877192983,0.7607368421052632,0.7633684210526316,0.7527719298245614,0.7527719298245614,0.7607719298245613,0.7633684210526315,0.7554035087719297,0.7633684210526316,0.7607368421052632,0.7581052631578948,0.7633684210526315,0.7660350877192983,0.7607368421052632,0.7554035087719297,0.7527719298245614,0.7607368421052632,0.7474385964912281,0.7633684210526316,0.7660350877192983,0.7660350877192983,0.7633684210526315,0.7527719298245614,0.7554035087719297,0.7527719298245614,0.7581052631578948,0.7607368421052632,0.7527368421052631],\"type\":\"scatter\"},{\"name\":\"Best Value\",\"x\":[0,1,2,3,4,5,6,7,8,9,10,11,12,13,14,15,16,17,18,19,20,21,22,23,24,25,26,27,28,29,30,31,32,33,34,35,36,37,38,39,40,41,42,43,44,45,46,47,48,49,50,51,52,53,54,55,56,57,58,59,60,61,62,63,64,65,66,67,68,69,70,71,72,73,74,75,76,77,78,79,80,81,82,83,84,85,86,87,88,89,90,91,92,93,94,95,96,97,98,99],\"y\":[0.7474035087719298,0.7607368421052632,0.7607368421052632,0.7607368421052632,0.7607368421052632,0.7607368421052632,0.7607368421052632,0.7607368421052632,0.7607368421052632,0.7607368421052632,0.7607368421052632,0.7607368421052632,0.7607368421052632,0.7660350877192983,0.7660350877192983,0.7660350877192983,0.7660350877192983,0.7660350877192983,0.7660350877192983,0.7660350877192983,0.7660350877192983,0.7660350877192983,0.7660350877192983,0.7660350877192983,0.7660350877192983,0.7660350877192983,0.7660350877192983,0.7660350877192983,0.7660350877192983,0.7660350877192983,0.7660350877192983,0.7660350877192983,0.7660350877192983,0.7660350877192983,0.7660350877192983,0.7660350877192983,0.7660350877192983,0.7660350877192983,0.7660350877192983,0.7660350877192983,0.7660350877192983,0.7660350877192983,0.7660350877192983,0.7660350877192983,0.7660350877192983,0.7660350877192983,0.7660350877192983,0.7660350877192983,0.7660350877192983,0.7660350877192983,0.7660350877192983,0.7660350877192983,0.7660350877192983,0.7660350877192983,0.7660350877192983,0.7660350877192983,0.7660350877192983,0.7660350877192983,0.7660350877192983,0.7660350877192983,0.7660350877192983,0.7660350877192983,0.7660350877192983,0.7660350877192983,0.7660350877192983,0.7660350877192983,0.7660350877192983,0.7660350877192983,0.7660350877192983,0.7660350877192983,0.7660350877192983,0.7660350877192983,0.7660350877192983,0.7660350877192983,0.7660350877192983,0.7660350877192983,0.7660350877192983,0.7660350877192983,0.7660350877192983,0.7660350877192983,0.7660350877192983,0.7660350877192983,0.7660350877192983,0.7660350877192983,0.7660350877192983,0.7660350877192983,0.7660350877192983,0.7660350877192983,0.7660350877192983,0.7660350877192983,0.7660350877192983,0.7660350877192983,0.7660350877192983,0.7660350877192983,0.7660350877192983,0.7660350877192983,0.7660350877192983,0.7660350877192983,0.7660350877192983,0.7660350877192983],\"type\":\"scatter\"}],                        {\"title\":{\"text\":\"Optimization History Plot\"},\"xaxis\":{\"title\":{\"text\":\"Trial\"}},\"yaxis\":{\"title\":{\"text\":\"Objective Value\"}},\"template\":{\"data\":{\"bar\":[{\"error_x\":{\"color\":\"#2a3f5f\"},\"error_y\":{\"color\":\"#2a3f5f\"},\"marker\":{\"line\":{\"color\":\"#E5ECF6\",\"width\":0.5},\"pattern\":{\"fillmode\":\"overlay\",\"size\":10,\"solidity\":0.2}},\"type\":\"bar\"}],\"barpolar\":[{\"marker\":{\"line\":{\"color\":\"#E5ECF6\",\"width\":0.5},\"pattern\":{\"fillmode\":\"overlay\",\"size\":10,\"solidity\":0.2}},\"type\":\"barpolar\"}],\"carpet\":[{\"aaxis\":{\"endlinecolor\":\"#2a3f5f\",\"gridcolor\":\"white\",\"linecolor\":\"white\",\"minorgridcolor\":\"white\",\"startlinecolor\":\"#2a3f5f\"},\"baxis\":{\"endlinecolor\":\"#2a3f5f\",\"gridcolor\":\"white\",\"linecolor\":\"white\",\"minorgridcolor\":\"white\",\"startlinecolor\":\"#2a3f5f\"},\"type\":\"carpet\"}],\"choropleth\":[{\"colorbar\":{\"outlinewidth\":0,\"ticks\":\"\"},\"type\":\"choropleth\"}],\"contour\":[{\"colorbar\":{\"outlinewidth\":0,\"ticks\":\"\"},\"colorscale\":[[0.0,\"#0d0887\"],[0.1111111111111111,\"#46039f\"],[0.2222222222222222,\"#7201a8\"],[0.3333333333333333,\"#9c179e\"],[0.4444444444444444,\"#bd3786\"],[0.5555555555555556,\"#d8576b\"],[0.6666666666666666,\"#ed7953\"],[0.7777777777777778,\"#fb9f3a\"],[0.8888888888888888,\"#fdca26\"],[1.0,\"#f0f921\"]],\"type\":\"contour\"}],\"contourcarpet\":[{\"colorbar\":{\"outlinewidth\":0,\"ticks\":\"\"},\"type\":\"contourcarpet\"}],\"heatmap\":[{\"colorbar\":{\"outlinewidth\":0,\"ticks\":\"\"},\"colorscale\":[[0.0,\"#0d0887\"],[0.1111111111111111,\"#46039f\"],[0.2222222222222222,\"#7201a8\"],[0.3333333333333333,\"#9c179e\"],[0.4444444444444444,\"#bd3786\"],[0.5555555555555556,\"#d8576b\"],[0.6666666666666666,\"#ed7953\"],[0.7777777777777778,\"#fb9f3a\"],[0.8888888888888888,\"#fdca26\"],[1.0,\"#f0f921\"]],\"type\":\"heatmap\"}],\"heatmapgl\":[{\"colorbar\":{\"outlinewidth\":0,\"ticks\":\"\"},\"colorscale\":[[0.0,\"#0d0887\"],[0.1111111111111111,\"#46039f\"],[0.2222222222222222,\"#7201a8\"],[0.3333333333333333,\"#9c179e\"],[0.4444444444444444,\"#bd3786\"],[0.5555555555555556,\"#d8576b\"],[0.6666666666666666,\"#ed7953\"],[0.7777777777777778,\"#fb9f3a\"],[0.8888888888888888,\"#fdca26\"],[1.0,\"#f0f921\"]],\"type\":\"heatmapgl\"}],\"histogram\":[{\"marker\":{\"pattern\":{\"fillmode\":\"overlay\",\"size\":10,\"solidity\":0.2}},\"type\":\"histogram\"}],\"histogram2d\":[{\"colorbar\":{\"outlinewidth\":0,\"ticks\":\"\"},\"colorscale\":[[0.0,\"#0d0887\"],[0.1111111111111111,\"#46039f\"],[0.2222222222222222,\"#7201a8\"],[0.3333333333333333,\"#9c179e\"],[0.4444444444444444,\"#bd3786\"],[0.5555555555555556,\"#d8576b\"],[0.6666666666666666,\"#ed7953\"],[0.7777777777777778,\"#fb9f3a\"],[0.8888888888888888,\"#fdca26\"],[1.0,\"#f0f921\"]],\"type\":\"histogram2d\"}],\"histogram2dcontour\":[{\"colorbar\":{\"outlinewidth\":0,\"ticks\":\"\"},\"colorscale\":[[0.0,\"#0d0887\"],[0.1111111111111111,\"#46039f\"],[0.2222222222222222,\"#7201a8\"],[0.3333333333333333,\"#9c179e\"],[0.4444444444444444,\"#bd3786\"],[0.5555555555555556,\"#d8576b\"],[0.6666666666666666,\"#ed7953\"],[0.7777777777777778,\"#fb9f3a\"],[0.8888888888888888,\"#fdca26\"],[1.0,\"#f0f921\"]],\"type\":\"histogram2dcontour\"}],\"mesh3d\":[{\"colorbar\":{\"outlinewidth\":0,\"ticks\":\"\"},\"type\":\"mesh3d\"}],\"parcoords\":[{\"line\":{\"colorbar\":{\"outlinewidth\":0,\"ticks\":\"\"}},\"type\":\"parcoords\"}],\"pie\":[{\"automargin\":true,\"type\":\"pie\"}],\"scatter\":[{\"marker\":{\"colorbar\":{\"outlinewidth\":0,\"ticks\":\"\"}},\"type\":\"scatter\"}],\"scatter3d\":[{\"line\":{\"colorbar\":{\"outlinewidth\":0,\"ticks\":\"\"}},\"marker\":{\"colorbar\":{\"outlinewidth\":0,\"ticks\":\"\"}},\"type\":\"scatter3d\"}],\"scattercarpet\":[{\"marker\":{\"colorbar\":{\"outlinewidth\":0,\"ticks\":\"\"}},\"type\":\"scattercarpet\"}],\"scattergeo\":[{\"marker\":{\"colorbar\":{\"outlinewidth\":0,\"ticks\":\"\"}},\"type\":\"scattergeo\"}],\"scattergl\":[{\"marker\":{\"colorbar\":{\"outlinewidth\":0,\"ticks\":\"\"}},\"type\":\"scattergl\"}],\"scattermapbox\":[{\"marker\":{\"colorbar\":{\"outlinewidth\":0,\"ticks\":\"\"}},\"type\":\"scattermapbox\"}],\"scatterpolar\":[{\"marker\":{\"colorbar\":{\"outlinewidth\":0,\"ticks\":\"\"}},\"type\":\"scatterpolar\"}],\"scatterpolargl\":[{\"marker\":{\"colorbar\":{\"outlinewidth\":0,\"ticks\":\"\"}},\"type\":\"scatterpolargl\"}],\"scatterternary\":[{\"marker\":{\"colorbar\":{\"outlinewidth\":0,\"ticks\":\"\"}},\"type\":\"scatterternary\"}],\"surface\":[{\"colorbar\":{\"outlinewidth\":0,\"ticks\":\"\"},\"colorscale\":[[0.0,\"#0d0887\"],[0.1111111111111111,\"#46039f\"],[0.2222222222222222,\"#7201a8\"],[0.3333333333333333,\"#9c179e\"],[0.4444444444444444,\"#bd3786\"],[0.5555555555555556,\"#d8576b\"],[0.6666666666666666,\"#ed7953\"],[0.7777777777777778,\"#fb9f3a\"],[0.8888888888888888,\"#fdca26\"],[1.0,\"#f0f921\"]],\"type\":\"surface\"}],\"table\":[{\"cells\":{\"fill\":{\"color\":\"#EBF0F8\"},\"line\":{\"color\":\"white\"}},\"header\":{\"fill\":{\"color\":\"#C8D4E3\"},\"line\":{\"color\":\"white\"}},\"type\":\"table\"}]},\"layout\":{\"annotationdefaults\":{\"arrowcolor\":\"#2a3f5f\",\"arrowhead\":0,\"arrowwidth\":1},\"autotypenumbers\":\"strict\",\"coloraxis\":{\"colorbar\":{\"outlinewidth\":0,\"ticks\":\"\"}},\"colorscale\":{\"diverging\":[[0,\"#8e0152\"],[0.1,\"#c51b7d\"],[0.2,\"#de77ae\"],[0.3,\"#f1b6da\"],[0.4,\"#fde0ef\"],[0.5,\"#f7f7f7\"],[0.6,\"#e6f5d0\"],[0.7,\"#b8e186\"],[0.8,\"#7fbc41\"],[0.9,\"#4d9221\"],[1,\"#276419\"]],\"sequential\":[[0.0,\"#0d0887\"],[0.1111111111111111,\"#46039f\"],[0.2222222222222222,\"#7201a8\"],[0.3333333333333333,\"#9c179e\"],[0.4444444444444444,\"#bd3786\"],[0.5555555555555556,\"#d8576b\"],[0.6666666666666666,\"#ed7953\"],[0.7777777777777778,\"#fb9f3a\"],[0.8888888888888888,\"#fdca26\"],[1.0,\"#f0f921\"]],\"sequentialminus\":[[0.0,\"#0d0887\"],[0.1111111111111111,\"#46039f\"],[0.2222222222222222,\"#7201a8\"],[0.3333333333333333,\"#9c179e\"],[0.4444444444444444,\"#bd3786\"],[0.5555555555555556,\"#d8576b\"],[0.6666666666666666,\"#ed7953\"],[0.7777777777777778,\"#fb9f3a\"],[0.8888888888888888,\"#fdca26\"],[1.0,\"#f0f921\"]]},\"colorway\":[\"#636efa\",\"#EF553B\",\"#00cc96\",\"#ab63fa\",\"#FFA15A\",\"#19d3f3\",\"#FF6692\",\"#B6E880\",\"#FF97FF\",\"#FECB52\"],\"font\":{\"color\":\"#2a3f5f\"},\"geo\":{\"bgcolor\":\"white\",\"lakecolor\":\"white\",\"landcolor\":\"#E5ECF6\",\"showlakes\":true,\"showland\":true,\"subunitcolor\":\"white\"},\"hoverlabel\":{\"align\":\"left\"},\"hovermode\":\"closest\",\"mapbox\":{\"style\":\"light\"},\"paper_bgcolor\":\"white\",\"plot_bgcolor\":\"#E5ECF6\",\"polar\":{\"angularaxis\":{\"gridcolor\":\"white\",\"linecolor\":\"white\",\"ticks\":\"\"},\"bgcolor\":\"#E5ECF6\",\"radialaxis\":{\"gridcolor\":\"white\",\"linecolor\":\"white\",\"ticks\":\"\"}},\"scene\":{\"xaxis\":{\"backgroundcolor\":\"#E5ECF6\",\"gridcolor\":\"white\",\"gridwidth\":2,\"linecolor\":\"white\",\"showbackground\":true,\"ticks\":\"\",\"zerolinecolor\":\"white\"},\"yaxis\":{\"backgroundcolor\":\"#E5ECF6\",\"gridcolor\":\"white\",\"gridwidth\":2,\"linecolor\":\"white\",\"showbackground\":true,\"ticks\":\"\",\"zerolinecolor\":\"white\"},\"zaxis\":{\"backgroundcolor\":\"#E5ECF6\",\"gridcolor\":\"white\",\"gridwidth\":2,\"linecolor\":\"white\",\"showbackground\":true,\"ticks\":\"\",\"zerolinecolor\":\"white\"}},\"shapedefaults\":{\"line\":{\"color\":\"#2a3f5f\"}},\"ternary\":{\"aaxis\":{\"gridcolor\":\"white\",\"linecolor\":\"white\",\"ticks\":\"\"},\"baxis\":{\"gridcolor\":\"white\",\"linecolor\":\"white\",\"ticks\":\"\"},\"bgcolor\":\"#E5ECF6\",\"caxis\":{\"gridcolor\":\"white\",\"linecolor\":\"white\",\"ticks\":\"\"}},\"title\":{\"x\":0.05},\"xaxis\":{\"automargin\":true,\"gridcolor\":\"white\",\"linecolor\":\"white\",\"ticks\":\"\",\"title\":{\"standoff\":15},\"zerolinecolor\":\"white\",\"zerolinewidth\":2},\"yaxis\":{\"automargin\":true,\"gridcolor\":\"white\",\"linecolor\":\"white\",\"ticks\":\"\",\"title\":{\"standoff\":15},\"zerolinecolor\":\"white\",\"zerolinewidth\":2}}}},                        {\"responsive\": true}                    ).then(function(){\n",
              "                            \n",
              "var gd = document.getElementById('cba6695e-b999-4889-bae7-7deb11d98782');\n",
              "var x = new MutationObserver(function (mutations, observer) {{\n",
              "        var display = window.getComputedStyle(gd).display;\n",
              "        if (!display || display === 'none') {{\n",
              "            console.log([gd, 'removed!']);\n",
              "            Plotly.purge(gd);\n",
              "            observer.disconnect();\n",
              "        }}\n",
              "}});\n",
              "\n",
              "// Listen for the removal of the full notebook cells\n",
              "var notebookContainer = gd.closest('#notebook-container');\n",
              "if (notebookContainer) {{\n",
              "    x.observe(notebookContainer, {childList: true});\n",
              "}}\n",
              "\n",
              "// Listen for the clearing of the current output cell\n",
              "var outputEl = gd.closest('.output');\n",
              "if (outputEl) {{\n",
              "    x.observe(outputEl, {childList: true});\n",
              "}}\n",
              "\n",
              "                        })                };                            </script>        </div>\n",
              "</body>\n",
              "</html>"
            ]
          },
          "metadata": {}
        }
      ]
    },
    {
      "cell_type": "code",
      "source": [
        "optunaGaussianNaive = trial"
      ],
      "metadata": {
        "id": "jsLpaUCfCmCY"
      },
      "execution_count": 347,
      "outputs": []
    },
    {
      "cell_type": "code",
      "source": [
        "def objective_Logistic(trial):\n",
        "      #criterion = trial.suggest_categorical(\"criterion\", [\"gini\", \"entropy\", \"log_loss\"])\n",
        "      tol = trial.suggest_float('tol', 1e-4, 1e-3)\n",
        "      solver = trial.suggest_categorical(\"solver\", [\"newton-cg\", \"lbfgs\", \"liblinear\"])\n",
        "      logreg_c = trial.suggest_float(\"logreg_c\", 1e-10, 1e10, log=True)\n",
        "\n",
        "      clf = LogisticRegression(tol = tol, solver = solver,C=logreg_c)\n",
        "\n",
        "      score = cross_val_score(clf, train_x, train_y, n_jobs=-1, cv=5)\n",
        "      return sklearn.model_selection.cross_val_score(clf, train_x, train_y, \n",
        "           n_jobs=-1).mean()"
      ],
      "metadata": {
        "id": "JNwBgSUW95VN"
      },
      "execution_count": 348,
      "outputs": []
    },
    {
      "cell_type": "code",
      "source": [
        "study = optuna.create_study(direction='maximize')\n",
        "study.optimize(objective_Logistic, n_trials=100)"
      ],
      "metadata": {
        "colab": {
          "base_uri": "https://localhost:8080/"
        },
        "outputId": "74ba695d-e0d9-46c4-8d6f-5ee82730364a",
        "id": "qg4NYRoE_v5Q"
      },
      "execution_count": 349,
      "outputs": [
        {
          "output_type": "stream",
          "name": "stderr",
          "text": [
            "\u001b[32m[I 2022-10-03 21:55:30,352]\u001b[0m A new study created in memory with name: no-name-24174f7c-f177-4fd3-a53a-ff4209b87593\u001b[0m\n",
            "\u001b[32m[I 2022-10-03 21:55:30,488]\u001b[0m Trial 0 finished with value: 0.7260350877192983 and parameters: {'tol': 0.00014973464550248724, 'solver': 'liblinear', 'logreg_c': 359958758.8906653}. Best is trial 0 with value: 0.7260350877192983.\u001b[0m\n",
            "\u001b[32m[I 2022-10-03 21:55:30,851]\u001b[0m Trial 1 finished with value: 0.7366315789473685 and parameters: {'tol': 0.000911871007030633, 'solver': 'lbfgs', 'logreg_c': 83107689.29923691}. Best is trial 1 with value: 0.7366315789473685.\u001b[0m\n",
            "\u001b[32m[I 2022-10-03 21:55:32,657]\u001b[0m Trial 2 finished with value: 0.7500350877192983 and parameters: {'tol': 0.0005489134625690689, 'solver': 'newton-cg', 'logreg_c': 2237878668.1755724}. Best is trial 2 with value: 0.7500350877192983.\u001b[0m\n",
            "\u001b[32m[I 2022-10-03 21:55:32,926]\u001b[0m Trial 3 finished with value: 0.6968421052631578 and parameters: {'tol': 0.0009719244005907469, 'solver': 'lbfgs', 'logreg_c': 0.00017714196271935794}. Best is trial 2 with value: 0.7500350877192983.\u001b[0m\n",
            "\u001b[32m[I 2022-10-03 21:55:33,195]\u001b[0m Trial 4 finished with value: 0.6570526315789473 and parameters: {'tol': 0.0006614178220078736, 'solver': 'lbfgs', 'logreg_c': 9.537070081070408e-06}. Best is trial 2 with value: 0.7500350877192983.\u001b[0m\n",
            "\u001b[32m[I 2022-10-03 21:55:33,322]\u001b[0m Trial 5 finished with value: 0.7022105263157894 and parameters: {'tol': 0.0008973770210525373, 'solver': 'liblinear', 'logreg_c': 7004.321026278039}. Best is trial 2 with value: 0.7500350877192983.\u001b[0m\n",
            "\u001b[32m[I 2022-10-03 21:55:33,476]\u001b[0m Trial 6 finished with value: 0.6728771929824562 and parameters: {'tol': 0.0007752155324433531, 'solver': 'lbfgs', 'logreg_c': 4.595068058108851e-10}. Best is trial 2 with value: 0.7500350877192983.\u001b[0m\n",
            "\u001b[32m[I 2022-10-03 21:55:33,598]\u001b[0m Trial 7 finished with value: 0.6728771929824562 and parameters: {'tol': 0.0003030926403575656, 'solver': 'liblinear', 'logreg_c': 4.8150067469535644e-08}. Best is trial 2 with value: 0.7500350877192983.\u001b[0m\n",
            "\u001b[32m[I 2022-10-03 21:55:33,735]\u001b[0m Trial 8 finished with value: 0.7022105263157894 and parameters: {'tol': 0.0006145964811501708, 'solver': 'liblinear', 'logreg_c': 321.5339789396}. Best is trial 2 with value: 0.7500350877192983.\u001b[0m\n",
            "\u001b[32m[I 2022-10-03 21:55:33,855]\u001b[0m Trial 9 finished with value: 0.7022105263157894 and parameters: {'tol': 0.0009391458853894786, 'solver': 'liblinear', 'logreg_c': 11077.686568121098}. Best is trial 2 with value: 0.7500350877192983.\u001b[0m\n",
            "\u001b[32m[I 2022-10-03 21:55:35,627]\u001b[0m Trial 10 finished with value: 0.7474736842105264 and parameters: {'tol': 0.0004448196004432878, 'solver': 'newton-cg', 'logreg_c': 0.0635551462945282}. Best is trial 2 with value: 0.7500350877192983.\u001b[0m\n",
            "\u001b[32m[I 2022-10-03 21:55:37,399]\u001b[0m Trial 11 finished with value: 0.7580350877192983 and parameters: {'tol': 0.00040826153231059945, 'solver': 'newton-cg', 'logreg_c': 0.13998258538764824}. Best is trial 11 with value: 0.7580350877192983.\u001b[0m\n",
            "\u001b[32m[I 2022-10-03 21:55:39,168]\u001b[0m Trial 12 finished with value: 0.7633333333333333 and parameters: {'tol': 0.00046758065402093424, 'solver': 'newton-cg', 'logreg_c': 0.2498512798122306}. Best is trial 12 with value: 0.7633333333333333.\u001b[0m\n",
            "\u001b[32m[I 2022-10-03 21:55:40,882]\u001b[0m Trial 13 finished with value: 0.7659649122807017 and parameters: {'tol': 0.0003881515739688641, 'solver': 'newton-cg', 'logreg_c': 0.3771335941541569}. Best is trial 13 with value: 0.7659649122807017.\u001b[0m\n",
            "\u001b[32m[I 2022-10-03 21:55:42,616]\u001b[0m Trial 14 finished with value: 0.7500350877192983 and parameters: {'tol': 0.0002464531045679975, 'solver': 'newton-cg', 'logreg_c': 20.65449220733121}. Best is trial 13 with value: 0.7659649122807017.\u001b[0m\n",
            "\u001b[32m[I 2022-10-03 21:55:44,321]\u001b[0m Trial 15 finished with value: 0.7474736842105264 and parameters: {'tol': 0.0004699465304366349, 'solver': 'newton-cg', 'logreg_c': 0.059892205274404135}. Best is trial 13 with value: 0.7659649122807017.\u001b[0m\n",
            "\u001b[32m[I 2022-10-03 21:55:45,727]\u001b[0m Trial 16 finished with value: 0.7500701754385966 and parameters: {'tol': 0.00033555726534935967, 'solver': 'newton-cg', 'logreg_c': 0.0001594065861355942}. Best is trial 13 with value: 0.7659649122807017.\u001b[0m\n",
            "\u001b[32m[I 2022-10-03 21:55:47,437]\u001b[0m Trial 17 finished with value: 0.7500350877192983 and parameters: {'tol': 0.00016328039703617745, 'solver': 'newton-cg', 'logreg_c': 372787.0690678601}. Best is trial 13 with value: 0.7659649122807017.\u001b[0m\n",
            "\u001b[32m[I 2022-10-03 21:55:49,196]\u001b[0m Trial 18 finished with value: 0.7500350877192983 and parameters: {'tol': 0.0007264473830890601, 'solver': 'newton-cg', 'logreg_c': 20.505714334721414}. Best is trial 13 with value: 0.7659649122807017.\u001b[0m\n",
            "\u001b[32m[I 2022-10-03 21:55:50,760]\u001b[0m Trial 19 finished with value: 0.7527719298245613 and parameters: {'tol': 0.0005032414694393771, 'solver': 'newton-cg', 'logreg_c': 0.0009731393759387077}. Best is trial 13 with value: 0.7659649122807017.\u001b[0m\n",
            "\u001b[32m[I 2022-10-03 21:55:51,593]\u001b[0m Trial 20 finished with value: 0.6728771929824562 and parameters: {'tol': 0.000361047451227103, 'solver': 'newton-cg', 'logreg_c': 5.985800389282851e-07}. Best is trial 13 with value: 0.7659649122807017.\u001b[0m\n",
            "\u001b[32m[I 2022-10-03 21:55:53,381]\u001b[0m Trial 21 finished with value: 0.7606666666666667 and parameters: {'tol': 0.0004117383119345172, 'solver': 'newton-cg', 'logreg_c': 0.21065581799229208}. Best is trial 13 with value: 0.7659649122807017.\u001b[0m\n",
            "\u001b[32m[I 2022-10-03 21:55:55,092]\u001b[0m Trial 22 finished with value: 0.7526666666666666 and parameters: {'tol': 0.0002504926010165446, 'solver': 'newton-cg', 'logreg_c': 1.8197354379835964}. Best is trial 13 with value: 0.7659649122807017.\u001b[0m\n",
            "\u001b[32m[I 2022-10-03 21:55:56,753]\u001b[0m Trial 23 finished with value: 0.7607719298245614 and parameters: {'tol': 0.0005529570079057431, 'solver': 'newton-cg', 'logreg_c': 0.004555500218197887}. Best is trial 13 with value: 0.7659649122807017.\u001b[0m\n",
            "\u001b[32m[I 2022-10-03 21:55:58,459]\u001b[0m Trial 24 finished with value: 0.7634385964912281 and parameters: {'tol': 0.0005908626488271778, 'solver': 'newton-cg', 'logreg_c': 0.003136475006046614}. Best is trial 13 with value: 0.7659649122807017.\u001b[0m\n",
            "\u001b[32m[I 2022-10-03 21:55:59,462]\u001b[0m Trial 25 finished with value: 0.7260350877192983 and parameters: {'tol': 0.0005669811082272319, 'solver': 'newton-cg', 'logreg_c': 9.984207165206047e-06}. Best is trial 13 with value: 0.7659649122807017.\u001b[0m\n",
            "\u001b[32m[I 2022-10-03 21:56:01,192]\u001b[0m Trial 26 finished with value: 0.7500350877192983 and parameters: {'tol': 0.0006677972045024952, 'solver': 'newton-cg', 'logreg_c': 4.839966778757829}. Best is trial 13 with value: 0.7659649122807017.\u001b[0m\n",
            "\u001b[32m[I 2022-10-03 21:56:02,896]\u001b[0m Trial 27 finished with value: 0.7500350877192983 and parameters: {'tol': 0.0004922991863823537, 'solver': 'newton-cg', 'logreg_c': 276.6628519008131}. Best is trial 13 with value: 0.7659649122807017.\u001b[0m\n",
            "\u001b[32m[I 2022-10-03 21:56:04,570]\u001b[0m Trial 28 finished with value: 0.7607719298245614 and parameters: {'tol': 0.0007603959770470362, 'solver': 'newton-cg', 'logreg_c': 0.006148566519441657}. Best is trial 13 with value: 0.7659649122807017.\u001b[0m\n",
            "\u001b[32m[I 2022-10-03 21:56:04,935]\u001b[0m Trial 29 finished with value: 0.7339649122807017 and parameters: {'tol': 0.00010578334334809347, 'solver': 'lbfgs', 'logreg_c': 842900.3518674215}. Best is trial 13 with value: 0.7659649122807017.\u001b[0m\n",
            "\u001b[32m[I 2022-10-03 21:56:05,060]\u001b[0m Trial 30 finished with value: 0.6728771929824562 and parameters: {'tol': 0.0002581017105714046, 'solver': 'liblinear', 'logreg_c': 9.562882105823993e-09}. Best is trial 13 with value: 0.7659649122807017.\u001b[0m\n",
            "\u001b[32m[I 2022-10-03 21:56:06,716]\u001b[0m Trial 31 finished with value: 0.7607719298245614 and parameters: {'tol': 0.0008218680696683964, 'solver': 'newton-cg', 'logreg_c': 0.0021891942793973835}. Best is trial 13 with value: 0.7659649122807017.\u001b[0m\n",
            "\u001b[32m[I 2022-10-03 21:56:07,708]\u001b[0m Trial 32 finished with value: 0.7048421052631578 and parameters: {'tol': 0.0008560170441773097, 'solver': 'newton-cg', 'logreg_c': 6.074699144488243e-06}. Best is trial 13 with value: 0.7659649122807017.\u001b[0m\n",
            "\u001b[32m[I 2022-10-03 21:56:09,359]\u001b[0m Trial 33 finished with value: 0.7607719298245614 and parameters: {'tol': 0.0008314893251997035, 'solver': 'newton-cg', 'logreg_c': 0.00637368268509669}. Best is trial 13 with value: 0.7659649122807017.\u001b[0m\n",
            "\u001b[32m[I 2022-10-03 21:56:10,622]\u001b[0m Trial 34 finished with value: 0.7659649122807017 and parameters: {'tol': 0.0006249304213289018, 'solver': 'newton-cg', 'logreg_c': 8.283855982113064e-05}. Best is trial 13 with value: 0.7659649122807017.\u001b[0m\n",
            "\u001b[32m[I 2022-10-03 21:56:10,953]\u001b[0m Trial 35 finished with value: 0.7180350877192982 and parameters: {'tol': 0.000626435894619463, 'solver': 'lbfgs', 'logreg_c': 9.527166067546754e-05}. Best is trial 13 with value: 0.7659649122807017.\u001b[0m\n",
            "\u001b[32m[I 2022-10-03 21:56:12,131]\u001b[0m Trial 36 finished with value: 0.7366666666666666 and parameters: {'tol': 0.000530250530074784, 'solver': 'newton-cg', 'logreg_c': 3.4945459097031284e-05}. Best is trial 13 with value: 0.7659649122807017.\u001b[0m\n",
            "\u001b[32m[I 2022-10-03 21:56:12,328]\u001b[0m Trial 37 finished with value: 0.6782105263157895 and parameters: {'tol': 0.0007139787075762479, 'solver': 'lbfgs', 'logreg_c': 2.001446332231233e-07}. Best is trial 13 with value: 0.7659649122807017.\u001b[0m\n",
            "\u001b[32m[I 2022-10-03 21:56:14,067]\u001b[0m Trial 38 finished with value: 0.7606315789473684 and parameters: {'tol': 0.0005863455726671571, 'solver': 'newton-cg', 'logreg_c': 0.570291720332013}. Best is trial 13 with value: 0.7659649122807017.\u001b[0m\n",
            "\u001b[32m[I 2022-10-03 21:56:14,195]\u001b[0m Trial 39 finished with value: 0.646421052631579 and parameters: {'tol': 0.0006576618025529446, 'solver': 'liblinear', 'logreg_c': 2.01847919786621e-06}. Best is trial 13 with value: 0.7659649122807017.\u001b[0m\n",
            "\u001b[32m[I 2022-10-03 21:56:15,887]\u001b[0m Trial 40 finished with value: 0.7500350877192983 and parameters: {'tol': 0.00039323555142591526, 'solver': 'newton-cg', 'logreg_c': 445.5467456828299}. Best is trial 13 with value: 0.7659649122807017.\u001b[0m\n",
            "\u001b[32m[I 2022-10-03 21:56:17,421]\u001b[0m Trial 41 finished with value: 0.7527719298245613 and parameters: {'tol': 0.0005371055537283312, 'solver': 'newton-cg', 'logreg_c': 0.0006761276218378422}. Best is trial 13 with value: 0.7659649122807017.\u001b[0m\n",
            "\u001b[32m[I 2022-10-03 21:56:19,059]\u001b[0m Trial 42 finished with value: 0.747438596491228 and parameters: {'tol': 0.0004420315792181777, 'solver': 'newton-cg', 'logreg_c': 0.01664543144122561}. Best is trial 13 with value: 0.7659649122807017.\u001b[0m\n",
            "\u001b[32m[I 2022-10-03 21:56:20,798]\u001b[0m Trial 43 finished with value: 0.747438596491228 and parameters: {'tol': 0.0005172773400678481, 'solver': 'newton-cg', 'logreg_c': 0.022650659929123414}. Best is trial 13 with value: 0.7659649122807017.\u001b[0m\n",
            "\u001b[32m[I 2022-10-03 21:56:22,188]\u001b[0m Trial 44 finished with value: 0.7527368421052631 and parameters: {'tol': 0.0005929479106946932, 'solver': 'newton-cg', 'logreg_c': 0.0002698256382409031}. Best is trial 13 with value: 0.7659649122807017.\u001b[0m\n",
            "\u001b[32m[I 2022-10-03 21:56:22,521]\u001b[0m Trial 45 finished with value: 0.7366315789473685 and parameters: {'tol': 0.0008126939269168042, 'solver': 'lbfgs', 'logreg_c': 22.4598271849035}. Best is trial 13 with value: 0.7659649122807017.\u001b[0m\n",
            "\u001b[32m[I 2022-10-03 21:56:22,670]\u001b[0m Trial 46 finished with value: 0.6995438596491228 and parameters: {'tol': 0.0006925758724451035, 'solver': 'liblinear', 'logreg_c': 5256069617.196282}. Best is trial 13 with value: 0.7659649122807017.\u001b[0m\n",
            "\u001b[32m[I 2022-10-03 21:56:23,478]\u001b[0m Trial 47 finished with value: 0.6728771929824562 and parameters: {'tol': 0.0004624930316302069, 'solver': 'newton-cg', 'logreg_c': 2.526018885799056e-09}. Best is trial 13 with value: 0.7659649122807017.\u001b[0m\n",
            "\u001b[32m[I 2022-10-03 21:56:25,156]\u001b[0m Trial 48 finished with value: 0.7633333333333333 and parameters: {'tol': 0.00062751583906735, 'solver': 'newton-cg', 'logreg_c': 0.3667680593189709}. Best is trial 13 with value: 0.7659649122807017.\u001b[0m\n",
            "\u001b[32m[I 2022-10-03 21:56:26,859]\u001b[0m Trial 49 finished with value: 0.7526666666666666 and parameters: {'tol': 0.0006096443235686141, 'solver': 'newton-cg', 'logreg_c': 1.4336479393610688}. Best is trial 13 with value: 0.7659649122807017.\u001b[0m\n",
            "\u001b[32m[I 2022-10-03 21:56:27,653]\u001b[0m Trial 50 finished with value: 0.6728771929824562 and parameters: {'tol': 0.00031285978408439964, 'solver': 'newton-cg', 'logreg_c': 1.0464272712731573e-10}. Best is trial 13 with value: 0.7659649122807017.\u001b[0m\n",
            "\u001b[32m[I 2022-10-03 21:56:29,398]\u001b[0m Trial 51 finished with value: 0.7580350877192983 and parameters: {'tol': 0.0006501292764601615, 'solver': 'newton-cg', 'logreg_c': 0.12923673981616918}. Best is trial 13 with value: 0.7659649122807017.\u001b[0m\n",
            "\u001b[32m[I 2022-10-03 21:56:31,094]\u001b[0m Trial 52 finished with value: 0.747438596491228 and parameters: {'tol': 0.00075197770276924, 'solver': 'newton-cg', 'logreg_c': 0.021494593999819817}. Best is trial 13 with value: 0.7659649122807017.\u001b[0m\n",
            "\u001b[32m[I 2022-10-03 21:56:32,674]\u001b[0m Trial 53 finished with value: 0.7527719298245613 and parameters: {'tol': 0.0008972837581739789, 'solver': 'newton-cg', 'logreg_c': 0.0009717247114367639}. Best is trial 13 with value: 0.7659649122807017.\u001b[0m\n",
            "\u001b[32m[I 2022-10-03 21:56:34,414]\u001b[0m Trial 54 finished with value: 0.7500350877192983 and parameters: {'tol': 0.0009399506990088381, 'solver': 'newton-cg', 'logreg_c': 7.927093830909917}. Best is trial 13 with value: 0.7659649122807017.\u001b[0m\n",
            "\u001b[32m[I 2022-10-03 21:56:36,108]\u001b[0m Trial 55 finished with value: 0.7500350877192983 and parameters: {'tol': 0.00039418935299380295, 'solver': 'newton-cg', 'logreg_c': 105.59279173231715}. Best is trial 13 with value: 0.7659649122807017.\u001b[0m\n",
            "\u001b[32m[I 2022-10-03 21:56:36,236]\u001b[0m Trial 56 finished with value: 0.7102105263157894 and parameters: {'tol': 0.000547542177337983, 'solver': 'liblinear', 'logreg_c': 0.6391788009043519}. Best is trial 13 with value: 0.7659649122807017.\u001b[0m\n",
            "\u001b[32m[I 2022-10-03 21:56:37,872]\u001b[0m Trial 57 finished with value: 0.7607719298245614 and parameters: {'tol': 0.0007086005643200902, 'solver': 'newton-cg', 'logreg_c': 0.005551400892015426}. Best is trial 13 with value: 0.7659649122807017.\u001b[0m\n",
            "\u001b[32m[I 2022-10-03 21:56:39,563]\u001b[0m Trial 58 finished with value: 0.7580701754385964 and parameters: {'tol': 0.0007659256456639033, 'solver': 'newton-cg', 'logreg_c': 0.10411836025570995}. Best is trial 13 with value: 0.7659649122807017.\u001b[0m\n",
            "\u001b[32m[I 2022-10-03 21:56:40,784]\u001b[0m Trial 59 finished with value: 0.7606315789473685 and parameters: {'tol': 0.0004423518781572491, 'solver': 'newton-cg', 'logreg_c': 6.716962748743352e-05}. Best is trial 13 with value: 0.7659649122807017.\u001b[0m\n",
            "\u001b[32m[I 2022-10-03 21:56:41,084]\u001b[0m Trial 60 finished with value: 0.6676842105263158 and parameters: {'tol': 0.0006259187029798643, 'solver': 'lbfgs', 'logreg_c': 1.6914680848859792e-05}. Best is trial 13 with value: 0.7659649122807017.\u001b[0m\n",
            "\u001b[32m[I 2022-10-03 21:56:42,688]\u001b[0m Trial 61 finished with value: 0.7607719298245614 and parameters: {'tol': 0.0007226407153116787, 'solver': 'newton-cg', 'logreg_c': 0.004438411542894723}. Best is trial 13 with value: 0.7659649122807017.\u001b[0m\n",
            "\u001b[32m[I 2022-10-03 21:56:44,249]\u001b[0m Trial 62 finished with value: 0.7607368421052632 and parameters: {'tol': 0.0006819555193182422, 'solver': 'newton-cg', 'logreg_c': 0.0003669540267201257}. Best is trial 13 with value: 0.7659649122807017.\u001b[0m\n",
            "\u001b[32m[I 2022-10-03 21:56:45,854]\u001b[0m Trial 63 finished with value: 0.7581052631578947 and parameters: {'tol': 0.0007969931666196469, 'solver': 'newton-cg', 'logreg_c': 0.0012856181150187568}. Best is trial 13 with value: 0.7659649122807017.\u001b[0m\n",
            "\u001b[32m[I 2022-10-03 21:56:47,568]\u001b[0m Trial 64 finished with value: 0.7633333333333333 and parameters: {'tol': 0.0007345600281241069, 'solver': 'newton-cg', 'logreg_c': 0.24473943427867187}. Best is trial 13 with value: 0.7659649122807017.\u001b[0m\n",
            "\u001b[32m[I 2022-10-03 21:56:50,073]\u001b[0m Trial 65 finished with value: 0.7500350877192983 and parameters: {'tol': 0.0007403171718732423, 'solver': 'newton-cg', 'logreg_c': 1625.312396695688}. Best is trial 13 with value: 0.7659649122807017.\u001b[0m\n",
            "\u001b[32m[I 2022-10-03 21:56:52,748]\u001b[0m Trial 66 finished with value: 0.7526666666666666 and parameters: {'tol': 0.0005695561048860824, 'solver': 'newton-cg', 'logreg_c': 4.124029763981917}. Best is trial 13 with value: 0.7659649122807017.\u001b[0m\n",
            "\u001b[32m[I 2022-10-03 21:56:54,471]\u001b[0m Trial 67 finished with value: 0.7527719298245613 and parameters: {'tol': 0.00048007375041789327, 'solver': 'newton-cg', 'logreg_c': 0.028693021220954688}. Best is trial 13 with value: 0.7659649122807017.\u001b[0m\n",
            "\u001b[32m[I 2022-10-03 21:56:56,196]\u001b[0m Trial 68 finished with value: 0.7659649122807017 and parameters: {'tol': 0.0007724224692527568, 'solver': 'newton-cg', 'logreg_c': 0.38099416332536673}. Best is trial 13 with value: 0.7659649122807017.\u001b[0m\n",
            "\u001b[32m[I 2022-10-03 21:56:56,326]\u001b[0m Trial 69 finished with value: 0.7022105263157894 and parameters: {'tol': 0.0006392265012241275, 'solver': 'liblinear', 'logreg_c': 0.2062860537840541}. Best is trial 13 with value: 0.7659649122807017.\u001b[0m\n",
            "\u001b[32m[I 2022-10-03 21:56:58,042]\u001b[0m Trial 70 finished with value: 0.7659649122807017 and parameters: {'tol': 0.0008665928608519006, 'solver': 'newton-cg', 'logreg_c': 0.39100694047609574}. Best is trial 13 with value: 0.7659649122807017.\u001b[0m\n",
            "\u001b[32m[I 2022-10-03 21:56:59,724]\u001b[0m Trial 71 finished with value: 0.763298245614035 and parameters: {'tol': 0.0008689757158129608, 'solver': 'newton-cg', 'logreg_c': 0.4845603012799861}. Best is trial 13 with value: 0.7659649122807017.\u001b[0m\n",
            "\u001b[32m[I 2022-10-03 21:57:01,403]\u001b[0m Trial 72 finished with value: 0.7500350877192983 and parameters: {'tol': 0.0003549682231823825, 'solver': 'newton-cg', 'logreg_c': 71.20450192664886}. Best is trial 13 with value: 0.7659649122807017.\u001b[0m\n",
            "\u001b[32m[I 2022-10-03 21:57:03,085]\u001b[0m Trial 73 finished with value: 0.7526666666666666 and parameters: {'tol': 0.0007914971864655758, 'solver': 'newton-cg', 'logreg_c': 4.218946552494526}. Best is trial 13 with value: 0.7659649122807017.\u001b[0m\n",
            "\u001b[32m[I 2022-10-03 21:57:04,860]\u001b[0m Trial 74 finished with value: 0.7474736842105264 and parameters: {'tol': 0.000915356779204479, 'solver': 'newton-cg', 'logreg_c': 0.06413781097909634}. Best is trial 13 with value: 0.7659649122807017.\u001b[0m\n",
            "\u001b[32m[I 2022-10-03 21:57:06,537]\u001b[0m Trial 75 finished with value: 0.7500350877192983 and parameters: {'tol': 0.0008509062964864039, 'solver': 'newton-cg', 'logreg_c': 23.33086583516959}. Best is trial 13 with value: 0.7659649122807017.\u001b[0m\n",
            "\u001b[32m[I 2022-10-03 21:57:08,236]\u001b[0m Trial 76 finished with value: 0.7526666666666666 and parameters: {'tol': 0.000684015104639571, 'solver': 'newton-cg', 'logreg_c': 1.0572868457648381}. Best is trial 13 with value: 0.7659649122807017.\u001b[0m\n",
            "\u001b[32m[I 2022-10-03 21:57:08,515]\u001b[0m Trial 77 finished with value: 0.723298245614035 and parameters: {'tol': 0.0009720703797319405, 'solver': 'lbfgs', 'logreg_c': 0.34850476933129504}. Best is trial 13 with value: 0.7659649122807017.\u001b[0m\n",
            "\u001b[32m[I 2022-10-03 21:57:10,261]\u001b[0m Trial 78 finished with value: 0.7500350877192983 and parameters: {'tol': 0.0004195373141600244, 'solver': 'newton-cg', 'logreg_c': 19491.29594239051}. Best is trial 13 with value: 0.7659649122807017.\u001b[0m\n",
            "\u001b[32m[I 2022-10-03 21:57:12,940]\u001b[0m Trial 79 finished with value: 0.7526666666666666 and parameters: {'tol': 0.0005081335738136367, 'solver': 'newton-cg', 'logreg_c': 1.9433761673945134}. Best is trial 13 with value: 0.7659649122807017.\u001b[0m\n",
            "\u001b[32m[I 2022-10-03 21:57:15,093]\u001b[0m Trial 80 finished with value: 0.7527719298245614 and parameters: {'tol': 0.0002124622603185818, 'solver': 'newton-cg', 'logreg_c': 0.01251981469956383}. Best is trial 13 with value: 0.7659649122807017.\u001b[0m\n",
            "\u001b[32m[I 2022-10-03 21:57:16,802]\u001b[0m Trial 81 finished with value: 0.7633333333333333 and parameters: {'tol': 0.0008750289069415923, 'solver': 'newton-cg', 'logreg_c': 0.26455210937445817}. Best is trial 13 with value: 0.7659649122807017.\u001b[0m\n",
            "\u001b[32m[I 2022-10-03 21:57:18,515]\u001b[0m Trial 82 finished with value: 0.7500350877192983 and parameters: {'tol': 0.000940027279599719, 'solver': 'newton-cg', 'logreg_c': 8.954316598866436}. Best is trial 13 with value: 0.7659649122807017.\u001b[0m\n",
            "\u001b[32m[I 2022-10-03 21:57:20,193]\u001b[0m Trial 83 finished with value: 0.7501403508771929 and parameters: {'tol': 0.000879060331097857, 'solver': 'newton-cg', 'logreg_c': 0.06856512021890583}. Best is trial 13 with value: 0.7659649122807017.\u001b[0m\n",
            "\u001b[32m[I 2022-10-03 21:57:21,930]\u001b[0m Trial 84 finished with value: 0.7633333333333333 and parameters: {'tol': 0.0008385097687438361, 'solver': 'newton-cg', 'logreg_c': 0.3305554785617006}. Best is trial 13 with value: 0.7659649122807017.\u001b[0m\n",
            "\u001b[32m[I 2022-10-03 21:57:23,708]\u001b[0m Trial 85 finished with value: 0.7528070175438597 and parameters: {'tol': 0.000832837822910418, 'solver': 'newton-cg', 'logreg_c': 0.03864947077662877}. Best is trial 13 with value: 0.7659649122807017.\u001b[0m\n",
            "\u001b[32m[I 2022-10-03 21:57:25,372]\u001b[0m Trial 86 finished with value: 0.7607719298245614 and parameters: {'tol': 0.000805477483580597, 'solver': 'newton-cg', 'logreg_c': 0.0023000190747067425}. Best is trial 13 with value: 0.7659649122807017.\u001b[0m\n",
            "\u001b[32m[I 2022-10-03 21:57:27,122]\u001b[0m Trial 87 finished with value: 0.7500350877192983 and parameters: {'tol': 0.0009082796804432401, 'solver': 'newton-cg', 'logreg_c': 46.588098165097506}. Best is trial 13 with value: 0.7659649122807017.\u001b[0m\n",
            "\u001b[32m[I 2022-10-03 21:57:27,252]\u001b[0m Trial 88 finished with value: 0.6969473684210526 and parameters: {'tol': 0.0009884197257868346, 'solver': 'liblinear', 'logreg_c': 296576460.5495653}. Best is trial 13 with value: 0.7659649122807017.\u001b[0m\n",
            "\u001b[32m[I 2022-10-03 21:57:28,955]\u001b[0m Trial 89 finished with value: 0.7526666666666666 and parameters: {'tol': 0.0005960401982430524, 'solver': 'newton-cg', 'logreg_c': 1.5517053472973088}. Best is trial 13 with value: 0.7659649122807017.\u001b[0m\n",
            "\u001b[32m[I 2022-10-03 21:57:29,258]\u001b[0m Trial 90 finished with value: 0.7312982456140351 and parameters: {'tol': 0.0008515999383339068, 'solver': 'lbfgs', 'logreg_c': 202.39921229486768}. Best is trial 13 with value: 0.7659649122807017.\u001b[0m\n",
            "\u001b[32m[I 2022-10-03 21:57:30,998]\u001b[0m Trial 91 finished with value: 0.7633333333333333 and parameters: {'tol': 0.0007841973158761503, 'solver': 'newton-cg', 'logreg_c': 0.24435503856178512}. Best is trial 13 with value: 0.7659649122807017.\u001b[0m\n",
            "\u001b[32m[I 2022-10-03 21:57:32,719]\u001b[0m Trial 92 finished with value: 0.7580350877192983 and parameters: {'tol': 0.0007048053401564752, 'solver': 'newton-cg', 'logreg_c': 0.15965767883585358}. Best is trial 13 with value: 0.7659649122807017.\u001b[0m\n",
            "\u001b[32m[I 2022-10-03 21:57:34,407]\u001b[0m Trial 93 finished with value: 0.7500350877192983 and parameters: {'tol': 0.0007775906900708177, 'solver': 'newton-cg', 'logreg_c': 10.176967796220662}. Best is trial 13 with value: 0.7659649122807017.\u001b[0m\n",
            "\u001b[32m[I 2022-10-03 21:57:36,028]\u001b[0m Trial 94 finished with value: 0.7554385964912281 and parameters: {'tol': 0.0008286110105305938, 'solver': 'newton-cg', 'logreg_c': 0.008013870145544026}. Best is trial 13 with value: 0.7659649122807017.\u001b[0m\n",
            "\u001b[32m[I 2022-10-03 21:57:37,791]\u001b[0m Trial 95 finished with value: 0.758 and parameters: {'tol': 0.0007405489479408665, 'solver': 'newton-cg', 'logreg_c': 0.6214855896039265}. Best is trial 13 with value: 0.7659649122807017.\u001b[0m\n",
            "\u001b[32m[I 2022-10-03 21:57:38,734]\u001b[0m Trial 96 finished with value: 0.6755438596491229 and parameters: {'tol': 0.0008769269061682342, 'solver': 'newton-cg', 'logreg_c': 3.0050198944427907e-06}. Best is trial 13 with value: 0.7659649122807017.\u001b[0m\n",
            "\u001b[32m[I 2022-10-03 21:57:40,425]\u001b[0m Trial 97 finished with value: 0.7474736842105264 and parameters: {'tol': 0.0006729762507852301, 'solver': 'newton-cg', 'logreg_c': 0.04894600935791839}. Best is trial 13 with value: 0.7659649122807017.\u001b[0m\n",
            "\u001b[32m[I 2022-10-03 21:57:42,110]\u001b[0m Trial 98 finished with value: 0.7526666666666666 and parameters: {'tol': 0.0007683293082357629, 'solver': 'newton-cg', 'logreg_c': 3.114022222184871}. Best is trial 13 with value: 0.7659649122807017.\u001b[0m\n",
            "\u001b[32m[I 2022-10-03 21:57:43,534]\u001b[0m Trial 99 finished with value: 0.7527368421052631 and parameters: {'tol': 0.000565760048252996, 'solver': 'newton-cg', 'logreg_c': 0.00014711586422582246}. Best is trial 13 with value: 0.7659649122807017.\u001b[0m\n"
          ]
        }
      ]
    },
    {
      "cell_type": "code",
      "source": [
        "trial = study.best_trial\n",
        "print('Accuracy: {}'.format(trial.value))"
      ],
      "metadata": {
        "colab": {
          "base_uri": "https://localhost:8080/"
        },
        "outputId": "ea5c86f6-4255-4cd3-ea32-d9d8faa365a2",
        "id": "zo77NVmG_v5Q"
      },
      "execution_count": 350,
      "outputs": [
        {
          "output_type": "stream",
          "name": "stdout",
          "text": [
            "Accuracy: 0.7659649122807017\n"
          ]
        }
      ]
    },
    {
      "cell_type": "code",
      "source": [
        "print(\"Best hyperparameters: {}\".format(trial.params))"
      ],
      "metadata": {
        "colab": {
          "base_uri": "https://localhost:8080/"
        },
        "outputId": "d261f59f-86f5-488b-d1f3-f4c592b465df",
        "id": "qxykMtra_v5Q"
      },
      "execution_count": 351,
      "outputs": [
        {
          "output_type": "stream",
          "name": "stdout",
          "text": [
            "Best hyperparameters: {'tol': 0.0003881515739688641, 'solver': 'newton-cg', 'logreg_c': 0.3771335941541569}\n"
          ]
        }
      ]
    },
    {
      "cell_type": "code",
      "source": [
        "optuna.visualization.plot_optimization_history(study)"
      ],
      "metadata": {
        "colab": {
          "base_uri": "https://localhost:8080/",
          "height": 542
        },
        "outputId": "363d1881-bbe0-41f9-fc39-c6580b6ca397",
        "id": "c0VBPeCf_v5Q"
      },
      "execution_count": 352,
      "outputs": [
        {
          "output_type": "display_data",
          "data": {
            "text/html": [
              "<html>\n",
              "<head><meta charset=\"utf-8\" /></head>\n",
              "<body>\n",
              "    <div>            <script src=\"https://cdnjs.cloudflare.com/ajax/libs/mathjax/2.7.5/MathJax.js?config=TeX-AMS-MML_SVG\"></script><script type=\"text/javascript\">if (window.MathJax) {MathJax.Hub.Config({SVG: {font: \"STIX-Web\"}});}</script>                <script type=\"text/javascript\">window.PlotlyConfig = {MathJaxConfig: 'local'};</script>\n",
              "        <script src=\"https://cdn.plot.ly/plotly-2.8.3.min.js\"></script>                <div id=\"49d9421c-ea63-4cd1-860a-e43d1c6dc748\" class=\"plotly-graph-div\" style=\"height:525px; width:100%;\"></div>            <script type=\"text/javascript\">                                    window.PLOTLYENV=window.PLOTLYENV || {};                                    if (document.getElementById(\"49d9421c-ea63-4cd1-860a-e43d1c6dc748\")) {                    Plotly.newPlot(                        \"49d9421c-ea63-4cd1-860a-e43d1c6dc748\",                        [{\"mode\":\"markers\",\"name\":\"Objective Value\",\"x\":[0,1,2,3,4,5,6,7,8,9,10,11,12,13,14,15,16,17,18,19,20,21,22,23,24,25,26,27,28,29,30,31,32,33,34,35,36,37,38,39,40,41,42,43,44,45,46,47,48,49,50,51,52,53,54,55,56,57,58,59,60,61,62,63,64,65,66,67,68,69,70,71,72,73,74,75,76,77,78,79,80,81,82,83,84,85,86,87,88,89,90,91,92,93,94,95,96,97,98,99],\"y\":[0.7260350877192983,0.7366315789473685,0.7500350877192983,0.6968421052631578,0.6570526315789473,0.7022105263157894,0.6728771929824562,0.6728771929824562,0.7022105263157894,0.7022105263157894,0.7474736842105264,0.7580350877192983,0.7633333333333333,0.7659649122807017,0.7500350877192983,0.7474736842105264,0.7500701754385966,0.7500350877192983,0.7500350877192983,0.7527719298245613,0.6728771929824562,0.7606666666666667,0.7526666666666666,0.7607719298245614,0.7634385964912281,0.7260350877192983,0.7500350877192983,0.7500350877192983,0.7607719298245614,0.7339649122807017,0.6728771929824562,0.7607719298245614,0.7048421052631578,0.7607719298245614,0.7659649122807017,0.7180350877192982,0.7366666666666666,0.6782105263157895,0.7606315789473684,0.646421052631579,0.7500350877192983,0.7527719298245613,0.747438596491228,0.747438596491228,0.7527368421052631,0.7366315789473685,0.6995438596491228,0.6728771929824562,0.7633333333333333,0.7526666666666666,0.6728771929824562,0.7580350877192983,0.747438596491228,0.7527719298245613,0.7500350877192983,0.7500350877192983,0.7102105263157894,0.7607719298245614,0.7580701754385964,0.7606315789473685,0.6676842105263158,0.7607719298245614,0.7607368421052632,0.7581052631578947,0.7633333333333333,0.7500350877192983,0.7526666666666666,0.7527719298245613,0.7659649122807017,0.7022105263157894,0.7659649122807017,0.763298245614035,0.7500350877192983,0.7526666666666666,0.7474736842105264,0.7500350877192983,0.7526666666666666,0.723298245614035,0.7500350877192983,0.7526666666666666,0.7527719298245614,0.7633333333333333,0.7500350877192983,0.7501403508771929,0.7633333333333333,0.7528070175438597,0.7607719298245614,0.7500350877192983,0.6969473684210526,0.7526666666666666,0.7312982456140351,0.7633333333333333,0.7580350877192983,0.7500350877192983,0.7554385964912281,0.758,0.6755438596491229,0.7474736842105264,0.7526666666666666,0.7527368421052631],\"type\":\"scatter\"},{\"name\":\"Best Value\",\"x\":[0,1,2,3,4,5,6,7,8,9,10,11,12,13,14,15,16,17,18,19,20,21,22,23,24,25,26,27,28,29,30,31,32,33,34,35,36,37,38,39,40,41,42,43,44,45,46,47,48,49,50,51,52,53,54,55,56,57,58,59,60,61,62,63,64,65,66,67,68,69,70,71,72,73,74,75,76,77,78,79,80,81,82,83,84,85,86,87,88,89,90,91,92,93,94,95,96,97,98,99],\"y\":[0.7260350877192983,0.7366315789473685,0.7500350877192983,0.7500350877192983,0.7500350877192983,0.7500350877192983,0.7500350877192983,0.7500350877192983,0.7500350877192983,0.7500350877192983,0.7500350877192983,0.7580350877192983,0.7633333333333333,0.7659649122807017,0.7659649122807017,0.7659649122807017,0.7659649122807017,0.7659649122807017,0.7659649122807017,0.7659649122807017,0.7659649122807017,0.7659649122807017,0.7659649122807017,0.7659649122807017,0.7659649122807017,0.7659649122807017,0.7659649122807017,0.7659649122807017,0.7659649122807017,0.7659649122807017,0.7659649122807017,0.7659649122807017,0.7659649122807017,0.7659649122807017,0.7659649122807017,0.7659649122807017,0.7659649122807017,0.7659649122807017,0.7659649122807017,0.7659649122807017,0.7659649122807017,0.7659649122807017,0.7659649122807017,0.7659649122807017,0.7659649122807017,0.7659649122807017,0.7659649122807017,0.7659649122807017,0.7659649122807017,0.7659649122807017,0.7659649122807017,0.7659649122807017,0.7659649122807017,0.7659649122807017,0.7659649122807017,0.7659649122807017,0.7659649122807017,0.7659649122807017,0.7659649122807017,0.7659649122807017,0.7659649122807017,0.7659649122807017,0.7659649122807017,0.7659649122807017,0.7659649122807017,0.7659649122807017,0.7659649122807017,0.7659649122807017,0.7659649122807017,0.7659649122807017,0.7659649122807017,0.7659649122807017,0.7659649122807017,0.7659649122807017,0.7659649122807017,0.7659649122807017,0.7659649122807017,0.7659649122807017,0.7659649122807017,0.7659649122807017,0.7659649122807017,0.7659649122807017,0.7659649122807017,0.7659649122807017,0.7659649122807017,0.7659649122807017,0.7659649122807017,0.7659649122807017,0.7659649122807017,0.7659649122807017,0.7659649122807017,0.7659649122807017,0.7659649122807017,0.7659649122807017,0.7659649122807017,0.7659649122807017,0.7659649122807017,0.7659649122807017,0.7659649122807017,0.7659649122807017],\"type\":\"scatter\"}],                        {\"title\":{\"text\":\"Optimization History Plot\"},\"xaxis\":{\"title\":{\"text\":\"Trial\"}},\"yaxis\":{\"title\":{\"text\":\"Objective Value\"}},\"template\":{\"data\":{\"bar\":[{\"error_x\":{\"color\":\"#2a3f5f\"},\"error_y\":{\"color\":\"#2a3f5f\"},\"marker\":{\"line\":{\"color\":\"#E5ECF6\",\"width\":0.5},\"pattern\":{\"fillmode\":\"overlay\",\"size\":10,\"solidity\":0.2}},\"type\":\"bar\"}],\"barpolar\":[{\"marker\":{\"line\":{\"color\":\"#E5ECF6\",\"width\":0.5},\"pattern\":{\"fillmode\":\"overlay\",\"size\":10,\"solidity\":0.2}},\"type\":\"barpolar\"}],\"carpet\":[{\"aaxis\":{\"endlinecolor\":\"#2a3f5f\",\"gridcolor\":\"white\",\"linecolor\":\"white\",\"minorgridcolor\":\"white\",\"startlinecolor\":\"#2a3f5f\"},\"baxis\":{\"endlinecolor\":\"#2a3f5f\",\"gridcolor\":\"white\",\"linecolor\":\"white\",\"minorgridcolor\":\"white\",\"startlinecolor\":\"#2a3f5f\"},\"type\":\"carpet\"}],\"choropleth\":[{\"colorbar\":{\"outlinewidth\":0,\"ticks\":\"\"},\"type\":\"choropleth\"}],\"contour\":[{\"colorbar\":{\"outlinewidth\":0,\"ticks\":\"\"},\"colorscale\":[[0.0,\"#0d0887\"],[0.1111111111111111,\"#46039f\"],[0.2222222222222222,\"#7201a8\"],[0.3333333333333333,\"#9c179e\"],[0.4444444444444444,\"#bd3786\"],[0.5555555555555556,\"#d8576b\"],[0.6666666666666666,\"#ed7953\"],[0.7777777777777778,\"#fb9f3a\"],[0.8888888888888888,\"#fdca26\"],[1.0,\"#f0f921\"]],\"type\":\"contour\"}],\"contourcarpet\":[{\"colorbar\":{\"outlinewidth\":0,\"ticks\":\"\"},\"type\":\"contourcarpet\"}],\"heatmap\":[{\"colorbar\":{\"outlinewidth\":0,\"ticks\":\"\"},\"colorscale\":[[0.0,\"#0d0887\"],[0.1111111111111111,\"#46039f\"],[0.2222222222222222,\"#7201a8\"],[0.3333333333333333,\"#9c179e\"],[0.4444444444444444,\"#bd3786\"],[0.5555555555555556,\"#d8576b\"],[0.6666666666666666,\"#ed7953\"],[0.7777777777777778,\"#fb9f3a\"],[0.8888888888888888,\"#fdca26\"],[1.0,\"#f0f921\"]],\"type\":\"heatmap\"}],\"heatmapgl\":[{\"colorbar\":{\"outlinewidth\":0,\"ticks\":\"\"},\"colorscale\":[[0.0,\"#0d0887\"],[0.1111111111111111,\"#46039f\"],[0.2222222222222222,\"#7201a8\"],[0.3333333333333333,\"#9c179e\"],[0.4444444444444444,\"#bd3786\"],[0.5555555555555556,\"#d8576b\"],[0.6666666666666666,\"#ed7953\"],[0.7777777777777778,\"#fb9f3a\"],[0.8888888888888888,\"#fdca26\"],[1.0,\"#f0f921\"]],\"type\":\"heatmapgl\"}],\"histogram\":[{\"marker\":{\"pattern\":{\"fillmode\":\"overlay\",\"size\":10,\"solidity\":0.2}},\"type\":\"histogram\"}],\"histogram2d\":[{\"colorbar\":{\"outlinewidth\":0,\"ticks\":\"\"},\"colorscale\":[[0.0,\"#0d0887\"],[0.1111111111111111,\"#46039f\"],[0.2222222222222222,\"#7201a8\"],[0.3333333333333333,\"#9c179e\"],[0.4444444444444444,\"#bd3786\"],[0.5555555555555556,\"#d8576b\"],[0.6666666666666666,\"#ed7953\"],[0.7777777777777778,\"#fb9f3a\"],[0.8888888888888888,\"#fdca26\"],[1.0,\"#f0f921\"]],\"type\":\"histogram2d\"}],\"histogram2dcontour\":[{\"colorbar\":{\"outlinewidth\":0,\"ticks\":\"\"},\"colorscale\":[[0.0,\"#0d0887\"],[0.1111111111111111,\"#46039f\"],[0.2222222222222222,\"#7201a8\"],[0.3333333333333333,\"#9c179e\"],[0.4444444444444444,\"#bd3786\"],[0.5555555555555556,\"#d8576b\"],[0.6666666666666666,\"#ed7953\"],[0.7777777777777778,\"#fb9f3a\"],[0.8888888888888888,\"#fdca26\"],[1.0,\"#f0f921\"]],\"type\":\"histogram2dcontour\"}],\"mesh3d\":[{\"colorbar\":{\"outlinewidth\":0,\"ticks\":\"\"},\"type\":\"mesh3d\"}],\"parcoords\":[{\"line\":{\"colorbar\":{\"outlinewidth\":0,\"ticks\":\"\"}},\"type\":\"parcoords\"}],\"pie\":[{\"automargin\":true,\"type\":\"pie\"}],\"scatter\":[{\"marker\":{\"colorbar\":{\"outlinewidth\":0,\"ticks\":\"\"}},\"type\":\"scatter\"}],\"scatter3d\":[{\"line\":{\"colorbar\":{\"outlinewidth\":0,\"ticks\":\"\"}},\"marker\":{\"colorbar\":{\"outlinewidth\":0,\"ticks\":\"\"}},\"type\":\"scatter3d\"}],\"scattercarpet\":[{\"marker\":{\"colorbar\":{\"outlinewidth\":0,\"ticks\":\"\"}},\"type\":\"scattercarpet\"}],\"scattergeo\":[{\"marker\":{\"colorbar\":{\"outlinewidth\":0,\"ticks\":\"\"}},\"type\":\"scattergeo\"}],\"scattergl\":[{\"marker\":{\"colorbar\":{\"outlinewidth\":0,\"ticks\":\"\"}},\"type\":\"scattergl\"}],\"scattermapbox\":[{\"marker\":{\"colorbar\":{\"outlinewidth\":0,\"ticks\":\"\"}},\"type\":\"scattermapbox\"}],\"scatterpolar\":[{\"marker\":{\"colorbar\":{\"outlinewidth\":0,\"ticks\":\"\"}},\"type\":\"scatterpolar\"}],\"scatterpolargl\":[{\"marker\":{\"colorbar\":{\"outlinewidth\":0,\"ticks\":\"\"}},\"type\":\"scatterpolargl\"}],\"scatterternary\":[{\"marker\":{\"colorbar\":{\"outlinewidth\":0,\"ticks\":\"\"}},\"type\":\"scatterternary\"}],\"surface\":[{\"colorbar\":{\"outlinewidth\":0,\"ticks\":\"\"},\"colorscale\":[[0.0,\"#0d0887\"],[0.1111111111111111,\"#46039f\"],[0.2222222222222222,\"#7201a8\"],[0.3333333333333333,\"#9c179e\"],[0.4444444444444444,\"#bd3786\"],[0.5555555555555556,\"#d8576b\"],[0.6666666666666666,\"#ed7953\"],[0.7777777777777778,\"#fb9f3a\"],[0.8888888888888888,\"#fdca26\"],[1.0,\"#f0f921\"]],\"type\":\"surface\"}],\"table\":[{\"cells\":{\"fill\":{\"color\":\"#EBF0F8\"},\"line\":{\"color\":\"white\"}},\"header\":{\"fill\":{\"color\":\"#C8D4E3\"},\"line\":{\"color\":\"white\"}},\"type\":\"table\"}]},\"layout\":{\"annotationdefaults\":{\"arrowcolor\":\"#2a3f5f\",\"arrowhead\":0,\"arrowwidth\":1},\"autotypenumbers\":\"strict\",\"coloraxis\":{\"colorbar\":{\"outlinewidth\":0,\"ticks\":\"\"}},\"colorscale\":{\"diverging\":[[0,\"#8e0152\"],[0.1,\"#c51b7d\"],[0.2,\"#de77ae\"],[0.3,\"#f1b6da\"],[0.4,\"#fde0ef\"],[0.5,\"#f7f7f7\"],[0.6,\"#e6f5d0\"],[0.7,\"#b8e186\"],[0.8,\"#7fbc41\"],[0.9,\"#4d9221\"],[1,\"#276419\"]],\"sequential\":[[0.0,\"#0d0887\"],[0.1111111111111111,\"#46039f\"],[0.2222222222222222,\"#7201a8\"],[0.3333333333333333,\"#9c179e\"],[0.4444444444444444,\"#bd3786\"],[0.5555555555555556,\"#d8576b\"],[0.6666666666666666,\"#ed7953\"],[0.7777777777777778,\"#fb9f3a\"],[0.8888888888888888,\"#fdca26\"],[1.0,\"#f0f921\"]],\"sequentialminus\":[[0.0,\"#0d0887\"],[0.1111111111111111,\"#46039f\"],[0.2222222222222222,\"#7201a8\"],[0.3333333333333333,\"#9c179e\"],[0.4444444444444444,\"#bd3786\"],[0.5555555555555556,\"#d8576b\"],[0.6666666666666666,\"#ed7953\"],[0.7777777777777778,\"#fb9f3a\"],[0.8888888888888888,\"#fdca26\"],[1.0,\"#f0f921\"]]},\"colorway\":[\"#636efa\",\"#EF553B\",\"#00cc96\",\"#ab63fa\",\"#FFA15A\",\"#19d3f3\",\"#FF6692\",\"#B6E880\",\"#FF97FF\",\"#FECB52\"],\"font\":{\"color\":\"#2a3f5f\"},\"geo\":{\"bgcolor\":\"white\",\"lakecolor\":\"white\",\"landcolor\":\"#E5ECF6\",\"showlakes\":true,\"showland\":true,\"subunitcolor\":\"white\"},\"hoverlabel\":{\"align\":\"left\"},\"hovermode\":\"closest\",\"mapbox\":{\"style\":\"light\"},\"paper_bgcolor\":\"white\",\"plot_bgcolor\":\"#E5ECF6\",\"polar\":{\"angularaxis\":{\"gridcolor\":\"white\",\"linecolor\":\"white\",\"ticks\":\"\"},\"bgcolor\":\"#E5ECF6\",\"radialaxis\":{\"gridcolor\":\"white\",\"linecolor\":\"white\",\"ticks\":\"\"}},\"scene\":{\"xaxis\":{\"backgroundcolor\":\"#E5ECF6\",\"gridcolor\":\"white\",\"gridwidth\":2,\"linecolor\":\"white\",\"showbackground\":true,\"ticks\":\"\",\"zerolinecolor\":\"white\"},\"yaxis\":{\"backgroundcolor\":\"#E5ECF6\",\"gridcolor\":\"white\",\"gridwidth\":2,\"linecolor\":\"white\",\"showbackground\":true,\"ticks\":\"\",\"zerolinecolor\":\"white\"},\"zaxis\":{\"backgroundcolor\":\"#E5ECF6\",\"gridcolor\":\"white\",\"gridwidth\":2,\"linecolor\":\"white\",\"showbackground\":true,\"ticks\":\"\",\"zerolinecolor\":\"white\"}},\"shapedefaults\":{\"line\":{\"color\":\"#2a3f5f\"}},\"ternary\":{\"aaxis\":{\"gridcolor\":\"white\",\"linecolor\":\"white\",\"ticks\":\"\"},\"baxis\":{\"gridcolor\":\"white\",\"linecolor\":\"white\",\"ticks\":\"\"},\"bgcolor\":\"#E5ECF6\",\"caxis\":{\"gridcolor\":\"white\",\"linecolor\":\"white\",\"ticks\":\"\"}},\"title\":{\"x\":0.05},\"xaxis\":{\"automargin\":true,\"gridcolor\":\"white\",\"linecolor\":\"white\",\"ticks\":\"\",\"title\":{\"standoff\":15},\"zerolinecolor\":\"white\",\"zerolinewidth\":2},\"yaxis\":{\"automargin\":true,\"gridcolor\":\"white\",\"linecolor\":\"white\",\"ticks\":\"\",\"title\":{\"standoff\":15},\"zerolinecolor\":\"white\",\"zerolinewidth\":2}}}},                        {\"responsive\": true}                    ).then(function(){\n",
              "                            \n",
              "var gd = document.getElementById('49d9421c-ea63-4cd1-860a-e43d1c6dc748');\n",
              "var x = new MutationObserver(function (mutations, observer) {{\n",
              "        var display = window.getComputedStyle(gd).display;\n",
              "        if (!display || display === 'none') {{\n",
              "            console.log([gd, 'removed!']);\n",
              "            Plotly.purge(gd);\n",
              "            observer.disconnect();\n",
              "        }}\n",
              "}});\n",
              "\n",
              "// Listen for the removal of the full notebook cells\n",
              "var notebookContainer = gd.closest('#notebook-container');\n",
              "if (notebookContainer) {{\n",
              "    x.observe(notebookContainer, {childList: true});\n",
              "}}\n",
              "\n",
              "// Listen for the clearing of the current output cell\n",
              "var outputEl = gd.closest('.output');\n",
              "if (outputEl) {{\n",
              "    x.observe(outputEl, {childList: true});\n",
              "}}\n",
              "\n",
              "                        })                };                            </script>        </div>\n",
              "</body>\n",
              "</html>"
            ]
          },
          "metadata": {}
        }
      ]
    },
    {
      "cell_type": "code",
      "source": [
        "optunaLogisticRegression = trial"
      ],
      "metadata": {
        "id": "9CinDOUECpsv"
      },
      "execution_count": 353,
      "outputs": []
    },
    {
      "cell_type": "markdown",
      "source": [
        "#Testing 4 best algorithms"
      ],
      "metadata": {
        "id": "gnUSpRr1CtX5"
      }
    },
    {
      "cell_type": "code",
      "source": [
        "validate_x = validate.drop(['stroke'],axis = 1)"
      ],
      "metadata": {
        "id": "pZQAKS3hC_LB"
      },
      "execution_count": 354,
      "outputs": []
    },
    {
      "cell_type": "code",
      "source": [
        "validate_y = validate.loc[:, validate.columns == \"stroke\"]"
      ],
      "metadata": {
        "id": "-Y4L1kdxDiOx"
      },
      "execution_count": 355,
      "outputs": []
    },
    {
      "cell_type": "code",
      "source": [
        "def detailed_objective_Random(trial):\n",
        "\n",
        "    n_estimators = trial.suggest_int('n_estimators', 2, 20)\n",
        "    max_depth = int(trial.suggest_loguniform('max_depth', 1, 32))\n",
        "\n",
        "    clf = sklearn.ensemble.RandomForestClassifier(n_estimators=n_estimators, max_depth=max_depth)\n",
        "    clf.fit(train_x, train_y)\n",
        "\n",
        "    # calculate more evaluation metrics\n",
        "    pred = clf.predict(validate_x)\n",
        "\n",
        "    acc = metrics.accuracy_score(pred, validate_y)\n",
        "    recall = metrics.recall_score(pred, validate_y)\n",
        "    precision = metrics.precision_score(pred, validate_y)\n",
        "    f1 = metrics.f1_score(pred, validate_y)\n",
        "\n",
        "    return acc, f1, recall, precision"
      ],
      "metadata": {
        "id": "yGJyFQSoL1hz"
      },
      "execution_count": 356,
      "outputs": []
    },
    {
      "cell_type": "code",
      "source": [
        "def detailed_objective_Decision(trial):\n",
        "\n",
        "    max_depth = int(trial.suggest_loguniform('max_depth', 1, 32))\n",
        "\n",
        "    clf = tree.DecisionTreeClassifier(max_depth=max_depth)\n",
        "    clf.fit(train_x, train_y)\n",
        "\n",
        "    # calculate more evaluation metrics\n",
        "    pred = clf.predict(validate_x)\n",
        "\n",
        "    acc = metrics.accuracy_score(pred, validate_y)\n",
        "    recall = metrics.recall_score(pred, validate_y)\n",
        "    precision = metrics.precision_score(pred, validate_y)\n",
        "    f1 = metrics.f1_score(pred, validate_y)\n",
        "\n",
        "    return acc, f1, recall, precision"
      ],
      "metadata": {
        "id": "CSMSzh8wMZ1_"
      },
      "execution_count": 357,
      "outputs": []
    },
    {
      "cell_type": "code",
      "source": [
        "def detailed_objective_Gaussian(trial):\n",
        "\n",
        "    var_smoothing = trial.suggest_float('var_smoothing', 1e-9, 1e-7)\n",
        "\n",
        "    clf = GaussianNB(var_smoothing=var_smoothing)\n",
        "    clf.fit(train_x, train_y)\n",
        "\n",
        "    # calculate more evaluation metrics\n",
        "    pred = clf.predict(validate_x)\n",
        "\n",
        "    acc = metrics.accuracy_score(pred, validate_y)\n",
        "    recall = metrics.recall_score(pred, validate_y)\n",
        "    precision = metrics.precision_score(pred, validate_y)\n",
        "    f1 = metrics.f1_score(pred, validate_y)\n",
        "\n",
        "    return acc, f1, recall, precision"
      ],
      "metadata": {
        "id": "zympiPkONDlh"
      },
      "execution_count": 358,
      "outputs": []
    },
    {
      "cell_type": "code",
      "source": [
        "def detailed_objective_Logistic(trial):\n",
        "\n",
        "    tol = trial.suggest_float('tol', 1e-4, 1e-3)\n",
        "    solver = trial.suggest_categorical(\"solver\", [\"newton-cg\", \"lbfgs\", \"liblinear\"])\n",
        "    logreg_c = trial.suggest_float(\"logreg_c\", 1e-10, 1e10, log=True)\n",
        "\n",
        "    clf = LogisticRegression(tol = tol, solver = solver,C=logreg_c, max_iter = 10000)\n",
        "    clf.fit(train_x, train_y)\n",
        "\n",
        "    # calculate more evaluation metrics\n",
        "    pred = clf.predict(validate_x)\n",
        "\n",
        "    acc = metrics.accuracy_score(pred, validate_y)\n",
        "    recall = metrics.recall_score(pred, validate_y)\n",
        "    precision = metrics.precision_score(pred, validate_y)\n",
        "    f1 = metrics.f1_score(pred, validate_y)\n",
        "\n",
        "    return acc, f1, recall, precision"
      ],
      "metadata": {
        "id": "GhlpED3BNcBZ"
      },
      "execution_count": 359,
      "outputs": []
    },
    {
      "cell_type": "code",
      "source": [
        "acc, f1, rec, precision = detailed_objective_Logistic(optunaLogisticRegression) \n",
        "\n",
        "print(\"  acc: %s\" % acc)\n",
        "print(\"  f1: %s\" % f1)\n",
        "print(\"  recal: %s\" % rec)\n",
        "print(\"  precision: %s\" % precision)"
      ],
      "metadata": {
        "colab": {
          "base_uri": "https://localhost:8080/"
        },
        "id": "hss6FvImCvKV",
        "outputId": "3708757f-36a0-46b6-867f-1c31484c6908"
      },
      "execution_count": 360,
      "outputs": [
        {
          "output_type": "stream",
          "name": "stderr",
          "text": [
            "/usr/local/lib/python3.7/dist-packages/sklearn/utils/validation.py:993: DataConversionWarning:\n",
            "\n",
            "A column-vector y was passed when a 1d array was expected. Please change the shape of y to (n_samples, ), for example using ravel().\n",
            "\n",
            "/usr/local/lib/python3.7/dist-packages/scipy/optimize/linesearch.py:478: LineSearchWarning:\n",
            "\n",
            "The line search algorithm did not converge\n",
            "\n",
            "/usr/local/lib/python3.7/dist-packages/scipy/optimize/linesearch.py:327: LineSearchWarning:\n",
            "\n",
            "The line search algorithm did not converge\n",
            "\n",
            "/usr/local/lib/python3.7/dist-packages/scipy/optimize/linesearch.py:478: LineSearchWarning:\n",
            "\n",
            "The line search algorithm did not converge\n",
            "\n",
            "/usr/local/lib/python3.7/dist-packages/scipy/optimize/linesearch.py:327: LineSearchWarning:\n",
            "\n",
            "The line search algorithm did not converge\n",
            "\n",
            "/usr/local/lib/python3.7/dist-packages/scipy/optimize/linesearch.py:478: LineSearchWarning:\n",
            "\n",
            "The line search algorithm did not converge\n",
            "\n",
            "/usr/local/lib/python3.7/dist-packages/scipy/optimize/linesearch.py:327: LineSearchWarning:\n",
            "\n",
            "The line search algorithm did not converge\n",
            "\n",
            "/usr/local/lib/python3.7/dist-packages/scipy/optimize/linesearch.py:478: LineSearchWarning:\n",
            "\n",
            "The line search algorithm did not converge\n",
            "\n",
            "/usr/local/lib/python3.7/dist-packages/scipy/optimize/linesearch.py:327: LineSearchWarning:\n",
            "\n",
            "The line search algorithm did not converge\n",
            "\n",
            "/usr/local/lib/python3.7/dist-packages/scipy/optimize/linesearch.py:478: LineSearchWarning:\n",
            "\n",
            "The line search algorithm did not converge\n",
            "\n",
            "/usr/local/lib/python3.7/dist-packages/scipy/optimize/linesearch.py:327: LineSearchWarning:\n",
            "\n",
            "The line search algorithm did not converge\n",
            "\n",
            "/usr/local/lib/python3.7/dist-packages/scipy/optimize/linesearch.py:478: LineSearchWarning:\n",
            "\n",
            "The line search algorithm did not converge\n",
            "\n",
            "/usr/local/lib/python3.7/dist-packages/scipy/optimize/linesearch.py:327: LineSearchWarning:\n",
            "\n",
            "The line search algorithm did not converge\n",
            "\n"
          ]
        },
        {
          "output_type": "stream",
          "name": "stdout",
          "text": [
            "  acc: 0.72\n",
            "  f1: 0.6236559139784946\n",
            "  recal: 0.6170212765957447\n",
            "  precision: 0.6304347826086957\n"
          ]
        }
      ]
    },
    {
      "cell_type": "code",
      "source": [
        "acc, f1, rec, precision = detailed_objective_Gaussian(optunaGaussianNaive) \n",
        "\n",
        "print(\"  acc: %s\" % acc)\n",
        "print(\"  f1: %s\" % f1)\n",
        "print(\"  recal: %s\" % rec)\n",
        "print(\"  precision: %s\" % precision)"
      ],
      "metadata": {
        "colab": {
          "base_uri": "https://localhost:8080/"
        },
        "id": "pqipq2CkOYgx",
        "outputId": "a733a051-ea61-4763-9ed9-b0b6303e35ec"
      },
      "execution_count": 361,
      "outputs": [
        {
          "output_type": "stream",
          "name": "stdout",
          "text": [
            "  acc: 0.704\n",
            "  f1: 0.6262626262626263\n",
            "  recal: 0.5849056603773585\n",
            "  precision: 0.6739130434782609\n"
          ]
        },
        {
          "output_type": "stream",
          "name": "stderr",
          "text": [
            "/usr/local/lib/python3.7/dist-packages/sklearn/utils/validation.py:993: DataConversionWarning:\n",
            "\n",
            "A column-vector y was passed when a 1d array was expected. Please change the shape of y to (n_samples, ), for example using ravel().\n",
            "\n"
          ]
        }
      ]
    },
    {
      "cell_type": "code",
      "source": [
        "acc, f1, rec, precision = detailed_objective_Decision(optunaDecisionTree) \n",
        "\n",
        "print(\"  acc: %s\" % acc)\n",
        "print(\"  f1: %s\" % f1)\n",
        "print(\"  recal: %s\" % rec)\n",
        "print(\"  precision: %s\" % precision)"
      ],
      "metadata": {
        "colab": {
          "base_uri": "https://localhost:8080/"
        },
        "id": "KBG51l7ROdlW",
        "outputId": "cf70f1c0-25df-4aff-9fd9-23e750724204"
      },
      "execution_count": 362,
      "outputs": [
        {
          "output_type": "stream",
          "name": "stdout",
          "text": [
            "  acc: 0.68\n",
            "  f1: 0.5\n",
            "  recal: 0.5882352941176471\n",
            "  precision: 0.43478260869565216\n"
          ]
        },
        {
          "output_type": "stream",
          "name": "stderr",
          "text": [
            "/usr/local/lib/python3.7/dist-packages/ipykernel_launcher.py:3: FutureWarning:\n",
            "\n",
            "suggest_loguniform has been deprecated in v3.0.0. This feature will be removed in v6.0.0. See https://github.com/optuna/optuna/releases/tag/v3.0.0. Use :func:`~optuna.trial.FrozenTrial.suggest_float` instead.\n",
            "\n"
          ]
        }
      ]
    },
    {
      "cell_type": "code",
      "source": [
        "acc, f1, rec, precision = detailed_objective_Random(optunaRandomForest) \n",
        "\n",
        "print(\"  acc: %s\" % acc)\n",
        "print(\"  f1: %s\" % f1)\n",
        "print(\"  recal: %s\" % rec)\n",
        "print(\"  precision: %s\" % precision)"
      ],
      "metadata": {
        "colab": {
          "base_uri": "https://localhost:8080/"
        },
        "id": "s_2rVVpdOiQQ",
        "outputId": "1da72b37-5162-46c1-8fbb-839d8da4cd1c"
      },
      "execution_count": 363,
      "outputs": [
        {
          "output_type": "stream",
          "name": "stdout",
          "text": [
            "  acc: 0.728\n",
            "  f1: 0.5750000000000001\n",
            "  recal: 0.6764705882352942\n",
            "  precision: 0.5\n"
          ]
        },
        {
          "output_type": "stream",
          "name": "stderr",
          "text": [
            "/usr/local/lib/python3.7/dist-packages/ipykernel_launcher.py:4: FutureWarning:\n",
            "\n",
            "suggest_loguniform has been deprecated in v3.0.0. This feature will be removed in v6.0.0. See https://github.com/optuna/optuna/releases/tag/v3.0.0. Use :func:`~optuna.trial.FrozenTrial.suggest_float` instead.\n",
            "\n",
            "/usr/local/lib/python3.7/dist-packages/ipykernel_launcher.py:7: DataConversionWarning:\n",
            "\n",
            "A column-vector y was passed when a 1d array was expected. Please change the shape of y to (n_samples,), for example using ravel().\n",
            "\n"
          ]
        }
      ]
    },
    {
      "cell_type": "markdown",
      "source": [
        "Best Model: Gaussian Naive Bayes"
      ],
      "metadata": {
        "id": "GEBXbFowVEhC"
      }
    },
    {
      "cell_type": "markdown",
      "source": [
        "#Diagnostic Best Model of All"
      ],
      "metadata": {
        "id": "h2noUwPBVHyp"
      }
    },
    {
      "cell_type": "code",
      "source": [
        "test_y\n"
      ],
      "metadata": {
        "colab": {
          "base_uri": "https://localhost:8080/",
          "height": 424
        },
        "id": "dqETxmtAYdY6",
        "outputId": "d846d7ea-6175-445d-bf0a-4962adeb64aa"
      },
      "execution_count": 367,
      "outputs": [
        {
          "output_type": "execute_result",
          "data": {
            "text/plain": [
              "      stroke\n",
              "3894       0\n",
              "134        1\n",
              "4414       0\n",
              "3239       0\n",
              "798        0\n",
              "...      ...\n",
              "319        0\n",
              "3610       0\n",
              "165        1\n",
              "793        0\n",
              "136        1\n",
              "\n",
              "[126 rows x 1 columns]"
            ],
            "text/html": [
              "\n",
              "  <div id=\"df-a56070cb-7806-4dc5-8381-f6bd86664b7a\">\n",
              "    <div class=\"colab-df-container\">\n",
              "      <div>\n",
              "<style scoped>\n",
              "    .dataframe tbody tr th:only-of-type {\n",
              "        vertical-align: middle;\n",
              "    }\n",
              "\n",
              "    .dataframe tbody tr th {\n",
              "        vertical-align: top;\n",
              "    }\n",
              "\n",
              "    .dataframe thead th {\n",
              "        text-align: right;\n",
              "    }\n",
              "</style>\n",
              "<table border=\"1\" class=\"dataframe\">\n",
              "  <thead>\n",
              "    <tr style=\"text-align: right;\">\n",
              "      <th></th>\n",
              "      <th>stroke</th>\n",
              "    </tr>\n",
              "  </thead>\n",
              "  <tbody>\n",
              "    <tr>\n",
              "      <th>3894</th>\n",
              "      <td>0</td>\n",
              "    </tr>\n",
              "    <tr>\n",
              "      <th>134</th>\n",
              "      <td>1</td>\n",
              "    </tr>\n",
              "    <tr>\n",
              "      <th>4414</th>\n",
              "      <td>0</td>\n",
              "    </tr>\n",
              "    <tr>\n",
              "      <th>3239</th>\n",
              "      <td>0</td>\n",
              "    </tr>\n",
              "    <tr>\n",
              "      <th>798</th>\n",
              "      <td>0</td>\n",
              "    </tr>\n",
              "    <tr>\n",
              "      <th>...</th>\n",
              "      <td>...</td>\n",
              "    </tr>\n",
              "    <tr>\n",
              "      <th>319</th>\n",
              "      <td>0</td>\n",
              "    </tr>\n",
              "    <tr>\n",
              "      <th>3610</th>\n",
              "      <td>0</td>\n",
              "    </tr>\n",
              "    <tr>\n",
              "      <th>165</th>\n",
              "      <td>1</td>\n",
              "    </tr>\n",
              "    <tr>\n",
              "      <th>793</th>\n",
              "      <td>0</td>\n",
              "    </tr>\n",
              "    <tr>\n",
              "      <th>136</th>\n",
              "      <td>1</td>\n",
              "    </tr>\n",
              "  </tbody>\n",
              "</table>\n",
              "<p>126 rows × 1 columns</p>\n",
              "</div>\n",
              "      <button class=\"colab-df-convert\" onclick=\"convertToInteractive('df-a56070cb-7806-4dc5-8381-f6bd86664b7a')\"\n",
              "              title=\"Convert this dataframe to an interactive table.\"\n",
              "              style=\"display:none;\">\n",
              "        \n",
              "  <svg xmlns=\"http://www.w3.org/2000/svg\" height=\"24px\"viewBox=\"0 0 24 24\"\n",
              "       width=\"24px\">\n",
              "    <path d=\"M0 0h24v24H0V0z\" fill=\"none\"/>\n",
              "    <path d=\"M18.56 5.44l.94 2.06.94-2.06 2.06-.94-2.06-.94-.94-2.06-.94 2.06-2.06.94zm-11 1L8.5 8.5l.94-2.06 2.06-.94-2.06-.94L8.5 2.5l-.94 2.06-2.06.94zm10 10l.94 2.06.94-2.06 2.06-.94-2.06-.94-.94-2.06-.94 2.06-2.06.94z\"/><path d=\"M17.41 7.96l-1.37-1.37c-.4-.4-.92-.59-1.43-.59-.52 0-1.04.2-1.43.59L10.3 9.45l-7.72 7.72c-.78.78-.78 2.05 0 2.83L4 21.41c.39.39.9.59 1.41.59.51 0 1.02-.2 1.41-.59l7.78-7.78 2.81-2.81c.8-.78.8-2.07 0-2.86zM5.41 20L4 18.59l7.72-7.72 1.47 1.35L5.41 20z\"/>\n",
              "  </svg>\n",
              "      </button>\n",
              "      \n",
              "  <style>\n",
              "    .colab-df-container {\n",
              "      display:flex;\n",
              "      flex-wrap:wrap;\n",
              "      gap: 12px;\n",
              "    }\n",
              "\n",
              "    .colab-df-convert {\n",
              "      background-color: #E8F0FE;\n",
              "      border: none;\n",
              "      border-radius: 50%;\n",
              "      cursor: pointer;\n",
              "      display: none;\n",
              "      fill: #1967D2;\n",
              "      height: 32px;\n",
              "      padding: 0 0 0 0;\n",
              "      width: 32px;\n",
              "    }\n",
              "\n",
              "    .colab-df-convert:hover {\n",
              "      background-color: #E2EBFA;\n",
              "      box-shadow: 0px 1px 2px rgba(60, 64, 67, 0.3), 0px 1px 3px 1px rgba(60, 64, 67, 0.15);\n",
              "      fill: #174EA6;\n",
              "    }\n",
              "\n",
              "    [theme=dark] .colab-df-convert {\n",
              "      background-color: #3B4455;\n",
              "      fill: #D2E3FC;\n",
              "    }\n",
              "\n",
              "    [theme=dark] .colab-df-convert:hover {\n",
              "      background-color: #434B5C;\n",
              "      box-shadow: 0px 1px 3px 1px rgba(0, 0, 0, 0.15);\n",
              "      filter: drop-shadow(0px 1px 2px rgba(0, 0, 0, 0.3));\n",
              "      fill: #FFFFFF;\n",
              "    }\n",
              "  </style>\n",
              "\n",
              "      <script>\n",
              "        const buttonEl =\n",
              "          document.querySelector('#df-a56070cb-7806-4dc5-8381-f6bd86664b7a button.colab-df-convert');\n",
              "        buttonEl.style.display =\n",
              "          google.colab.kernel.accessAllowed ? 'block' : 'none';\n",
              "\n",
              "        async function convertToInteractive(key) {\n",
              "          const element = document.querySelector('#df-a56070cb-7806-4dc5-8381-f6bd86664b7a');\n",
              "          const dataTable =\n",
              "            await google.colab.kernel.invokeFunction('convertToInteractive',\n",
              "                                                     [key], {});\n",
              "          if (!dataTable) return;\n",
              "\n",
              "          const docLinkHtml = 'Like what you see? Visit the ' +\n",
              "            '<a target=\"_blank\" href=https://colab.research.google.com/notebooks/data_table.ipynb>data table notebook</a>'\n",
              "            + ' to learn more about interactive tables.';\n",
              "          element.innerHTML = '';\n",
              "          dataTable['output_type'] = 'display_data';\n",
              "          await google.colab.output.renderOutput(dataTable, element);\n",
              "          const docLink = document.createElement('div');\n",
              "          docLink.innerHTML = docLinkHtml;\n",
              "          element.appendChild(docLink);\n",
              "        }\n",
              "      </script>\n",
              "    </div>\n",
              "  </div>\n",
              "  "
            ]
          },
          "metadata": {},
          "execution_count": 367
        }
      ]
    },
    {
      "cell_type": "code",
      "source": [
        "test"
      ],
      "metadata": {
        "colab": {
          "base_uri": "https://localhost:8080/",
          "height": 424
        },
        "id": "0LErLsYcYelI",
        "outputId": "288a2c58-db3a-48eb-d38f-2d4c65e72600"
      },
      "execution_count": 368,
      "outputs": [
        {
          "output_type": "execute_result",
          "data": {
            "text/plain": [
              "         id  gender    age  hypertension  heart_disease  ever_married  \\\n",
              "3894  69435       0   0.56             0              0             0   \n",
              "134   20387       0  68.00             1              0             1   \n",
              "4414  13768       0  38.00             0              0             1   \n",
              "3239  53141       0  25.00             0              0             0   \n",
              "798   46683       0  25.00             0              0             0   \n",
              "...     ...     ...    ...           ...            ...           ...   \n",
              "319    1686       0  29.00             0              0             0   \n",
              "3610  57219       0   1.64             0              0             0   \n",
              "165   42899       1  78.00             0              0             1   \n",
              "793   69427       0  29.00             0              0             0   \n",
              "136   55824       1  76.00             0              0             1   \n",
              "\n",
              "      work_type  Residence_type  avg_glucose_level   bmi  smoking_status  \\\n",
              "3894          4               1              80.92  18.3               0   \n",
              "134           3               0             206.09  26.7               2   \n",
              "4414          2               1              77.20  23.4               0   \n",
              "3239          2               0              67.73  22.6               2   \n",
              "798           2               1             122.01  27.0               3   \n",
              "...         ...             ...                ...   ...             ...   \n",
              "319           2               1              71.89  27.6               2   \n",
              "3610          4               0              82.49  15.1               0   \n",
              "165           3               1             133.19  23.6               1   \n",
              "793           2               1             101.28  22.7               2   \n",
              "136           2               1             140.10  29.9               1   \n",
              "\n",
              "      stroke  \n",
              "3894       0  \n",
              "134        1  \n",
              "4414       0  \n",
              "3239       0  \n",
              "798        0  \n",
              "...      ...  \n",
              "319        0  \n",
              "3610       0  \n",
              "165        1  \n",
              "793        0  \n",
              "136        1  \n",
              "\n",
              "[126 rows x 12 columns]"
            ],
            "text/html": [
              "\n",
              "  <div id=\"df-74e5ee75-60a0-4a89-85f2-9cf55b212f83\">\n",
              "    <div class=\"colab-df-container\">\n",
              "      <div>\n",
              "<style scoped>\n",
              "    .dataframe tbody tr th:only-of-type {\n",
              "        vertical-align: middle;\n",
              "    }\n",
              "\n",
              "    .dataframe tbody tr th {\n",
              "        vertical-align: top;\n",
              "    }\n",
              "\n",
              "    .dataframe thead th {\n",
              "        text-align: right;\n",
              "    }\n",
              "</style>\n",
              "<table border=\"1\" class=\"dataframe\">\n",
              "  <thead>\n",
              "    <tr style=\"text-align: right;\">\n",
              "      <th></th>\n",
              "      <th>id</th>\n",
              "      <th>gender</th>\n",
              "      <th>age</th>\n",
              "      <th>hypertension</th>\n",
              "      <th>heart_disease</th>\n",
              "      <th>ever_married</th>\n",
              "      <th>work_type</th>\n",
              "      <th>Residence_type</th>\n",
              "      <th>avg_glucose_level</th>\n",
              "      <th>bmi</th>\n",
              "      <th>smoking_status</th>\n",
              "      <th>stroke</th>\n",
              "    </tr>\n",
              "  </thead>\n",
              "  <tbody>\n",
              "    <tr>\n",
              "      <th>3894</th>\n",
              "      <td>69435</td>\n",
              "      <td>0</td>\n",
              "      <td>0.56</td>\n",
              "      <td>0</td>\n",
              "      <td>0</td>\n",
              "      <td>0</td>\n",
              "      <td>4</td>\n",
              "      <td>1</td>\n",
              "      <td>80.92</td>\n",
              "      <td>18.3</td>\n",
              "      <td>0</td>\n",
              "      <td>0</td>\n",
              "    </tr>\n",
              "    <tr>\n",
              "      <th>134</th>\n",
              "      <td>20387</td>\n",
              "      <td>0</td>\n",
              "      <td>68.00</td>\n",
              "      <td>1</td>\n",
              "      <td>0</td>\n",
              "      <td>1</td>\n",
              "      <td>3</td>\n",
              "      <td>0</td>\n",
              "      <td>206.09</td>\n",
              "      <td>26.7</td>\n",
              "      <td>2</td>\n",
              "      <td>1</td>\n",
              "    </tr>\n",
              "    <tr>\n",
              "      <th>4414</th>\n",
              "      <td>13768</td>\n",
              "      <td>0</td>\n",
              "      <td>38.00</td>\n",
              "      <td>0</td>\n",
              "      <td>0</td>\n",
              "      <td>1</td>\n",
              "      <td>2</td>\n",
              "      <td>1</td>\n",
              "      <td>77.20</td>\n",
              "      <td>23.4</td>\n",
              "      <td>0</td>\n",
              "      <td>0</td>\n",
              "    </tr>\n",
              "    <tr>\n",
              "      <th>3239</th>\n",
              "      <td>53141</td>\n",
              "      <td>0</td>\n",
              "      <td>25.00</td>\n",
              "      <td>0</td>\n",
              "      <td>0</td>\n",
              "      <td>0</td>\n",
              "      <td>2</td>\n",
              "      <td>0</td>\n",
              "      <td>67.73</td>\n",
              "      <td>22.6</td>\n",
              "      <td>2</td>\n",
              "      <td>0</td>\n",
              "    </tr>\n",
              "    <tr>\n",
              "      <th>798</th>\n",
              "      <td>46683</td>\n",
              "      <td>0</td>\n",
              "      <td>25.00</td>\n",
              "      <td>0</td>\n",
              "      <td>0</td>\n",
              "      <td>0</td>\n",
              "      <td>2</td>\n",
              "      <td>1</td>\n",
              "      <td>122.01</td>\n",
              "      <td>27.0</td>\n",
              "      <td>3</td>\n",
              "      <td>0</td>\n",
              "    </tr>\n",
              "    <tr>\n",
              "      <th>...</th>\n",
              "      <td>...</td>\n",
              "      <td>...</td>\n",
              "      <td>...</td>\n",
              "      <td>...</td>\n",
              "      <td>...</td>\n",
              "      <td>...</td>\n",
              "      <td>...</td>\n",
              "      <td>...</td>\n",
              "      <td>...</td>\n",
              "      <td>...</td>\n",
              "      <td>...</td>\n",
              "      <td>...</td>\n",
              "    </tr>\n",
              "    <tr>\n",
              "      <th>319</th>\n",
              "      <td>1686</td>\n",
              "      <td>0</td>\n",
              "      <td>29.00</td>\n",
              "      <td>0</td>\n",
              "      <td>0</td>\n",
              "      <td>0</td>\n",
              "      <td>2</td>\n",
              "      <td>1</td>\n",
              "      <td>71.89</td>\n",
              "      <td>27.6</td>\n",
              "      <td>2</td>\n",
              "      <td>0</td>\n",
              "    </tr>\n",
              "    <tr>\n",
              "      <th>3610</th>\n",
              "      <td>57219</td>\n",
              "      <td>0</td>\n",
              "      <td>1.64</td>\n",
              "      <td>0</td>\n",
              "      <td>0</td>\n",
              "      <td>0</td>\n",
              "      <td>4</td>\n",
              "      <td>0</td>\n",
              "      <td>82.49</td>\n",
              "      <td>15.1</td>\n",
              "      <td>0</td>\n",
              "      <td>0</td>\n",
              "    </tr>\n",
              "    <tr>\n",
              "      <th>165</th>\n",
              "      <td>42899</td>\n",
              "      <td>1</td>\n",
              "      <td>78.00</td>\n",
              "      <td>0</td>\n",
              "      <td>0</td>\n",
              "      <td>1</td>\n",
              "      <td>3</td>\n",
              "      <td>1</td>\n",
              "      <td>133.19</td>\n",
              "      <td>23.6</td>\n",
              "      <td>1</td>\n",
              "      <td>1</td>\n",
              "    </tr>\n",
              "    <tr>\n",
              "      <th>793</th>\n",
              "      <td>69427</td>\n",
              "      <td>0</td>\n",
              "      <td>29.00</td>\n",
              "      <td>0</td>\n",
              "      <td>0</td>\n",
              "      <td>0</td>\n",
              "      <td>2</td>\n",
              "      <td>1</td>\n",
              "      <td>101.28</td>\n",
              "      <td>22.7</td>\n",
              "      <td>2</td>\n",
              "      <td>0</td>\n",
              "    </tr>\n",
              "    <tr>\n",
              "      <th>136</th>\n",
              "      <td>55824</td>\n",
              "      <td>1</td>\n",
              "      <td>76.00</td>\n",
              "      <td>0</td>\n",
              "      <td>0</td>\n",
              "      <td>1</td>\n",
              "      <td>2</td>\n",
              "      <td>1</td>\n",
              "      <td>140.10</td>\n",
              "      <td>29.9</td>\n",
              "      <td>1</td>\n",
              "      <td>1</td>\n",
              "    </tr>\n",
              "  </tbody>\n",
              "</table>\n",
              "<p>126 rows × 12 columns</p>\n",
              "</div>\n",
              "      <button class=\"colab-df-convert\" onclick=\"convertToInteractive('df-74e5ee75-60a0-4a89-85f2-9cf55b212f83')\"\n",
              "              title=\"Convert this dataframe to an interactive table.\"\n",
              "              style=\"display:none;\">\n",
              "        \n",
              "  <svg xmlns=\"http://www.w3.org/2000/svg\" height=\"24px\"viewBox=\"0 0 24 24\"\n",
              "       width=\"24px\">\n",
              "    <path d=\"M0 0h24v24H0V0z\" fill=\"none\"/>\n",
              "    <path d=\"M18.56 5.44l.94 2.06.94-2.06 2.06-.94-2.06-.94-.94-2.06-.94 2.06-2.06.94zm-11 1L8.5 8.5l.94-2.06 2.06-.94-2.06-.94L8.5 2.5l-.94 2.06-2.06.94zm10 10l.94 2.06.94-2.06 2.06-.94-2.06-.94-.94-2.06-.94 2.06-2.06.94z\"/><path d=\"M17.41 7.96l-1.37-1.37c-.4-.4-.92-.59-1.43-.59-.52 0-1.04.2-1.43.59L10.3 9.45l-7.72 7.72c-.78.78-.78 2.05 0 2.83L4 21.41c.39.39.9.59 1.41.59.51 0 1.02-.2 1.41-.59l7.78-7.78 2.81-2.81c.8-.78.8-2.07 0-2.86zM5.41 20L4 18.59l7.72-7.72 1.47 1.35L5.41 20z\"/>\n",
              "  </svg>\n",
              "      </button>\n",
              "      \n",
              "  <style>\n",
              "    .colab-df-container {\n",
              "      display:flex;\n",
              "      flex-wrap:wrap;\n",
              "      gap: 12px;\n",
              "    }\n",
              "\n",
              "    .colab-df-convert {\n",
              "      background-color: #E8F0FE;\n",
              "      border: none;\n",
              "      border-radius: 50%;\n",
              "      cursor: pointer;\n",
              "      display: none;\n",
              "      fill: #1967D2;\n",
              "      height: 32px;\n",
              "      padding: 0 0 0 0;\n",
              "      width: 32px;\n",
              "    }\n",
              "\n",
              "    .colab-df-convert:hover {\n",
              "      background-color: #E2EBFA;\n",
              "      box-shadow: 0px 1px 2px rgba(60, 64, 67, 0.3), 0px 1px 3px 1px rgba(60, 64, 67, 0.15);\n",
              "      fill: #174EA6;\n",
              "    }\n",
              "\n",
              "    [theme=dark] .colab-df-convert {\n",
              "      background-color: #3B4455;\n",
              "      fill: #D2E3FC;\n",
              "    }\n",
              "\n",
              "    [theme=dark] .colab-df-convert:hover {\n",
              "      background-color: #434B5C;\n",
              "      box-shadow: 0px 1px 3px 1px rgba(0, 0, 0, 0.15);\n",
              "      filter: drop-shadow(0px 1px 2px rgba(0, 0, 0, 0.3));\n",
              "      fill: #FFFFFF;\n",
              "    }\n",
              "  </style>\n",
              "\n",
              "      <script>\n",
              "        const buttonEl =\n",
              "          document.querySelector('#df-74e5ee75-60a0-4a89-85f2-9cf55b212f83 button.colab-df-convert');\n",
              "        buttonEl.style.display =\n",
              "          google.colab.kernel.accessAllowed ? 'block' : 'none';\n",
              "\n",
              "        async function convertToInteractive(key) {\n",
              "          const element = document.querySelector('#df-74e5ee75-60a0-4a89-85f2-9cf55b212f83');\n",
              "          const dataTable =\n",
              "            await google.colab.kernel.invokeFunction('convertToInteractive',\n",
              "                                                     [key], {});\n",
              "          if (!dataTable) return;\n",
              "\n",
              "          const docLinkHtml = 'Like what you see? Visit the ' +\n",
              "            '<a target=\"_blank\" href=https://colab.research.google.com/notebooks/data_table.ipynb>data table notebook</a>'\n",
              "            + ' to learn more about interactive tables.';\n",
              "          element.innerHTML = '';\n",
              "          dataTable['output_type'] = 'display_data';\n",
              "          await google.colab.output.renderOutput(dataTable, element);\n",
              "          const docLink = document.createElement('div');\n",
              "          docLink.innerHTML = docLinkHtml;\n",
              "          element.appendChild(docLink);\n",
              "        }\n",
              "      </script>\n",
              "    </div>\n",
              "  </div>\n",
              "  "
            ]
          },
          "metadata": {},
          "execution_count": 368
        }
      ]
    },
    {
      "cell_type": "code",
      "source": [
        "#test['ever_married'] = married_encoder.transform(test['ever_married'])"
      ],
      "metadata": {
        "id": "3lVvttAdjlbI"
      },
      "execution_count": null,
      "outputs": []
    },
    {
      "cell_type": "code",
      "source": [
        "#test['work_type'] = work_encoder.transform(test['work_type'])"
      ],
      "metadata": {
        "id": "zrqlIJ5djlbI"
      },
      "execution_count": null,
      "outputs": []
    },
    {
      "cell_type": "code",
      "source": [
        "#test['Residence_type'] = residence_encoder.transform(test['Residence_type'])"
      ],
      "metadata": {
        "id": "lG1j_zOtjlbI"
      },
      "execution_count": null,
      "outputs": []
    },
    {
      "cell_type": "code",
      "source": [
        "#test['smoking_status'] = smoker_encoder.transform(test['smoking_status'])"
      ],
      "metadata": {
        "id": "owftpIBejlbJ"
      },
      "execution_count": null,
      "outputs": []
    },
    {
      "cell_type": "code",
      "source": [
        "test_x = test.drop(['stroke'],axis = 1)"
      ],
      "metadata": {
        "id": "IfO-tshdj4WC"
      },
      "execution_count": 370,
      "outputs": []
    },
    {
      "cell_type": "code",
      "source": [
        "test_y = test.loc[:, test.columns == \"stroke\"]"
      ],
      "metadata": {
        "id": "3IF1q79gj4WD"
      },
      "execution_count": 371,
      "outputs": []
    },
    {
      "cell_type": "code",
      "source": [
        "def detailed_diagnose1_Gaussian(trial):\n",
        "\n",
        "    var_smoothing = trial.suggest_float('var_smoothing', 1e-9, 1e-7)\n",
        "\n",
        "    clf = GaussianNB(var_smoothing=var_smoothing)\n",
        "    clf.fit(train_x, train_y)\n",
        "\n",
        "    # calculate more evaluation metrics\n",
        "    pred = clf.predict(test_x)\n",
        "\n",
        "    acc = metrics.accuracy_score(pred, test_y)\n",
        "    recall = metrics.recall_score(pred, test_y)\n",
        "    precision = metrics.precision_score(pred, test_y)\n",
        "    f1 = metrics.f1_score(pred, test_y)\n",
        "\n",
        "    return acc, f1, recall, precision"
      ],
      "metadata": {
        "id": "Ri3WX3nbVKhJ"
      },
      "execution_count": 372,
      "outputs": []
    },
    {
      "cell_type": "code",
      "source": [
        "def detailed_diagnose2_Gaussian(trial):\n",
        "\n",
        "    var_smoothing = trial.suggest_float('var_smoothing', 1e-9, 1e-7)\n",
        "\n",
        "    clf = GaussianNB(var_smoothing=var_smoothing)\n",
        "    clf.fit(train_x, train_y)\n",
        "\n",
        "    # calculate more evaluation metrics\n",
        "    pred = clf.predict(validate_x)\n",
        "\n",
        "    acc = metrics.accuracy_score(pred, validate_y)\n",
        "    recall = metrics.recall_score(pred, validate_y)\n",
        "    precision = metrics.precision_score(pred, validate_y)\n",
        "    f1 = metrics.f1_score(pred, validate_y)\n",
        "\n",
        "    return acc, f1, recall, precision"
      ],
      "metadata": {
        "id": "6z-HTwDrjInM"
      },
      "execution_count": 373,
      "outputs": []
    },
    {
      "cell_type": "code",
      "source": [
        "def detailed_diagnose3_Gaussian(trial):\n",
        "\n",
        "    var_smoothing = trial.suggest_float('var_smoothing', 1e-9, 1e-7)\n",
        "\n",
        "    clf = GaussianNB(var_smoothing=var_smoothing)\n",
        "    clf.fit(train_x, train_y)\n",
        "\n",
        "    # calculate more evaluation metrics\n",
        "    pred = clf.predict(train_x)\n",
        "\n",
        "    acc = metrics.accuracy_score(pred, train_y)\n",
        "    recall = metrics.recall_score(pred, train_y)\n",
        "    precision = metrics.precision_score(pred, train_y)\n",
        "    f1 = metrics.f1_score(pred, train_y)\n",
        "\n",
        "    return acc, f1, recall, precision"
      ],
      "metadata": {
        "id": "VuWvOD3fjRyE"
      },
      "execution_count": 374,
      "outputs": []
    },
    {
      "cell_type": "code",
      "source": [
        "acc, f1, rec, precision = detailed_diagnose1_Gaussian(optunaGaussianNaive) \n",
        "\n",
        "print(\"  acc: %s\" % acc)\n",
        "print(\"  f1: %s\" % f1)\n",
        "print(\"  recal: %s\" % rec)\n",
        "print(\"  precision: %s\" % precision)"
      ],
      "metadata": {
        "colab": {
          "base_uri": "https://localhost:8080/"
        },
        "id": "796frx1KVS44",
        "outputId": "6a0871eb-e671-4034-ec80-3b6b4fd98d22"
      },
      "execution_count": 375,
      "outputs": [
        {
          "output_type": "stream",
          "name": "stdout",
          "text": [
            "  acc: 0.7698412698412699\n",
            "  f1: 0.6741573033707865\n",
            "  recal: 0.6122448979591837\n",
            "  precision: 0.75\n"
          ]
        },
        {
          "output_type": "stream",
          "name": "stderr",
          "text": [
            "/usr/local/lib/python3.7/dist-packages/sklearn/utils/validation.py:993: DataConversionWarning:\n",
            "\n",
            "A column-vector y was passed when a 1d array was expected. Please change the shape of y to (n_samples, ), for example using ravel().\n",
            "\n"
          ]
        }
      ]
    },
    {
      "cell_type": "code",
      "source": [
        "acc, f1, rec, precision = detailed_diagnose2_Gaussian(optunaGaussianNaive) \n",
        "\n",
        "print(\"  acc: %s\" % acc)\n",
        "print(\"  f1: %s\" % f1)\n",
        "print(\"  recal: %s\" % rec)\n",
        "print(\"  precision: %s\" % precision)"
      ],
      "metadata": {
        "colab": {
          "base_uri": "https://localhost:8080/"
        },
        "id": "Dfe5P0oRjVPA",
        "outputId": "b211cad5-d02a-4067-fba6-06b33d2d2c0c"
      },
      "execution_count": 376,
      "outputs": [
        {
          "output_type": "stream",
          "name": "stdout",
          "text": [
            "  acc: 0.704\n",
            "  f1: 0.6262626262626263\n",
            "  recal: 0.5849056603773585\n",
            "  precision: 0.6739130434782609\n"
          ]
        },
        {
          "output_type": "stream",
          "name": "stderr",
          "text": [
            "/usr/local/lib/python3.7/dist-packages/sklearn/utils/validation.py:993: DataConversionWarning:\n",
            "\n",
            "A column-vector y was passed when a 1d array was expected. Please change the shape of y to (n_samples, ), for example using ravel().\n",
            "\n"
          ]
        }
      ]
    },
    {
      "cell_type": "code",
      "source": [
        "acc, f1, rec, precision = detailed_diagnose3_Gaussian(optunaGaussianNaive) \n",
        "\n",
        "print(\"  acc: %s\" % acc)\n",
        "print(\"  f1: %s\" % f1)\n",
        "print(\"  recal: %s\" % rec)\n",
        "print(\"  precision: %s\" % precision)"
      ],
      "metadata": {
        "colab": {
          "base_uri": "https://localhost:8080/"
        },
        "id": "95HyD75xjWJe",
        "outputId": "01a8e86f-ed2d-4242-b637-ddb43d996802"
      },
      "execution_count": 377,
      "outputs": [
        {
          "output_type": "stream",
          "name": "stdout",
          "text": [
            "  acc: 0.7686170212765957\n",
            "  f1: 0.6561264822134387\n",
            "  recal: 0.6384615384615384\n",
            "  precision: 0.6747967479674797\n"
          ]
        },
        {
          "output_type": "stream",
          "name": "stderr",
          "text": [
            "/usr/local/lib/python3.7/dist-packages/sklearn/utils/validation.py:993: DataConversionWarning:\n",
            "\n",
            "A column-vector y was passed when a 1d array was expected. Please change the shape of y to (n_samples, ), for example using ravel().\n",
            "\n"
          ]
        }
      ]
    },
    {
      "cell_type": "markdown",
      "source": [
        "Podemos notar que independente do conjunto utilizado as métricas ficaram similares, concluímos então que não é existiu overfitting ou underfitting. Considerando o modelo utilizado isso faz total sentido."
      ],
      "metadata": {
        "id": "QOBYsfYgj_4E"
      }
    }
  ]
}